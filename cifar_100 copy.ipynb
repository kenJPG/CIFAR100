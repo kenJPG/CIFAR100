{
 "cells": [
  {
   "cell_type": "code",
   "execution_count": 1,
   "metadata": {},
   "outputs": [],
   "source": [
    "DEBUG = True\n",
    "MODEL_DEBUG = True\n",
    "MODEL_IMPROVE_DEBUG = True\n",
    "GPU_COUNT = 2\n",
    "WINDOWS = False"
   ]
  },
  {
   "cell_type": "code",
   "execution_count": 2,
   "metadata": {},
   "outputs": [
    {
     "name": "stdout",
     "output_type": "stream",
     "text": [
      "\u001b[33mWARNING: Running pip as the 'root' user can result in broken permissions and conflicting behaviour with the system package manager. It is recommended to use a virtual environment instead: https://pip.pypa.io/warnings/venv\u001b[0m\n",
      "\u001b[33mWARNING: Running pip as the 'root' user can result in broken permissions and conflicting behaviour with the system package manager. It is recommended to use a virtual environment instead: https://pip.pypa.io/warnings/venv\u001b[0m\n",
      "\u001b[33mWARNING: Running pip as the 'root' user can result in broken permissions and conflicting behaviour with the system package manager. It is recommended to use a virtual environment instead: https://pip.pypa.io/warnings/venv\u001b[0m\n",
      "\u001b[33mWARNING: Running pip as the 'root' user can result in broken permissions and conflicting behaviour with the system package manager. It is recommended to use a virtual environment instead: https://pip.pypa.io/warnings/venv\u001b[0m\n",
      "\u001b[33mWARNING: Running pip as the 'root' user can result in broken permissions and conflicting behaviour with the system package manager. It is recommended to use a virtual environment instead: https://pip.pypa.io/warnings/venv\u001b[0m\n",
      "\u001b[33mWARNING: Running pip as the 'root' user can result in broken permissions and conflicting behaviour with the system package manager. It is recommended to use a virtual environment instead: https://pip.pypa.io/warnings/venv\u001b[0m\n"
     ]
    }
   ],
   "source": [
    "!pip install -q einops\n",
    "!pip install -q pandas\n",
    "!pip install -q seaborn\n",
    "!pip install -q matplotlib\n",
    "!pip install -q opencv-python\n",
    "!pip install -q scikit-learn"
   ]
  },
  {
   "cell_type": "markdown",
   "metadata": {},
   "source": [
    "### References"
   ]
  },
  {
   "cell_type": "markdown",
   "metadata": {},
   "source": [
    "<img src=\"https://www.testdriller.com/pictures/blog/57043786ab6fa09.jpg\" width=700/>"
   ]
  },
  {
   "cell_type": "markdown",
   "metadata": {},
   "source": [
    "## CIFAR100 Classification\n",
    "\n",
    "> Can we develop a model that performs well on the benchmark dataset CIFAR100?"
   ]
  },
  {
   "cell_type": "markdown",
   "metadata": {},
   "source": [
    "### Context\n",
    "\n",
    "The CIFAR-100 dataset (Canadian Institute for Advanced Research) is a subset of the Tiny Images dataset and consists of <strong>60000</strong> <code>32x32</code> colour images in <strong>100</strong> classes, with <strong>600</strong> images per class. The <strong>100</strong> classes in the CIFAR-100 are <strong>grouped into 20 superclasses</strong>. Each image comes with a \"fine\" label (the class to which it belongs) and a \"coarse\" label (the superclass to which it belongs). There are <strong>50000 training images</strong> and <strong>10000 test images.</strong>\n",
    "\n",
    "Credit: <a href=\"https://www.kaggle.com/datasets/fedesoriano/cifar100?select=meta\">Kaggle Link</a>"
   ]
  },
  {
   "cell_type": "markdown",
   "metadata": {},
   "source": [
    "### Objectives\n",
    "\n",
    "<ol>\n",
    "\t<li>To explore and understand the CIFAR100 dataset</li>\n",
    "\t<li>Understand the effects of different data augmentation techniques on the performanceo f the model</li>\n",
    "\t<li>Discover new techniques and approaches as to tackle the <strong>3 color-channels (RGB) nature</strong> of the dataset.</li>\n",
    "\t<li>Develop and experiment with models in order to rival state-of-the-art (SOTA) benchmark scores.</li>\n",
    "</ol>"
   ]
  },
  {
   "cell_type": "markdown",
   "metadata": {},
   "source": [
    "## Importing Libraries\n",
    "We import the necessary libraries for the notebook to run below."
   ]
  },
  {
   "cell_type": "code",
   "execution_count": 3,
   "metadata": {},
   "outputs": [],
   "source": [
    "import pandas as pd\n",
    "import numpy as np\n",
    "import matplotlib.pyplot as plt\n",
    "import copy\n",
    "import math\n",
    "import seaborn as sns\n",
    "sns.set('notebook')\n",
    "import random\n",
    "\n",
    "from sklearn.manifold import TSNE\n",
    "\n",
    "import torch\n",
    "from torch import nn, optim, einsum\n",
    "from torchvision import transforms\n",
    "from torch.utils.data import DataLoader\n",
    "\n",
    "from sklearn.model_selection import train_test_split\n",
    "import os\n",
    "\n",
    "from einops import rearrange, repeat\n",
    "from einops.layers.torch import Rearrange\n"
   ]
  },
  {
   "cell_type": "markdown",
   "metadata": {},
   "source": [
    "We see the seed such that the notebook results in reproducible results when run.   \n",
    "We also set the device to CUDA to enable torch to use our GPU."
   ]
  },
  {
   "cell_type": "code",
   "execution_count": 4,
   "metadata": {},
   "outputs": [
    {
     "name": "stdout",
     "output_type": "stream",
     "text": [
      "Device available now: cuda\n"
     ]
    }
   ],
   "source": [
    "seed = 1234\n",
    "np.random.seed(seed)\n",
    "random.seed(seed)\n",
    "torch.manual_seed(seed)\n",
    "torch.cuda.manual_seed(seed)\n",
    "# When running on the CuDNN backend, two further options must be set\n",
    "torch.backends.cudnn.deterministic = True\n",
    "# Set a fixed value for the hash seed\n",
    "os.environ['PYTHONHASHSEED'] = str(seed)\n",
    "    \n",
    "device = torch.device('cuda' if torch.cuda.is_available() else 'cpu')\n",
    "print('Device available now:', device)\n",
    "if device != torch.device('cuda'):\n",
    "    print('using cpu, exiting')\n",
    "    assert False"
   ]
  },
  {
   "cell_type": "markdown",
   "metadata": {},
   "source": [
    "## Utility Functions\n",
    "Below we define some utility functions that will ease and help us with our analysis."
   ]
  },
  {
   "cell_type": "code",
   "execution_count": 5,
   "metadata": {},
   "outputs": [],
   "source": [
    "def loc_data(data, loc):\n",
    "\tdatacopy = copy.deepcopy(data)\n",
    "\tarr = np.array(datacopy.loc[loc].drop('label'))\n",
    "\tlabel = datacopy.loc[loc]['label']\n",
    "\troot = int(len(arr) ** 0.5)\n",
    "\tarr.resize((root, root))\n",
    "\treturn label, arr\n",
    "\n",
    "def imshow(arr: list, label: list = None, figsize=None, shape = (32, 32, 3), is_int = None):\n",
    "\tif is_int == None:\n",
    "\t\tif type(arr[0]) == torch.Tensor:\n",
    "\t\t\tis_int = (arr[0].detach().cpu().numpy() > 1).sum() > 0\n",
    "\t\telse:\n",
    "\t\t\tis_int = (arr[0] > 1).sum() > 0\n",
    "\tif label == None:\n",
    "\t\tlabel = [''] * len(arr)\n",
    "\n",
    "\theight = int(len(arr) ** 0.5)\n",
    "\twidth = math.ceil(len(arr) / height)\n",
    "\n",
    "\tif figsize == None:\n",
    "\t\tfig = plt.figure()\n",
    "\telse:\n",
    "\t\tfig = plt.figure(figsize=figsize)\n",
    "\tfor i in range(height):\n",
    "\t\tfor j in range(width):\n",
    "\t\t\tax = fig.add_subplot(height, width, i * height + j + 1)\n",
    "\t\t\tax.grid(False)\n",
    "\t\t\tax.set_xticks([])\n",
    "\t\t\tax.set_yticks([])\n",
    "\t\t\tshow = arr[i * height + j]\n",
    "\t\t\tif type(arr[i * height + j]) != torch.Tensor:\n",
    "\t\t\t\tshow = torch.Tensor(show)\n",
    "\t\t\t\t# ax.imshow((arr[i * height + j].squeeze(0).cpu().permute(1, 2, 0) / 255).type(torch.uint8 if is_int else float))\n",
    "\t\t\t# if (show.shape[0] == 1):\n",
    "\t\t\t# \tax.imshow((show.squeeze(0).cpu()).type(torch.uint8 if is_int else torch.float), cmap='gray')\n",
    "\t\t\t# else:\n",
    "\t\t\tif len(show.squeeze(0).cpu().shape) == 2:\n",
    "\t\t\t\tax.imshow((show.squeeze(0).detach().cpu()).type(torch.uint8 if is_int else torch.float), cmap='gray')\n",
    "\t\t\telse:\n",
    "\t\t\t\tax.imshow((show.squeeze(0).detach().cpu().permute(1,2,0)).type(torch.uint8 if is_int else torch.float))\n",
    "\t\t\tax.set_title(label[i * height + j])\n",
    "\n",
    "def df_to_tensor(df, shape = (28, 28)):\n",
    "\treturn torch.tensor(df.values.reshape((-1, *shape)), dtype=torch.float32)\n",
    "\n",
    "def preprocess(df):\n",
    "\treturn df.copy() / 255\n",
    "\n",
    "def mse(t1, t2, shape=(28, 28)):\n",
    "\tloss = nn.MSELoss(reduction='none')\n",
    "\tloss_result = torch.sum(loss(t1, t2), dim=2)\n",
    "\tloss_result = torch.sum(loss_result, dim=2)\n",
    "\tloss_result = loss_result / np.prod([*shape])\n",
    "\treturn loss_result"
   ]
  },
  {
   "cell_type": "markdown",
   "metadata": {},
   "source": [
    "## Dataset\n",
    "Let's take a look at the dataset. This dataset was retrieved from the Kaggle dataset found at <a href=\"https://www.kaggle.com/datasets/fedesoriano/cifar100\">Kaggle Link</a>. \n",
    "\n",
    "<table>\n",
    "\t<tr>\n",
    "\t\t<th>\n",
    "\t\t\tColumn Name\n",
    "\t\t</th>\n",
    "\t\t<th>\n",
    "\t\t\tDescription\n",
    "\t\t</th>\n",
    "\t</tr>\n",
    "\t<tr>\n",
    "\t\t<td>\n",
    "\t\t\tlabel\n",
    "\t\t</td>\n",
    "\t\t<td>\n",
    "\t\t\tThe true class of the image, represented as an integer ranging from 1 to 100<strong>*</strong>\n",
    "\t\t</td>\n",
    "\t</tr>\n",
    "\t<tr>\n",
    "\t\t<td>\n",
    "\t\t\tpixel 1<br/>...<br/>pixel 3072\n",
    "\t\t</td>\n",
    "\t\t<td>\n",
    "\t\t\tPixels representing the image, each pixel ranging from 0 to 255. Each image has a dimension of <code>32x32x3</code>.\n",
    "\t\t</td>\n",
    "\t</tr>\n",
    "</table>\n",
    "\n",
    "<strong>\\*</strong>Each number represents a certain dress item\n",
    "```\n",
    "1-5 -> beaver, dolphin, otter, seal, whale\n",
    "6-10 -> aquarium fish, flatfish, ray, shark, trout\n",
    "11-15 -> orchids, poppies, roses, sunflowers, tulips\n",
    "16-20 -> bottles, bowls, cans, cups, plates\n",
    "21-25 -> apples, mushrooms, oranges, pears, sweet peppers\n",
    "26-30 -> clock, computer keyboard, lamp, telephone, television\n",
    "31-35 -> bed, chair, couch, table, wardrobe\n",
    "36-40 -> bee, beetle, butterfly, caterpillar, cockroach\n",
    "41-45 -> bear, leopard, lion, tiger, wolf\n",
    "46-50 -> bridge, castle, house, road, skyscraper\n",
    "51-55 -> cloud, forest, mountain, plain, sea\n",
    "56-60 -> camel, cattle, chimpanzee, elephant, kangaroo\n",
    "61-65 -> fox, porcupine, possum, raccoon, skunk\n",
    "66-70 -> crab, lobster, snail, spider, worm\n",
    "71-75 -> baby, boy, girl, man, woman\n",
    "76-80 -> crocodile, dinosaur, lizard, snake, turtle\n",
    "81-85 -> hamster, mouse, rabbit, shrew, squirrel\n",
    "86-90 -> maple, oak, palm, pine, willow\n",
    "91-95 -> bicycle, bus, motorcycle, pickup truck, train\n",
    "96-100 -> lawn-mower, rocket, streetcar, tank, tractor\n",
    "```"
   ]
  },
  {
   "cell_type": "markdown",
   "metadata": {},
   "source": [
    "Below, we refer to the code provided by the official Kaggle link to extract and load the data from the files in the <code>data</code> folder."
   ]
  },
  {
   "cell_type": "code",
   "execution_count": 6,
   "metadata": {},
   "outputs": [],
   "source": [
    "def unpickle(file):\n",
    "    import pickle\n",
    "    with open(file, 'rb') as fo:\n",
    "        dict = pickle.load(fo, encoding='bytes')\n",
    "    return dict\n",
    "\n",
    "metadata_path = 'data/meta'\n",
    "metadata = unpickle(metadata_path)\n",
    "superclass_dict = dict(list(enumerate(metadata[b'coarse_label_names'])))\n",
    "\n",
    "data_pre_path = 'data/'\n",
    "\n",
    "# File paths\n",
    "data_train_path = data_pre_path + 'train'\n",
    "data_test_path = data_pre_path + 'test'\n",
    "# Read dictionary\n",
    "data_train_dict = unpickle(data_train_path)\n",
    "data_test_dict = unpickle(data_test_path)\n",
    "# Get data (change the coarse_labels if you want to use the 100 classes)\n",
    "X_train = pd.DataFrame(data_train_dict[b'data'])\n",
    "y_train = pd.DataFrame(np.array(data_train_dict[b'fine_labels']))\n",
    "y_train_coarse = pd.DataFrame(np.array(data_train_dict[b'coarse_labels']))\n",
    "X_test = pd.DataFrame(data_test_dict[b'data'])\n",
    "y_test = pd.DataFrame(np.array(data_test_dict[b'fine_labels']))\n",
    "y_test_coarse = pd.DataFrame(np.array(data_test_dict[b'coarse_labels']))\n",
    "\n",
    "classes = np.array(list(map(lambda x: x.decode('utf-8'), metadata[b'fine_label_names'])))\n",
    "coarse_classes = np.array(list(map(lambda x: x.decode('utf-8'), metadata[b'coarse_label_names'])))"
   ]
  },
  {
   "cell_type": "markdown",
   "metadata": {},
   "source": [
    "Let's take a look at the training dataset"
   ]
  },
  {
   "cell_type": "code",
   "execution_count": 7,
   "metadata": {},
   "outputs": [
    {
     "data": {
      "text/plain": [
       "(50000, 3072)"
      ]
     },
     "execution_count": 7,
     "metadata": {},
     "output_type": "execute_result"
    }
   ],
   "source": [
    "X_train.shape"
   ]
  },
  {
   "cell_type": "markdown",
   "metadata": {},
   "source": [
    "We observe that there are a total of <code>50000</code> rows and <code>3072</code> columns, with each of the columns representing <strong>a single pixel</strong>."
   ]
  },
  {
   "cell_type": "markdown",
   "metadata": {},
   "source": [
    "### Testing for missing values and invalid ata\n",
    "Let's try to identify if there are any missing values"
   ]
  },
  {
   "cell_type": "code",
   "execution_count": 8,
   "metadata": {},
   "outputs": [
    {
     "name": "stdout",
     "output_type": "stream",
     "text": [
      "Feature missing values: 0\n",
      "Label missing values: 0\n"
     ]
    }
   ],
   "source": [
    "print(\"Feature missing values:\",pd.DataFrame(X_train).isnull().sum().sum())\n",
    "print(\"Label missing values:\",pd.DataFrame(y_train).isnull().sum().sum())"
   ]
  },
  {
   "cell_type": "markdown",
   "metadata": {},
   "source": [
    "### Preprocessing\n",
    "We perform some transformations such that the channels and dimensions are in the correct format."
   ]
  },
  {
   "cell_type": "code",
   "execution_count": 9,
   "metadata": {},
   "outputs": [],
   "source": [
    "temp = np.transpose(X_train.values.reshape((-1, 3, 32, 32)), axes=[0,2,3,1])\n",
    "X_train = pd.DataFrame(X_train.values.reshape(-1, 3072))\n",
    "\n",
    "temp = np.transpose(X_test.values.reshape((-1, 3, 32, 32)), axes=[0,2,3,1])\n",
    "X_test = pd.DataFrame(X_test.values.reshape(-1, 3072))"
   ]
  },
  {
   "cell_type": "markdown",
   "metadata": {},
   "source": [
    "## Exploratory Data Analysis\n",
    "In this EDA we'll be attempting to complete the following set of objectives:\n",
    "\n",
    "### EDA Objectives\n",
    "<ol>\n",
    "\t<li>Is there any <strong>class imbalance</strong></li>\n",
    "\t<li>What does the <strong>average image</strong> look like?</li>\n",
    "\t<li>Are there <strong>any outlier/anomalies?</strong>\n",
    "</ol>\n",
    "\n",
    "Before we begin the EDA, we first need to remove a chunk of the training data to be used as validation dataset in order to avoid data leakage due to the decisions we make during EDA.\n",
    "\n",
    "### Validation Dataset\n",
    "Let's make our validation dataset. I decided that I will <strong>not be using cross validation during the modelling process</strong> due to the following reasons:\n",
    "<ul>\n",
    "\t<li>Time taken to train models, especially if utilising <strong>computationally expensive layers, activation functions or architecture</strong></li>\n",
    "\t<li>Additionally due to the sheer size of the dataset, not only does this add to increased training time but also means there is enough data such that cross validation is not necessary</li>\n",
    "</ul>"
   ]
  },
  {
   "cell_type": "markdown",
   "metadata": {},
   "source": [
    "Let's first <strong>take a look at the size of the test dataset</strong>. The shape of the test dataset will be used to <strong>determine the size of the validation set.</strong>"
   ]
  },
  {
   "cell_type": "code",
   "execution_count": 10,
   "metadata": {},
   "outputs": [
    {
     "data": {
      "text/plain": [
       "(10000, 3072)"
      ]
     },
     "execution_count": 10,
     "metadata": {},
     "output_type": "execute_result"
    }
   ],
   "source": [
    "X_test.shape"
   ]
  },
  {
   "cell_type": "markdown",
   "metadata": {},
   "source": [
    "As the test dataset has a length of <code>10000</code>, we'll <strong>also</strong> make our validation dataset <code>10000</code>."
   ]
  },
  {
   "cell_type": "code",
   "execution_count": 11,
   "metadata": {},
   "outputs": [],
   "source": [
    "X_train, X_val, y_train, y_val = train_test_split(X_train, y_train, test_size = 10000 / len(X_train), stratify=y_train)"
   ]
  },
  {
   "cell_type": "markdown",
   "metadata": {},
   "source": [
    "We'll also make sure to select the <strong>same coarse classes</strong>."
   ]
  },
  {
   "cell_type": "code",
   "execution_count": 12,
   "metadata": {},
   "outputs": [],
   "source": [
    "y_val_coarse = y_train_coarse.iloc[y_val.index]\n",
    "y_train_coarse = y_train_coarse.iloc[y_train.index]"
   ]
  },
  {
   "cell_type": "markdown",
   "metadata": {},
   "source": [
    "We'll use a validation size of <code>10000</code> to mimic the size of the test dataset. We'll also stratify on the <code>label</code> to ensure that the model we generalizes best across all \n",
    "the classes."
   ]
  },
  {
   "cell_type": "markdown",
   "metadata": {},
   "source": [
    "### Signs of class imbalance?\n",
    "We'll first identify the siutation with class imbalance"
   ]
  },
  {
   "cell_type": "code",
   "execution_count": 13,
   "metadata": {},
   "outputs": [
    {
     "data": {
      "text/plain": [
       "<AxesSubplot: ylabel='Count'>"
      ]
     },
     "execution_count": 13,
     "metadata": {},
     "output_type": "execute_result"
    },
    {
     "data": {
      "image/png": "[encoded data removed]",
      "text/plain": [
       "<Figure size 640x480 with 1 Axes>"
      ]
     },
     "metadata": {},
     "output_type": "display_data"
    }
   ],
   "source": [
    "sns.histplot(y_train, bins=10)"
   ]
  },
  {
   "cell_type": "markdown",
   "metadata": {},
   "source": [
    "We observe that there appears to be <strong>no sign</strong> of class imbalance for the fine labels. What about the coarse labels?"
   ]
  },
  {
   "cell_type": "code",
   "execution_count": 14,
   "metadata": {},
   "outputs": [
    {
     "data": {
      "text/plain": [
       "<AxesSubplot: ylabel='Count'>"
      ]
     },
     "execution_count": 14,
     "metadata": {},
     "output_type": "execute_result"
    },
    {
     "data": {
      "image/png": "[encoded data removed]",
      "text/plain": [
       "<Figure size 640x480 with 1 Axes>"
      ]
     },
     "metadata": {},
     "output_type": "display_data"
    }
   ],
   "source": [
    "sns.histplot(y_train_coarse, bins=20)"
   ]
  },
  {
   "cell_type": "markdown",
   "metadata": {},
   "source": [
    "It also appears that there are <strong>no signs of class imbalance</strong> for the coarse labels as well."
   ]
  },
  {
   "cell_type": "markdown",
   "metadata": {},
   "source": [
    "### Null values?\n",
    "We perform a simple <code>.isnull()</code> check to see if there are any null values in any of our data"
   ]
  },
  {
   "cell_type": "code",
   "execution_count": 15,
   "metadata": {},
   "outputs": [
    {
     "name": "stdout",
     "output_type": "stream",
     "text": [
      "Null counts among ALL the data: 0\n"
     ]
    }
   ],
   "source": [
    "null_counts = 0\n",
    "for iter_data in [X_train, y_train, X_val, y_val, X_test, y_test]:\n",
    "\titer_data = pd.DataFrame(iter_data)\n",
    "\tnull_counts += iter_data.isnull().sum().sum()\n",
    "\n",
    "print(\"Null counts among ALL the data:\", null_counts)"
   ]
  },
  {
   "cell_type": "markdown",
   "metadata": {},
   "source": [
    "We observe that <strong>there are no null values</strong> in the dataset."
   ]
  },
  {
   "cell_type": "markdown",
   "metadata": {},
   "source": [
    "### What does the average image look like?\n",
    "Let's take a look at a random sample of images."
   ]
  },
  {
   "cell_type": "code",
   "execution_count": 16,
   "metadata": {},
   "outputs": [
    {
     "data": {
      "image/png": "[encoded data removed]",
      "text/plain": [
       "<Figure size 640x480 with 12 Axes>"
      ]
     },
     "metadata": {},
     "output_type": "display_data"
    }
   ],
   "source": [
    "images = []\n",
    "titles = []\n",
    "\n",
    "for i in range(10):\n",
    "\tidx = random.sample(list(y_train[y_train == i].index), 1)\n",
    "\timages.append(X_train.loc[idx].values.reshape((3, 32, 32)))\n",
    "\ttitles.append(classes[y_train.loc[idx].values[0][0]])\n",
    "\n",
    "imshow(images, titles)"
   ]
  },
  {
   "cell_type": "code",
   "execution_count": 17,
   "metadata": {},
   "outputs": [
    {
     "data": {
      "image/png": "[encoded data removed]",
      "text/plain": [
       "<Figure size 640x480 with 1 Axes>"
      ]
     },
     "metadata": {},
     "output_type": "display_data"
    }
   ],
   "source": [
    "imshow([\n",
    "\tX_train.mean().apply(lambda x: x).values.reshape(3, 32, 32)\n",
    "], ['Average of all'])"
   ]
  },
  {
   "cell_type": "markdown",
   "metadata": {},
   "source": [
    "#### Average image among the classes\n",
    "Next we'll split by the classes and find the average among them.\n",
    "\n",
    "However, <strong>as our prediction will involve 100 outputs</strong>, what we'll do instead is use the <code>coarse classes</code>, which has 20 classes."
   ]
  },
  {
   "cell_type": "code",
   "execution_count": 18,
   "metadata": {},
   "outputs": [
    {
     "data": {
      "image/png": "[encoded data removed]",
      "text/plain": [
       "<Figure size 1700x1000 with 20 Axes>"
      ]
     },
     "metadata": {},
     "output_type": "display_data"
    }
   ],
   "source": [
    "images = []\n",
    "titles = []\n",
    "\n",
    "for i in range(20):\n",
    "\tidx = np.where((y_train_coarse.values == i))[0].flatten()\n",
    "\timages.append(X_train.iloc[idx].values.reshape(-1, 3, 32, 32).mean(axis=0))\n",
    "\ttitles.append(coarse_classes[i])\n",
    "\n",
    "imshow(images, titles, figsize = (17, 10))"
   ]
  },
  {
   "cell_type": "markdown",
   "metadata": {},
   "source": [
    "We observe:\n",
    "<ul>\n",
    "\t<li>We can <strong>barely make out</strong> the figures for classes such as <code>insects</code>, <code>large_carnivore</code></li>\n",
    "\t<li>We observe a slight silhouette on the <code>people</code> image</li>\n",
    "\t<li>For most of the coarse classes, we can barely make out the shapes</li>\n",
    "</ul>\n",
    "\n",
    "Let's try to view the first <code>20 classes</code> from the fine classes."
   ]
  },
  {
   "cell_type": "code",
   "execution_count": 19,
   "metadata": {},
   "outputs": [
    {
     "data": {
      "image/png": "[encoded data removed]",
      "text/plain": [
       "<Figure size 1400x1000 with 20 Axes>"
      ]
     },
     "metadata": {},
     "output_type": "display_data"
    }
   ],
   "source": [
    "images = []\n",
    "titles = []\n",
    "\n",
    "for i in range(20):\n",
    "\tidx = np.where((y_train == i))[0].flatten()\n",
    "\timages.append(X_train.iloc[idx].values.reshape(-1, 3, 32, 32).mean(axis=0))\n",
    "\ttitles.append(classes[i])\n",
    "\n",
    "imshow(images, titles, figsize = (14, 10))"
   ]
  },
  {
   "cell_type": "markdown",
   "metadata": {},
   "source": [
    "We observe:\n",
    "<ol>\n",
    "\t<li>We see better resolution in the average images of <code>can</code> and <code>bottle</code> </li>\n",
    "\t<li>Interestingly, we can also recognize the bicycle in the image, alongside its wheels</li>\n",
    "</ol>"
   ]
  },
  {
   "cell_type": "markdown",
   "metadata": {},
   "source": [
    "### Are there any outliers/anomalies?\n",
    "To determine such, one method we can do is to use a Convolution AutoEncoder to <strong>reconstruct</strong> the image. The i dea is that if we restrict the inner layers of the auto encoder, it will be forced to <strong>generalize among all the images</strong>. As such any outlier image will have a <strong>stark difference between the itself and the reconstructed image</strong>.\n",
    "\n",
    "This \"difference\" between the images, will be calculated using the <strong>Mean Squared Error (MSE)</strong> between the two images. We use the <strong>squared</strong> to exaggerate the larger errors the autoencoder makes.\n",
    "\n",
    "<strong>However</strong>, such Convolutioanl AutoEncoders work best for <strong>single-channel</strong> images. As the CIFAR-100 dataset is 3 channels, it is unlikely that Convolutional AutoEncoders will perform well. Additionally, autoencoders are not using information from the labels, which means this approach will tell us how far an image is from the <strong>'general' image</strong>, rather from the general image of it's class.\n",
    "\n",
    "To tackle this, we'll instead use a ResNet feature extractor, training model to classify. From this, we'll remove the last few layers and use the rich <strong>feature embeddings</strong> in combination with an unsupervised learning method such as TSNE. Doing so, any data points that are <strong>far away from it's class cluster</strong>, suggests it will likely be an outlier.\n",
    "\n",
    "We'll be using a modified and scaled down version of <strong>ResNet</strong>."
   ]
  },
  {
   "cell_type": "code",
   "execution_count": 20,
   "metadata": {},
   "outputs": [],
   "source": [
    "def relu_bn_conv(in_channels, out_channels, **kwargs):\n",
    "    return nn.Sequential(\n",
    "        nn.Conv2d(in_channels, out_channels, **kwargs),\n",
    "        nn.BatchNorm2d(out_channels),\n",
    "        nn.ReLU()\n",
    "    )\n",
    "\n",
    "class ResBlock(nn.Module):\n",
    "    def __init__(self, in_channels, out_channels, skip = False):\n",
    "        super().__init__()\n",
    "        self.skip = nn.Sequential()\n",
    "        self.conv1 = relu_bn_conv(in_channels, out_channels, kernel_size = 3, padding = 1)\n",
    "\n",
    "        if skip:\n",
    "            self.conv1 = relu_bn_conv(in_channels, out_channels, kernel_size = 3, stride = 2, padding = 1)\n",
    "            self.skip = nn.Conv2d(in_channels, out_channels, kernel_size= 1, stride = 2)\n",
    "\n",
    "        self.conv2 = relu_bn_conv(out_channels, out_channels, kernel_size = 3, padding = 1)\n",
    "\n",
    "    def forward(self, x):\n",
    "        skip = self.skip(x)\n",
    "        x = self.conv1(x)\n",
    "        x = self.conv2(x)\n",
    "        x = x + skip\n",
    "        return nn.ReLU()(x)\n",
    "\n",
    "class ResNetS(nn.Module):\n",
    "    def __init__(self, base_filter = 16):\n",
    "        super().__init__()\n",
    "\n",
    "        in_channels = 3\n",
    "        \n",
    "        self.l0 = nn.Sequential(\n",
    "            nn.Conv2d(in_channels, base_filter, kernel_size = 5, stride = 2, padding = 3),\n",
    "            nn.MaxPool2d(kernel_size = 3, stride = 2, padding = 1),\n",
    "            nn.BatchNorm2d(base_filter),\n",
    "            nn.ReLU()\n",
    "        )\n",
    "        self.l1 = nn.Sequential(\n",
    "            ResBlock(base_filter, base_filter, skip = False),\n",
    "            ResBlock(base_filter, base_filter, skip = False),\n",
    "        )\n",
    "        self.l2 = nn.Sequential(\n",
    "            ResBlock(base_filter, base_filter * 2, skip = True),\n",
    "            ResBlock(base_filter * 2, base_filter * 2, skip = False),\n",
    "        )\n",
    "        self.l3 = nn.Sequential(\n",
    "            ResBlock(base_filter * 2, base_filter * 3, skip = True),\n",
    "            ResBlock(base_filter * 3, base_filter * 3, skip = False),\n",
    "        )\n",
    "        self.gap = torch.nn.AdaptiveAvgPool2d(1)\n",
    "        self.fc = nn.Sequential(\n",
    "            nn.Flatten(start_dim=1),\n",
    "            torch.nn.Linear(base_filter * 3, 100)\n",
    "        )\n",
    "\n",
    "    def forward(self, x):\n",
    "        x = self.l0(x)\n",
    "        x = self.l1(x)\n",
    "        x = self.l2(x)\n",
    "        x = self.l3(x)\n",
    "        x = self.gap(x)\n",
    "        x = self.fc(x)\n",
    "\n",
    "        return x"
   ]
  },
  {
   "cell_type": "markdown",
   "metadata": {},
   "source": [
    "#### Loading the dataset\n",
    "Next we need to load the dataset. In order to do this, below is a custom class that acts as a wrapper <strong>to convert a pandas dataframe to PyTorch tensors</strong>, such that we are able to load the dataset into the <code>DataLoader</code> class."
   ]
  },
  {
   "cell_type": "code",
   "execution_count": 21,
   "metadata": {},
   "outputs": [],
   "source": [
    "def to_prob_dist(labels: torch.tensor, size = 100):\n",
    "\tarr = np.full((len(labels), size), 0)\n",
    "\tfor i, label in enumerate(labels):\n",
    "\t\tarr[i][int(label.item())] = 1\n",
    "\treturn torch.tensor(arr, dtype=torch.float32)\n",
    "\n",
    "class TorchDataset(torch.utils.data.Dataset):\n",
    "\tdef __init__(self, X, y, X_shape = (3, 32, 32), y_shape = (1, ), y_size = 100, transform = None):\n",
    "\t\tif (type(X) == torch.Tensor):\n",
    "\t\t\tself.x = X\n",
    "\t\telse:\n",
    "\t\t\tself.x = df_to_tensor(X, X_shape)\n",
    "\n",
    "\t\tself.transform = transform\n",
    "            \n",
    "\t\tif (type(y) == torch.Tensor):\n",
    "\t\t\tself.y = y\n",
    "\t\telse:\n",
    "\t\t\tself.y = df_to_tensor(y, y_shape)\n",
    "\t\t\tself.y = to_prob_dist(self.y, y_size)\n",
    "\n",
    "\t\t# Transform labels to probability distributions\n",
    "\t\n",
    "\tdef __len__(self):\n",
    "\t\treturn len(self.y)\n",
    "\n",
    "\tdef __getitem__(self, idx):\n",
    "\t\tif torch.is_tensor(idx):\n",
    "\t\t\tidx = idx.tolist()\n",
    "\n",
    "\t\tselected = self.x[idx]\n",
    "            \n",
    "\t\tif self.transform:\n",
    "\t\t\tselected = self.transform(selected)\n",
    "        \n",
    "\t\treturn selected, self.y[idx]"
   ]
  },
  {
   "cell_type": "markdown",
   "metadata": {},
   "source": [
    "Now that we have defined our <code>TorchDataset</code>, we'll transform the <code>pd.DataFrame</code> to it to make it easy to use."
   ]
  },
  {
   "cell_type": "code",
   "execution_count": 22,
   "metadata": {},
   "outputs": [],
   "source": [
    "train_data = TorchDataset(X_train, y_train)\n",
    "val_data = TorchDataset(X_val, y_val)"
   ]
  },
  {
   "cell_type": "code",
   "execution_count": 23,
   "metadata": {},
   "outputs": [],
   "source": [
    "test_data = TorchDataset(X_test, y_test)"
   ]
  },
  {
   "cell_type": "markdown",
   "metadata": {},
   "source": [
    "#### Training the Feature Extractor\n",
    "\n",
    "Before we get started training, we <strong>prepare the training environment below.</strong>\n",
    "This training environment will allow us to train, assess and visualize models with ease."
   ]
  },
  {
   "cell_type": "code",
   "execution_count": 24,
   "metadata": {},
   "outputs": [
    {
     "name": "stdout",
     "output_type": "stream",
     "text": [
      "Requirement already satisfied: tqdm in /opt/conda/lib/python3.9/site-packages (4.63.0)\n",
      "\u001b[33mWARNING: Running pip as the 'root' user can result in broken permissions and conflicting behaviour with the system package manager. It is recommended to use a virtual environment instead: https://pip.pypa.io/warnings/venv\u001b[0m\n"
     ]
    }
   ],
   "source": [
    "!pip install tqdm\n",
    "from tqdm import tqdm"
   ]
  },
  {
   "cell_type": "code",
   "execution_count": 25,
   "metadata": {},
   "outputs": [],
   "source": [
    "def accurate_count(pred, true):\n",
    "\treturn ((pred.argmax(dim=1) == true.argmax(dim=1)).sum()).item()\n",
    "\n",
    "def perform_augmentation(X_pass, y_pass, transform, n = 2, step = 4000):\n",
    "\tif n == 1:\n",
    "\t\tX = copy.deepcopy(X_pass)\n",
    "\t\tX = transform(X)\n",
    "\t\tfinal_y = copy.deepcopy(y_pass)\n",
    "\telse:\n",
    "\t\tX = copy.deepcopy(X_pass)\n",
    "\t\ty = copy.deepcopy(y_pass)\n",
    "\t\tfinal_y = copy.deepcopy(y_pass)\n",
    "\t\toriginal_len = len(X)\n",
    "\t\tfor i in range(n - 1):\n",
    "\t\t\ttransformed_arr = transform(X[:step])\n",
    "\t\t\tfor j in range(step, original_len, step):\n",
    "\t\t\t\ttransformed = transform(X[j:j+step])\n",
    "\t\t\t\ttransformed_arr = torch.cat((transformed_arr, transformed), dim = 0)        \n",
    "\t\t\tX = torch.cat((X, transformed_arr), dim = 0)\n",
    "\t\t\tfinal_y = torch.cat([final_y, y])\n",
    "\treturn X, final_y\n",
    "\n",
    "class Logger():\n",
    "\tdef __init__(self, path = 'plots/log.txt'):\n",
    "\t\tself.path = path\n",
    "\t\n",
    "\tdef log(self, msg):\n",
    "\t\tfile = open(self.path, 'a')\n",
    "\t\tfile.write(str(msg) + '\\n')\n",
    "\t\tfile.close()\n",
    "\n",
    "class Trainer():\n",
    "\tdef __init__(self):\n",
    "\t\tself.saves = {}\n",
    "\t\tself.loss_tracker = {}\n",
    "\t\tself.history = pd.DataFrame()\n",
    "\n",
    "\tdef show_history(self):\n",
    "\t\tpass\n",
    "\n",
    "\tdef train_model(self, name, model_pass, optimizer_pass, optimizer_args,\n",
    "\t\t\t\t\ttrain_data: TorchDataset, model_args = {}, scheduler_pass = None,\n",
    "\t\t\t\t\tscheduler_args = None, batch_size = GPU_COUNT * 256,\n",
    "\t\t\t\t\tearly_stopping = None, epochs = 200, verbose = False,\n",
    "\t\t\t\t\tval_data = None, save_model = False, augment = None,\n",
    "\t\t\t\t\treturn_model = False, return_results = False):\n",
    "\n",
    "\t\tif val_data == None:\n",
    "\t\t\tval_data = val_data\n",
    "\n",
    "\t\tlogger = Logger()\n",
    "\n",
    "\t\tlogger.log(model_pass)\n",
    "\n",
    "\t\tmodel = model_pass(**model_args)\n",
    "\t\tmodel = model.to(device)\n",
    "\t\tmodel = nn.DataParallel(model)\n",
    "\n",
    "\t\toptimizer = optimizer_pass(model.parameters(), **optimizer_args)\n",
    "\t\tcriterion = nn.CrossEntropyLoss()\n",
    "\t\ttrain_loader = DataLoader(train_data, batch_size = batch_size, shuffle = True, num_workers = 0 if WINDOWS else min(12, 4 * GPU_COUNT))\n",
    "\t\tval_loader = DataLoader(val_data, batch_size = batch_size, shuffle = True, num_workers = 0 if WINDOWS else min(12, 4 * GPU_COUNT))\n",
    "\n",
    "\t\tif scheduler_pass != None:\n",
    "\t\t\tscheduler = scheduler_pass(optimizer, **scheduler_args)\n",
    "\n",
    "\t\tdone = 0\n",
    "\t\tn_epochs = epochs\n",
    "\n",
    "\t\ttrack_loss = np.full((epochs, 4), 0.0, dtype=np.float32) # train acc, train loss, val acc, val loss\n",
    "\n",
    "\t\tbest_performance_df = pd.DataFrame({'Train Loss': 1000, 'Val Loss': 1000, 'Train Acc': 0, 'Val Acc': 0}, index = [name])\n",
    "\t\tbest_val_loss = 1e9\n",
    "\t\tbest_val_acc = 0\n",
    "\n",
    "\t\tself.end_training = 0\n",
    "\t\tself.extra_trained = 0\n",
    "\n",
    "\t\tfor epoch in range(1, n_epochs+1):\n",
    "\t\t\t# monitor training loss\n",
    "\t\t\ttrain_loss = 0.0\n",
    "\t\t\ttrain_acc_count = 0\n",
    "\t\t\ttotal_sample = 0\n",
    "\t\t\t\n",
    "\t\t\t###################\n",
    "\t\t\t# train the model #\n",
    "\t\t\t###################\n",
    "\t\t\tmodel.train()\n",
    "\t\t\tfor data in tqdm(train_loader):\n",
    "\t\t\t\t# _ stands in for labels, here\n",
    "\t\t\t\t# no need to flatten images\n",
    "\t\t\t\tinputs, labels = data\n",
    "\t\t\t\tinputs = inputs.cuda()\n",
    "\t\t\t\tlabels = labels.cuda()\n",
    "\n",
    "\t\t\t\tperform_aug = np.random.random() < 0.4 \n",
    "\t\t\t\tif augment != None and perform_aug:\n",
    "\t\t\t\t\tbatch, perm, lmbd = augment['fn'](inputs.detach().cpu(), *augment['args'], **augment['kwargs'])\n",
    "\n",
    "\t\t\t\t\tinputs = batch.cuda()\n",
    "\t\t\t\t\toutputs = model(inputs)\n",
    "\n",
    "\t\t\t\t\tloss = criterion(outputs, labels) * lmbd + criterion(outputs, labels[perm]) * (1 - lmbd)\n",
    "\t\t\t\telse:\n",
    "\t\t\t\t\t# forward pass: compute predicted outputs by passing inputs to the model\n",
    "\t\t\t\t\toutputs = model(inputs)\n",
    "\t\t\t\t\t# calculate the loss\n",
    "\t\t\t\t\tloss = criterion(outputs, labels)\n",
    "\t\t\t\t\t# backward pass: compute gradient of the loss with respect to model parameters\n",
    "\t\t\t\t\ttrain_loss += loss.item()\n",
    "\t\t\t\t\ttrain_acc_count += accurate_count(outputs, labels)\n",
    "\t\t\t\t\ttotal_sample += len(labels)\n",
    "\n",
    "\t\t\t\toptimizer.zero_grad()\n",
    "\t\t\t\tloss.backward()\n",
    "\t\t\t\toptimizer.step()\n",
    "\t\t\t\t\n",
    "\t\t\t\tif scheduler_pass != None and scheduler_pass != optim.lr_scheduler.ReduceLROnPlateau:\n",
    "\t\t\t\t\tscheduler.step()\n",
    "\t\t\t\t\t\n",
    "\t\t\ttrain_loss = train_loss/len(train_loader)\n",
    "\t\t\ttrain_acc = train_acc_count / total_sample\n",
    "\n",
    "\t\t\tval_loss = 0.0\n",
    "\t\t\tval_acc_count = 0\n",
    "\t\t\ttotal_sample = 0\n",
    "\t\t\t\n",
    "\t\t\tmodel.eval()\n",
    "\t\t\twith torch.no_grad():\n",
    "\t\t\t\tfor i, data in enumerate(val_loader):\n",
    "\t\t\t\t\tinputs, labels = data                             \n",
    "\t\t\t\t\tinputs = inputs.to(device)\n",
    "\t\t\t\t\tlabels = labels.to(device)\n",
    "\n",
    "\t\t\t\t\toutputs = model(inputs)\n",
    "\t\t\t\t\tloss = criterion(outputs, labels)\n",
    "\n",
    "\t\t\t\t\tval_loss += loss.item()\n",
    "\t\t\t\t\tval_acc_count += accurate_count(outputs, labels)\n",
    "\t\t\t\t\ttotal_sample += len(labels)\n",
    "\n",
    "\t\t\tval_loss = val_loss / len(val_loader)\n",
    "\t\t\tif scheduler_pass == optim.lr_scheduler.ReduceLROnPlateau:\n",
    "\t\t\t\tscheduler.step(val_loss)\n",
    "\t\t\tval_acc = val_acc_count / total_sample\n",
    "\n",
    "\t\t\tif verbose:\n",
    "\t\t\t\tprint(f\"Epoch: {epoch} | Train Loss: {train_loss:.5f} \\tVal Loss: {val_loss:.5f} \\tTrain Acc: {train_acc:.3f} \\tVal Acc: {val_acc:.3f}\")\n",
    "\t\t\tlogger.log(f\"Epoch: {epoch} | Train Loss: {train_loss:.5f} \\tVal Loss: {val_loss:.5f} \\tTrain Acc: {train_acc:.3f} \\tVal Acc: {val_acc:.3f}\")\n",
    "\n",
    "\t\t\ttrack_loss[epoch - 1][0] = train_acc\n",
    "\t\t\ttrack_loss[epoch - 1][1] = train_loss\n",
    "\t\t\ttrack_loss[epoch - 1][2] = val_acc\n",
    "\t\t\ttrack_loss[epoch - 1][3] = val_loss\n",
    "\t\t\tdone = epoch\n",
    "\n",
    "\t\t\tif val_loss < best_val_loss:\n",
    "\t\t\t\tbest_performance_df = pd.DataFrame({'Model': model, 'Train Loss': train_loss, 'Val Loss': val_loss, 'Train Acc': train_acc, 'Val Acc': val_acc}, index = [name])\n",
    "\t\t\t\tself.end_training = epoch\n",
    "\t\t\t\tbest_val_loss = val_loss\n",
    "\t\t\t\tbest_val_acc = max(best_val_acc, val_acc)\n",
    "\t\t\t\tif save_model:\n",
    "\t\t\t\t\tself.save_model(name, model)\n",
    "\t\t\telif val_acc > best_val_acc:\n",
    "\t\t\t\tbest_performance_df = pd.DataFrame({'Model': model, 'Train Loss': train_loss, 'Val Loss': val_loss, 'Train Acc': train_acc, 'Val Acc': val_acc}, index = [name])\n",
    "\t\t\t\tself.end_training = epoch\n",
    "\t\t\t\tbest_val_acc = val_acc\n",
    "\t\t\t\tbest_val_loss = min(best_val_loss, val_loss)\n",
    "\t\t\t\tif save_model:\n",
    "\t\t\t\t\tself.save_model(name, model)\n",
    "\n",
    "\t\t\tif early_stopping != None:\n",
    "\t\t\t\tearly_stopping(val_loss, val_acc)\n",
    "\n",
    "\t\t\tif early_stopping != None and early_stopping.stop:\n",
    "\t\t\t\tif (verbose):\n",
    "\t\t\t\t\tprint(f\"Stopping due to early stopping | patience = {early_stopping.patience}\")\n",
    "\t\t\t\tlogger.log(model_pass)\n",
    "\t\t\t\tbreak\n",
    "\n",
    "\n",
    "\t\ttrack_loss.resize((done, 4))\n",
    "\t\tself.record(name, track_loss, best_performance_df)\n",
    "\n",
    "\n",
    "\t\tif return_model:\n",
    "\t\t\tdel train_loader, val_loader, inputs, labels\n",
    "\t\t\ttorch.cuda.empty_cache()\n",
    "\t\t\tif return_results:\n",
    "\t\t\t\treturn model, best_performance_df['Val Acc'].values[0]\n",
    "\t\t\treturn model\n",
    "\t\telse:\n",
    "\t\t\tdel model, optimizer, train_loader, val_loader, inputs, labels\n",
    "\t\t\ttorch.cuda.empty_cache()\n",
    "\n",
    "\tdef record(self, name, track_loss, best_performance_df):\n",
    "\t\ttrack_loss_df = pd.DataFrame(track_loss, columns=['Train Acc', 'Train Loss', 'Val Acc', 'Val Loss'])\n",
    "\t\ttrack_loss_df.index += 1\n",
    "\t\ttrack_loss_df.index.name = 'Epoch'\n",
    "\n",
    "\t\ttry:\n",
    "\t\t\tself.history = pd.read_csv('plots/record.csv')\n",
    "\t\texcept:\n",
    "\t\t\tself.history = pd.DataFrame()\n",
    "\n",
    "\t\tself.history = pd.concat([self.history, best_performance_df], axis=0)\n",
    "\t\tself.history.to_csv('plots/record.csv')\n",
    "\t\tself.loss_tracker[name] = track_loss_df\n",
    "\n",
    "\tdef save_model(self, name, model):\n",
    "\t\tself.saves[name] = copy.deepcopy(model)\n",
    "\n",
    "\tdef get_model(self, name):\n",
    "\t\treturn copy.deepcopy(self.saves[name])\n",
    "\n",
    "\tdef archive(self, name):\n",
    "\t\tfig = plt.figure(figsize=(14, 5))\n",
    "\t\ttrain, val = sns.color_palette('Set2')[0:2]\n",
    "\t\tloss, acc = fig.subplots(1, 2)\n",
    "\n",
    "\t\tloss.axvspan(1, self.end_training, color=sns.color_palette('Paired')[0], alpha=0.4, lw=0, label='Training') \n",
    "\n",
    "\t\tloss.plot(self.loss_tracker[name].index, self.loss_tracker[name]['Train Loss'], label='Train', color=train)\n",
    "\t\tloss.plot(self.loss_tracker[name].index, self.loss_tracker[name]['Val Loss'], label='Val', color=val)\n",
    "\t\tloss.set_xlabel('Epoch')\n",
    "\t\tloss.set_ylabel('Loss')\n",
    "\n",
    "\t\tacc.axvspan(1, self.end_training, color=sns.color_palette('Paired')[0], alpha=0.4, lw=0, label='Training') \n",
    "\t\tacc.plot(self.loss_tracker[name].index, self.loss_tracker[name]['Train Acc'], label='Train', color=train)\n",
    "\t\tacc.plot(self.loss_tracker[name].index, self.loss_tracker[name]['Val Acc'], label='Val', color=val)\n",
    "\n",
    "\t\tacc.set_xlabel('Epoch')\n",
    "\t\tacc.set_ylabel('Accuracy')\n",
    "\n",
    "\t\tacc.legend()\n",
    "\t\tloss.legend()\n",
    "\t\t\n",
    "\t\tfig.savefig(f'plots/{name}.png')\n",
    "\t\tplt.close()\n",
    "\t\tdel self.loss_tracker[name]"
   ]
  },
  {
   "cell_type": "markdown",
   "metadata": {},
   "source": [
    "We'll train our feature extractor for 50 epochs."
   ]
  },
  {
   "cell_type": "code",
   "execution_count": 26,
   "metadata": {},
   "outputs": [],
   "source": [
    "if not DEBUG:\n",
    "\ttrainer = Trainer(nn.CrossEntropyLoss)\n",
    "\tres_model = trainer.train_model(\n",
    "\t\t'ResNet-S Feature Extractor', ResNetS, # model\n",
    "\t\toptim.Adam, {'lr': 1e-3 * (GPU_COUNT) ** 0.5, 'weight_decay': 1e-5}, # optimizer\n",
    "\t\ttrain_data, # data\n",
    "\t\tepochs = 50,\n",
    "\t\t# verbose=True,\n",
    "\t\treturn_model = True\n",
    "\t)\n",
    "\ttrainer.archive('ResNet-S Feature Extractor')\n",
    "\tdisplay(trainer.history)"
   ]
  },
  {
   "cell_type": "markdown",
   "metadata": {},
   "source": [
    "Now that we have a trained a simple and small ResNet feature extractor, we can <strong>use its feature mapping</strong>. We cut off the last layers of the model below."
   ]
  },
  {
   "cell_type": "code",
   "execution_count": 27,
   "metadata": {},
   "outputs": [],
   "source": [
    "if not DEBUG:\n",
    "\tfeature_extractor = torch.nn.Sequential(*(list(list(res_model.children())[0].children())[:-2]))"
   ]
  },
  {
   "cell_type": "markdown",
   "metadata": {},
   "source": [
    "We then load our data into a dataloader. This is because giving all the images to the model at once for inference will lead to <strong>insufficient memory</strong>. We'll also store information into a <code>pd.DataFrame</code> such that we can pass this information to <strong><code>TSNE</code> to perform manifold learning</strong>.\n",
    "\n",
    "<strong>Why <code>TSNE</code>?</strong>  \n",
    "\n",
    "I decided to use TSNE because it allows for non-linear relationships where as a dimensionality reduction technique such as <code>PCA</code> only performs well for linear relationships inside the data."
   ]
  },
  {
   "cell_type": "code",
   "execution_count": 28,
   "metadata": {},
   "outputs": [],
   "source": [
    "if not DEBUG:\n",
    "\toutput = pd.DataFrame()\n",
    "\tbatch_size = 100\n",
    "\ttrain_loader = DataLoader(train_data, batch_size = batch_size)\n",
    "\tfor data in train_loader:\n",
    "\t\timage, label = data\n",
    "\t\toutput = pd.concat([output, pd.DataFrame(feature_extractor(image).detach().cpu().numpy().reshape(batch_size, -1))], axis=0)"
   ]
  },
  {
   "cell_type": "markdown",
   "metadata": {},
   "source": [
    "Below we use <code>MulticoreTSNE</code>, which is a <strong>faster implementation</strong> of Sklearn's <code>TSNE</code>, despite Sklearn also implementing multicore support with <code>n_jobs</code>. We also <strong>set the number of components to be 4</strong>, as not only does the dataset have a lot of classes, but contains a lot of information."
   ]
  },
  {
   "cell_type": "code",
   "execution_count": 29,
   "metadata": {},
   "outputs": [],
   "source": [
    "if not DEBUG:\n",
    "\tfrom MulticoreTSNE import MulticoreTSNE as TSNE\n",
    "\ttsne = TSNE(n_components = 4, method='exact', n_jobs=-1)\n",
    "\tresults = tsne.fit_transform(output)"
   ]
  },
  {
   "cell_type": "markdown",
   "metadata": {},
   "source": [
    "Next, we need to calculate how far each image is from the 'mean' of its images."
   ]
  },
  {
   "cell_type": "code",
   "execution_count": 30,
   "metadata": {},
   "outputs": [],
   "source": [
    "if not DEBUG:\n",
    "\ty_train.columns = ['label']\n",
    "\ttsne_df = pd.concat([pd.DataFrame(results), y_train], axis=1)\n",
    "\ttsne_means = tsne_df.groupby(by='label').mean()\n",
    "\ttsne_means.columns = ['mean_0', 'mean_1', 'mean_2', 'mean_3']\n",
    "\tdistance_tsne = tsne_df.join(tsne_means, on='label')\n",
    "\tdistance_tsne['dist_from_mean'] = ((distance_tsne[[0, 1, 2, 3]].values - distance_tsne[['mean_0', 'mean_1', 'mean_2', 'mean_3']].values) ** 2).sum(axis=1)"
   ]
  },
  {
   "cell_type": "markdown",
   "metadata": {},
   "source": [
    "After calculating the distance, we'll now inspect what <strong>our \"Outlier Detection\" method</strong> reveals about the dataset."
   ]
  },
  {
   "cell_type": "code",
   "execution_count": 31,
   "metadata": {},
   "outputs": [],
   "source": [
    "if not DEBUG:\n",
    "\tfarthest_idx = distance_tsne.sort_values(by='dist_from_mean', ascending = False).iloc[0:16].index\n",
    "\tclosest_idx = distance_tsne.sort_values(by='dist_from_mean', ascending = True).iloc[0:16].index"
   ]
  },
  {
   "cell_type": "markdown",
   "metadata": {},
   "source": [
    "We'll first <strong>inspect images</strong> that the algorithm considers to be <strong>far way</strong> from its respective class."
   ]
  },
  {
   "cell_type": "code",
   "execution_count": 32,
   "metadata": {},
   "outputs": [],
   "source": [
    "if not DEBUG:\n",
    "\timshow(train_data.x[farthest_idx].cpu().numpy(), classes[np.argmax(train_data.y[farthest_idx].cpu().numpy(), axis=1)].tolist(), figsize=(7, 7))"
   ]
  },
  {
   "cell_type": "markdown",
   "metadata": {},
   "source": [
    "We observe:\n",
    "<ul>\n",
    "\t<li>The first thing we see is that <code>orchid</code> and <code>sunflower</code> are blue, indicating <strong>outliers in the form of colors</strong></li>\n",
    "\t<li>This suggests that the color channels for these two particular images and incorrect, and implies that performing <strong>color altering augmentation</strong> is likely going to benefit our model performance</li>\n",
    "\t<li>We also observe there to be quite a few <code>dolphins</code>, <code>shark</code>, and <code>whale</code>.</li>\n",
    "\t<li>This may be due to our model's feature maps being incorrect, for instance assigning said dolphin a feature map of a shark, resulting to a large distance away from the dolphin's mean vectors.</li>\n",
    "</ul>\n",
    "\n",
    "It is likely that using a better performing feature extractor will lead to better results, as it seems the modified ResNet-S does not have the model capacity to be able to distinguish between closely related classes.\n",
    "\n",
    "Next, we'll analyse the <strong>closest images</strong> to the mean."
   ]
  },
  {
   "cell_type": "code",
   "execution_count": 33,
   "metadata": {},
   "outputs": [],
   "source": [
    "if not DEBUG:\n",
    "\timshow(train_data.x[closest_idx].cpu().numpy(), classes[np.argmax(train_data.y[closest_idx].cpu().numpy(), axis=1)].tolist(), figsize=(7, 7))"
   ]
  },
  {
   "cell_type": "markdown",
   "metadata": {},
   "source": [
    "We observe:\n",
    "<ul>\n",
    "\t<li>Most of the images are <code>plain</code> and <code>sea</code>, which tells us the model was easily able to extract features effectively</li>\n",
    "\t<li>This is highly likely due to the fact that the <code>separation between the sky and the earth</code>, results to <strong>easy identification</strong></li>\n",
    "\t<li>Trees appear to also be easily identifiable.</li>\n",
    "</ul>"
   ]
  },
  {
   "cell_type": "markdown",
   "metadata": {},
   "source": [
    "#### What about coarse classes?\n",
    "\n",
    "As our model is still not quite robust, such as giving similar feature maps to dolphins and sharks, perhaps more <strong>coarse labels</strong> will result in better identification of outliers."
   ]
  },
  {
   "cell_type": "markdown",
   "metadata": {},
   "source": [
    "### Would <strong>rotational data augmentation</strong> be of use?\n",
    "Convolutional Neural Networks are proven to have the property of <strong>translation invariance</strong> and <strong>translation equivariance</strong>, which means regardless of the translations performed on the image, the feature map of the CNN will be also translated. Essentially,\n",
    "\n",
    "$$c(t(x)) = t(c(x))$$\n",
    "\n",
    "Where $t$ represents translation and $c$ represents the convolutional network.\n",
    "\n",
    "However, CNN do not have any invariance to rotational. Would performing rotational data augmentation be of use? To find this out, <strong>I designed a custom algorithm</strong> to detect whether there exists rotated images. We'll specifically be using the algorithm on the class of <code>cans</code> because it is easier to detect for rotated images (as cans are usually upright).\n",
    "\n",
    "The idea is this:\n",
    "<ol>\n",
    "\t<li>Apply <strong>vertical convlutional layer</strong> to the original image, to <strong>extract vertical lines</strong></li>\n",
    "\t<li>Apply <strong>horizontal convlutional layer</strong> to the original image, to <strong>extract horizontal lines</strong></li>\n",
    "\t<li>Then from these outputs of the 2 convolutional layers, we want to find out what the <strong>\"longest line\"</strong> is</li>\n",
    "\t<li>If the vertical output has a longer line than the horizontal output, the image is likely to be upright, and vice versa</li>\n",
    "</ol>\n",
    "\n",
    "We define the <strong>horizontal and vertical convolution weights</strong> below."
   ]
  },
  {
   "cell_type": "code",
   "execution_count": 34,
   "metadata": {},
   "outputs": [],
   "source": [
    "vert_weights = torch.Tensor(\n",
    "    [[1, 0, -1], [1, 0, -1], [1, 0, -1]]\n",
    ").unsqueeze(0).unsqueeze(0)\n",
    "vert_weights.requires_grad = True\n",
    "\n",
    "vert_conv = nn.Conv2d(1, 1, kernel_size=3, stride=1, padding=1, bias=False)\n",
    "\n",
    "with torch.no_grad():\n",
    "    vert_conv.weight = nn.Parameter(vert_weights)\n",
    "\n",
    "vert_conv = vert_conv.cuda()\n",
    "\n",
    "hori_weights = torch.Tensor(\n",
    "    [[1, 1, 1], [0, 0, 0], [-1, -1, -1]]\n",
    ").unsqueeze(0).unsqueeze(0)\n",
    "hori_weights.requires_grad = True\n",
    "\n",
    "hori_conv = nn.Conv2d(1, 1, kernel_size=3, stride=1, padding=1, bias=False)\n",
    "\n",
    "with torch.no_grad():\n",
    "    hori_conv.weight = nn.Parameter(hori_weights)\n",
    "\n",
    "hori_conv = hori_conv\n",
    "hori_layer = nn.Sequential(\n",
    "    hori_conv,\n",
    "    nn.BatchNorm2d(1)\n",
    ").cuda()"
   ]
  },
  {
   "cell_type": "markdown",
   "metadata": {},
   "source": [
    "Next, we restrict the space of images to only those that have the <code>can</code> label."
   ]
  },
  {
   "cell_type": "code",
   "execution_count": 35,
   "metadata": {},
   "outputs": [],
   "source": [
    "idx = np.where(y_train == 16)[0]\n",
    "cans_x = train_data.x[idx]"
   ]
  },
  {
   "cell_type": "markdown",
   "metadata": {},
   "source": [
    "As an example, let's interpret what the two <strong>vertical and horizontal convolutional filters</strong> are doing."
   ]
  },
  {
   "cell_type": "code",
   "execution_count": 36,
   "metadata": {},
   "outputs": [
    {
     "data": {
      "image/png": "[encoded data removed]",
      "text/plain": [
       "<Figure size 640x480 with 3 Axes>"
      ]
     },
     "metadata": {},
     "output_type": "display_data"
    }
   ],
   "source": [
    "gray_cans = transforms.functional.rgb_to_grayscale(cans_x, 1)\n",
    "\n",
    "gray_can_example = gray_cans[0]\n",
    "hori = hori_conv(gray_can_example.cuda())\n",
    "vert = vert_conv(gray_can_example.cuda())\n",
    "\n",
    "imshow([gray_can_example, vert, hori], label=['Original', 'Vertical', 'Horizontal'], is_int = False)"
   ]
  },
  {
   "cell_type": "markdown",
   "metadata": {},
   "source": [
    "We see that because the <strong>vertical output has \"longer\" lines</strong>, this means the image is <strong>likely to be upright</strong>, which is the case.\n",
    "\n",
    "Thus, we'll continue to <strong>define</strong> our algorithm in a function, <strong>apply</strong> the function to all the <code>can</code> images in the training dataset, and then <strong>visualize</strong> them to perform a check on rotated images."
   ]
  },
  {
   "cell_type": "code",
   "execution_count": 37,
   "metadata": {},
   "outputs": [],
   "source": [
    "horizontal_images = []\n",
    "\n",
    "def color_diff_lengths(image, orientation = 'hori'):\n",
    "\t\tif len(image.shape) == 3:\n",
    "\t\t\timage = image.reshape(32, 32)\n",
    "\n",
    "\t\tif orientation == 'hori':\n",
    "\t\t\timage = image[1:-1, :]\n",
    "\t\t\tmeans = image.mean(axis=1)\n",
    "\t\t\tleft = np.argmax(np.apply_along_axis(lambda x: x <= means, 0, image), axis=1)\n",
    "\t\t\tright = (image.shape[1] - 1) - np.argmax(np.apply_along_axis(lambda x: x >= means, 0, image[:, ::-1]), axis=1)\n",
    "\t\telse:\n",
    "\t\t\timage = image[:, 1:-1]\n",
    "\t\t\tmeans = image.mean(axis=0)\n",
    "\t\t\tleft = np.argmax(np.apply_along_axis(lambda x: x <= means, 1, image), axis=0)\n",
    "\t\t\tright = (image.shape[0] - 1) - np.argmax(np.apply_along_axis(lambda x: x >= means, 1, image[::-1, :]), axis=0)\n",
    "\n",
    "\t\treturn max(right - left)\n",
    "\n",
    "for img in gray_cans:\n",
    "\tvertical_length = color_diff_lengths(vert_conv(img.cuda()).detach().cpu().numpy().transpose(1, 2, 0), orientation = 'vert')\n",
    "\thorizontal_length = color_diff_lengths(hori_conv(img.cuda()).detach().cpu().numpy().transpose(1, 2, 0), orientation = 'hori')\n",
    "\n",
    "\tif horizontal_length > vertical_length:\n",
    "\t\thorizontal_images.append(img.cpu().numpy())"
   ]
  },
  {
   "cell_type": "markdown",
   "metadata": {},
   "source": [
    "Let's take a look at the images"
   ]
  },
  {
   "cell_type": "code",
   "execution_count": 38,
   "metadata": {},
   "outputs": [
    {
     "data": {
      "image/png": "[encoded data removed]",
      "text/plain": [
       "<Figure size 1200x700 with 24 Axes>"
      ]
     },
     "metadata": {},
     "output_type": "display_data"
    }
   ],
   "source": [
    "imshow(horizontal_images, shape=(32, 32), figsize = (12, 7))"
   ]
  },
  {
   "cell_type": "markdown",
   "metadata": {},
   "source": [
    "We observe:\n",
    "<ul>\n",
    "\t<li>Our algorithm is not completely robust, <strong>there are instances of upright cans</strong></li>\n",
    "\t<li>However, there are also <strong>many upright cans</strong>, stacked in a horizontal manner</strong>, leading to our algorithm believing that they are horizontal</li>\n",
    "\t<li>There are a few images of a combination of horizontal cans and vertical cans, with one image of a horizontal can</li>\n",
    "</ul>\n",
    "\n",
    "As this can likely extend to other classes (maybe even more likely, e.g. dolphin swimming up and dolphin swimming towards the right), we conclude that <strong>rotational augmentation</strong> will definitely help with our model."
   ]
  },
  {
   "cell_type": "markdown",
   "metadata": {},
   "source": [
    "## Feature Engineering\n",
    "Before we proceed with anything else, we'll first <strong>normalize</strong> the data. This means we'll divide every value in the dataset by <code>255</code>."
   ]
  },
  {
   "cell_type": "code",
   "execution_count": 39,
   "metadata": {},
   "outputs": [],
   "source": [
    "X_val /= 255.0"
   ]
  },
  {
   "cell_type": "markdown",
   "metadata": {},
   "source": [
    "## Data Augmentation\n",
    "For data augmentation we <strong>note from EDA that:</strong>\n",
    "<ul>\n",
    "\t<li>Rotational augmentation are likely to be useful (at least for <code>cans</code>)</strong>\n",
    "\t<li>Color augmentations are also useful</strong>\n",
    "</ul>\n",
    "\n",
    "As such we'll with performing an <strong>augmentation algorithm</strong> called <strong>AugMix</strong>"
   ]
  },
  {
   "cell_type": "code",
   "execution_count": 40,
   "metadata": {},
   "outputs": [],
   "source": [
    "t_dtype = transforms.Lambda(lambda x: x.float() / 255.0 if (x > 1).sum() > 0 else x)\n",
    "\n",
    "t_base = transforms.Compose([\n",
    "\tt_dtype,\n",
    "\ttransforms.RandomCrop(32, padding=3),\n",
    "\ttransforms.RandomHorizontalFlip(p=0.5),\n",
    "])\n",
    "\n",
    "t_augmix = transforms.Compose([\n",
    "\ttransforms.Lambda(lambda x: x.type(torch.uint8) if (x > 1).sum() > 0 else (x * 255).type(torch.uint8)),\n",
    "\ttransforms.AugMix(severity=5, mixture_width = 5),\n",
    "\ttransforms.Lambda(lambda x: x.float() / 255.0),\n",
    "])\n",
    "\n",
    "t_extra_augmix = transforms.Compose([\n",
    "\tt_augmix,\n",
    "\tt_dtype,\n",
    "\ttransforms.RandomCrop(32, padding=3),\n",
    "\ttransforms.RandomHorizontalFlip(p=0.5),\n",
    "\ttransforms.RandomRotation((-30, 30))\n",
    "])"
   ]
  },
  {
   "cell_type": "code",
   "execution_count": 41,
   "metadata": {},
   "outputs": [
    {
     "data": {
      "image/png": "[encoded data removed]",
      "text/plain": [
       "<Figure size 1000x900 with 12 Axes>"
      ]
     },
     "metadata": {},
     "output_type": "display_data"
    }
   ],
   "source": [
    "aug_X, aug_y = perform_augmentation(train_data.x[0:5], train_data.y[0:5], t_extra_augmix, step = 1)\n",
    "imshow(aug_X, figsize = (10, 9))"
   ]
  },
  {
   "cell_type": "code",
   "execution_count": 42,
   "metadata": {},
   "outputs": [],
   "source": [
    "base_train_data = TorchDataset(X_train, y_train, transform = t_base)\n",
    "aug_train_data = TorchDataset(X_train, y_train, transform = t_extra_augmix)"
   ]
  },
  {
   "cell_type": "markdown",
   "metadata": {},
   "source": [
    "## Modelling\n",
    "\n",
    "### Metric\n",
    "We'll be using two metrics: <strong>Accuracy</strong> and <strong>Categorical Crossentropy</strong>\n",
    "\n",
    "$$accuracy = \\frac{TP + TN}{TP + TN + FP + FN} $$\n",
    "\n",
    "$$\\text{categorical crossentropy} = -\\sum_{i=1}^{n}y_i \\log{(p_i)} $$\n",
    "\n",
    "We use accuracy to choose the model, as the benchmarks for the CIFAR100 dataset are in terms of accuracy. Additionally, the dataset does not have an imbalanced class issue, thus using accuracy is not unsuitable.\n",
    "\n",
    "We use categorical crossentropy as our criterion to train the model, because it heavily penalizes models that are confident and wrong in their prediction. This is due to the logarithmic function in the cross entropy formula. "
   ]
  },
  {
   "cell_type": "markdown",
   "metadata": {},
   "source": [
    "#### Custom Early Stopping\n",
    "Additionally, instead of <strong>arbitrarily choosing the number of epochs</strong> or fine tuning it (which computationally will take long), I decided to use <strong>Early Stopping</strong> as a mechanism.\n",
    "\n",
    "Overfitting is something that occurs when a model begins to extract some of the residual variation such as noise under the assumption that it is learning the patterns (Burnham and Anderson, 2010). Essentially, it starts to <strong>memorize instead of generalize</strong>. Traditional Early Stopping attempts to combat overfitting by stopping training if the performance/loss of the model on a validation set does not improve over $n$ epochs, where $n$ is the patience parameter. However, it requires <strong>clever tuning</strong> to prevent underfitting (Adam, 2018). As such to address this problem, I use a custom implemented early stopping class inspired by this <a href=\"https://alexadam.ca/2018/08/03/early-stopping/\">article</a>.\n",
    "\n",
    "The idea of this custom early stopping is that we <strong>only stop training</strong> if there are no improvements in <strong>both loss and accuracy</strong>. If there is an improve in any of the single quantities, the patience counter is reset. This tackles the issue of the underlying assumption that <strong>\"loss is correlated with accuracy</strong>\", and becomes a more lenient form of early stopping, ideally decreasing underfitting."
   ]
  },
  {
   "cell_type": "code",
   "execution_count": 43,
   "metadata": {},
   "outputs": [],
   "source": [
    "class CustomEarlyStopping():\n",
    "\tdef __init__(self, patience, min_loss_delta = 0, min_acc_delta = 0):\n",
    "\t\tself.patience = patience\n",
    "\t\tself.best_loss = 1e9\n",
    "\t\tself.best_acc = 0\n",
    "\t\tself.patience_count = 0\n",
    "\t\tself.count = 0\n",
    "\t\tself.stop = False\n",
    "\n",
    "\t\tself.min_loss_delta = min_loss_delta\n",
    "\t\tself.min_acc_delta = min_acc_delta\n",
    "\n",
    "\tdef __call__(self, loss, accuracy):\n",
    "\t\tself.save_state = False\n",
    "\n",
    "\t\tif self.best_loss - loss > self.min_loss_delta or accuracy - self.best_acc > self.min_acc_delta:\n",
    "\t\t\tif self.best_loss - loss > self.min_loss_delta:\n",
    "\t\t\t\tself.best_loss = loss\n",
    "\t\t\tif accuracy - self.best_acc > self.min_acc_delta:\n",
    "\t\t\t\tself.best_acc = accuracy\n",
    "\n",
    "\t\t\tself.count = 0\n",
    "\t\telse:\n",
    "\t\t\tself.count += 1\n",
    "\t\t\n",
    "\t\tif self.count >= self.patience:\n",
    "\t\t\tself.stop = True\n"
   ]
  },
  {
   "cell_type": "code",
   "execution_count": 44,
   "metadata": {},
   "outputs": [],
   "source": [
    "trainer = Trainer()"
   ]
  },
  {
   "cell_type": "markdown",
   "metadata": {},
   "source": [
    "### Model Architectures\n",
    "\n",
    "In this assignment, we are to investigate both the datasets for <strong>fine</strong> and <strong>coarse</strong> labels. Although the intuition is that <strong>any model that performs well on fine labels, will perform on the coarse labels</strong> (due to the differences being quite literally one more dense layer), it is important to really investigate and check if this is true. We'll tackle this later.\n",
    "\n",
    "For now, let's first attempt to find appropriate model architectures to solve the problem of <strong>fine labels(100 classes)</strong>."
   ]
  },
  {
   "cell_type": "markdown",
   "metadata": {},
   "source": [
    "#### Baseline NN\n",
    "\n",
    "As a reference point, we'll see how a baseline neural network consisting of only neurons will perform.\n",
    "\n",
    "It consists of:\n",
    "<ol>\n",
    "\t<li>Linear layer</li>\n",
    "\t<li>Batch Normalization</li>\n",
    "\t<li>ReLU activation function</li>\n",
    "</ol>"
   ]
  },
  {
   "cell_type": "code",
   "execution_count": 45,
   "metadata": {},
   "outputs": [],
   "source": [
    "def fc_block(in_feat, out_feat):\n",
    "\treturn nn.Sequential(\n",
    "\t\tnn.Linear(in_feat, out_feat),\n",
    "\t\tnn.BatchNorm1d(out_feat),\n",
    "\t\tnn.ReLU()\n",
    "\t)\n",
    "\n",
    "class BaselineNN(nn.Module):\n",
    "\tdef __init__(self, num_classes):\n",
    "\t\tsuper(BaselineNN, self).__init__()\n",
    "\t\tself.flat = nn.Flatten(1)\n",
    "\t\tself.b1 = fc_block(3072, 1536)\n",
    "\t\tself.b2 = fc_block(1536, 768)\n",
    "\t\tself.b3 = fc_block(768, 384)\n",
    "\t\tself.b4 = fc_block(384, 192)\n",
    "\t\tself.b5 = fc_block(192, num_classes)\n",
    "\n",
    "\tdef forward(self, x):\n",
    "\t\tx = self.flat(x)\n",
    "\t\tx = self.b1(x)\n",
    "\t\tx = self.b2(x)\n",
    "\t\tx = self.b3(x)\n",
    "\t\tx = self.b4(x)\n",
    "\t\tx = self.b5(x)\n",
    "\t\treturn x"
   ]
  },
  {
   "cell_type": "code",
   "execution_count": 46,
   "metadata": {},
   "outputs": [],
   "source": [
    "trainer = Trainer()\n",
    "batch_num = len(DataLoader(aug_train_data, batch_size = GPU_COUNT * 256))\n",
    "\n",
    "if not MODEL_DEBUG:\n",
    "\ttrainer.train_model(\n",
    "\t\t'AugMix + Baseline NN', BaselineNN, # model\n",
    "\t\toptim.AdamW, {'lr': 1e-4 * (GPU_COUNT) ** 0.5, 'weight_decay': 1e-5}, # optimizer\n",
    "\t\taug_train_data, # data\n",
    "\t\tearly_stopping = CustomEarlyStopping(patience = 7),\n",
    "\t\tverbose=True\n",
    "\t)\n",
    "\ttrainer.archive('AugMix + Baseline NN')\n",
    "\tdisplay(trainer.history)"
   ]
  },
  {
   "cell_type": "markdown",
   "metadata": {},
   "source": [
    "![](plots/AugMix%20%2B%20Baseline%20NN.png)"
   ]
  },
  {
   "cell_type": "markdown",
   "metadata": {},
   "source": [
    "#### AlexNet-inspired CNN: MiniAlexNet"
   ]
  },
  {
   "cell_type": "code",
   "execution_count": 47,
   "metadata": {},
   "outputs": [],
   "source": [
    "class MiniAlexNet(nn.Module):\n",
    "\tdef __init__(self, num_classes = 100):\n",
    "\t\tsuper(MiniAlexNet, self).__init__()\n",
    "\n",
    "\t\tself.conv1 = nn.Sequential(\n",
    "            nn.Conv2d(3, 64, kernel_size=7, stride=2, padding=2),\n",
    "            nn.ReLU(),\n",
    "            nn.MaxPool2d(kernel_size=3, stride=2),\n",
    "\t\t)\n",
    "\n",
    "\t\tself.conv2 = nn.Sequential(\n",
    "            nn.Conv2d(64, 192, kernel_size=3, stride=2, padding=2),\n",
    "            nn.ReLU(),\n",
    "\t\t)\n",
    "\n",
    "\t\tself.conv3 = nn.Sequential(\n",
    "            nn.Conv2d(192, 384, kernel_size=3, stride=1, padding=1),\n",
    "            nn.ReLU(),\n",
    "\t\t)\n",
    "\n",
    "\t\tself.conv4 = nn.Sequential(\n",
    "            nn.Conv2d(384, 256, kernel_size=3, stride=1, padding=1),\n",
    "            nn.ReLU(),\n",
    "\t\t\tnn.MaxPool2d(kernel_size = 3, stride = 2, padding = 1)\n",
    "\t\t)\n",
    "\n",
    "\t\tself.avgpool = nn.AdaptiveAvgPool2d((2, 2))\n",
    "\n",
    "\t\tself.fc = nn.Sequential(\n",
    "\t\t\tnn.Dropout(p = 0.5),\n",
    "\t\t\tnn.Linear(256 * 2  * 2, 1024),\n",
    "\t\t\tnn.ReLU(),\n",
    "\t\t\tnn.Dropout(p = 0.5),\n",
    "\t\t\tnn.Linear(1024, 1024),\n",
    "\t\t\tnn.ReLU(),\n",
    "\t\t\tnn.Linear(1024, num_classes)\n",
    "\t\t)\n",
    "\n",
    "\tdef forward(self, x):\n",
    "\t\tx = self.conv1(x)\n",
    "\t\tx = self.conv2(x)\n",
    "\t\tx = self.conv3(x)\n",
    "\t\tx = self.conv4(x)\n",
    "\t\tx = self.avgpool(x)\n",
    "\t\tx = torch.flatten(x, 1)\n",
    "\t\tx = self.fc(x)\n",
    "\t\treturn x"
   ]
  },
  {
   "cell_type": "code",
   "execution_count": 48,
   "metadata": {},
   "outputs": [],
   "source": [
    "if not MODEL_DEBUG:\n",
    "\ttrainer.train_model(\n",
    "\t\t'AugMix + MiniAlexNet', MiniAlexNet, # model\n",
    "\t\toptim.AdamW, {'lr': 1e-3 * (GPU_COUNT) ** 0.5, 'weight_decay': 1e-5}, # optimizer\n",
    "\t\taug_train_data, # data\n",
    "\t\tearly_stopping = CustomEarlyStopping(patience = 15),\n",
    "\t\tverbose=True\n",
    "\t)\n",
    "\ttrainer.archive('AugMix + MiniAlexNet')\n",
    "\tdisplay(trainer.history)"
   ]
  },
  {
   "cell_type": "markdown",
   "metadata": {},
   "source": [
    "![](plots/AugMix%20%2B%20MiniAlexNet.png)"
   ]
  },
  {
   "cell_type": "markdown",
   "metadata": {},
   "source": [
    "#### Modified VGG15\n",
    "From our past experiment, VGG15 worked incredibly well."
   ]
  },
  {
   "cell_type": "code",
   "execution_count": 49,
   "metadata": {},
   "outputs": [],
   "source": [
    "def VGGBlock(in_channels, out_channels, pool = False, activation = nn.ReLU):\n",
    "\tif pool:\n",
    "\t\treturn nn.Sequential(\n",
    "\t\t\tnn.Conv2d(in_channels, out_channels, kernel_size = 3, stride = 1, padding = 1),\n",
    "\t\t\tnn.BatchNorm2d(out_channels),\n",
    "\t\t\tactivation(),\n",
    "\t\t\tnn.MaxPool2d(kernel_size = 2, stride = 2)\n",
    "\t\t)\n",
    "\treturn nn.Sequential(\n",
    "\t\tnn.Conv2d(in_channels, out_channels, kernel_size = 3, stride = 1, padding = 1),\n",
    "\t\tnn.BatchNorm2d(out_channels),\n",
    "\t\tactivation()\n",
    "\t)\n",
    "\n",
    "class VGG15(nn.Module):\n",
    "\tdef __init__(self, num_classes = 100):\n",
    "\t\tsuper().__init__()\n",
    "\t\tself.l0 = VGGBlock(3, 64)\n",
    "\t\tself.l1 = VGGBlock(64, 64)\n",
    "\t\tself.l2 = VGGBlock(64, 64, pool = True)\n",
    "\t\tself.l3 = VGGBlock(64, 128)\n",
    "\t\tself.l4 = VGGBlock(128, 128)\n",
    "\t\tself.l5 = VGGBlock(128, 128, pool = True)\n",
    "\t\tself.l6 = VGGBlock(128, 256)\n",
    "\t\tself.l7 = VGGBlock(256, 256)\n",
    "\t\tself.l8 = VGGBlock(256, 256, pool = True)\n",
    "\t\tself.l9 = VGGBlock(256, 512)\n",
    "\t\tself.l10 = VGGBlock(512, 512)\n",
    "\t\tself.l11 = VGGBlock(512, 512, pool = True)\n",
    "        \n",
    "\t\tself.flat = nn.Flatten(start_dim = 1)\n",
    "\t\tself.drop_layer0 = nn.Dropout(0.5)\n",
    "\t\tself.fc0 = nn.Sequential(\n",
    "\t\t\tnn.Linear(512 * 2 * 2, 4096),\n",
    "\t\t\tnn.ReLU()\n",
    "\t\t)\n",
    "        \n",
    "\t\tself.drop_layer1 = nn.Dropout(0.5)    \n",
    "\t\tself.fc1 = nn.Sequential(\n",
    "\t\t\tnn.Linear(4096, 4096),\n",
    "\t\t\tnn.ReLU()\n",
    "\t\t)\n",
    "        \n",
    "\t\tself.fc2 = nn.Sequential(\n",
    "\t\t\tnn.Linear(4096, num_classes)\n",
    "\t\t)\n",
    "\n",
    "\n",
    "\tdef forward(self, x):\n",
    "\t\tx = self.l0(x)\n",
    "\t\tx = self.l1(x)\n",
    "\t\tx = self.l2(x)\n",
    "\t\tx = self.l3(x)\n",
    "\t\tx = self.l4(x)\n",
    "\t\tx = self.l5(x)\n",
    "\t\tx = self.l6(x)\n",
    "\t\tx = self.l7(x)\n",
    "\t\tx = self.l8(x)\n",
    "\t\tx = self.l9(x)\n",
    "\t\tx = self.l10(x)\n",
    "\t\tx = self.l11(x)\n",
    "\t\tx = self.flat(x)\n",
    "\t\tx = self.drop_layer0(x)\n",
    "\t\tx = self.fc0(x)\n",
    "\t\tx = self.drop_layer1(x)\n",
    "\t\tx = self.fc1(x)\n",
    "\t\tx = self.fc2(x)\n",
    "\t\treturn x\n",
    "    \n",
    "\tdef __repr__(self):\n",
    "\t\treturn \"VGG15\""
   ]
  },
  {
   "cell_type": "code",
   "execution_count": 50,
   "metadata": {},
   "outputs": [],
   "source": [
    "if not MODEL_DEBUG:\n",
    "\ttrainer = Trainer()\n",
    "\ttrainer.train_model(\n",
    "\t\t'AugMix + VGG15', VGG15, # model\n",
    "\t\toptim.AdamW, {'lr': 1e-3 * (GPU_COUNT) ** 0.5, 'weight_decay': 1e-5}, # optimizer\n",
    "\t\taug_train_data, # data\n",
    "\t\t# scheduler_pass = torch.optim.lr_scheduler.StepLR,\n",
    "\t\t# scheduler_args = {'step_size': int(2.4 * batch_num), 'gamma': 0.97},\n",
    "\t\tearly_stopping = CustomEarlyStopping(patience = 15),\n",
    "\t\tverbose=True\n",
    "\t)\n",
    "\ttrainer.archive('AugMix + VGG15')\n",
    "\tdisplay(trainer.history)"
   ]
  },
  {
   "cell_type": "markdown",
   "metadata": {},
   "source": [
    "![](plots/AugMix%20%2B%20VGG15.png)"
   ]
  },
  {
   "cell_type": "markdown",
   "metadata": {},
   "source": [
    "#### AugMix + ResNet50\n",
    "\n",
    "The next model we try is ResNet50. The issue with VGG is that it suffers from the <strong>vanishing gradient</strong> problem. Although sometimes it may not have an effect on the performance (such as seen with the FashionMNIST dataset), we'll.\n",
    "\n",
    "As ResNet has 'skip' blocks, essentially countering the <strong>vanishing gradient</strong> issue, it means we can have a deeper network that does not suffer from the problem."
   ]
  },
  {
   "cell_type": "code",
   "execution_count": 51,
   "metadata": {},
   "outputs": [],
   "source": [
    "class BasicBlock(nn.Module):\n",
    "    \"\"\"Basic Block for resnet 18 and resnet 34\n",
    "    \"\"\"\n",
    "\n",
    "    #BasicBlock and BottleNeck block\n",
    "    #have different output size\n",
    "    #we use class attribute expansion\n",
    "    #to distinct\n",
    "    expansion = 1\n",
    "\n",
    "    def __init__(self, in_channels, out_channels, stride=1):\n",
    "        super().__init__()\n",
    "\n",
    "        #residual function\n",
    "        self.residual_function = nn.Sequential(\n",
    "            nn.Conv2d(in_channels, out_channels, kernel_size=3, stride=stride, padding=1, bias=False),\n",
    "            nn.BatchNorm2d(out_channels),\n",
    "            nn.LeakyReLU(inplace=True),\n",
    "            nn.Conv2d(out_channels, out_channels * BasicBlock.expansion, kernel_size=3, padding=1, bias=False),\n",
    "            nn.BatchNorm2d(out_channels * BasicBlock.expansion)\n",
    "        )\n",
    "\n",
    "        #shortcut\n",
    "        self.shortcut = nn.Sequential()\n",
    "\n",
    "        #the shortcut output dimension is not the same with residual function\n",
    "        #use 1*1 convolution to match the dimension\n",
    "        if stride != 1 or in_channels != BasicBlock.expansion * out_channels:\n",
    "            self.shortcut = nn.Sequential(\n",
    "                nn.Conv2d(in_channels, out_channels * BasicBlock.expansion, kernel_size=1, stride=stride, bias=False),\n",
    "                nn.BatchNorm2d(out_channels * BasicBlock.expansion)\n",
    "            )\n",
    "\n",
    "    def forward(self, x):\n",
    "        return nn.LeakyReLU(inplace=True)(self.residual_function(x) + self.shortcut(x))\n",
    "\n",
    "class BottleNeck(nn.Module):\n",
    "    \"\"\"Residual block for resnet over 50 layers\n",
    "    \"\"\"\n",
    "    expansion = 2\n",
    "    def __init__(self, in_channels, out_channels, stride=1):\n",
    "        super().__init__()\n",
    "        self.residual_function = nn.Sequential(\n",
    "            nn.Conv2d(in_channels, out_channels, kernel_size=1, bias=False),\n",
    "            nn.BatchNorm2d(out_channels),\n",
    "            nn.LeakyReLU(inplace=True),\n",
    "            nn.Conv2d(out_channels, out_channels, stride=stride, kernel_size=3, padding=1, bias=False),\n",
    "            nn.BatchNorm2d(out_channels),\n",
    "            nn.LeakyReLU(inplace=True),\n",
    "            nn.Conv2d(out_channels, out_channels * BottleNeck.expansion, kernel_size=1, bias=False),\n",
    "            nn.BatchNorm2d(out_channels * BottleNeck.expansion),\n",
    "        )\n",
    "\n",
    "        self.shortcut = nn.Sequential()\n",
    "\n",
    "        if stride != 1 or in_channels != out_channels * BottleNeck.expansion:\n",
    "            self.shortcut = nn.Sequential(\n",
    "                nn.Conv2d(in_channels, out_channels * BottleNeck.expansion, stride=stride, kernel_size=1, bias=False),\n",
    "                nn.BatchNorm2d(out_channels * BottleNeck.expansion)\n",
    "            )\n",
    "\n",
    "    def forward(self, x):\n",
    "        return nn.LeakyReLU(inplace=True)(self.residual_function(x) + self.shortcut(x))\n",
    "\n",
    "class ResNet50(nn.Module):\n",
    "\n",
    "    def __init__(self, block = BottleNeck, num_block = [3, 4, 6, 3], num_classes=100):\n",
    "        super().__init__()\n",
    "        block = BottleNeck\n",
    "        num_block = [3, 4, 6, 3]\n",
    "\n",
    "        self.in_channels = 64\n",
    "\n",
    "        self.conv1 = nn.Sequential(\n",
    "            nn.Conv2d(3, 64, kernel_size=3, padding=1, bias=False),\n",
    "            nn.BatchNorm2d(64),\n",
    "            nn.LeakyReLU(inplace=True))\n",
    "        #we use a different inputsize than the original paper\n",
    "        #so conv2_x's stride is 1\n",
    "        self.conv2_x = self._make_layer(block, 64, num_block[0], 1)\n",
    "        self.conv3_x = self._make_layer(block, 128, num_block[1], 2)\n",
    "        self.conv4_x = self._make_layer(block, 256, num_block[2], 2)\n",
    "        self.conv5_x = self._make_layer(block, 512, num_block[3], 2)\n",
    "        self.avg_pool = nn.AdaptiveAvgPool2d((1, 1))\n",
    "        self.dropout = nn.Dropout(0.5)\n",
    "        self.fc = nn.Linear(512 * block.expansion, num_classes)\n",
    "\n",
    "    def _make_layer(self, block, out_channels, num_blocks, stride):\n",
    "        \"\"\"make resnet layers(by layer i didnt mean this 'layer' was the\n",
    "        same as a neuron netowork layer, ex. conv layer), one layer may\n",
    "        contain more than one residual block\n",
    "        Args:\n",
    "            block: block type, basic block or bottle neck block\n",
    "            out_channels: output depth channel number of this layer\n",
    "            num_blocks: how many blocks per layer\n",
    "            stride: the stride of the first block of this layer\n",
    "        Return:\n",
    "            return a resnet layer\n",
    "        \"\"\"\n",
    "\n",
    "        # we have num_block blocks per layer, the first block\n",
    "        # could be 1 or 2, other blocks would always be 1\n",
    "        strides = [stride] + [1] * (num_blocks - 1)\n",
    "        layers = []\n",
    "        for stride in strides:\n",
    "            layers.append(block(self.in_channels, out_channels, stride))\n",
    "            self.in_channels = out_channels * block.expansion\n",
    "\n",
    "        return nn.Sequential(*layers)\n",
    "\n",
    "    def forward(self, x):\n",
    "        output = self.conv1(x)\n",
    "        output = self.conv2_x(output)\n",
    "        output = self.conv3_x(output)\n",
    "        output = self.conv4_x(output)\n",
    "        output = self.conv5_x(output)\n",
    "        output = self.avg_pool(output)\n",
    "        output = self.dropout(output)\n",
    "        output = output.view(output.size(0), -1)\n",
    "        output = self.fc(output)\n",
    "\n",
    "        return output\n"
   ]
  },
  {
   "cell_type": "code",
   "execution_count": 52,
   "metadata": {},
   "outputs": [],
   "source": [
    "if not MODEL_DEBUG:\n",
    "\ttrainer.train_model(\n",
    "\t\t'AugMix + ResNet50', ResNet50, # model\n",
    "\t\toptim.AdamW, {'lr': 1e-3 * (GPU_COUNT ** 0.5), 'weight_decay': 1e-5}, # optimizer\n",
    "\t\taug_train_data, # data\n",
    "\t\tscheduler_pass = torch.optim.lr_scheduler.StepLR,\n",
    "\t\tscheduler_args = {'step_size': int(2.4 * batch_num), 'gamma': 0.97},\n",
    "\t\tearly_stopping = CustomEarlyStopping(patience = 10),\n",
    "\t\tverbose=True\n",
    "\t)\n",
    "\ttrainer.archive('AugMix + ResNet50')\n",
    "\tdisplay(trainer.history)"
   ]
  },
  {
   "cell_type": "markdown",
   "metadata": {},
   "source": [
    "![](plots/AugMix%20%2B%20ResNet50.png)"
   ]
  },
  {
   "cell_type": "markdown",
   "metadata": {},
   "source": [
    "#### EfficientNet B0\n",
    "EfficientNet uses an MBConv block, inspired by the residual block. This architecture is not only efficient but performs better than traditional previously novel convolutional neural networks.\n",
    "The traditional EfficientNet B0 like all other models, simply down samples too fast, as the architecture is intended for <code>224 x 244</code> and so the idea is that <strong>downsampling fast</strong>, will immediately move past the incredibly fine details. \n",
    "\n",
    "However, this is not useful in our case, as CIFAR100 consists of <code>32 x 32</code> images. As such, we consider the pixels themselves to provide a good amount of information and thus performing <strong>fast and aggresive downsampling</strong> will actually lead to abysmal performance."
   ]
  },
  {
   "cell_type": "code",
   "execution_count": 53,
   "metadata": {},
   "outputs": [],
   "source": [
    "from torch.nn.parameter import Parameter\n",
    "import torch.nn.functional as F\n",
    "\n",
    "class Swish(nn.Module):\n",
    "    def __init__(self, train_beta=False):\n",
    "        super(Swish, self).__init__()\n",
    "        if train_beta:\n",
    "            self.weight = Parameter(torch.Tensor([1.]))\n",
    "        else:\n",
    "            self.weight = 1.0\n",
    "\n",
    "    def forward(self, x):\n",
    "        return x * torch.sigmoid(self.weight * x)\n",
    "\n",
    "class SqueezeExcitation(nn.Module):\n",
    "    def __init__(self, inplanes, se_ratio):\n",
    "        super(SqueezeExcitation, self).__init__()\n",
    "        hidden_dim = int(inplanes*se_ratio)\n",
    "        self.avg_pool = nn.AdaptiveAvgPool2d(1)\n",
    "        self.fc1 = nn.Linear(inplanes, hidden_dim, bias=False)\n",
    "        self.fc2 = nn.Linear(hidden_dim, inplanes, bias=False)\n",
    "        self.swish = Swish()\n",
    "        self.sigmoid = nn.Sigmoid()\n",
    "    def forward(self, x):\n",
    "        out = self.avg_pool(x).view(x.size(0), -1)\n",
    "        out = self.fc1(out)\n",
    "        out = self.swish(out)\n",
    "        out = self.fc2(out)\n",
    "        out = self.sigmoid(out)\n",
    "        out = out.unsqueeze(2).unsqueeze(3)\n",
    "        out = x * out.expand_as(x)\n",
    "        return out\n",
    "\n",
    "\n",
    "class Bottleneck(nn.Module):\n",
    "    def __init__(self,inplanes, planes, kernel_size, stride, expand, se_ratio, prob=1.0):\n",
    "        super(Bottleneck, self).__init__()\n",
    "        if expand == 1:\n",
    "            self.conv2 = nn.Conv2d(inplanes*expand, inplanes*expand, kernel_size=kernel_size, stride=stride,\n",
    "                                   padding=kernel_size//2, groups=inplanes*expand, bias=False)\n",
    "            self.bn2 = nn.BatchNorm2d(inplanes*expand, momentum=0.99, eps=1e-3)\n",
    "            self.se = SqueezeExcitation(inplanes*expand, se_ratio)\n",
    "            self.conv3 = nn.Conv2d(inplanes*expand, planes, kernel_size=1, bias=False)\n",
    "            self.bn3 = nn.BatchNorm2d(planes, momentum=0.99, eps=1e-3)\n",
    "        else:\n",
    "            self.conv1 = nn.Conv2d(inplanes, inplanes*expand, kernel_size=1, bias=False)\n",
    "            self.bn1 = nn.BatchNorm2d(inplanes*expand, momentum=0.99, eps=1e-3)\n",
    "            self.conv2 = nn.Conv2d(inplanes*expand, inplanes*expand, kernel_size=kernel_size, stride=stride,\n",
    "                                   padding=kernel_size//2, groups=inplanes*expand, bias=False)\n",
    "            self.bn2 = nn.BatchNorm2d(inplanes*expand, momentum=0.99, eps=1e-3)\n",
    "            self.se = SqueezeExcitation(inplanes*expand, se_ratio)\n",
    "            self.conv3 = nn.Conv2d(inplanes*expand, planes, kernel_size=1, bias=False)\n",
    "            self.bn3 = nn.BatchNorm2d(planes, momentum=0.99, eps=1e-3)\n",
    "\n",
    "        self.swish = Swish()\n",
    "        self.correct_dim = (stride == 1) and (inplanes == planes)\n",
    "        self.prob = torch.Tensor([prob])\n",
    "\n",
    "    def forward(self, x):\n",
    "        if self.training:\n",
    "            if not torch.bernoulli(self.prob):\n",
    "                # drop\n",
    "                return x\n",
    "\n",
    "        if hasattr(self, 'conv1'):\n",
    "            out = self.conv1(x)\n",
    "            out = self.bn1(out)\n",
    "            out = self.swish(out)\n",
    "        else:\n",
    "            out = x\n",
    "\n",
    "        out = self.conv2(out) # depth wise conv\n",
    "        out = self.bn2(out)\n",
    "        out = self.swish(out)\n",
    "\n",
    "        out = self.se(out)\n",
    "\n",
    "\n",
    "        out = self.conv3(out)\n",
    "        out = self.bn3(out)\n",
    "\n",
    "        if self.correct_dim:\n",
    "            out += x\n",
    "\n",
    "        return out\n",
    "\n",
    "\n",
    "class MBConv(nn.Module):\n",
    "    def __init__(self, inplanes, planes, repeat, kernel_size, stride, expand, se_ratio, sum_layer, count_layer=None, pl=0.5):\n",
    "        super(MBConv, self).__init__()\n",
    "        layer = []\n",
    "\n",
    "        # not drop(stchastic depth)\n",
    "        layer.append(Bottleneck(inplanes, planes, kernel_size, stride, expand, se_ratio))\n",
    "\n",
    "        for l in range(1, repeat):\n",
    "            if count_layer is None:\n",
    "                layer.append(Bottleneck(planes, planes, kernel_size, 1, expand, se_ratio))\n",
    "            else:\n",
    "                # stochastic depth\n",
    "                prob = 1.0 - (count_layer + l) / sum_layer * (1 - pl)\n",
    "                layer.append(Bottleneck(planes, planes, kernel_size, 1, expand, se_ratio, prob=prob))\n",
    "\n",
    "        self.layer = nn.Sequential(*layer)\n",
    "\n",
    "    def forward(self, x):\n",
    "        out = self.layer(x)\n",
    "        return out\n",
    "\n",
    "class Flatten(nn.Module):\n",
    "    def __init(self):\n",
    "        super(Flatten, self).__init__()\n",
    "    def forward(self, x):\n",
    "        return x.view(x.size(0), -1)\n",
    "\n",
    "\n",
    "class EfficientNet(nn.Module):\n",
    "    def __init__(self, num_classes=1000, width_coef=1., depth_coef=1., scale=1.,\n",
    "                 dropout_ratio=0.2, se_ratio=0.25, stochastic_depth=False, pl=0.5):\n",
    "\n",
    "        super(EfficientNet, self).__init__()\n",
    "        channels = [32, 16, 24, 40, 80, 112, 192, 320, 1280]\n",
    "        expands = [1, 6, 6, 6, 6, 6, 6]\n",
    "        repeats = [1, 2, 2, 3, 3, 4, 1]\n",
    "        strides = [1, 1, 2, 1, 1, 2, 1]\n",
    "        kernel_sizes = [3, 3, 5, 3, 5, 5, 3]\n",
    "        depth = depth_coef\n",
    "        width = width_coef\n",
    "\n",
    "\n",
    "        channels = [round(x*width) for x in channels] # [int(x*width) for x in channels]\n",
    "        repeats = [round(x*depth) for x in repeats] # [int(x*width) for x in repeats]\n",
    "\n",
    "        sum_layer = sum(repeats)\n",
    "\n",
    "        self.swish = Swish()\n",
    "\n",
    "        self.stage1 = nn.Sequential(\n",
    "            nn.Conv2d(3, channels[0], kernel_size=3, stride=2, padding=1, bias=False),\n",
    "            nn.BatchNorm2d(channels[0], momentum=0.99, eps=1e-3))\n",
    "\n",
    "        if stochastic_depth:\n",
    "            # stochastic depth\n",
    "            self.stage2 = MBConv(channels[0], channels[1], repeats[0], kernel_size=kernel_sizes[0],\n",
    "                                 stride=strides[0], expand=expands[0], se_ratio=se_ratio, sum_layer=sum_layer,\n",
    "                                 count_layer=sum(repeats[:0]), pl=pl)\n",
    "            self.stage3 = MBConv(channels[1], channels[2], repeats[1], kernel_size=kernel_sizes[1],\n",
    "                                 stride=strides[1], expand=expands[1], se_ratio=se_ratio, sum_layer=sum_layer,\n",
    "                                 count_layer=sum(repeats[:1]), pl=pl)\n",
    "            self.stage4 = MBConv(channels[2], channels[3], repeats[2], kernel_size=kernel_sizes[2],\n",
    "                                 stride=strides[2], expand=expands[2], se_ratio=se_ratio, sum_layer=sum_layer,\n",
    "                                 count_layer=sum(repeats[:2]), pl=pl)\n",
    "            self.stage5 = MBConv(channels[3], channels[4], repeats[3], kernel_size=kernel_sizes[3],\n",
    "                                 stride=strides[3], expand=expands[3], se_ratio=se_ratio, sum_layer=sum_layer,\n",
    "                                 count_layer=sum(repeats[:3]), pl=pl)\n",
    "            self.stage6 = MBConv(channels[4], channels[5], repeats[4], kernel_size=kernel_sizes[4],\n",
    "                                 stride=strides[4], expand=expands[4], se_ratio=se_ratio, sum_layer=sum_layer,\n",
    "                                 count_layer=sum(repeats[:4]), pl=pl)\n",
    "            self.stage7 = MBConv(channels[5], channels[6], repeats[5], kernel_size=kernel_sizes[5],\n",
    "                                 stride=strides[5], expand=expands[5], se_ratio=se_ratio, sum_layer=sum_layer,\n",
    "                                 count_layer=sum(repeats[:5]), pl=pl)\n",
    "            self.stage8 = MBConv(channels[6], channels[7], repeats[6], kernel_size=kernel_sizes[6],\n",
    "                                 stride=strides[6], expand=expands[6], se_ratio=se_ratio, sum_layer=sum_layer,\n",
    "                                 count_layer=sum(repeats[:6]), pl=pl)\n",
    "        else:\n",
    "            self.stage2 = MBConv(channels[0], channels[1], repeats[0], kernel_size=kernel_sizes[0],\n",
    "                                 stride=strides[0], expand=expands[0], se_ratio=se_ratio, sum_layer=sum_layer)\n",
    "            self.stage3 = MBConv(channels[1], channels[2], repeats[1], kernel_size=kernel_sizes[1],\n",
    "                                 stride=strides[1], expand=expands[1], se_ratio=se_ratio, sum_layer=sum_layer)\n",
    "            self.stage4 = MBConv(channels[2], channels[3], repeats[2], kernel_size=kernel_sizes[2],\n",
    "                                 stride=strides[2], expand=expands[2], se_ratio=se_ratio, sum_layer=sum_layer)\n",
    "            self.stage5 = MBConv(channels[3], channels[4], repeats[3], kernel_size=kernel_sizes[3],\n",
    "                                 stride=strides[3], expand=expands[3], se_ratio=se_ratio, sum_layer=sum_layer)\n",
    "            self.stage6 = MBConv(channels[4], channels[5], repeats[4], kernel_size=kernel_sizes[4],\n",
    "                                 stride=strides[4], expand=expands[4], se_ratio=se_ratio, sum_layer=sum_layer)\n",
    "            self.stage7 = MBConv(channels[5], channels[6], repeats[5], kernel_size=kernel_sizes[5],\n",
    "                                 stride=strides[5], expand=expands[5], se_ratio=se_ratio, sum_layer=sum_layer)\n",
    "            self.stage8 = MBConv(channels[6], channels[7], repeats[6], kernel_size=kernel_sizes[6],\n",
    "                                 stride=strides[6], expand=expands[6], se_ratio=se_ratio, sum_layer=sum_layer)\n",
    "\n",
    "        self.stage9 = nn.Sequential(\n",
    "                            nn.Conv2d(channels[7], channels[8], kernel_size=1, bias=False),\n",
    "                            nn.BatchNorm2d(channels[8], momentum=0.99, eps=1e-3),\n",
    "                            Swish(),\n",
    "                            nn.AdaptiveAvgPool2d((1, 1)),\n",
    "                            Flatten(),\n",
    "                            nn.Dropout(p=dropout_ratio),\n",
    "                            nn.Linear(channels[8], num_classes))\n",
    "\n",
    "        for m in self.modules():\n",
    "            if isinstance(m, nn.Conv2d):\n",
    "                nn.init.kaiming_normal_(m.weight, mode='fan_out', nonlinearity='relu')\n",
    "                # nn.init.kaiming_normal_(m.weight, mode='fan_out', nonlinearity='sigmoid')\n",
    "            elif isinstance(m, (nn.BatchNorm2d, nn.GroupNorm)):\n",
    "                nn.init.constant_(m.weight, 1)\n",
    "                nn.init.constant_(m.bias, 0)\n",
    "\n",
    "\n",
    "    def forward(self, x):\n",
    "        x = self.swish(self.stage1(x))\n",
    "        x = self.swish(self.stage2(x))\n",
    "        x = self.swish(self.stage3(x))\n",
    "        x = self.swish(self.stage4(x))\n",
    "        x = self.swish(self.stage5(x))\n",
    "        x = self.swish(self.stage6(x))\n",
    "        x = self.swish(self.stage7(x))\n",
    "        x = self.swish(self.stage8(x))\n",
    "        logit = self.stage9(x)\n",
    "\n",
    "        return logit"
   ]
  },
  {
   "cell_type": "code",
   "execution_count": 54,
   "metadata": {},
   "outputs": [],
   "source": [
    "if not MODEL_DEBUG:\n",
    "\ttrainer.train_model(\n",
    "\t\t'AugMix + EfficientNet B0', EfficientNet, # model\n",
    "\t\toptim.AdamW, {'lr': 1e-3 * (GPU_COUNT ** 0.5), 'weight_decay': 1e-5}, # optimizer\n",
    "\t\taug_train_data, # data\n",
    "\t\tmodel_args = {'num_classes': 100, 'width_coef': 1.0, 'depth_coef': 1.0, 'scale': 1.0,'dropout_ratio': 0.2, 'se_ratio': 0.25}, \n",
    "\t\tscheduler_pass = torch.optim.lr_scheduler.StepLR,\n",
    "\t\tscheduler_args = {'step_size': int(2.4 * batch_num), 'gamma': 0.97},\n",
    "\t\tearly_stopping = CustomEarlyStopping(patience = 15),\n",
    "\t\tverbose=True\n",
    "\t)\n",
    "\ttrainer.archive('AugMix + EfficientNet B0')\n",
    "\tdisplay(trainer.history)\n"
   ]
  },
  {
   "cell_type": "markdown",
   "metadata": {},
   "source": [
    "![](plots/AugMix%20%2B%20EfficientNetB0.png)"
   ]
  },
  {
   "cell_type": "markdown",
   "metadata": {},
   "source": [
    "#### AugMix + Convolutional Vision Transformers\n",
    "Vision Transformers have taken over SOTA results, beating previous benchmarks. However, there is a key problem with traditional ViT, in that <strong>the token embedding layer from the image to embedding vectors is linear.</strong> To account for positional information, ViT <strong>adds on positional encodings</strong> to the linear embeddings, before passing it on to projection and then to the Multi-Head Self Attention (MHSA) mechanism. (Dosovitskiy et al., 2020)\n",
    "\n",
    "Convolutional Vision Transformers (CvT) proposes to <strong>use a convolutional layer for this embedding area, and uses depthwise separable convolutions for the projection layer.</strong> We note that the convolutional layer for embedding layer and projection layers <strong>are different</strong>. (Wu et al., 2021)\n",
    "\n",
    "The addition of convolution into the Transformer architecture allows for the benefits of convolution (shift, scale and distortion invariance) to be incorporated into every feature map (output from Convolution Transformer Blocks), and also controls for the sizes of feature maps after each blocks output. (Wu et al., 2021)\n",
    "\n",
    "<strong>Modifications made</strong>\n",
    "The kernel sizes are reduced from <strong>[7, 3, 3]</strong> to <strong>[5, 3, 3]</strong>.\n",
    "\n",
    "Additionally, downsampling changed from <code>[4, 2, 2]</code> to <code>[2, 2, 2]</code>. Once again, we focus on decreasing the number of downsampling layers to reduce the fast loss of potentially quality information."
   ]
  },
  {
   "cell_type": "code",
   "execution_count": 55,
   "metadata": {},
   "outputs": [],
   "source": [
    "class SepConv2d(torch.nn.Module):\n",
    "\tdef __init__(self,\n",
    "\t\t\t\t in_channels,\n",
    "\t\t\t\t out_channels,\n",
    "\t\t\t\t kernel_size,\n",
    "\t\t\t\t stride=1,\n",
    "\t\t\t\t padding=0,\n",
    "\t\t\t\t dilation=1,):\n",
    "\t\tsuper(SepConv2d, self).__init__()\n",
    "\t\tself.depthwise = torch.nn.Conv2d(in_channels,\n",
    "\t\t\t\t\t\t\t\t\t\t in_channels,\n",
    "\t\t\t\t\t\t\t\t\t\t kernel_size=kernel_size,\n",
    "\t\t\t\t\t\t\t\t\t\t stride=stride,\n",
    "\t\t\t\t\t\t\t\t\t\t padding=padding,\n",
    "\t\t\t\t\t\t\t\t\t\t dilation=dilation,\n",
    "\t\t\t\t\t\t\t\t\t\t groups=in_channels)\n",
    "\t\tself.bn = torch.nn.BatchNorm2d(in_channels)\n",
    "\t\tself.pointwise = torch.nn.Conv2d(in_channels, out_channels, kernel_size=1)\n",
    "\n",
    "\tdef forward(self, x):\n",
    "\t\tx = self.depthwise(x)\n",
    "\t\tx = self.bn(x)\n",
    "\t\tx = self.pointwise(x)\n",
    "\t\treturn x\n",
    "\n",
    "class Residual(nn.Module):\n",
    "\tdef __init__(self, fn):\n",
    "\t\tsuper().__init__()\n",
    "\t\tself.fn = fn\n",
    "\tdef forward(self, x, **kwargs):\n",
    "\t\treturn self.fn(x, **kwargs) + x\n",
    "\n",
    "class PreNorm(nn.Module):\n",
    "\tdef __init__(self, dim, fn):\n",
    "\t\tsuper().__init__()\n",
    "\t\tself.norm = nn.LayerNorm(dim)\n",
    "\t\tself.fn = fn\n",
    "\tdef forward(self, x, **kwargs):\n",
    "\t\treturn self.fn(self.norm(x), **kwargs)\n",
    "\n",
    "class FeedForward(nn.Module):\n",
    "\tdef __init__(self, dim, hidden_dim, dropout = 0.):\n",
    "\t\tsuper().__init__()\n",
    "\t\tself.net = nn.Sequential(\n",
    "\t\t\tnn.Linear(dim, hidden_dim),\n",
    "\t\t\tnn.GELU(),\n",
    "\t\t\tnn.Dropout(dropout),\n",
    "\t\t\tnn.Linear(hidden_dim, dim),\n",
    "\t\t\tnn.Dropout(dropout)\n",
    "\t\t)\n",
    "\tdef forward(self, x):\n",
    "\t\treturn self.net(x)\n",
    "\n",
    "class ConvAttention(nn.Module):\n",
    "\tdef __init__(self, dim, img_size, heads = 8, dim_head = 64, kernel_size=3, q_stride=1, k_stride=1, v_stride=1, dropout = 0.,\n",
    "\t\t\t\t last_stage=False):\n",
    "\n",
    "\t\tsuper().__init__()\n",
    "\t\tself.last_stage = last_stage\n",
    "\t\tself.img_size = img_size\n",
    "\t\tinner_dim = dim_head *  heads\n",
    "\t\tproject_out = not (heads == 1 and dim_head == dim)\n",
    "\n",
    "\t\tself.heads = heads\n",
    "\t\tself.scale = dim_head ** -0.5\n",
    "\t\tpad = (kernel_size - q_stride)//2\n",
    "\t\tself.to_q = SepConv2d(dim, inner_dim, kernel_size, q_stride, pad)\n",
    "\t\tself.to_k = SepConv2d(dim, inner_dim, kernel_size, k_stride, pad)\n",
    "\t\tself.to_v = SepConv2d(dim, inner_dim, kernel_size, v_stride, pad)\n",
    "\n",
    "\t\tself.to_out = nn.Sequential(\n",
    "\t\t\tnn.Linear(inner_dim, dim),\n",
    "\t\t\tnn.Dropout(dropout)\n",
    "\t\t) if project_out else nn.Identity()\n",
    "\n",
    "\tdef forward(self, x):\n",
    "\t\tb, n, _, h = *x.shape, self.heads\n",
    "\t\tif self.last_stage:\n",
    "\t\t\tcls_token = x[:, 0]\n",
    "\t\t\tx = x[:, 1:]\n",
    "\t\t\tcls_token = rearrange(cls_token.unsqueeze(1), 'b n (h d) -> b h n d', h = h)\n",
    "\t\tx = rearrange(x, 'b (l w) n -> b n l w', l=self.img_size, w=self.img_size)\n",
    "\t\tq = self.to_q(x)\n",
    "\t\tq = rearrange(q, 'b (h d) l w -> b h (l w) d', h=h)\n",
    "\n",
    "\t\tv = self.to_v(x)\n",
    "\t\tv = rearrange(v, 'b (h d) l w -> b h (l w) d', h=h)\n",
    "\n",
    "\t\tk = self.to_k(x)\n",
    "\t\tk = rearrange(k, 'b (h d) l w -> b h (l w) d', h=h)\n",
    "\n",
    "\t\tif self.last_stage:\n",
    "\t\t\tq = torch.cat((cls_token, q), dim=2)\n",
    "\t\t\tv = torch.cat((cls_token, v), dim=2)\n",
    "\t\t\tk = torch.cat((cls_token, k), dim=2)\n",
    "\n",
    "\n",
    "\t\tdots = einsum('b h i d, b h j d -> b h i j', q, k) * self.scale\n",
    "\n",
    "\t\tattn = dots.softmax(dim=-1)\n",
    "\n",
    "\t\tout = einsum('b h i j, b h j d -> b h i d', attn, v)\n",
    "\t\tout = rearrange(out, 'b h n d -> b n (h d)')\n",
    "\t\tout =  self.to_out(out)\n",
    "\t\treturn out\n",
    "\n",
    "class Transformer(nn.Module):\n",
    "\tdef __init__(self, dim, img_size, depth, heads, dim_head, mlp_dim, dropout=0., last_stage=False):\n",
    "\t\tsuper().__init__()\n",
    "\t\tself.layers = nn.ModuleList([])\n",
    "\t\tfor _ in range(depth):\n",
    "\t\t\tself.layers.append(nn.ModuleList([\n",
    "\t\t\t\tPreNorm(dim, ConvAttention(dim, img_size, heads=heads, dim_head=dim_head, dropout=dropout, last_stage=last_stage)),\n",
    "\t\t\t\tPreNorm(dim, FeedForward(dim, mlp_dim, dropout=dropout))\n",
    "\t\t\t]))\n",
    "\n",
    "\tdef forward(self, x):\n",
    "\t\tfor attn, ff in self.layers:\n",
    "\t\t\tx = attn(x) + x\n",
    "\t\t\tx = ff(x) + x\n",
    "\t\treturn x\n",
    "\n",
    "\n",
    "class CvT(nn.Module):\n",
    "\tdef __init__(self, image_size = 32, in_channels = 3, num_classes = 100, dim=64, kernels=[5, 3, 3], strides=[2, 2, 2],\n",
    "\t\t\t\t heads=[1, 3, 6] , depth = [1, 2, 10], pool='cls', dropout=0.3, emb_dropout=0.3, scale_dim=4):\n",
    "\t\tsuper().__init__()\n",
    "\n",
    "\t\tassert pool in {'cls', 'mean'}, 'pool type must be either cls (cls token) or mean (mean pooling)'\n",
    "\t\tself.pool = pool\n",
    "\t\tself.dim = dim\n",
    "\n",
    "\t\t##### Stage 1 #######\n",
    "\t\tself.stage1_conv_embed = nn.Sequential(\n",
    "\t\t\tnn.Conv2d(in_channels, dim, kernels[0], strides[0], 2),\n",
    "\t\t\tRearrange('b c h w -> b (h w) c', h = image_size//2, w = image_size//2),\n",
    "\t\t\tnn.LayerNorm(dim)\n",
    "\t\t)\n",
    "\t\tself.stage1_transformer = nn.Sequential(\n",
    "\t\t\tTransformer(dim=dim, img_size=image_size//2,depth=depth[0], heads=heads[0], dim_head=self.dim,\n",
    "\t\t\t\t\t\t\t\t\t\t\t  mlp_dim=dim * scale_dim, dropout=dropout),\n",
    "\t\t\tRearrange('b (h w) c -> b c h w', h = image_size//2, w = image_size//2)\n",
    "\t\t)\n",
    "\n",
    "\t\t##### Stage 2 #######\n",
    "\t\tin_channels = dim\n",
    "\t\tscale = heads[1]//heads[0]\n",
    "\t\tdim = scale*dim\n",
    "\t\tself.stage2_conv_embed = nn.Sequential(\n",
    "\t\t\tnn.Conv2d(in_channels, dim, kernels[1], strides[1], 1),\n",
    "\t\t\tRearrange('b c h w -> b (h w) c', h = image_size//4, w = image_size//4),\n",
    "\t\t\tnn.LayerNorm(dim)\n",
    "\t\t)\n",
    "\t\tself.stage2_transformer = nn.Sequential(\n",
    "\t\t\tTransformer(dim=dim, img_size=image_size//4, depth=depth[1], heads=heads[1], dim_head=self.dim,\n",
    "\t\t\t\t\t\t\t\t\t\t\t  mlp_dim=dim * scale_dim, dropout=dropout),\n",
    "\t\t\tRearrange('b (h w) c -> b c h w', h = image_size//4, w = image_size//4)\n",
    "\t\t)\n",
    "\n",
    "\t\t##### Stage 3 #######\n",
    "\t\tin_channels = dim\n",
    "\t\tscale = heads[2] // heads[1]\n",
    "\t\tdim = scale * dim\n",
    "\t\tself.stage3_conv_embed = nn.Sequential(\n",
    "\t\t\tnn.Conv2d(in_channels, dim, kernels[2], strides[2], 1),\n",
    "\t\t\tRearrange('b c h w -> b (h w) c', h = image_size//8, w = image_size//8),\n",
    "\t\t\tnn.LayerNorm(dim)\n",
    "\t\t)\n",
    "\t\tself.stage3_transformer = nn.Sequential(\n",
    "\t\t\tTransformer(dim=dim, img_size=image_size//8, depth=depth[2], heads=heads[2], dim_head=self.dim,\n",
    "\t\t\t\t\t\t\t\t\t\t\t  mlp_dim=dim * scale_dim, dropout=dropout, last_stage=True),\n",
    "\t\t)\n",
    "\n",
    "\n",
    "\t\tself.cls_token = nn.Parameter(torch.randn(1, 1, dim))\n",
    "\t\tself.dropout_large = nn.Dropout(emb_dropout)\n",
    "\n",
    "\n",
    "\t\tself.mlp_head = nn.Sequential(\n",
    "\t\t\tnn.LayerNorm(dim),\n",
    "\t\t\tnn.Linear(dim, num_classes)\n",
    "\t\t)\n",
    "\n",
    "\tdef forward(self, img):\n",
    "\n",
    "\t\txs = self.stage1_conv_embed(img)\n",
    "\t\txs = self.stage1_transformer(xs)\n",
    "\n",
    "\t\txs = self.stage2_conv_embed(xs)\n",
    "\t\txs = self.stage2_transformer(xs)\n",
    "\n",
    "\t\txs = self.stage3_conv_embed(xs)\n",
    "\t\tb, n, _ = xs.shape\n",
    "\t\tcls_tokens = repeat(self.cls_token, '() n d -> b n d', b=b)\n",
    "\t\txs = torch.cat((cls_tokens, xs), dim=1)\n",
    "\t\txs = self.stage3_transformer(xs)\n",
    "\t\txs = xs.mean(dim=1) if self.pool == 'mean' else xs[:, 0]\n",
    "\n",
    "\t\txs = self.mlp_head(xs)\n",
    "\t\tprint('xs:', xs.shape)\n",
    "\t\treturn xs"
   ]
  },
  {
   "cell_type": "code",
   "execution_count": 56,
   "metadata": {},
   "outputs": [],
   "source": [
    "if not MODEL_DEBUG:\n",
    "\ttrainer = Trainer()\n",
    "\ttrainer.train_model(\n",
    "\t\t'AugMix + CvT', CvT, # model\n",
    "\t\toptim.AdamW, {'lr': 1e-5 * (GPU_COUNT) ** 0.5, 'weight_decay': 1e-5}, # optimizer\n",
    "\t\taug_train_data, # data\n",
    "\t\tearly_stopping = CustomEarlyStopping(patience = 15),\n",
    "\t\tscheduler_pass = torch.optim.lr_scheduler.StepLR,\n",
    "\t\tscheduler_args = {'step_size': int(2.4 * batch_num), 'gamma': 0.97},\n",
    "\t\tepochs = 300,\n",
    "\t\tverbose=True\n",
    "\t)\n",
    "\ttrainer.archive('AugMix + CvT')\n",
    "\tdisplay(trainer.history)"
   ]
  },
  {
   "cell_type": "markdown",
   "metadata": {},
   "source": [
    "![](plots/AugMix%20%2B%20CvT.png)"
   ]
  },
  {
   "cell_type": "markdown",
   "metadata": {},
   "source": [
    "#### ResNeXt\n",
    "We see that our best performance comes from\n",
    "Changes: Removed initial max pooling"
   ]
  },
  {
   "cell_type": "code",
   "execution_count": 57,
   "metadata": {},
   "outputs": [],
   "source": [
    "class ResNeXtBottleneck(nn.Module):\n",
    "\t\"\"\"\n",
    "\tRexNeXt bottleneck type C (https://github.com/facebookresearch/ResNeXt/blob/master/models/resnext.lua)\n",
    "\t\"\"\"\n",
    "\tdef __init__(self, in_channels, out_channels, stride, cardinality, widen_factor, activation = F.relu):\n",
    "\t\t\"\"\" Constructor\n",
    "\t\tArgs:\n",
    "\t\t\tin_channels: input channel dimensionality\n",
    "\t\t\tout_channels: output channel dimensionality\n",
    "\t\t\tstride: conv stride. Replaces pooling layer.\n",
    "\t\t\tcardinality: num of convolution groups.\n",
    "\t\t\twiden_factor: factor to reduce the input dimensionality before convolution.\n",
    "\t\t\"\"\"\n",
    "\t\tsuper(ResNeXtBottleneck, self).__init__()\n",
    "\t\tD = cardinality * out_channels // widen_factor\n",
    "\t\tself.activation = activation\n",
    "\t\tself.conv_reduce = nn.Conv2d(in_channels, D, kernel_size=1, stride=1, padding=0, bias=False)\n",
    "\t\tself.bn_reduce = nn.BatchNorm2d(D)\n",
    "\t\tself.conv_conv = nn.Conv2d(D, D, kernel_size=3, stride=stride, padding=1, groups=cardinality, bias=False)\n",
    "\t\tself.bn = nn.BatchNorm2d(D)\n",
    "\t\tself.conv_expand = nn.Conv2d(D, out_channels, kernel_size=1, stride=1, padding=0, bias=False)\n",
    "\t\tself.bn_expand = nn.BatchNorm2d(out_channels)\n",
    "\n",
    "\t\tself.shortcut = nn.Sequential()\n",
    "\t\tif in_channels != out_channels:\n",
    "\t\t\tself.shortcut.add_module('shortcut_conv', nn.Conv2d(in_channels, out_channels, kernel_size=1, stride=stride, padding=0, bias=False))\n",
    "\t\t\tself.shortcut.add_module('shortcut_bn', nn.BatchNorm2d(out_channels))\n",
    "\n",
    "\tdef forward(self, x):\n",
    "\t\tbottleneck = self.conv_reduce.forward(x)\n",
    "\t\tbottleneck = self.activation(self.bn_reduce.forward(bottleneck), inplace=True)\n",
    "\t\tbottleneck = self.conv_conv.forward(bottleneck)\n",
    "\t\tbottleneck = self.activation(self.bn.forward(bottleneck), inplace=True)\n",
    "\t\tbottleneck = self.conv_expand.forward(bottleneck)\n",
    "\t\tbottleneck = self.bn_expand.forward(bottleneck)\n",
    "\t\tresidual = self.shortcut.forward(x)\n",
    "\t\treturn self.activation(residual + bottleneck, inplace=True)\n",
    "\n",
    "class ResNeXt(nn.Module):\n",
    "    \"\"\"\n",
    "    ResNext optimized for the dataset, as specified in\n",
    "    https://arxiv.org/pdf/1611.05431.pdf\n",
    "    \"\"\"\n",
    "    def __init__(self, cardinality = 9, depth = 29, num_classes = 100, widen_factor=4, dropRate=0):\n",
    "        \"\"\" Constructor\n",
    "        Args:\n",
    "            cardinality: number of convolution groups.\n",
    "            depth: number of layers.\n",
    "            num_classes: number of classes\n",
    "            widen_factor: factor to adjust the channel dimensionality\n",
    "        \"\"\"\n",
    "        super(ResNeXt, self).__init__()\n",
    "        self.cardinality = cardinality\n",
    "        self.depth = depth\n",
    "        self.block_depth = (self.depth - 2) // 9\n",
    "        self.widen_factor = widen_factor\n",
    "        self.num_classes = num_classes\n",
    "        self.output_size = 64\n",
    "        self.stages = [64, 64 * self.widen_factor, 128 * self.widen_factor, 256 * self.widen_factor]\n",
    "\n",
    "        self.conv_1_3x3 = nn.Conv2d(3, 64, 3, 1, 1, bias=False)\n",
    "        self.bn_1 = nn.BatchNorm2d(64)\n",
    "        self.stage_1 = self.block('stage_1', self.stages[0], self.stages[1], 1)\n",
    "        self.stage_2 = self.block('stage_2', self.stages[1], self.stages[2], 2)\n",
    "        self.stage_3 = self.block('stage_3', self.stages[2], self.stages[3], 2)\n",
    "        self.classifier = nn.Linear(1024, num_classes)\n",
    "        nn.init.kaiming_normal(self.classifier.weight)\n",
    "\n",
    "        for key in self.state_dict():\n",
    "            if key.split('.')[-1] == 'weight':\n",
    "                if 'conv' in key:\n",
    "                    nn.init.kaiming_normal(self.state_dict()[key], mode='fan_out')\n",
    "                if 'bn' in key:\n",
    "                    self.state_dict()[key][...] = 1\n",
    "            elif key.split('.')[-1] == 'bias':\n",
    "                self.state_dict()[key][...] = 0\n",
    "\n",
    "    def block(self, name, in_channels, out_channels, pool_stride=2):\n",
    "        \"\"\" Stack n bottleneck modules where n is inferred from the depth of the network.\n",
    "        Args:\n",
    "            name: string name of the current block.\n",
    "            in_channels: number of input channels\n",
    "            out_channels: number of output channels\n",
    "            pool_stride: factor to reduce the spatial dimensionality in the first bottleneck of the block.\n",
    "        Returns: a Module consisting of n sequential bottlenecks.\n",
    "        \"\"\"\n",
    "        block = nn.Sequential()\n",
    "        for bottleneck in range(self.block_depth):\n",
    "            name_ = '%s_bottleneck_%d' % (name, bottleneck)\n",
    "            if bottleneck == 0:\n",
    "                block.add_module(name_, ResNeXtBottleneck(in_channels, out_channels, pool_stride, self.cardinality,\n",
    "                                                          self.widen_factor))\n",
    "            else:\n",
    "                block.add_module(name_,\n",
    "                                 ResNeXtBottleneck(out_channels, out_channels, 1, self.cardinality, self.widen_factor))\n",
    "        return block\n",
    "\n",
    "    def forward(self, x):\n",
    "        x = self.conv_1_3x3.forward(x)\n",
    "        x = F.relu(self.bn_1.forward(x), inplace=True)\n",
    "        x = self.stage_1.forward(x)\n",
    "        x = self.stage_2.forward(x)\n",
    "        x = self.stage_3.forward(x)\n",
    "        x = F.avg_pool2d(x, 8, 1)\n",
    "        x = x.view(-1, 1024)\n",
    "        return self.classifier(x)"
   ]
  },
  {
   "cell_type": "code",
   "execution_count": 58,
   "metadata": {},
   "outputs": [],
   "source": [
    "if not MODEL_DEBUG:\n",
    "\ttrainer.train_model(\n",
    "\t\t'AugMix + ResNeXt', ResNeXt, # model\n",
    "\t\toptim.AdamW, {'lr': 1e-3 * (GPU_COUNT) ** 0.5, 'weight_decay': 5e-4}, # optimizer\n",
    "\t\taug_train_data, # data\n",
    "\t\tearly_stopping = CustomEarlyStopping(patience = 15),\n",
    "\t\tscheduler_pass = torch.optim.lr_scheduler.StepLR,\n",
    "\t\tscheduler_args = {'step_size': int(2.4 * batch_num), 'gamma': 0.97},\n",
    "\t\tverbose=True\n",
    "\t)\n",
    "\ttrainer.archive('AugMix + ResNeXt')\n",
    "\tdisplay(trainer.history)\n"
   ]
  },
  {
   "cell_type": "markdown",
   "metadata": {},
   "source": [
    "#### Wide ResNet"
   ]
  },
  {
   "cell_type": "code",
   "execution_count": 59,
   "metadata": {},
   "outputs": [],
   "source": [
    "# Code adapted from https://github.com/meliketoy/wide-resnet.pytorch/blob/master/networks/wide_resnet.py\n",
    "import torch\n",
    "import torch.nn as nn\n",
    "import torch.nn.init as init\n",
    "import torch.nn.functional as F\n",
    "from torch.autograd import Variable\n",
    "\n",
    "import sys\n",
    "import numpy as np\n",
    "\n",
    "def conv3x3(in_planes, out_planes, stride=1):\n",
    "    return nn.Conv2d(in_planes, out_planes, kernel_size=3, stride=stride, padding=1, bias=True)\n",
    "\n",
    "def conv_init(m):\n",
    "    classname = m.__class__.__name__\n",
    "    if classname.find('Conv') != -1:\n",
    "        init.xavier_uniform_(m.weight, gain=np.sqrt(2))\n",
    "        init.constant_(m.bias, 0)\n",
    "    elif classname.find('BatchNorm') != -1:\n",
    "        init.constant_(m.weight, 1)\n",
    "        init.constant_(m.bias, 0)\n",
    "\n",
    "class wide_basic(nn.Module):\n",
    "    def __init__(self, in_planes, planes, dropout_rate, stride=1):\n",
    "        super(wide_basic, self).__init__()\n",
    "        self.bn1 = nn.BatchNorm2d(in_planes)\n",
    "        self.conv1 = nn.Conv2d(in_planes, planes, kernel_size=3, padding=1, bias=True)\n",
    "        self.dropout = nn.Dropout(p=dropout_rate)\n",
    "        self.bn2 = nn.BatchNorm2d(planes)\n",
    "        self.conv2 = nn.Conv2d(planes, planes, kernel_size=3, stride=stride, padding=1, bias=True)\n",
    "\n",
    "        self.shortcut = nn.Sequential()\n",
    "        if stride != 1 or in_planes != planes:\n",
    "            self.shortcut = nn.Sequential(\n",
    "                nn.Conv2d(in_planes, planes, kernel_size=1, stride=stride, bias=True),\n",
    "            )\n",
    "\n",
    "    def forward(self, x):\n",
    "        out = self.dropout(self.conv1(F.relu(self.bn1(x))))\n",
    "        out = self.conv2(F.relu(self.bn2(out)))\n",
    "        out += self.shortcut(x)\n",
    "\n",
    "        return out\n",
    "\n",
    "class Wide_ResNet(nn.Module):\n",
    "    def __init__(self, depth = 28, widen_factor = 10, dropout_rate = 0.5, num_classes = 100):\n",
    "        super(Wide_ResNet, self).__init__()\n",
    "        self.in_planes = 16\n",
    "\n",
    "        assert ((depth-4)%6 ==0), 'Wide-resnet depth should be 6n+4'\n",
    "        n = (depth-4)/6\n",
    "        k = widen_factor\n",
    "\n",
    "        print('| Wide-Resnet %dx%d' %(depth, k))\n",
    "        nStages = [16, 16*k, 32*k, 64*k]\n",
    "\n",
    "        self.conv1 = conv3x3(3,nStages[0])\n",
    "        self.layer1 = self._wide_layer(wide_basic, nStages[1], n, dropout_rate, stride=2)\n",
    "        self.layer2 = self._wide_layer(wide_basic, nStages[2], n, dropout_rate, stride=1)\n",
    "        self.layer3 = self._wide_layer(wide_basic, nStages[3], n, dropout_rate, stride=2)\n",
    "        self.bn1 = nn.BatchNorm2d(nStages[3], momentum=0.9)\n",
    "        self.linear = nn.Linear(nStages[3], num_classes)\n",
    "\n",
    "    def _wide_layer(self, block, planes, num_blocks, dropout_rate, stride):\n",
    "        strides = [stride] + [1]*(int(num_blocks)-1)\n",
    "        layers = []\n",
    "\n",
    "        for stride in strides:\n",
    "            layers.append(block(self.in_planes, planes, dropout_rate, stride))\n",
    "            self.in_planes = planes\n",
    "\n",
    "        return nn.Sequential(*layers)\n",
    "\n",
    "    def forward(self, x):\n",
    "        out = self.conv1(x)\n",
    "        out = self.layer1(out)\n",
    "        out = self.layer2(out)\n",
    "        out = self.layer3(out)\n",
    "        out = F.relu(self.bn1(out))\n",
    "        out = F.avg_pool2d(out, 8)\n",
    "        out = out.view(out.size(0), -1)\n",
    "        out = self.linear(out)\n",
    "\n",
    "        return out"
   ]
  },
  {
   "cell_type": "code",
   "execution_count": 60,
   "metadata": {},
   "outputs": [],
   "source": [
    "if not MODEL_DEBUG:\n",
    "\ttrainer.train_model(\n",
    "\t\t'AugMix + WideResNet', Wide_ResNet, # model\n",
    "\t\toptim.AdamW, {'lr': 1e-2 * (GPU_COUNT) ** 0.5, 'weight_decay': 1e-4}, # optimizer\n",
    "\t\taug_train_data, # data\n",
    "\t\tmodel_args = {'num_classes': 100},\n",
    "\t\tearly_stopping = CustomEarlyStopping(patience = 25),\n",
    "\t\tscheduler_pass = torch.optim.lr_scheduler.StepLR,\n",
    "\t\tscheduler_args = {'step_size': int(2.4 * batch_num), 'gamma': 0.985},\n",
    "\t\tverbose=True\n",
    "\t)\n",
    "\ttrainer.archive('AugMix + WideResNet')\n",
    "\tdisplay(trainer.history)"
   ]
  },
  {
   "cell_type": "markdown",
   "metadata": {},
   "source": [
    "### Best Baseline Model\n",
    "Let's take a look at the final results and see the best baseline model. "
   ]
  },
  {
   "cell_type": "markdown",
   "metadata": {},
   "source": [
    "From our results, we observe that the best baseline model is ResNeXt, with an accuracy of <strong>64.8</strong>. As such, we'll be performing model improvements and fine tuning on the model."
   ]
  },
  {
   "cell_type": "markdown",
   "metadata": {},
   "source": [
    "### Is the modelling process different for coarse labels?\n",
    "\n",
    "We answer the mentioned question here. Is it necessary to train a new network for coarse labels? There are a few approaches we can take to change our task to <code>20</code> labels. We can:\n",
    "<ol>\n",
    "\t<li><strong>Train the whole network</strong> for 20 labels</li>\n",
    "\t<li>Use the trained network and <strong>divide the output by 5</strong>. As the coarse labels are essentially <code>fine_labels / 5</code></li>\n",
    "\t<li>Replace the last layer of the trained network and perform <strong>fine tuning</strong> using the coarse labels</li>\n",
    "</ol>\n",
    "\n",
    "Let's explore all three."
   ]
  },
  {
   "cell_type": "markdown",
   "metadata": {},
   "source": [
    "#### 1. Training the network for 20 labels"
   ]
  },
  {
   "cell_type": "code",
   "execution_count": 61,
   "metadata": {},
   "outputs": [],
   "source": [
    "if not MODEL_DEBUG:\n",
    "\ttry:\n",
    "\t\tdel train_data, aug_train_data, val_data\n",
    "\texcept:\n",
    "\t\tpass\n",
    "\n",
    "\ttorch.cuda.empty_cache()\n",
    "\taug_train_data = TorchDataset(X_train, y_train_coarse,  y_size = 20, transform = t_extra_augmix)\n",
    "\tval_data = TorchDataset(X_val, y_val_coarse, y_size = 20)\n",
    "\n",
    "\ttorch.cuda.empty_cache()\n",
    "\ttrainer = Trainer()\n",
    "\ttrainer.train_model(\n",
    "\t\t'CIFAR20: AugMix + ResNeXt', ResNeXt, # model\n",
    "\t\toptim.AdamW, {'lr': 1e-3 * (GPU_COUNT) ** 0.5, 'weight_decay': 5e-4}, # optimizer\n",
    "\t\taug_train_data, # data\n",
    "\t\tmodel_args = {'num_classes': 20},\n",
    "\t\tval_data = val_data,\n",
    "\t\tearly_stopping = CustomEarlyStopping(patience = 15),\n",
    "\t\tscheduler_pass = torch.optim.lr_scheduler.StepLR,\n",
    "\t\tscheduler_args = {'step_size': int(2.4 * batch_num), 'gamma': 0.97},\n",
    "\t\tverbose=True\n",
    "\t)\n",
    "\ttrainer.archive('CIFAR20: AugMix + ResNeXt')\n",
    "\tdisplay(trainer.history)"
   ]
  },
  {
   "cell_type": "markdown",
   "metadata": {},
   "source": [
    "#### 2. Output mapping\n",
    "The idea is we can map outputs"
   ]
  },
  {
   "cell_type": "code",
   "execution_count": 62,
   "metadata": {},
   "outputs": [],
   "source": [
    "import pickle\n",
    "\n",
    "if not MODEL_DEBUG:\n",
    "\taug_train_data = TorchDataset(X_train, y_train, transform = t_extra_augmix)\n",
    "\tval_data = TorchDataset(X_val, y_val)\n",
    "\tif val_data.x.max() > 1:\n",
    "\t\tval_data.x = val_data.x / 255.0\n",
    "\n",
    "\tresnext_trained = trainer.train_model(\n",
    "\t\t'AugMix + ResNeXt', ResNeXt, # model\n",
    "\t\toptim.AdamW, {'lr': 1e-3 * (GPU_COUNT) ** 0.5, 'weight_decay': 5e-4}, # optimizer\n",
    "\t\taug_train_data, # data\n",
    "\t\tearly_stopping = CustomEarlyStopping(patience = 15),\n",
    "\t\tscheduler_pass = torch.optim.lr_scheduler.StepLR,\n",
    "\t\tscheduler_args = {'step_size': int(2.4 * batch_num), 'gamma': 0.97},\n",
    "\t\tval_data = val_data,\n",
    "\t\tverbose=True,\n",
    "\t\treturn_model = True\n",
    "\t)\n",
    "\twith open('resnext_model.pkl', 'wb') as myfile:\n",
    "\t\tpickle.dump(resnext_trained, myfile)\n",
    "\n",
    "\ttrainer.archive('AugMix + ResNeXt')\n",
    "\tdisplay(trainer.history)"
   ]
  },
  {
   "cell_type": "code",
   "execution_count": 63,
   "metadata": {},
   "outputs": [],
   "source": [
    "if not MODEL_DEBUG:\n",
    "\tmapping = np.full((100, ), -1)\n",
    "\tfor k, v in pd.DataFrame([y_train.values.flatten(), y_train_coarse.values.flatten()]).T.values:\n",
    "\t\tmapping[k] = v"
   ]
  },
  {
   "cell_type": "code",
   "execution_count": 64,
   "metadata": {},
   "outputs": [],
   "source": [
    "if not MODEL_DEBUG:\n",
    "\tval_loader = DataLoader(TorchDataset(X_val, y_val_coarse, y_size = 20), batch_size = 256 * GPU_COUNT, num_workers = 4 * GPU_COUNT)\n",
    "\n",
    "\tresnext_trained.eval()\n",
    "\n",
    "\tval_loss = 0.0\n",
    "\tval_acc_count = 0\n",
    "\ttotal_sample = 0\n",
    "\n",
    "\twith torch.no_grad():\n",
    "\t\tfor i, data in enumerate(val_loader):\n",
    "\t\t\tinputs, labels = data                             \n",
    "\t\t\tinputs = inputs.to(device)\n",
    "\t\t\tlabels = labels.to(device)\n",
    "\n",
    "\t\t\toutputs = resnext_trained(inputs)\n",
    "\n",
    "\t\t\toutputs = torch.Tensor(mapping[outputs.argmax(dim = 1).detach().cpu().numpy()]).cuda()\n",
    "\t\t\toutputs = (to_prob_dist(outputs, size = 20)).reshape(-1, 20).cuda()\n",
    "\t\t\tloss = nn.CrossEntropyLoss()(outputs, labels)\n",
    "\n",
    "\t\t\tval_loss += loss.item()\n",
    "\t\t\tval_acc_count += accurate_count(outputs, labels)\n",
    "\t\t\ttotal_sample += len(labels)\n",
    "\n",
    "\tval_loss = val_loss / len(val_loader)\n",
    "\tval_acc = val_acc_count / total_sample\n",
    "\tprint(\"Val Loss:\", val_loss, \"| Val Acc:\",val_acc)"
   ]
  },
  {
   "cell_type": "markdown",
   "metadata": {},
   "source": [
    "<ul>\n",
    "\t<li>Val Loss: 2.29885767</li>\n",
    "\t<li>Val Acc: 0.78</li>\n",
    "</ul>"
   ]
  },
  {
   "cell_type": "markdown",
   "metadata": {},
   "source": [
    "We observe that the validation accuracy is same forf both methods, in that remapping gives as good a result as training the model from scratch.\n",
    "\n",
    "This means that <strong>the model didn't gain any extra advantage from knowing if two objects are in the same class</strong>. I.e. the semantic groupings of the labels does not help the model improve its performance and that performing <strong>random groupings</strong> will likely lead to the same result."
   ]
  },
  {
   "cell_type": "markdown",
   "metadata": {},
   "source": [
    "## Model Improvement"
   ]
  },
  {
   "cell_type": "markdown",
   "metadata": {},
   "source": [
    "### Optimizer\n",
    "#### Trying different optimizers\n",
    "We'll try the following optimizers:\n",
    "<ul>\n",
    "\t<li>RMSProp</li>\n",
    "\t<li>AdamW</li>\n",
    "\t<li>SGD with <strong>Nesterov momentum</strong></li>\n",
    "</ul>"
   ]
  },
  {
   "cell_type": "code",
   "execution_count": 65,
   "metadata": {},
   "outputs": [],
   "source": [
    "from sklearn.model_selection import ParameterSampler\n",
    "\n",
    "param_grid = {\n",
    "\t'optimizer': [\n",
    "\t\t[optim.SGD, {'momentum': 0.9, 'nesterov': True}],\n",
    "\t\t[optim.AdamW, {'amsgrad': True}],\n",
    "\t\t[optim.AdamW, {}],\n",
    "\t\t[optim.RMSprop, {'momentum': 0.9}],\n",
    "\t],\n",
    "\t'optimizer_lr': [1e-3],\n",
    "\t'optimizer_weight_decay': [1e-3, 5e-4, 1e-5]\n",
    "}"
   ]
  },
  {
   "cell_type": "markdown",
   "metadata": {},
   "source": [
    "#### Learning Rate Scheduling\n",
    "As for the learning rate scheduling we have been trying <strong>StepLR</strong> where $gamma = 0.97$ and applying the $gamma$ every <strong>2.4</strong> epochs. We'll continue to do this, but also introduce a new mix of optimisers:\n",
    "<ul>\n",
    "\t<li>CosineAnnealingLR</li>\n",
    "\t<li>CosineAnnealingWarmRestart</li>\n",
    "\t<li>StepLR</li>\n",
    "\t<li>ReduceLRonPlateau</li>\n",
    "</ul>"
   ]
  },
  {
   "cell_type": "code",
   "execution_count": 66,
   "metadata": {},
   "outputs": [],
   "source": [
    "param_grid['scheduler'] = [\n",
    "\t[optim.lr_scheduler.CosineAnnealingWarmRestarts, {'T_0': 10, 'T_mult': 2}],\n",
    "\t[optim.lr_scheduler.CosineAnnealingWarmRestarts, {'T_0': 1, 'T_mult': 2}],\n",
    "\t[optim.lr_scheduler.CosineAnnealingLR, {'T_max': 10}],\n",
    "\t[optim.lr_scheduler.CosineAnnealingLR, {'T_max': 5}],\n",
    "\t[optim.lr_scheduler.StepLR, {\"step_size\": 10, \"gamma\": 0.1}],\n",
    "\t[optim.lr_scheduler.ReduceLROnPlateau, {}],\n",
    "]"
   ]
  },
  {
   "cell_type": "markdown",
   "metadata": {},
   "source": [
    "### New Augmentation Techniques\n",
    "The current augmentation policy focuses on one image at a time, i.e. labels are unaffected by AugMix. As such, we attempt to introduce a new augmentation technique that combines two images and affects the labels called <strong>CutMix</strong>.\n",
    "\n",
    "We define the functions for CutMix below:"
   ]
  },
  {
   "cell_type": "code",
   "execution_count": 67,
   "metadata": {},
   "outputs": [],
   "source": [
    "def rand_bbox(size, lam):\n",
    "    W = size[2]\n",
    "    H = size[3]\n",
    "    cut_rat = np.sqrt(1. - lam)\n",
    "    cut_w = int(W * cut_rat)\n",
    "    cut_h = int(H * cut_rat)\n",
    "\n",
    "    # uniform\n",
    "    cx = np.random.randint(W)\n",
    "    cy = np.random.randint(H)\n",
    "\n",
    "    bbx1 = np.clip(cx - cut_w // 2, 0, W)\n",
    "    bby1 = np.clip(cy - cut_h // 2, 0, H)\n",
    "    bbx2 = np.clip(cx + cut_w // 2, 0, W)\n",
    "    bby2 = np.clip(cy + cut_h // 2, 0, H)\n",
    "\n",
    "    return bbx1, bby1, bbx2, bby2\n",
    "\n",
    "def cutmix(inputs, beta):\n",
    "    lam = np.random.beta(beta, beta)\n",
    "    rand_index = torch.randperm(inputs.size()[0])\n",
    "    bbx1, bby1, bbx2, bby2 = rand_bbox(inputs.size(), lam)\n",
    "    inputs[:, :, bbx1:bbx2, bby1:bby2] = inputs[rand_index, :, bbx1:bbx2, bby1:bby2]\n",
    "    # adjust lambda to exactly match pixel ratio\n",
    "    lam = 1 - ((bbx2 - bbx1) * (bby2 - bby1) / (inputs.size()[-1] * inputs.size()[-2]))\n",
    "    # new_labels = labels * lam + labels[rand_index] * (1 - lam)\n",
    "    return inputs, rand_index, lam"
   ]
  },
  {
   "cell_type": "code",
   "execution_count": 68,
   "metadata": {},
   "outputs": [],
   "source": [
    "param_grid['data'] = [\n",
    "\t['augmented', {\n",
    "\t\t'fn': cutmix,\n",
    "\t\t'args': [1],\n",
    "\t\t'kwargs': {}\n",
    "\t}],\n",
    "\t['base', {\n",
    "\t\t'fn': cutmix,\n",
    "\t\t'args': [1],\n",
    "\t\t'kwargs': {}\n",
    "\t}],\n",
    "\t['base', None]\n",
    "]"
   ]
  },
  {
   "cell_type": "markdown",
   "metadata": {},
   "source": [
    "### Regularization Techniques\n",
    "There appears to be heavy overfitting occuring. Next, we try different regularization techniques in an attempt to reduce it."
   ]
  },
  {
   "cell_type": "markdown",
   "metadata": {},
   "source": [
    "#### ShakeDrop\n",
    "ShakeDrop is a combination of two regularization techniques: <strong>RandomDrop (a.k.a Stochastic Depth)</strong> and <strong>Shake Shake.</strong>\n",
    "The ideas are quite simple:\n",
    "<ul>\n",
    "\t<li>RandomDrop is essentially the dropout for the residual connection (identity component of Residual Networks)</li>\n",
    "\t<li>Shake Shake is dropout for the multiple branches of ResNeXt. To elaborate, the dropout is divided among each branch in a ResNeXt block.(distribution values are tbd)</li>\n",
    "</ul>"
   ]
  },
  {
   "cell_type": "code",
   "execution_count": 69,
   "metadata": {},
   "outputs": [],
   "source": [
    "# Code adapted from https://github.com/owruby/shake-shake_pytorch/blob/master/models/shakeshake.py\n",
    "\n",
    "import torch\n",
    "import torch.nn as nn\n",
    "import torch.nn.functional as F\n",
    "from torch.autograd import Variable\n",
    "\n",
    "class ShakeShake(torch.autograd.Function):\n",
    "\n",
    "\t@staticmethod\n",
    "\tdef forward(ctx, x1, x2, training=True):\n",
    "\t\tif training:\n",
    "\t\t\talpha = torch.cuda.FloatTensor(x1.size(0)).uniform_()\n",
    "\t\t\talpha = alpha.view(alpha.size(0), 1, 1, 1).expand_as(x1)\n",
    "\t\telse:\n",
    "\t\t\talpha = 0.5\n",
    "\t\treturn alpha * x1 + (1 - alpha) * x2\n",
    "\n",
    "\t@staticmethod\n",
    "\tdef backward(ctx, grad_output):\n",
    "\t\tbeta = torch.cuda.FloatTensor(grad_output.size(0)).uniform_()\n",
    "\t\tbeta = beta.view(beta.size(0), 1, 1, 1).expand_as(grad_output)\n",
    "\t\tbeta = Variable(beta)\n",
    "\n",
    "\t\treturn beta * grad_output, (1 - beta) * grad_output, None\n",
    "\n",
    "\n",
    "class Shortcut(nn.Module):\n",
    "\n",
    "\tdef __init__(self, in_ch, out_ch, stride):\n",
    "\t\tsuper(Shortcut, self).__init__()\n",
    "\t\tself.stride = stride\n",
    "\t\tself.conv1 = nn.Conv2d(in_ch, out_ch // 2, 1, stride=1, padding=0, bias=False)\n",
    "\t\tself.conv2 = nn.Conv2d(in_ch, out_ch // 2, 1, stride=1, padding=0, bias=False)\n",
    "\t\tself.bn = nn.BatchNorm2d(out_ch)\n",
    "\n",
    "\tdef forward(self, x):\n",
    "\t\th = F.relu(x)\n",
    "\n",
    "\t\th1 = F.avg_pool2d(h, 1, self.stride)\n",
    "\t\th1 = self.conv1(h1)\n",
    "\n",
    "\t\th2 = F.avg_pool2d(F.pad(h, (-1, 1, -1, 1)), 1, self.stride)\n",
    "\t\th2 = self.conv2(h2)\n",
    "\n",
    "\t\th = torch.cat((h1, h2), 1)\n",
    "\t\treturn self.bn(h)\n",
    "\n",
    "class ShakeBottleNeck(nn.Module):\n",
    "\n",
    "\tdef __init__(self, in_ch, out_ch, stride, cardinality, widen_factor):\n",
    "\t\tsuper(ShakeBottleNeck, self).__init__()\n",
    "\n",
    "\t\tmid_ch = cardinality * out_ch // widen_factor\n",
    "\t\tself.equal_io = in_ch == out_ch\n",
    "\t\tself.shortcut = None if self.equal_io else Shortcut(in_ch, out_ch, stride=stride)\n",
    "\n",
    "\t\tself.branch1 = self._make_branch(in_ch, mid_ch, out_ch, cardinality, stride)\n",
    "\t\tself.branch2 = self._make_branch(in_ch, mid_ch, out_ch, cardinality, stride)\n",
    "\n",
    "\tdef forward(self, x):\n",
    "\t\th1 = self.branch1(x)\n",
    "\t\th2 = self.branch2(x)\n",
    "\t\th = ShakeShake.apply(h1, h2, self.training)\n",
    "\t\th0 = x if self.equal_io else self.shortcut(x)\n",
    "\t\treturn F.relu(h + h0, inplace = True)\n",
    "\n",
    "\tdef _make_branch(self, in_ch, mid_ch, out_ch, cardinary, stride=1):\n",
    "\t\treturn nn.Sequential(\n",
    "\t\t\tnn.Conv2d(in_ch, mid_ch, 1, padding=0, bias=False),\n",
    "\t\t\tnn.BatchNorm2d(mid_ch),\n",
    "\t\t\tnn.ReLU(inplace=False),\n",
    "\t\t\tnn.Conv2d(mid_ch, mid_ch, 3, padding=1, stride=stride, groups=cardinary, bias=False),\n",
    "\t\t\tnn.BatchNorm2d(mid_ch),\n",
    "\t\t\tnn.ReLU(inplace=False),\n",
    "\t\t\tnn.Conv2d(mid_ch, out_ch, 1, padding=0, bias=False),\n",
    "\t\t\tnn.BatchNorm2d(out_ch)\n",
    "\t\t)\n",
    "\n",
    "# class ResNeXtBottleneck(nn.Module):\n",
    "# \t\"\"\"\n",
    "# \tRexNeXt bottleneck type C (https://github.com/facebookresearch/ResNeXt/blob/master/models/resnext.lua)\n",
    "# \t\"\"\"\n",
    "# \tdef __init__(self, in_channels, out_channels, stride, cardinality, widen_factor, activation = F.relu):\n",
    "# \t\t\"\"\" Constructor\n",
    "# \t\tArgs:\n",
    "# \t\t\tin_channels: input channel dimensionality\n",
    "# \t\t\tout_channels: output channel dimensionality\n",
    "# \t\t\tstride: conv stride. Replaces pooling layer.\n",
    "# \t\t\tcardinality: num of convolution groups.\n",
    "# \t\t\twiden_factor: factor to reduce the input dimensionality before convolution.\n",
    "# \t\t\"\"\"\n",
    "# \t\tsuper(ResNeXtBottleneck, self).__init__()\n",
    "# \t\tD = cardinality * out_channels // widen_factor\n",
    "# \t\tself.activation = activation\n",
    "# \t\tself.conv_reduce = nn.Conv2d(in_channels, D, kernel_size=1, stride=1, padding=0, bias=False)\n",
    "# \t\tself.bn_reduce = nn.BatchNorm2d(D)\n",
    "# \t\tself.conv_conv = nn.Conv2d(D, D, kernel_size=3, stride=stride, padding=1, groups=cardinality, bias=False)\n",
    "# \t\tself.bn = nn.BatchNorm2d(D)\n",
    "# \t\tself.conv_expand = nn.Conv2d(D, out_channels, kernel_size=1, stride=1, padding=0, bias=False)\n",
    "# \t\tself.bn_expand = nn.BatchNorm2d(out_channels)\n",
    "\n",
    "# \t\tself.shortcut = nn.Sequential()\n",
    "\n",
    "# \t\tif in_channels != out_channels:\n",
    "# \t\t\tself.shortcut.add_module('shortcut_conv', nn.Conv2d(in_channels, out_channels, kernel_size=1, stride=stride, padding=0, bias=False))\n",
    "# \t\t\tself.shortcut.add_module('shortcut_bn', nn.BatchNorm2d(out_channels))\n",
    "\n",
    "# \tdef forward(self, x):\n",
    "# \t\tbottleneck = self.conv_reduce.forward(x)\n",
    "# \t\tbottleneck = self.activation(self.bn_reduce.forward(bottleneck), inplace=True)\n",
    "\n",
    "# \t\tbottleneck = self.conv_conv.forward(bottleneck)\n",
    "# \t\tbottleneck = self.activation(self.bn.forward(bottleneck), inplace=True)\n",
    "\n",
    "# \t\tbottleneck = self.conv_expand.forward(bottleneck)\n",
    "# \t\tbottleneck = self.bn_expand.forward(bottleneck)\n",
    "\n",
    "# \t\tresidual = self.shortcut.forward(x)\n",
    "\n",
    "# \t\treturn self.activation(residual + bottleneck, inplace=True)\n",
    "\n",
    "class ShakeDrop_ResNeXt(nn.Module):\n",
    "\t\"\"\"\n",
    "\tResNext optimized for the dataset, as specified in\n",
    "\thttps://arxiv.org/pdf/1611.05431.pdf\n",
    "\t\"\"\"\n",
    "\tdef __init__(self, cardinality = 9, depth = 29, num_classes = 100, widen_factor=4, dropRate=0):\n",
    "\t\t\"\"\" Constructor\n",
    "\t\tArgs:\n",
    "\t\t\tcardinality: number of convolution groups.\n",
    "\t\t\tdepth: number of layers.\n",
    "\t\t\tnum_classes: number of classes\n",
    "\t\t\twiden_factor: factor to adjust the channel dimensionality\n",
    "\t\t\"\"\"\n",
    "\t\tsuper(ShakeDrop_ResNeXt, self).__init__()\n",
    "\t\tself.cardinality = cardinality\n",
    "\t\tself.depth = depth\n",
    "\t\tself.block_depth = (self.depth - 2) // 9\n",
    "\t\tself.widen_factor = widen_factor\n",
    "\t\tself.num_classes = num_classes\n",
    "\t\tself.output_size = 64\n",
    "\t\tself.stages = [64, 64 * self.widen_factor, 128 * self.widen_factor, 256 * self.widen_factor]\n",
    "\n",
    "\t\tself.conv_1_3x3 = nn.Conv2d(3, 64, 3, 1, 1, bias=False)\n",
    "\t\tself.bn_1 = nn.BatchNorm2d(64)\n",
    "\t\tself.stage_1 = self.block('stage_1', self.stages[0], self.stages[1], 1)\n",
    "\t\tself.stage_2 = self.block('stage_2', self.stages[1], self.stages[2], 2)\n",
    "\t\tself.stage_3 = self.block('stage_3', self.stages[2], self.stages[3], 2)\n",
    "\t\tself.classifier = nn.Linear(1024, num_classes)\n",
    "\t\tnn.init.kaiming_normal(self.classifier.weight)\n",
    "\n",
    "\t\tfor key in self.state_dict():\n",
    "\t\t\tif key.split('.')[-1] == 'weight':\n",
    "\t\t\t\tif 'conv' in key:\n",
    "\t\t\t\t\tnn.init.kaiming_normal(self.state_dict()[key], mode='fan_out')\n",
    "\t\t\t\tif 'bn' in key:\n",
    "\t\t\t\t\tself.state_dict()[key][...] = 1\n",
    "\t\t\telif key.split('.')[-1] == 'bias':\n",
    "\t\t\t\tself.state_dict()[key][...] = 0\n",
    "\n",
    "\tdef block(self, name, in_channels, out_channels, pool_stride=2):\n",
    "\t\t\"\"\" Stack n bottleneck modules where n is inferred from the depth of the network.\n",
    "\t\tArgs:\n",
    "\t\t\tname: string name of the current block.\n",
    "\t\t\tin_channels: number of input channels\n",
    "\t\t\tout_channels: number of output channels\n",
    "\t\t\tpool_stride: factor to reduce the spatial dimensionality in the first bottleneck of the block.\n",
    "\t\tReturns: a Module consisting of n sequential bottlenecks.\n",
    "\t\t\"\"\"\n",
    "\t\tblock = nn.Sequential()\n",
    "\t\tfor bottleneck in range(self.block_depth):\n",
    "\t\t\tname_ = '%s_bottleneck_%d' % (name, bottleneck)\n",
    "\t\t\tif bottleneck == 0:\n",
    "\t\t\t\tblock.add_module(name_, ShakeBottleNeck(in_channels, out_channels, pool_stride, self.cardinality,\n",
    "\t\t\t\t\t\t\t\t\t\t\t\t\t\t  self.widen_factor))\n",
    "\t\t\telse:\n",
    "\t\t\t\tblock.add_module(name_,\n",
    "\t\t\t\t\t\t\t\t ShakeBottleNeck(out_channels, out_channels, 1, self.cardinality, self.widen_factor))\n",
    "\t\treturn block\n",
    "\n",
    "\tdef forward(self, x):\n",
    "\t\tx = self.conv_1_3x3.forward(x)\n",
    "\t\tx = F.relu(self.bn_1.forward(x), inplace=True)\n",
    "\t\tx = self.stage_1.forward(x)\n",
    "\t\tx = self.stage_2.forward(x)\n",
    "\t\tx = self.stage_3.forward(x)\n",
    "\t\tx = F.avg_pool2d(x, 8, 1)\n",
    "\t\tx = x.view(-1, 1024)\n",
    "\t\treturn self.classifier(x)\n",
    "\n",
    "\tdef __str__(self):\n",
    "\t\treturn \"ShakeDrop_ResNeXt\"\n",
    "\n",
    "\tdef __reper__(self):\n",
    "\t\treturn \"ShakeDrop_ResNeXt\"\n"
   ]
  },
  {
   "cell_type": "code",
   "execution_count": 70,
   "metadata": {},
   "outputs": [],
   "source": [
    "param_grid['model'] = [\n",
    "\t[ShakeDrop_ResNeXt, {'depth': 29}],\n",
    "]"
   ]
  },
  {
   "cell_type": "markdown",
   "metadata": {},
   "source": [
    "#### Reducing Batch Size\n",
    "As batch size increases, the learning process becomes more stochastic. We attempt to reduce the batchsize to 128 to make it less stochastic."
   ]
  },
  {
   "cell_type": "code",
   "execution_count": 71,
   "metadata": {},
   "outputs": [],
   "source": [
    "batch_size = 128"
   ]
  },
  {
   "cell_type": "markdown",
   "metadata": {},
   "source": [
    "## Final Model Analysis"
   ]
  },
  {
   "cell_type": "markdown",
   "metadata": {},
   "source": [
    "#### Class-wise accuracy + distribution of errors\n",
    "Let's perform an error analysis and see which classes our model performs the worst on."
   ]
  },
  {
   "cell_type": "code",
   "execution_count": 72,
   "metadata": {},
   "outputs": [],
   "source": [
    "try:\n",
    "\tdel aug_train_data\n",
    "except:\n",
    "\tpass\n",
    "\n",
    "try:\n",
    "\tdel train_data\n",
    "except:\n",
    "\tpass\n",
    "\t\n",
    "try:\n",
    "\tdel base_train_data\n",
    "except:\n",
    "\tpass\n",
    "\n",
    "try:\n",
    "\tdel val_data\n",
    "except:\n",
    "\tpass\n",
    "\n",
    "try:\n",
    "\tdel cans_x\n",
    "except:\n",
    "\tpass"
   ]
  },
  {
   "cell_type": "code",
   "execution_count": 73,
   "metadata": {},
   "outputs": [
    {
     "name": "stdout",
     "output_type": "stream",
     "text": [
      "Params 0:  {'scheduler': [<class 'torch.optim.lr_scheduler.CosineAnnealingLR'>, {'T_max': 10}], 'optimizer_weight_decay': 0.0005, 'optimizer_lr': 0.001, 'optimizer': [<class 'torch.optim.adamw.AdamW'>, {'amsgrad': True}], 'model': [<class '__main__.ShakeDrop_ResNeXt'>, {'depth': 29}], 'data': ['augmented', {'fn': <function cutmix at 0x7f58a00cd280>, 'args': [1], 'kwargs': {}}]}\n"
     ]
    },
    {
     "name": "stderr",
     "output_type": "stream",
     "text": [
      "/tmp/ipykernel_68776/3197975393.py:151: UserWarning: nn.init.kaiming_normal is now deprecated in favor of nn.init.kaiming_normal_.\n",
      "  nn.init.kaiming_normal(self.classifier.weight)\n",
      "/tmp/ipykernel_68776/3197975393.py:156: UserWarning: nn.init.kaiming_normal is now deprecated in favor of nn.init.kaiming_normal_.\n",
      "  nn.init.kaiming_normal(self.state_dict()[key], mode='fan_out')\n",
      "100%|██████████| 157/157 [02:31<00:00,  1.04it/s]\n"
     ]
    },
    {
     "name": "stdout",
     "output_type": "stream",
     "text": [
      "Epoch: 1 | Train Loss: 2.70854 \tVal Loss: 3.93200 \tTrain Acc: 0.069 \tVal Acc: 0.103\n"
     ]
    },
    {
     "name": "stderr",
     "output_type": "stream",
     "text": [
      "100%|██████████| 157/157 [02:11<00:00,  1.19it/s]\n"
     ]
    },
    {
     "name": "stdout",
     "output_type": "stream",
     "text": [
      "Epoch: 2 | Train Loss: 2.31638 \tVal Loss: 3.62173 \tTrain Acc: 0.106 \tVal Acc: 0.151\n"
     ]
    },
    {
     "name": "stderr",
     "output_type": "stream",
     "text": [
      "100%|██████████| 157/157 [02:23<00:00,  1.10it/s]\n"
     ]
    },
    {
     "name": "stdout",
     "output_type": "stream",
     "text": [
      "Epoch: 3 | Train Loss: 2.15788 \tVal Loss: 3.57970 \tTrain Acc: 0.138 \tVal Acc: 0.170\n"
     ]
    },
    {
     "name": "stderr",
     "output_type": "stream",
     "text": [
      "100%|██████████| 157/157 [02:31<00:00,  1.04it/s]\n"
     ]
    },
    {
     "name": "stdout",
     "output_type": "stream",
     "text": [
      "Epoch: 4 | Train Loss: 2.01068 \tVal Loss: 3.73299 \tTrain Acc: 0.159 \tVal Acc: 0.138\n"
     ]
    },
    {
     "name": "stderr",
     "output_type": "stream",
     "text": [
      "100%|██████████| 157/157 [02:23<00:00,  1.10it/s]\n"
     ]
    },
    {
     "name": "stdout",
     "output_type": "stream",
     "text": [
      "Epoch: 5 | Train Loss: 2.04351 \tVal Loss: 3.43794 \tTrain Acc: 0.182 \tVal Acc: 0.189\n"
     ]
    },
    {
     "name": "stderr",
     "output_type": "stream",
     "text": [
      "100%|██████████| 157/157 [02:27<00:00,  1.06it/s]\n"
     ]
    },
    {
     "name": "stdout",
     "output_type": "stream",
     "text": [
      "Epoch: 6 | Train Loss: 1.89243 \tVal Loss: 3.43260 \tTrain Acc: 0.205 \tVal Acc: 0.189\n"
     ]
    },
    {
     "name": "stderr",
     "output_type": "stream",
     "text": [
      "100%|██████████| 157/157 [02:28<00:00,  1.06it/s]\n"
     ]
    },
    {
     "name": "stdout",
     "output_type": "stream",
     "text": [
      "Epoch: 7 | Train Loss: 2.09719 \tVal Loss: 3.11884 \tTrain Acc: 0.217 \tVal Acc: 0.236\n"
     ]
    },
    {
     "name": "stderr",
     "output_type": "stream",
     "text": [
      "100%|██████████| 157/157 [02:27<00:00,  1.06it/s]\n"
     ]
    },
    {
     "name": "stdout",
     "output_type": "stream",
     "text": [
      "Epoch: 8 | Train Loss: 1.88518 \tVal Loss: 2.74476 \tTrain Acc: 0.245 \tVal Acc: 0.308\n"
     ]
    },
    {
     "name": "stderr",
     "output_type": "stream",
     "text": [
      "100%|██████████| 157/157 [02:15<00:00,  1.16it/s]\n"
     ]
    },
    {
     "name": "stdout",
     "output_type": "stream",
     "text": [
      "Epoch: 9 | Train Loss: 1.84357 \tVal Loss: 2.72365 \tTrain Acc: 0.253 \tVal Acc: 0.319\n"
     ]
    },
    {
     "name": "stderr",
     "output_type": "stream",
     "text": [
      "100%|██████████| 157/157 [02:15<00:00,  1.16it/s]\n"
     ]
    },
    {
     "name": "stdout",
     "output_type": "stream",
     "text": [
      "Epoch: 10 | Train Loss: 1.36450 \tVal Loss: 2.73962 \tTrain Acc: 0.280 \tVal Acc: 0.310\n"
     ]
    },
    {
     "name": "stderr",
     "output_type": "stream",
     "text": [
      "100%|██████████| 157/157 [02:18<00:00,  1.14it/s]\n"
     ]
    },
    {
     "name": "stdout",
     "output_type": "stream",
     "text": [
      "Epoch: 11 | Train Loss: 1.50504 \tVal Loss: 2.96835 \tTrain Acc: 0.291 \tVal Acc: 0.281\n"
     ]
    },
    {
     "name": "stderr",
     "output_type": "stream",
     "text": [
      "100%|██████████| 157/157 [02:27<00:00,  1.07it/s]\n"
     ]
    },
    {
     "name": "stdout",
     "output_type": "stream",
     "text": [
      "Epoch: 12 | Train Loss: 1.53434 \tVal Loss: 2.88737 \tTrain Acc: 0.309 \tVal Acc: 0.303\n",
      "Stopping due to early stopping | patience = 3\n"
     ]
    },
    {
     "name": "stderr",
     "output_type": "stream",
     "text": [
      "/tmp/ipykernel_68776/3197975393.py:151: UserWarning: nn.init.kaiming_normal is now deprecated in favor of nn.init.kaiming_normal_.\n",
      "  nn.init.kaiming_normal(self.classifier.weight)\n",
      "/tmp/ipykernel_68776/3197975393.py:156: UserWarning: nn.init.kaiming_normal is now deprecated in favor of nn.init.kaiming_normal_.\n",
      "  nn.init.kaiming_normal(self.state_dict()[key], mode='fan_out')\n"
     ]
    },
    {
     "name": "stdout",
     "output_type": "stream",
     "text": [
      "Params 1:  {'scheduler': [<class 'torch.optim.lr_scheduler.CosineAnnealingLR'>, {'T_max': 10}], 'optimizer_weight_decay': 0.0005, 'optimizer_lr': 0.001, 'optimizer': [<class 'torch.optim.adamw.AdamW'>, {'amsgrad': True}], 'model': [<class '__main__.ShakeDrop_ResNeXt'>, {'depth': 29}], 'data': ['base', {'fn': <function cutmix at 0x7f58a00cd280>, 'args': [1], 'kwargs': {}}]}\n"
     ]
    },
    {
     "name": "stderr",
     "output_type": "stream",
     "text": [
      "100%|██████████| 157/157 [02:20<00:00,  1.12it/s]\n"
     ]
    },
    {
     "name": "stdout",
     "output_type": "stream",
     "text": [
      "Epoch: 1 | Train Loss: 2.60795 \tVal Loss: 3.77822 \tTrain Acc: 0.078 \tVal Acc: 0.121\n"
     ]
    },
    {
     "name": "stderr",
     "output_type": "stream",
     "text": [
      "100%|██████████| 157/157 [02:18<00:00,  1.13it/s]\n"
     ]
    },
    {
     "name": "stdout",
     "output_type": "stream",
     "text": [
      "Epoch: 2 | Train Loss: 2.29549 \tVal Loss: 3.43749 \tTrain Acc: 0.133 \tVal Acc: 0.190\n"
     ]
    },
    {
     "name": "stderr",
     "output_type": "stream",
     "text": [
      "100%|██████████| 157/157 [02:21<00:00,  1.11it/s]\n"
     ]
    },
    {
     "name": "stdout",
     "output_type": "stream",
     "text": [
      "Epoch: 3 | Train Loss: 2.03554 \tVal Loss: 3.25540 \tTrain Acc: 0.175 \tVal Acc: 0.216\n"
     ]
    },
    {
     "name": "stderr",
     "output_type": "stream",
     "text": [
      "100%|██████████| 157/157 [02:22<00:00,  1.11it/s]\n"
     ]
    },
    {
     "name": "stdout",
     "output_type": "stream",
     "text": [
      "Epoch: 4 | Train Loss: 1.81832 \tVal Loss: 3.33146 \tTrain Acc: 0.217 \tVal Acc: 0.208\n"
     ]
    },
    {
     "name": "stderr",
     "output_type": "stream",
     "text": [
      "100%|██████████| 157/157 [02:21<00:00,  1.11it/s]\n"
     ]
    },
    {
     "name": "stdout",
     "output_type": "stream",
     "text": [
      "Epoch: 5 | Train Loss: 1.63342 \tVal Loss: 3.29984 \tTrain Acc: 0.248 \tVal Acc: 0.213\n"
     ]
    },
    {
     "name": "stderr",
     "output_type": "stream",
     "text": [
      "100%|██████████| 157/157 [02:21<00:00,  1.11it/s]\n"
     ]
    },
    {
     "name": "stdout",
     "output_type": "stream",
     "text": [
      "Epoch: 6 | Train Loss: 1.65975 \tVal Loss: 4.09863 \tTrain Acc: 0.286 \tVal Acc: 0.154\n",
      "Stopping due to early stopping | patience = 3\n"
     ]
    },
    {
     "name": "stderr",
     "output_type": "stream",
     "text": [
      "/tmp/ipykernel_68776/3197975393.py:151: UserWarning: nn.init.kaiming_normal is now deprecated in favor of nn.init.kaiming_normal_.\n",
      "  nn.init.kaiming_normal(self.classifier.weight)\n",
      "/tmp/ipykernel_68776/3197975393.py:156: UserWarning: nn.init.kaiming_normal is now deprecated in favor of nn.init.kaiming_normal_.\n",
      "  nn.init.kaiming_normal(self.state_dict()[key], mode='fan_out')\n"
     ]
    },
    {
     "data": {
      "text/html": [
       "<div>\n",
       "<style scoped>\n",
       "    .dataframe tbody tr th:only-of-type {\n",
       "        vertical-align: middle;\n",
       "    }\n",
       "\n",
       "    .dataframe tbody tr th {\n",
       "        vertical-align: top;\n",
       "    }\n",
       "\n",
       "    .dataframe thead th {\n",
       "        text-align: right;\n",
       "    }\n",
       "</style>\n",
       "<table border=\"1\" class=\"dataframe\">\n",
       "  <thead>\n",
       "    <tr style=\"text-align: right;\">\n",
       "      <th></th>\n",
       "      <th>Unnamed: 0.8</th>\n",
       "      <th>Unnamed: 0.7</th>\n",
       "      <th>Unnamed: 0.6</th>\n",
       "      <th>Unnamed: 0.5</th>\n",
       "      <th>Unnamed: 0.4</th>\n",
       "      <th>Unnamed: 0.3</th>\n",
       "      <th>Unnamed: 0.2</th>\n",
       "      <th>Unnamed: 0.1</th>\n",
       "      <th>Unnamed: 0</th>\n",
       "      <th>Train Loss</th>\n",
       "      <th>Val Loss</th>\n",
       "      <th>Train Acc</th>\n",
       "      <th>Val Acc</th>\n",
       "      <th>Model</th>\n",
       "    </tr>\n",
       "  </thead>\n",
       "  <tbody>\n",
       "    <tr>\n",
       "      <th>0</th>\n",
       "      <td>0</td>\n",
       "      <td>0</td>\n",
       "      <td>0</td>\n",
       "      <td>0</td>\n",
       "      <td>0</td>\n",
       "      <td>0</td>\n",
       "      <td>0</td>\n",
       "      <td>0</td>\n",
       "      <td>AugMix + ResNeXt</td>\n",
       "      <td>0.271326</td>\n",
       "      <td>1.637956</td>\n",
       "      <td>0.918275</td>\n",
       "      <td>0.6726</td>\n",
       "      <td>NaN</td>\n",
       "    </tr>\n",
       "    <tr>\n",
       "      <th>1</th>\n",
       "      <td>1</td>\n",
       "      <td>1</td>\n",
       "      <td>1</td>\n",
       "      <td>1</td>\n",
       "      <td>1</td>\n",
       "      <td>1</td>\n",
       "      <td>1</td>\n",
       "      <td>AugMix + WideResNet</td>\n",
       "      <td>NaN</td>\n",
       "      <td>0.128841</td>\n",
       "      <td>5.527439</td>\n",
       "      <td>0.961300</td>\n",
       "      <td>0.5991</td>\n",
       "      <td>NaN</td>\n",
       "    </tr>\n",
       "    <tr>\n",
       "      <th>2</th>\n",
       "      <td>2</td>\n",
       "      <td>2</td>\n",
       "      <td>2</td>\n",
       "      <td>2</td>\n",
       "      <td>2</td>\n",
       "      <td>2</td>\n",
       "      <td>CIFAR20: AugMix + ResNeXt</td>\n",
       "      <td>NaN</td>\n",
       "      <td>NaN</td>\n",
       "      <td>0.176471</td>\n",
       "      <td>1.087854</td>\n",
       "      <td>0.942850</td>\n",
       "      <td>0.7899</td>\n",
       "      <td>NaN</td>\n",
       "    </tr>\n",
       "    <tr>\n",
       "      <th>3</th>\n",
       "      <td>3</td>\n",
       "      <td>3</td>\n",
       "      <td>3</td>\n",
       "      <td>3</td>\n",
       "      <td>3</td>\n",
       "      <td>AugMix + ResNeXt</td>\n",
       "      <td>NaN</td>\n",
       "      <td>NaN</td>\n",
       "      <td>NaN</td>\n",
       "      <td>0.098891</td>\n",
       "      <td>1.820712</td>\n",
       "      <td>0.971225</td>\n",
       "      <td>0.6861</td>\n",
       "      <td>NaN</td>\n",
       "    </tr>\n",
       "    <tr>\n",
       "      <th>4</th>\n",
       "      <td>4</td>\n",
       "      <td>4</td>\n",
       "      <td>4</td>\n",
       "      <td>4</td>\n",
       "      <td>ShakeDrop_ResNeXt(\\n  (conv_1_3x3): Conv2d(3, ...</td>\n",
       "      <td>NaN</td>\n",
       "      <td>NaN</td>\n",
       "      <td>NaN</td>\n",
       "      <td>NaN</td>\n",
       "      <td>2.433157</td>\n",
       "      <td>2.180620</td>\n",
       "      <td>0.366200</td>\n",
       "      <td>0.4170</td>\n",
       "      <td>NaN</td>\n",
       "    </tr>\n",
       "    <tr>\n",
       "      <th>5</th>\n",
       "      <td>5</td>\n",
       "      <td>5</td>\n",
       "      <td>5</td>\n",
       "      <td>ShakeDrop_ResNeXt(\\n  (conv_1_3x3): Conv2d(3, ...</td>\n",
       "      <td>NaN</td>\n",
       "      <td>NaN</td>\n",
       "      <td>NaN</td>\n",
       "      <td>NaN</td>\n",
       "      <td>NaN</td>\n",
       "      <td>1.568217</td>\n",
       "      <td>2.292408</td>\n",
       "      <td>0.338542</td>\n",
       "      <td>0.3951</td>\n",
       "      <td>NaN</td>\n",
       "    </tr>\n",
       "    <tr>\n",
       "      <th>6</th>\n",
       "      <td>6</td>\n",
       "      <td>6</td>\n",
       "      <td>ShakeDrop_ResNeXt + Aug_CutMix + FineTuned v0</td>\n",
       "      <td>NaN</td>\n",
       "      <td>NaN</td>\n",
       "      <td>NaN</td>\n",
       "      <td>NaN</td>\n",
       "      <td>NaN</td>\n",
       "      <td>NaN</td>\n",
       "      <td>1.566814</td>\n",
       "      <td>2.536970</td>\n",
       "      <td>0.291981</td>\n",
       "      <td>0.3508</td>\n",
       "      <td>NaN</td>\n",
       "    </tr>\n",
       "    <tr>\n",
       "      <th>7</th>\n",
       "      <td>7</td>\n",
       "      <td>ShakeDrop_ResNeXt + FineTuned v0</td>\n",
       "      <td>NaN</td>\n",
       "      <td>NaN</td>\n",
       "      <td>NaN</td>\n",
       "      <td>NaN</td>\n",
       "      <td>NaN</td>\n",
       "      <td>NaN</td>\n",
       "      <td>NaN</td>\n",
       "      <td>2.515138</td>\n",
       "      <td>2.274765</td>\n",
       "      <td>0.348725</td>\n",
       "      <td>0.4006</td>\n",
       "      <td>NaN</td>\n",
       "    </tr>\n",
       "    <tr>\n",
       "      <th>8</th>\n",
       "      <td>ShakeDrop_ResNeXt + FineTuned v0</td>\n",
       "      <td>NaN</td>\n",
       "      <td>NaN</td>\n",
       "      <td>NaN</td>\n",
       "      <td>NaN</td>\n",
       "      <td>NaN</td>\n",
       "      <td>NaN</td>\n",
       "      <td>NaN</td>\n",
       "      <td>NaN</td>\n",
       "      <td>1.843574</td>\n",
       "      <td>2.723649</td>\n",
       "      <td>0.252912</td>\n",
       "      <td>0.3194</td>\n",
       "      <td>DataParallel(\\n  (module): ShakeDrop_ResNeXt(\\...</td>\n",
       "    </tr>\n",
       "    <tr>\n",
       "      <th>ShakeDrop_ResNeXt + FineTuned v1</th>\n",
       "      <td>NaN</td>\n",
       "      <td>NaN</td>\n",
       "      <td>NaN</td>\n",
       "      <td>NaN</td>\n",
       "      <td>NaN</td>\n",
       "      <td>NaN</td>\n",
       "      <td>NaN</td>\n",
       "      <td>NaN</td>\n",
       "      <td>NaN</td>\n",
       "      <td>2.035543</td>\n",
       "      <td>3.255401</td>\n",
       "      <td>0.175347</td>\n",
       "      <td>0.2165</td>\n",
       "      <td>DataParallel(\\n  (module): ShakeDrop_ResNeXt(\\...</td>\n",
       "    </tr>\n",
       "  </tbody>\n",
       "</table>\n",
       "</div>"
      ],
      "text/plain": [
       "                                                      Unnamed: 0.8  \\\n",
       "0                                                                0   \n",
       "1                                                                1   \n",
       "2                                                                2   \n",
       "3                                                                3   \n",
       "4                                                                4   \n",
       "5                                                                5   \n",
       "6                                                                6   \n",
       "7                                                                7   \n",
       "8                                 ShakeDrop_ResNeXt + FineTuned v0   \n",
       "ShakeDrop_ResNeXt + FineTuned v1                               NaN   \n",
       "\n",
       "                                                      Unnamed: 0.7  \\\n",
       "0                                                                0   \n",
       "1                                                                1   \n",
       "2                                                                2   \n",
       "3                                                                3   \n",
       "4                                                                4   \n",
       "5                                                                5   \n",
       "6                                                                6   \n",
       "7                                 ShakeDrop_ResNeXt + FineTuned v0   \n",
       "8                                                              NaN   \n",
       "ShakeDrop_ResNeXt + FineTuned v1                               NaN   \n",
       "\n",
       "                                                                   Unnamed: 0.6  \\\n",
       "0                                                                             0   \n",
       "1                                                                             1   \n",
       "2                                                                             2   \n",
       "3                                                                             3   \n",
       "4                                                                             4   \n",
       "5                                                                             5   \n",
       "6                                 ShakeDrop_ResNeXt + Aug_CutMix + FineTuned v0   \n",
       "7                                                                           NaN   \n",
       "8                                                                           NaN   \n",
       "ShakeDrop_ResNeXt + FineTuned v1                                            NaN   \n",
       "\n",
       "                                                                       Unnamed: 0.5  \\\n",
       "0                                                                                 0   \n",
       "1                                                                                 1   \n",
       "2                                                                                 2   \n",
       "3                                                                                 3   \n",
       "4                                                                                 4   \n",
       "5                                 ShakeDrop_ResNeXt(\\n  (conv_1_3x3): Conv2d(3, ...   \n",
       "6                                                                               NaN   \n",
       "7                                                                               NaN   \n",
       "8                                                                               NaN   \n",
       "ShakeDrop_ResNeXt + FineTuned v1                                                NaN   \n",
       "\n",
       "                                                                       Unnamed: 0.4  \\\n",
       "0                                                                                 0   \n",
       "1                                                                                 1   \n",
       "2                                                                                 2   \n",
       "3                                                                                 3   \n",
       "4                                 ShakeDrop_ResNeXt(\\n  (conv_1_3x3): Conv2d(3, ...   \n",
       "5                                                                               NaN   \n",
       "6                                                                               NaN   \n",
       "7                                                                               NaN   \n",
       "8                                                                               NaN   \n",
       "ShakeDrop_ResNeXt + FineTuned v1                                                NaN   \n",
       "\n",
       "                                      Unnamed: 0.3               Unnamed: 0.2  \\\n",
       "0                                                0                          0   \n",
       "1                                                1                          1   \n",
       "2                                                2  CIFAR20: AugMix + ResNeXt   \n",
       "3                                 AugMix + ResNeXt                        NaN   \n",
       "4                                              NaN                        NaN   \n",
       "5                                              NaN                        NaN   \n",
       "6                                              NaN                        NaN   \n",
       "7                                              NaN                        NaN   \n",
       "8                                              NaN                        NaN   \n",
       "ShakeDrop_ResNeXt + FineTuned v1               NaN                        NaN   \n",
       "\n",
       "                                         Unnamed: 0.1        Unnamed: 0  \\\n",
       "0                                                   0  AugMix + ResNeXt   \n",
       "1                                 AugMix + WideResNet               NaN   \n",
       "2                                                 NaN               NaN   \n",
       "3                                                 NaN               NaN   \n",
       "4                                                 NaN               NaN   \n",
       "5                                                 NaN               NaN   \n",
       "6                                                 NaN               NaN   \n",
       "7                                                 NaN               NaN   \n",
       "8                                                 NaN               NaN   \n",
       "ShakeDrop_ResNeXt + FineTuned v1                  NaN               NaN   \n",
       "\n",
       "                                  Train Loss  Val Loss  Train Acc  Val Acc  \\\n",
       "0                                   0.271326  1.637956   0.918275   0.6726   \n",
       "1                                   0.128841  5.527439   0.961300   0.5991   \n",
       "2                                   0.176471  1.087854   0.942850   0.7899   \n",
       "3                                   0.098891  1.820712   0.971225   0.6861   \n",
       "4                                   2.433157  2.180620   0.366200   0.4170   \n",
       "5                                   1.568217  2.292408   0.338542   0.3951   \n",
       "6                                   1.566814  2.536970   0.291981   0.3508   \n",
       "7                                   2.515138  2.274765   0.348725   0.4006   \n",
       "8                                   1.843574  2.723649   0.252912   0.3194   \n",
       "ShakeDrop_ResNeXt + FineTuned v1    2.035543  3.255401   0.175347   0.2165   \n",
       "\n",
       "                                                                              Model  \n",
       "0                                                                               NaN  \n",
       "1                                                                               NaN  \n",
       "2                                                                               NaN  \n",
       "3                                                                               NaN  \n",
       "4                                                                               NaN  \n",
       "5                                                                               NaN  \n",
       "6                                                                               NaN  \n",
       "7                                                                               NaN  \n",
       "8                                 DataParallel(\\n  (module): ShakeDrop_ResNeXt(\\...  \n",
       "ShakeDrop_ResNeXt + FineTuned v1  DataParallel(\\n  (module): ShakeDrop_ResNeXt(\\...  "
      ]
     },
     "metadata": {},
     "output_type": "display_data"
    }
   ],
   "source": [
    "if not MODEL_IMPROVE_DEBUG or True:\n",
    "\ttorch.cuda.empty_cache()\n",
    "\n",
    "\tval_data = TorchDataset(X_val, y_val)\n",
    "\tparam_list = list(ParameterSampler(param_grid, n_iter = 2))\n",
    "\n",
    "\ttrainer = Trainer()\n",
    "\n",
    "\titer_list = [dict((k, v) for (k, v) in d.items()) for d in param_list]\n",
    "\n",
    "\tbest_model = None\n",
    "\tbest_acc = 0\n",
    "\tfor i, params in enumerate(iter_list):\n",
    "\t\tprint(f'Params {i}: ', params)\n",
    "\n",
    "\t\timprove_train_data = TorchDataset(X_train, y_train, transform = t_extra_augmix) if params['data'][0] == 'augmented' else TorchDataset(X_train, y_train, transform = t_base)\n",
    "\n",
    "\t\tnew_model, acc = trainer.train_model(\n",
    "\t\t\tf'{params[\"model\"][0]()} + FineTuned v{i}', params[\"model\"][0], # model\n",
    "\t\t\tparams['optimizer'][0], {'lr': params['optimizer_lr'] * (GPU_COUNT) ** 0.5, 'weight_decay': params['optimizer_weight_decay'], **params['optimizer'][1]}, # optimizer\n",
    "\t\t\t# train_augmented_base_data, # data\n",
    "\t\t\timprove_train_data,\n",
    "\t\t\t# train_augmented_erase,\n",
    "\t\t\tearly_stopping = CustomEarlyStopping(patience = 3),\n",
    "\t\t\tmodel_args = params['model'][1],\n",
    "\t\t\tval_data = val_data,\n",
    "\t\t\tscheduler_pass = params['scheduler'][0],\n",
    "\t\t\tscheduler_args = params['scheduler'][1],\n",
    "\t\t\tverbose=True,\n",
    "\t\t\treturn_model = True,\n",
    "\t\t\treturn_results = True,\n",
    "\t\t\tbatch_size = batch_size * GPU_COUNT,\n",
    "\t\t\taugment = params['data'][1]\n",
    "\t\t)\n",
    "\n",
    "\t\ttrainer.archive(f'{params[\"model\"][0]()} + FineTuned v{i}')\n",
    "\t\tif acc > best_acc:\n",
    "\t\t\tbest_acc = acc\n",
    "\t\t\tbest_model = new_model\n",
    "\n",
    "\t\tdel new_model\n",
    "\t\ttorch.cuda.empty_cache()\n",
    "\n",
    "\tdisplay(trainer.history)\n",
    "\twith open('best_model.pkl', 'wb') as myfile:\n",
    "\t\tpickle.dump(best_model, myfile)"
   ]
  },
  {
   "cell_type": "markdown",
   "metadata": {},
   "source": [
    "We observe:"
   ]
  },
  {
   "cell_type": "code",
   "execution_count": 74,
   "metadata": {},
   "outputs": [
    {
     "ename": "FileNotFoundError",
     "evalue": "[Errno 2] No such file or directory: 'data/fashion-mnist_test.csv'",
     "output_type": "error",
     "traceback": [
      "\u001b[0;31m---------------------------------------------------------------------------\u001b[0m",
      "\u001b[0;31mFileNotFoundError\u001b[0m                         Traceback (most recent call last)",
      "\u001b[1;32mc:\\Users\\kenne\\Documents\\GitHub\\CIFAR100\\cifar_100 copy.ipynb Cell 158\u001b[0m in \u001b[0;36m<cell line: 4>\u001b[0;34m()\u001b[0m\n\u001b[1;32m      <a href='vscode-notebook-cell:/c%3A/Users/kenne/Documents/GitHub/CIFAR100/cifar_100%20copy.ipynb#Y425sZmlsZQ%3D%3D?line=0'>1</a>\u001b[0m torch\u001b[39m.\u001b[39mcuda\u001b[39m.\u001b[39mempty_cache()\n\u001b[1;32m      <a href='vscode-notebook-cell:/c%3A/Users/kenne/Documents/GitHub/CIFAR100/cifar_100%20copy.ipynb#Y425sZmlsZQ%3D%3D?line=2'>3</a>\u001b[0m \u001b[39m# Loading the test dataset.\u001b[39;00m\n\u001b[0;32m----> <a href='vscode-notebook-cell:/c%3A/Users/kenne/Documents/GitHub/CIFAR100/cifar_100%20copy.ipynb#Y425sZmlsZQ%3D%3D?line=3'>4</a>\u001b[0m test \u001b[39m=\u001b[39m pd\u001b[39m.\u001b[39;49mread_csv(\u001b[39m\"\u001b[39;49m\u001b[39mdata/fashion-mnist_test.csv\u001b[39;49m\u001b[39m\"\u001b[39;49m)\n\u001b[1;32m      <a href='vscode-notebook-cell:/c%3A/Users/kenne/Documents/GitHub/CIFAR100/cifar_100%20copy.ipynb#Y425sZmlsZQ%3D%3D?line=4'>5</a>\u001b[0m test[test\u001b[39m.\u001b[39mcolumns[test\u001b[39m.\u001b[39mcolumns \u001b[39m!=\u001b[39m \u001b[39m'\u001b[39m\u001b[39mlabel\u001b[39m\u001b[39m'\u001b[39m]] \u001b[39m=\u001b[39m preprocess(test[test\u001b[39m.\u001b[39mcolumns[test\u001b[39m.\u001b[39mcolumns \u001b[39m!=\u001b[39m \u001b[39m'\u001b[39m\u001b[39mlabel\u001b[39m\u001b[39m'\u001b[39m]])\n\u001b[1;32m      <a href='vscode-notebook-cell:/c%3A/Users/kenne/Documents/GitHub/CIFAR100/cifar_100%20copy.ipynb#Y425sZmlsZQ%3D%3D?line=5'>6</a>\u001b[0m test_data \u001b[39m=\u001b[39m TorchDataset(test\u001b[39m.\u001b[39mdrop(\u001b[39m'\u001b[39m\u001b[39mlabel\u001b[39m\u001b[39m'\u001b[39m, axis\u001b[39m=\u001b[39m\u001b[39m1\u001b[39m), test[\u001b[39m'\u001b[39m\u001b[39mlabel\u001b[39m\u001b[39m'\u001b[39m])\n",
      "File \u001b[0;32m/opt/conda/lib/python3.9/site-packages/pandas/util/_decorators.py:211\u001b[0m, in \u001b[0;36mdeprecate_kwarg.<locals>._deprecate_kwarg.<locals>.wrapper\u001b[0;34m(*args, **kwargs)\u001b[0m\n\u001b[1;32m    209\u001b[0m     \u001b[39melse\u001b[39;00m:\n\u001b[1;32m    210\u001b[0m         kwargs[new_arg_name] \u001b[39m=\u001b[39m new_arg_value\n\u001b[0;32m--> 211\u001b[0m \u001b[39mreturn\u001b[39;00m func(\u001b[39m*\u001b[39;49margs, \u001b[39m*\u001b[39;49m\u001b[39m*\u001b[39;49mkwargs)\n",
      "File \u001b[0;32m/opt/conda/lib/python3.9/site-packages/pandas/util/_decorators.py:331\u001b[0m, in \u001b[0;36mdeprecate_nonkeyword_arguments.<locals>.decorate.<locals>.wrapper\u001b[0;34m(*args, **kwargs)\u001b[0m\n\u001b[1;32m    325\u001b[0m \u001b[39mif\u001b[39;00m \u001b[39mlen\u001b[39m(args) \u001b[39m>\u001b[39m num_allow_args:\n\u001b[1;32m    326\u001b[0m     warnings\u001b[39m.\u001b[39mwarn(\n\u001b[1;32m    327\u001b[0m         msg\u001b[39m.\u001b[39mformat(arguments\u001b[39m=\u001b[39m_format_argument_list(allow_args)),\n\u001b[1;32m    328\u001b[0m         \u001b[39mFutureWarning\u001b[39;00m,\n\u001b[1;32m    329\u001b[0m         stacklevel\u001b[39m=\u001b[39mfind_stack_level(),\n\u001b[1;32m    330\u001b[0m     )\n\u001b[0;32m--> 331\u001b[0m \u001b[39mreturn\u001b[39;00m func(\u001b[39m*\u001b[39;49margs, \u001b[39m*\u001b[39;49m\u001b[39m*\u001b[39;49mkwargs)\n",
      "File \u001b[0;32m/opt/conda/lib/python3.9/site-packages/pandas/io/parsers/readers.py:950\u001b[0m, in \u001b[0;36mread_csv\u001b[0;34m(filepath_or_buffer, sep, delimiter, header, names, index_col, usecols, squeeze, prefix, mangle_dupe_cols, dtype, engine, converters, true_values, false_values, skipinitialspace, skiprows, skipfooter, nrows, na_values, keep_default_na, na_filter, verbose, skip_blank_lines, parse_dates, infer_datetime_format, keep_date_col, date_parser, dayfirst, cache_dates, iterator, chunksize, compression, thousands, decimal, lineterminator, quotechar, quoting, doublequote, escapechar, comment, encoding, encoding_errors, dialect, error_bad_lines, warn_bad_lines, on_bad_lines, delim_whitespace, low_memory, memory_map, float_precision, storage_options)\u001b[0m\n\u001b[1;32m    935\u001b[0m kwds_defaults \u001b[39m=\u001b[39m _refine_defaults_read(\n\u001b[1;32m    936\u001b[0m     dialect,\n\u001b[1;32m    937\u001b[0m     delimiter,\n\u001b[0;32m   (...)\u001b[0m\n\u001b[1;32m    946\u001b[0m     defaults\u001b[39m=\u001b[39m{\u001b[39m\"\u001b[39m\u001b[39mdelimiter\u001b[39m\u001b[39m\"\u001b[39m: \u001b[39m\"\u001b[39m\u001b[39m,\u001b[39m\u001b[39m\"\u001b[39m},\n\u001b[1;32m    947\u001b[0m )\n\u001b[1;32m    948\u001b[0m kwds\u001b[39m.\u001b[39mupdate(kwds_defaults)\n\u001b[0;32m--> 950\u001b[0m \u001b[39mreturn\u001b[39;00m _read(filepath_or_buffer, kwds)\n",
      "File \u001b[0;32m/opt/conda/lib/python3.9/site-packages/pandas/io/parsers/readers.py:605\u001b[0m, in \u001b[0;36m_read\u001b[0;34m(filepath_or_buffer, kwds)\u001b[0m\n\u001b[1;32m    602\u001b[0m _validate_names(kwds\u001b[39m.\u001b[39mget(\u001b[39m\"\u001b[39m\u001b[39mnames\u001b[39m\u001b[39m\"\u001b[39m, \u001b[39mNone\u001b[39;00m))\n\u001b[1;32m    604\u001b[0m \u001b[39m# Create the parser.\u001b[39;00m\n\u001b[0;32m--> 605\u001b[0m parser \u001b[39m=\u001b[39m TextFileReader(filepath_or_buffer, \u001b[39m*\u001b[39;49m\u001b[39m*\u001b[39;49mkwds)\n\u001b[1;32m    607\u001b[0m \u001b[39mif\u001b[39;00m chunksize \u001b[39mor\u001b[39;00m iterator:\n\u001b[1;32m    608\u001b[0m     \u001b[39mreturn\u001b[39;00m parser\n",
      "File \u001b[0;32m/opt/conda/lib/python3.9/site-packages/pandas/io/parsers/readers.py:1442\u001b[0m, in \u001b[0;36mTextFileReader.__init__\u001b[0;34m(self, f, engine, **kwds)\u001b[0m\n\u001b[1;32m   1439\u001b[0m     \u001b[39mself\u001b[39m\u001b[39m.\u001b[39moptions[\u001b[39m\"\u001b[39m\u001b[39mhas_index_names\u001b[39m\u001b[39m\"\u001b[39m] \u001b[39m=\u001b[39m kwds[\u001b[39m\"\u001b[39m\u001b[39mhas_index_names\u001b[39m\u001b[39m\"\u001b[39m]\n\u001b[1;32m   1441\u001b[0m \u001b[39mself\u001b[39m\u001b[39m.\u001b[39mhandles: IOHandles \u001b[39m|\u001b[39m \u001b[39mNone\u001b[39;00m \u001b[39m=\u001b[39m \u001b[39mNone\u001b[39;00m\n\u001b[0;32m-> 1442\u001b[0m \u001b[39mself\u001b[39m\u001b[39m.\u001b[39m_engine \u001b[39m=\u001b[39m \u001b[39mself\u001b[39;49m\u001b[39m.\u001b[39;49m_make_engine(f, \u001b[39mself\u001b[39;49m\u001b[39m.\u001b[39;49mengine)\n",
      "File \u001b[0;32m/opt/conda/lib/python3.9/site-packages/pandas/io/parsers/readers.py:1735\u001b[0m, in \u001b[0;36mTextFileReader._make_engine\u001b[0;34m(self, f, engine)\u001b[0m\n\u001b[1;32m   1733\u001b[0m     \u001b[39mif\u001b[39;00m \u001b[39m\"\u001b[39m\u001b[39mb\u001b[39m\u001b[39m\"\u001b[39m \u001b[39mnot\u001b[39;00m \u001b[39min\u001b[39;00m mode:\n\u001b[1;32m   1734\u001b[0m         mode \u001b[39m+\u001b[39m\u001b[39m=\u001b[39m \u001b[39m\"\u001b[39m\u001b[39mb\u001b[39m\u001b[39m\"\u001b[39m\n\u001b[0;32m-> 1735\u001b[0m \u001b[39mself\u001b[39m\u001b[39m.\u001b[39mhandles \u001b[39m=\u001b[39m get_handle(\n\u001b[1;32m   1736\u001b[0m     f,\n\u001b[1;32m   1737\u001b[0m     mode,\n\u001b[1;32m   1738\u001b[0m     encoding\u001b[39m=\u001b[39;49m\u001b[39mself\u001b[39;49m\u001b[39m.\u001b[39;49moptions\u001b[39m.\u001b[39;49mget(\u001b[39m\"\u001b[39;49m\u001b[39mencoding\u001b[39;49m\u001b[39m\"\u001b[39;49m, \u001b[39mNone\u001b[39;49;00m),\n\u001b[1;32m   1739\u001b[0m     compression\u001b[39m=\u001b[39;49m\u001b[39mself\u001b[39;49m\u001b[39m.\u001b[39;49moptions\u001b[39m.\u001b[39;49mget(\u001b[39m\"\u001b[39;49m\u001b[39mcompression\u001b[39;49m\u001b[39m\"\u001b[39;49m, \u001b[39mNone\u001b[39;49;00m),\n\u001b[1;32m   1740\u001b[0m     memory_map\u001b[39m=\u001b[39;49m\u001b[39mself\u001b[39;49m\u001b[39m.\u001b[39;49moptions\u001b[39m.\u001b[39;49mget(\u001b[39m\"\u001b[39;49m\u001b[39mmemory_map\u001b[39;49m\u001b[39m\"\u001b[39;49m, \u001b[39mFalse\u001b[39;49;00m),\n\u001b[1;32m   1741\u001b[0m     is_text\u001b[39m=\u001b[39;49mis_text,\n\u001b[1;32m   1742\u001b[0m     errors\u001b[39m=\u001b[39;49m\u001b[39mself\u001b[39;49m\u001b[39m.\u001b[39;49moptions\u001b[39m.\u001b[39;49mget(\u001b[39m\"\u001b[39;49m\u001b[39mencoding_errors\u001b[39;49m\u001b[39m\"\u001b[39;49m, \u001b[39m\"\u001b[39;49m\u001b[39mstrict\u001b[39;49m\u001b[39m\"\u001b[39;49m),\n\u001b[1;32m   1743\u001b[0m     storage_options\u001b[39m=\u001b[39;49m\u001b[39mself\u001b[39;49m\u001b[39m.\u001b[39;49moptions\u001b[39m.\u001b[39;49mget(\u001b[39m\"\u001b[39;49m\u001b[39mstorage_options\u001b[39;49m\u001b[39m\"\u001b[39;49m, \u001b[39mNone\u001b[39;49;00m),\n\u001b[1;32m   1744\u001b[0m )\n\u001b[1;32m   1745\u001b[0m \u001b[39massert\u001b[39;00m \u001b[39mself\u001b[39m\u001b[39m.\u001b[39mhandles \u001b[39mis\u001b[39;00m \u001b[39mnot\u001b[39;00m \u001b[39mNone\u001b[39;00m\n\u001b[1;32m   1746\u001b[0m f \u001b[39m=\u001b[39m \u001b[39mself\u001b[39m\u001b[39m.\u001b[39mhandles\u001b[39m.\u001b[39mhandle\n",
      "File \u001b[0;32m/opt/conda/lib/python3.9/site-packages/pandas/io/common.py:856\u001b[0m, in \u001b[0;36mget_handle\u001b[0;34m(path_or_buf, mode, encoding, compression, memory_map, is_text, errors, storage_options)\u001b[0m\n\u001b[1;32m    851\u001b[0m \u001b[39melif\u001b[39;00m \u001b[39misinstance\u001b[39m(handle, \u001b[39mstr\u001b[39m):\n\u001b[1;32m    852\u001b[0m     \u001b[39m# Check whether the filename is to be opened in binary mode.\u001b[39;00m\n\u001b[1;32m    853\u001b[0m     \u001b[39m# Binary mode does not support 'encoding' and 'newline'.\u001b[39;00m\n\u001b[1;32m    854\u001b[0m     \u001b[39mif\u001b[39;00m ioargs\u001b[39m.\u001b[39mencoding \u001b[39mand\u001b[39;00m \u001b[39m\"\u001b[39m\u001b[39mb\u001b[39m\u001b[39m\"\u001b[39m \u001b[39mnot\u001b[39;00m \u001b[39min\u001b[39;00m ioargs\u001b[39m.\u001b[39mmode:\n\u001b[1;32m    855\u001b[0m         \u001b[39m# Encoding\u001b[39;00m\n\u001b[0;32m--> 856\u001b[0m         handle \u001b[39m=\u001b[39m \u001b[39mopen\u001b[39;49m(\n\u001b[1;32m    857\u001b[0m             handle,\n\u001b[1;32m    858\u001b[0m             ioargs\u001b[39m.\u001b[39;49mmode,\n\u001b[1;32m    859\u001b[0m             encoding\u001b[39m=\u001b[39;49mioargs\u001b[39m.\u001b[39;49mencoding,\n\u001b[1;32m    860\u001b[0m             errors\u001b[39m=\u001b[39;49merrors,\n\u001b[1;32m    861\u001b[0m             newline\u001b[39m=\u001b[39;49m\u001b[39m\"\u001b[39;49m\u001b[39m\"\u001b[39;49m,\n\u001b[1;32m    862\u001b[0m         )\n\u001b[1;32m    863\u001b[0m     \u001b[39melse\u001b[39;00m:\n\u001b[1;32m    864\u001b[0m         \u001b[39m# Binary mode\u001b[39;00m\n\u001b[1;32m    865\u001b[0m         handle \u001b[39m=\u001b[39m \u001b[39mopen\u001b[39m(handle, ioargs\u001b[39m.\u001b[39mmode)\n",
      "\u001b[0;31mFileNotFoundError\u001b[0m: [Errno 2] No such file or directory: 'data/fashion-mnist_test.csv'"
     ]
    }
   ],
   "source": [
    "torch.cuda.empty_cache()\n",
    "\n",
    "# Loading the test dataset.\n",
    "test = pd.read_csv(\"data/fashion-mnist_test.csv\")\n",
    "test[test.columns[test.columns != 'label']] = preprocess(test[test.columns[test.columns != 'label']])\n",
    "test_data = TorchDataset(test.drop('label', axis=1), test['label'])\n",
    "test_loader = DataLoader(test_data, batch_size=128, shuffle=True)\n",
    "\n",
    "# Performing inference\n",
    "test_acc_count = 0\n",
    "total_sample = 0\n",
    "\n",
    "input_list = []\n",
    "output = []\n",
    "label = []\n",
    "\n",
    "for i, data in enumerate(test_loader):\n",
    "\tinputs, labels = data                             \n",
    "\tinputs = inputs.to(device)\n",
    "\tlabels = labels.to(device)\n",
    "\n",
    "\toutputs = best_model(inputs)\n",
    "    \n",
    "\tinput_list.append(inputs.detach().cpu().numpy())    \n",
    "\tlabel.append(labels.detach().cpu().numpy())\n",
    "\toutput.append(outputs.detach().cpu().numpy())\n",
    "\ttest_acc_count += accurate_count(outputs, labels)\n",
    "\ttotal_sample += len(labels)\n",
    "\n",
    "\ttest_acc = test_acc_count / total_sample\n",
    "\n",
    "\n",
    "print(\"Final Model | Test Accuracy:\", test_acc)"
   ]
  },
  {
   "cell_type": "code",
   "execution_count": null,
   "metadata": {},
   "outputs": [],
   "source": []
  },
  {
   "cell_type": "markdown",
   "metadata": {},
   "source": [
    "#### 10 images with the largest error\n",
    "Let's take a look at what images have the largest error. To do this, we'll perform inference and find the images that produce the <strong>largest Cross-Entropy Loss</strong> and are <strong>incorrect</strong>."
   ]
  },
  {
   "cell_type": "code",
   "execution_count": null,
   "metadata": {},
   "outputs": [
    {
     "ename": "NameError",
     "evalue": "name 'label' is not defined",
     "output_type": "error",
     "traceback": [
      "\u001b[0;31m---------------------------------------------------------------------------\u001b[0m",
      "\u001b[0;31mNameError\u001b[0m                                 Traceback (most recent call last)",
      "\u001b[1;32mc:\\Users\\kenne\\Documents\\GitHub\\CIFAR100\\cifar_100 copy.ipynb Cell 161\u001b[0m in \u001b[0;36m<cell line: 2>\u001b[0;34m()\u001b[0m\n\u001b[1;32m      <a href='vscode-notebook-cell:/c%3A/Users/kenne/Documents/GitHub/CIFAR100/cifar_100%20copy.ipynb#Y326sZmlsZQ%3D%3D?line=0'>1</a>\u001b[0m arr \u001b[39m=\u001b[39m []\n\u001b[1;32m      <a href='vscode-notebook-cell:/c%3A/Users/kenne/Documents/GitHub/CIFAR100/cifar_100%20copy.ipynb#Y326sZmlsZQ%3D%3D?line=1'>2</a>\u001b[0m \u001b[39mfor\u001b[39;00m i \u001b[39min\u001b[39;00m \u001b[39mrange\u001b[39m(\u001b[39m0\u001b[39m, \u001b[39m100\u001b[39m):\n\u001b[0;32m----> <a href='vscode-notebook-cell:/c%3A/Users/kenne/Documents/GitHub/CIFAR100/cifar_100%20copy.ipynb#Y326sZmlsZQ%3D%3D?line=2'>3</a>\u001b[0m \tidx \u001b[39m=\u001b[39m np\u001b[39m.\u001b[39marray(\u001b[39mlist\u001b[39m(\u001b[39mmap\u001b[39m(\u001b[39mlambda\u001b[39;00m x: np\u001b[39m.\u001b[39margmax(x), label))) \u001b[39m==\u001b[39m i\n\u001b[1;32m      <a href='vscode-notebook-cell:/c%3A/Users/kenne/Documents/GitHub/CIFAR100/cifar_100%20copy.ipynb#Y326sZmlsZQ%3D%3D?line=3'>4</a>\u001b[0m \toutput_arr \u001b[39m=\u001b[39m np\u001b[39m.\u001b[39marray(\u001b[39mlist\u001b[39m(\u001b[39mmap\u001b[39m(\u001b[39mlambda\u001b[39;00m x: np\u001b[39m.\u001b[39margmax(x), output[idx])))\n\u001b[1;32m      <a href='vscode-notebook-cell:/c%3A/Users/kenne/Documents/GitHub/CIFAR100/cifar_100%20copy.ipynb#Y326sZmlsZQ%3D%3D?line=4'>5</a>\u001b[0m \tarr\u001b[39m.\u001b[39mappend([classes[i], (output_arr \u001b[39m==\u001b[39m i)\u001b[39m.\u001b[39msum() \u001b[39m/\u001b[39m \u001b[39mlen\u001b[39m(output_arr)])\n",
      "\u001b[0;31mNameError\u001b[0m: name 'label' is not defined"
     ]
    }
   ],
   "source": [
    "arr = []\n",
    "for i in range(0, 100):\n",
    "\tidx = np.array(list(map(lambda x: np.argmax(x), label))) == i\n",
    "\toutput_arr = np.array(list(map(lambda x: np.argmax(x), output[idx])))\n",
    "\tarr.append([classes[i], (output_arr == i).sum() / len(output_arr)])\n",
    "\n",
    "pd.DataFrame(arr, columns = ['Item', 'Accuracy']).sort_values(by='Accuracy')"
   ]
  },
  {
   "cell_type": "markdown",
   "metadata": {},
   "source": [
    "### Conclusion\n",
    "\n",
    "Author: Kenneth Chen"
   ]
  }
 ],
 "metadata": {
  "kernelspec": {
   "display_name": "Python 3 (ipykernel)",
   "language": "python",
   "name": "python3"
  },
  "language_info": {
   "codemirror_mode": {
    "name": "ipython",
    "version": 3
   },
   "file_extension": ".py",
   "mimetype": "text/x-python",
   "name": "python",
   "nbconvert_exporter": "python",
   "pygments_lexer": "ipython3",
   "version": "3.9.12"
  },
  "vscode": {
   "interpreter": {
    "hash": "4d19efe0496419facc97fd7ea20d5d3a0b9c1bdc9473c8f87e1305d92cacb204"
   }
  }
 },
 "nbformat": 4,
 "nbformat_minor": 2
}
