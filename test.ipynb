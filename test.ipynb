{
 "cells": [
  {
   "cell_type": "code",
   "execution_count": 1,
   "metadata": {},
   "outputs": [
    {
     "name": "stderr",
     "output_type": "stream",
     "text": [
      "c:\\Users\\kenne\\anaconda3\\envs\\pytorch\\lib\\site-packages\\tqdm\\auto.py:22: TqdmWarning: IProgress not found. Please update jupyter and ipywidgets. See https://ipywidgets.readthedocs.io/en/stable/user_install.html\n",
      "  from .autonotebook import tqdm as notebook_tqdm\n"
     ]
    }
   ],
   "source": [
    "import pandas as pd\n",
    "import numpy as np\n",
    "import matplotlib.pyplot as plt\n",
    "import copy\n",
    "import math\n",
    "import seaborn as sns\n",
    "sns.set('notebook')\n",
    "import random\n",
    "import pickle\n",
    "\n",
    "from sklearn.manifold import TSNE\n",
    "\n",
    "import torch\n",
    "from torch import nn, optim, einsum\n",
    "from torchvision import transforms\n",
    "from torch.utils.data import DataLoader\n",
    "\n",
    "from sklearn.model_selection import train_test_split\n",
    "import os\n",
    "\n",
    "from einops import rearrange, repeat\n",
    "from einops.layers.torch import Rearrange\n"
   ]
  },
  {
   "cell_type": "code",
   "execution_count": 2,
   "metadata": {},
   "outputs": [],
   "source": [
    "def unpickle(file):\n",
    "    import pickle\n",
    "    with open(file, 'rb') as fo:\n",
    "        dict = pickle.load(fo, encoding='bytes')\n",
    "    return dict\n",
    "\n",
    "metadata_path = 'data/meta'\n",
    "metadata = unpickle(metadata_path)\n",
    "superclass_dict = dict(list(enumerate(metadata[b'coarse_label_names'])))\n",
    "\n",
    "data_pre_path = 'data/'\n",
    "\n",
    "# File paths\n",
    "data_train_path = data_pre_path + 'train'\n",
    "data_test_path = data_pre_path + 'test'\n",
    "# Read dictionary\n",
    "data_train_dict = unpickle(data_train_path)\n",
    "data_test_dict = unpickle(data_test_path)\n",
    "# Get data (change the coarse_labels if you want to use the 100 classes)\n",
    "X_train = pd.DataFrame(data_train_dict[b'data'])\n",
    "y_train = pd.DataFrame(np.array(data_train_dict[b'fine_labels']))\n",
    "y_train_coarse = pd.DataFrame(np.array(data_train_dict[b'coarse_labels']))\n",
    "X_test = pd.DataFrame(data_test_dict[b'data'])\n",
    "y_test = pd.DataFrame(np.array(data_test_dict[b'fine_labels']))\n",
    "y_test_coarse = pd.DataFrame(np.array(data_test_dict[b'coarse_labels']))\n",
    "\n",
    "classes = np.array(list(map(lambda x: x.decode('utf-8'), metadata[b'fine_label_names'])))\n",
    "coarse_classes = np.array(list(map(lambda x: x.decode('utf-8'), metadata[b'coarse_label_names'])))\n"
   ]
  },
  {
   "cell_type": "code",
   "execution_count": 3,
   "metadata": {},
   "outputs": [],
   "source": [
    "temp = np.transpose(X_train.values.reshape((-1, 3, 32, 32)), axes=[0,2,3,1])\n",
    "X_train = pd.DataFrame(X_train.values.reshape(-1, 3072))\n",
    "\n",
    "temp = np.transpose(X_test.values.reshape((-1, 3, 32, 32)), axes=[0,2,3,1])\n",
    "X_test = pd.DataFrame(X_test.values.reshape(-1, 3072))\n"
   ]
  },
  {
   "cell_type": "code",
   "execution_count": 4,
   "metadata": {},
   "outputs": [],
   "source": [
    "def loc_data(data, loc):\n",
    "\tdatacopy = copy.deepcopy(data)\n",
    "\tarr = np.array(datacopy.loc[loc].drop('label'))\n",
    "\tlabel = datacopy.loc[loc]['label']\n",
    "\troot = int(len(arr) ** 0.5)\n",
    "\tarr.resize((root, root))\n",
    "\treturn label, arr\n",
    "\n",
    "def imshow(arr: list, label: list = None, figsize=None, shape = (32, 32, 3), is_int = None):\n",
    "\tif is_int == None:\n",
    "\t\tif type(arr[0]) == torch.Tensor:\n",
    "\t\t\tis_int = (arr[0].detach().cpu().numpy() > 1).sum() > 0\n",
    "\t\telse:\n",
    "\t\t\tis_int = (arr[0] > 1).sum() > 0\n",
    "\tif label == None:\n",
    "\t\tlabel = [''] * len(arr)\n",
    "\n",
    "\theight = int(len(arr) ** 0.5)\n",
    "\twidth = math.ceil(len(arr) / height)\n",
    "\n",
    "\tif figsize == None:\n",
    "\t\tfig = plt.figure()\n",
    "\telse:\n",
    "\t\tfig = plt.figure(figsize=figsize)\n",
    "\tfor i in range(height):\n",
    "\t\tfor j in range(width):\n",
    "\t\t\tax = fig.add_subplot(height, width, i * height + j + 1)\n",
    "\t\t\tax.grid(False)\n",
    "\t\t\tax.set_xticks([])\n",
    "\t\t\tax.set_yticks([])\n",
    "\t\t\tshow = arr[i * height + j]\n",
    "\t\t\tif type(arr[i * height + j]) != torch.Tensor:\n",
    "\t\t\t\tshow = torch.Tensor(show)\n",
    "\t\t\t\t# ax.imshow((arr[i * height + j].squeeze(0).cpu().permute(1, 2, 0) / 255).type(torch.uint8 if is_int else float))\n",
    "\t\t\t# if (show.shape[0] == 1):\n",
    "\t\t\t# \tax.imshow((show.squeeze(0).cpu()).type(torch.uint8 if is_int else torch.float), cmap='gray')\n",
    "\t\t\t# else:\n",
    "\t\t\tif len(show.squeeze(0).cpu().shape) == 2:\n",
    "\t\t\t\tax.imshow((show.squeeze(0).detach().cpu()).type(torch.uint8 if is_int else torch.float), cmap='gray')\n",
    "\t\t\telse:\n",
    "\t\t\t\tax.imshow((show.squeeze(0).detach().cpu().permute(1,2,0)).type(torch.uint8 if is_int else torch.float))\n",
    "\t\t\tax.set_title(label[i * height + j])\n",
    "\n",
    "def df_to_tensor(df, shape = (28, 28)):\n",
    "\treturn torch.tensor(df.values.reshape((-1, *shape)), dtype=torch.float32)\n",
    "\n",
    "def preprocess(df):\n",
    "\treturn df.copy() / 255\n",
    "\n",
    "def mse(t1, t2, shape=(28, 28)):\n",
    "\tloss = nn.MSELoss(reduction='none')\n",
    "\tloss_result = torch.sum(loss(t1, t2), dim=2)\n",
    "\tloss_result = torch.sum(loss_result, dim=2)\n",
    "\tloss_result = loss_result / np.prod([*shape])\n",
    "\treturn loss_result\n"
   ]
  },
  {
   "cell_type": "code",
   "execution_count": 5,
   "metadata": {},
   "outputs": [],
   "source": [
    "def to_prob_dist(labels: torch.tensor, size = 100):\n",
    "\tarr = np.full((len(labels), size), 0)\n",
    "\tfor i, label in enumerate(labels):\n",
    "\t\tarr[i][int(label.item())] = 1\n",
    "\treturn torch.tensor(arr, dtype=torch.float32)\n",
    "\n",
    "class TorchDataset(torch.utils.data.Dataset):\n",
    "\tdef __init__(self, X, y, X_shape = (3, 32, 32), y_shape = (1, ), y_size = 100, transform = None):\n",
    "\t\tif (type(X) == torch.Tensor):\n",
    "\t\t\tself.x = X\n",
    "\t\telse:\n",
    "\t\t\tself.x = df_to_tensor(X, X_shape)\n",
    "\n",
    "\t\tself.transform = transform\n",
    "            \n",
    "\t\tif (type(y) == torch.Tensor):\n",
    "\t\t\tself.y = y\n",
    "\t\telse:\n",
    "\t\t\tself.y = df_to_tensor(y, y_shape)\n",
    "\t\t\tself.y = to_prob_dist(self.y, y_size)\n",
    "\n",
    "\t\t# Transform labels to probability distributions\n",
    "\t\n",
    "\tdef __len__(self):\n",
    "\t\treturn len(self.y)\n",
    "\n",
    "\tdef __getitem__(self, idx):\n",
    "\t\tif torch.is_tensor(idx):\n",
    "\t\t\tidx = idx.tolist()\n",
    "\n",
    "\t\tselected = self.x[idx]\n",
    "            \n",
    "\t\tif self.transform:\n",
    "\t\t\tselected = self.transform(selected)\n",
    "        \n",
    "\t\treturn selected, self.y[idx]\n"
   ]
  },
  {
   "cell_type": "code",
   "execution_count": 6,
   "metadata": {},
   "outputs": [],
   "source": [
    "train_data = TorchDataset(X_train, y_train)"
   ]
  },
  {
   "cell_type": "code",
   "execution_count": 10,
   "metadata": {},
   "outputs": [
    {
     "data": {
      "image/png": "[encoded data removed]",
      "text/plain": [
       "<Figure size 640x480 with 1 Axes>"
      ]
     },
     "metadata": {},
     "output_type": "display_data"
    }
   ],
   "source": [
    "imshow([train_data.x[50]])"
   ]
  },
  {
   "cell_type": "code",
   "execution_count": null,
   "metadata": {},
   "outputs": [],
   "source": [
    "imshow([train_data.x[50]])"
   ]
  }
 ],
 "metadata": {
  "kernelspec": {
   "display_name": "Python 3.10.6 ('pytorch')",
   "language": "python",
   "name": "python3"
  },
  "language_info": {
   "codemirror_mode": {
    "name": "ipython",
    "version": 3
   },
   "file_extension": ".py",
   "mimetype": "text/x-python",
   "name": "python",
   "nbconvert_exporter": "python",
   "pygments_lexer": "ipython3",
   "version": "3.10.6"
  },
  "orig_nbformat": 4,
  "vscode": {
   "interpreter": {
    "hash": "4d19efe0496419facc97fd7ea20d5d3a0b9c1bdc9473c8f87e1305d92cacb204"
   }
  }
 },
 "nbformat": 4,
 "nbformat_minor": 2
}
