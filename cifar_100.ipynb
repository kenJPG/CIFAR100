{
 "cells": [
  {
   "cell_type": "code",
   "execution_count": 1,
   "metadata": {},
   "outputs": [],
   "source": [
    "DEBUG = True\n",
    "MODEL_DEBUG = True\n",
    "MODEL_IMPROVE_DEBUG = False\n",
    "GPU_COUNT = 2"
   ]
  },
  {
   "cell_type": "code",
   "execution_count": 2,
   "metadata": {},
   "outputs": [
    {
     "name": "stdout",
     "output_type": "stream",
     "text": [
      "\u001b[33mWARNING: Running pip as the 'root' user can result in broken permissions and conflicting behaviour with the system package manager. It is recommended to use a virtual environment instead: https://pip.pypa.io/warnings/venv\u001b[0m\n",
      "\u001b[33mWARNING: Running pip as the 'root' user can result in broken permissions and conflicting behaviour with the system package manager. It is recommended to use a virtual environment instead: https://pip.pypa.io/warnings/venv\u001b[0m\n",
      "\u001b[33mWARNING: Running pip as the 'root' user can result in broken permissions and conflicting behaviour with the system package manager. It is recommended to use a virtual environment instead: https://pip.pypa.io/warnings/venv\u001b[0m\n",
      "\u001b[33mWARNING: Running pip as the 'root' user can result in broken permissions and conflicting behaviour with the system package manager. It is recommended to use a virtual environment instead: https://pip.pypa.io/warnings/venv\u001b[0m\n",
      "\u001b[33mWARNING: Running pip as the 'root' user can result in broken permissions and conflicting behaviour with the system package manager. It is recommended to use a virtual environment instead: https://pip.pypa.io/warnings/venv\u001b[0m\n",
      "\u001b[33mWARNING: Running pip as the 'root' user can result in broken permissions and conflicting behaviour with the system package manager. It is recommended to use a virtual environment instead: https://pip.pypa.io/warnings/venv\u001b[0m\n",
      "\u001b[33mWARNING: Running pip as the 'root' user can result in broken permissions and conflicting behaviour with the system package manager. It is recommended to use a virtual environment instead: https://pip.pypa.io/warnings/venv\u001b[0m\n"
     ]
    }
   ],
   "source": [
    "!pip install -q einops\n",
    "!pip install -q pandas\n",
    "!pip install -q seaborn\n",
    "!pip install -q matplotlib\n",
    "!pip install -q opencv-python\n",
    "!pip install -q scikit-learn\n",
    "!pip install -q tqdm"
   ]
  },
  {
   "cell_type": "markdown",
   "metadata": {},
   "source": [
    "### References"
   ]
  },
  {
   "cell_type": "markdown",
   "metadata": {},
   "source": [
    "<img src=\"https://www.testdriller.com/pictures/blog/57043786ab6fa09.jpg\" width=700/>"
   ]
  },
  {
   "cell_type": "markdown",
   "metadata": {},
   "source": [
    "## CIFAR100 Classification\n",
    "\n",
    "> Can we develop a model that performs well on the benchmark dataset CIFAR100?"
   ]
  },
  {
   "cell_type": "markdown",
   "metadata": {},
   "source": [
    "### Context\n",
    "\n",
    "The CIFAR-100 dataset (Canadian Institute for Advanced Research) is a subset of the Tiny Images dataset and consists of <strong>60000</strong> <code>32x32</code> colour images in <strong>100</strong> classes, with <strong>600</strong> images per class. The <strong>100</strong> classes in the CIFAR-100 are <strong>grouped into 20 superclasses</strong>. Each image comes with a \"fine\" label (the class to which it belongs) and a \"coarse\" label (the superclass to which it belongs). There are <strong>50000 training images</strong> and <strong>10000 test images.</strong>\n",
    "\n",
    "Credit: <a href=\"https://www.kaggle.com/datasets/fedesoriano/cifar100?select=meta\">Kaggle Link</a>"
   ]
  },
  {
   "cell_type": "markdown",
   "metadata": {},
   "source": [
    "### Objectives\n",
    "\n",
    "<ol>\n",
    "\t<li>To explore and understand the CIFAR100 dataset</li>\n",
    "\t<li>Understand the effects of different data augmentation techniques on the performanceo f the model</li>\n",
    "\t<li>Discover new techniques and approaches as to tackle the <strong>3 color-channels (RGB) nature</strong> of the dataset.</li>\n",
    "\t<li>Develop and experiment with models in order to rival state-of-the-art (SOTA) benchmark scores.</li>\n",
    "</ol>"
   ]
  },
  {
   "cell_type": "markdown",
   "metadata": {},
   "source": [
    "## Importing Libraries\n",
    "We import the necessary libraries for the notebook to run below."
   ]
  },
  {
   "cell_type": "code",
   "execution_count": 3,
   "metadata": {},
   "outputs": [],
   "source": [
    "import pandas as pd\n",
    "import numpy as np\n",
    "import matplotlib.pyplot as plt\n",
    "import copy\n",
    "import math\n",
    "import seaborn as sns\n",
    "sns.set('notebook')\n",
    "import random\n",
    "\n",
    "from sklearn.manifold import TSNE\n",
    "\n",
    "import torch\n",
    "from torch import nn, optim, einsum\n",
    "from torchvision import transforms\n",
    "from torch.utils.data import DataLoader\n",
    "\n",
    "from sklearn.model_selection import train_test_split\n",
    "import os\n",
    "\n",
    "from einops import rearrange, repeat\n",
    "from einops.layers.torch import Rearrange\n"
   ]
  },
  {
   "cell_type": "markdown",
   "metadata": {},
   "source": [
    "We see the seed such that the notebook results in reproducible results when run.   \n",
    "We also set the device to CUDA to enable torch to use our GPU."
   ]
  },
  {
   "cell_type": "code",
   "execution_count": 4,
   "metadata": {},
   "outputs": [
    {
     "name": "stdout",
     "output_type": "stream",
     "text": [
      "Device available now: cuda\n"
     ]
    }
   ],
   "source": [
    "device = torch.device('cuda' if torch.cuda.is_available() else 'cpu')\n",
    "print('Device available now:', device)\n",
    "if device != torch.device('cuda'):\n",
    "\tprint('using cpu, exiting')\n",
    "\tassert False"
   ]
  },
  {
   "cell_type": "markdown",
   "metadata": {},
   "source": [
    "## Utility Functions\n",
    "Below we define some utility functions that will ease and help us with our analysis."
   ]
  },
  {
   "cell_type": "code",
   "execution_count": 5,
   "metadata": {},
   "outputs": [],
   "source": [
    "def loc_data(data, loc):\n",
    "\tdatacopy = copy.deepcopy(data)\n",
    "\tarr = np.array(datacopy.loc[loc].drop('label'))\n",
    "\tlabel = datacopy.loc[loc]['label']\n",
    "\troot = int(len(arr) ** 0.5)\n",
    "\tarr.resize((root, root))\n",
    "\treturn label, arr\n",
    "\n",
    "def imshow(arr: list, label: list = None, figsize=None, shape = (32, 32, 3), is_int = None):\n",
    "\tif is_int == None:\n",
    "\t\tif type(arr[0]) == torch.Tensor:\n",
    "\t\t\tis_int = (arr[0].detach().cpu().numpy() > 1).sum() > 0\n",
    "\t\telse:\n",
    "\t\t\tis_int = (arr[0] > 1).sum() > 0\n",
    "\tif label == None:\n",
    "\t\tlabel = [''] * len(arr)\n",
    "\n",
    "\theight = int(len(arr) ** 0.5)\n",
    "\twidth = math.ceil(len(arr) / height)\n",
    "\n",
    "\tif figsize == None:\n",
    "\t\tfig = plt.figure()\n",
    "\telse:\n",
    "\t\tfig = plt.figure(figsize=figsize)\n",
    "\tfor i in range(height):\n",
    "\t\tfor j in range(width):\n",
    "\t\t\tax = fig.add_subplot(height, width, i * height + j + 1)\n",
    "\t\t\tax.grid(False)\n",
    "\t\t\tax.set_xticks([])\n",
    "\t\t\tax.set_yticks([])\n",
    "\t\t\tshow = arr[i * height + j]\n",
    "\t\t\tif type(arr[i * height + j]) != torch.Tensor:\n",
    "\t\t\t\tshow = torch.Tensor(show)\n",
    "\t\t\t\t# ax.imshow((arr[i * height + j].squeeze(0).cpu().permute(1, 2, 0) / 255).type(torch.uint8 if is_int else float))\n",
    "\t\t\t# if (show.shape[0] == 1):\n",
    "\t\t\t# \tax.imshow((show.squeeze(0).cpu()).type(torch.uint8 if is_int else torch.float), cmap='gray')\n",
    "\t\t\t# else:\n",
    "\t\t\tif len(show.squeeze(0).cpu().shape) == 2:\n",
    "\t\t\t\tax.imshow((show.squeeze(0).detach().cpu()).type(torch.uint8 if is_int else torch.float), cmap='gray')\n",
    "\t\t\telse:\n",
    "\t\t\t\tax.imshow((show.squeeze(0).detach().cpu().permute(1,2,0)).type(torch.uint8 if is_int else torch.float))\n",
    "\t\t\tax.set_title(label[i * height + j])\n",
    "\n",
    "def df_to_tensor(df, shape = (28, 28)):\n",
    "\treturn torch.tensor(df.values.reshape((-1, *shape)), dtype=torch.float32)\n",
    "\n",
    "def preprocess(df):\n",
    "\treturn df.copy() / 255\n",
    "\n",
    "def mse(t1, t2, shape=(28, 28)):\n",
    "\tloss = nn.MSELoss(reduction='none')\n",
    "\tloss_result = torch.sum(loss(t1, t2), dim=2)\n",
    "\tloss_result = torch.sum(loss_result, dim=2)\n",
    "\tloss_result = loss_result / np.prod([*shape])\n",
    "\treturn loss_result"
   ]
  },
  {
   "cell_type": "markdown",
   "metadata": {},
   "source": [
    "## Dataset\n",
    "Let's take a look at the dataset. This dataset was retrieved from the Kaggle dataset found at <a href=\"https://www.kaggle.com/datasets/fedesoriano/cifar100\">Kaggle Link</a>. \n",
    "\n",
    "<table>\n",
    "\t<tr>\n",
    "\t\t<th>\n",
    "\t\t\tColumn Name\n",
    "\t\t</th>\n",
    "\t\t<th>\n",
    "\t\t\tDescription\n",
    "\t\t</th>\n",
    "\t</tr>\n",
    "\t<tr>\n",
    "\t\t<td>\n",
    "\t\t\tlabel\n",
    "\t\t</td>\n",
    "\t\t<td>\n",
    "\t\t\tThe true class of the image, represented as an integer ranging from 1 to 100<strong>*</strong>\n",
    "\t\t</td>\n",
    "\t</tr>\n",
    "\t<tr>\n",
    "\t\t<td>\n",
    "\t\t\tpixel 1<br/>...<br/>pixel 3072\n",
    "\t\t</td>\n",
    "\t\t<td>\n",
    "\t\t\tPixels representing the image, each pixel ranging from 0 to 255. Each image has a dimension of <code>32x32x3</code>.\n",
    "\t\t</td>\n",
    "\t</tr>\n",
    "</table>\n",
    "\n",
    "<strong>\\*</strong>Each number represents a certain dress item\n",
    "```\n",
    "1-5 -> beaver, dolphin, otter, seal, whale\n",
    "6-10 -> aquarium fish, flatfish, ray, shark, trout\n",
    "11-15 -> orchids, poppies, roses, sunflowers, tulips\n",
    "16-20 -> bottles, bowls, cans, cups, plates\n",
    "21-25 -> apples, mushrooms, oranges, pears, sweet peppers\n",
    "26-30 -> clock, computer keyboard, lamp, telephone, television\n",
    "31-35 -> bed, chair, couch, table, wardrobe\n",
    "36-40 -> bee, beetle, butterfly, caterpillar, cockroach\n",
    "41-45 -> bear, leopard, lion, tiger, wolf\n",
    "46-50 -> bridge, castle, house, road, skyscraper\n",
    "51-55 -> cloud, forest, mountain, plain, sea\n",
    "56-60 -> camel, cattle, chimpanzee, elephant, kangaroo\n",
    "61-65 -> fox, porcupine, possum, raccoon, skunk\n",
    "66-70 -> crab, lobster, snail, spider, worm\n",
    "71-75 -> baby, boy, girl, man, woman\n",
    "76-80 -> crocodile, dinosaur, lizard, snake, turtle\n",
    "81-85 -> hamster, mouse, rabbit, shrew, squirrel\n",
    "86-90 -> maple, oak, palm, pine, willow\n",
    "91-95 -> bicycle, bus, motorcycle, pickup truck, train\n",
    "96-100 -> lawn-mower, rocket, streetcar, tank, tractor\n",
    "```"
   ]
  },
  {
   "cell_type": "markdown",
   "metadata": {},
   "source": [
    "Below, we refer to the code provided by the official Kaggle link to extract and load the data from the files in the <code>data</code> folder."
   ]
  },
  {
   "cell_type": "code",
   "execution_count": 6,
   "metadata": {},
   "outputs": [],
   "source": [
    "def unpickle(file):\n",
    "    import pickle\n",
    "    with open(file, 'rb') as fo:\n",
    "        dict = pickle.load(fo, encoding='bytes')\n",
    "    return dict\n",
    "\n",
    "metadata_path = 'data/meta'\n",
    "metadata = unpickle(metadata_path)\n",
    "superclass_dict = dict(list(enumerate(metadata[b'coarse_label_names'])))\n",
    "\n",
    "data_pre_path = 'data/'\n",
    "\n",
    "# File paths\n",
    "data_train_path = data_pre_path + 'train'\n",
    "data_test_path = data_pre_path + 'test'\n",
    "# Read dictionary\n",
    "data_train_dict = unpickle(data_train_path)\n",
    "data_test_dict = unpickle(data_test_path)\n",
    "# Get data (change the coarse_labels if you want to use the 100 classes)\n",
    "X_train = pd.DataFrame(data_train_dict[b'data'])\n",
    "y_train = pd.DataFrame(np.array(data_train_dict[b'fine_labels']))\n",
    "y_train_coarse = pd.DataFrame(np.array(data_train_dict[b'coarse_labels']))\n",
    "X_test = pd.DataFrame(data_test_dict[b'data'])\n",
    "y_test = pd.DataFrame(np.array(data_test_dict[b'fine_labels']))\n",
    "y_test_coarse = pd.DataFrame(np.array(data_test_dict[b'coarse_labels']))\n",
    "\n",
    "classes = np.array(list(map(lambda x: x.decode('utf-8'), metadata[b'fine_label_names'])))\n",
    "coarse_classes = np.array(list(map(lambda x: x.decode('utf-8'), metadata[b'coarse_label_names'])))"
   ]
  },
  {
   "cell_type": "markdown",
   "metadata": {},
   "source": [
    "Let's take a look at the training dataset"
   ]
  },
  {
   "cell_type": "code",
   "execution_count": 7,
   "metadata": {},
   "outputs": [
    {
     "data": {
      "text/plain": [
       "(50000, 3072)"
      ]
     },
     "execution_count": 7,
     "metadata": {},
     "output_type": "execute_result"
    }
   ],
   "source": [
    "X_train.shape"
   ]
  },
  {
   "cell_type": "markdown",
   "metadata": {},
   "source": [
    "We observe that there are a total of <code>50000</code> rows and <code>3072</code> columns, with each of the columns representing <strong>a single pixel</strong>."
   ]
  },
  {
   "cell_type": "markdown",
   "metadata": {},
   "source": [
    "### Testing for missing values and invalid ata\n",
    "Let's try to identify if there are any missing values"
   ]
  },
  {
   "cell_type": "code",
   "execution_count": 8,
   "metadata": {},
   "outputs": [
    {
     "name": "stdout",
     "output_type": "stream",
     "text": [
      "Feature missing values: 0\n",
      "Label missing values: 0\n"
     ]
    }
   ],
   "source": [
    "print(\"Feature missing values:\",pd.DataFrame(X_train).isnull().sum().sum())\n",
    "print(\"Label missing values:\",pd.DataFrame(y_train).isnull().sum().sum())"
   ]
  },
  {
   "cell_type": "markdown",
   "metadata": {},
   "source": [
    "### Preprocessing\n",
    "We perform some transformations such that the channels and dimensions are in the correct format."
   ]
  },
  {
   "cell_type": "code",
   "execution_count": 9,
   "metadata": {},
   "outputs": [],
   "source": [
    "temp = np.transpose(X_train.values.reshape((-1, 3, 32, 32)), axes=[0,2,3,1])\n",
    "X_train = pd.DataFrame(X_train.values.reshape(-1, 3072))\n",
    "\n",
    "temp = np.transpose(X_test.values.reshape((-1, 3, 32, 32)), axes=[0,2,3,1])\n",
    "X_test = pd.DataFrame(X_test.values.reshape(-1, 3072))"
   ]
  },
  {
   "cell_type": "markdown",
   "metadata": {},
   "source": [
    "## Exploratory Data Analysis\n",
    "In this EDA we'll be attempting to complete the following set of objectives:\n",
    "\n",
    "### EDA Objectives\n",
    "<ol>\n",
    "\t<li>Is there any <strong>class imbalance</strong></li>\n",
    "\t<li>What does the <strong>average image</strong> look like?</li>\n",
    "\t<li>Are there <strong>any outlier/anomalies?</strong>\n",
    "</ol>\n",
    "\n",
    "Before we begin the EDA, we first need to remove a chunk of the training data to be used as validation dataset in order to avoid data leakage due to the decisions we make during EDA.\n",
    "\n",
    "### Validation Dataset\n",
    "Let's make our validation dataset. I decided that I will <strong>not be using cross validation during the modelling process</strong> due to the following reasons:\n",
    "<ul>\n",
    "\t<li>Time taken to train models, especially if utilising <strong>computationally expensive layers, activation functions or architecture</strong></li>\n",
    "\t<li>Additionally due to the sheer size of the dataset, not only does this add to increased training time but also means there is enough data such that cross validation is not necessary</li>\n",
    "</ul>"
   ]
  },
  {
   "cell_type": "markdown",
   "metadata": {},
   "source": [
    "Let's first <strong>take a look at the size of the test dataset</strong>. The shape of the test dataset will be used to <strong>determine the size of the validation set.</strong>"
   ]
  },
  {
   "cell_type": "code",
   "execution_count": 10,
   "metadata": {},
   "outputs": [
    {
     "data": {
      "text/plain": [
       "(10000, 3072)"
      ]
     },
     "execution_count": 10,
     "metadata": {},
     "output_type": "execute_result"
    }
   ],
   "source": [
    "X_test.shape"
   ]
  },
  {
   "cell_type": "markdown",
   "metadata": {},
   "source": [
    "As the test dataset has a length of <code>10000</code>, we'll <strong>also</strong> make our validation dataset <code>10000</code>."
   ]
  },
  {
   "cell_type": "code",
   "execution_count": 11,
   "metadata": {},
   "outputs": [],
   "source": [
    "X_train, X_val, y_train, y_val = train_test_split(X_train, y_train, test_size = 10000 / len(X_train), stratify=y_train)"
   ]
  },
  {
   "cell_type": "markdown",
   "metadata": {},
   "source": [
    "We'll also make sure to select the <strong>same coarse classes</strong>."
   ]
  },
  {
   "cell_type": "code",
   "execution_count": 12,
   "metadata": {},
   "outputs": [],
   "source": [
    "y_val_coarse = y_train_coarse.iloc[y_val.index]\n",
    "y_train_coarse = y_train_coarse.iloc[y_train.index]"
   ]
  },
  {
   "cell_type": "markdown",
   "metadata": {},
   "source": [
    "We'll use a validation size of <code>10000</code> to mimic the size of the test dataset. We'll also stratify on the <code>label</code> to ensure that the model we generalizes best across all \n",
    "the classes."
   ]
  },
  {
   "cell_type": "markdown",
   "metadata": {},
   "source": [
    "### Signs of class imbalance?\n",
    "We'll first identify the siutation with class imbalance"
   ]
  },
  {
   "cell_type": "code",
   "execution_count": 13,
   "metadata": {},
   "outputs": [
    {
     "data": {
      "text/plain": [
       "<AxesSubplot: ylabel='Count'>"
      ]
     },
     "execution_count": 13,
     "metadata": {},
     "output_type": "execute_result"
    },
    {
     "data": {
      "image/png": "[encoded data removed]",
      "text/plain": [
       "<Figure size 640x480 with 1 Axes>"
      ]
     },
     "metadata": {},
     "output_type": "display_data"
    }
   ],
   "source": [
    "sns.histplot(y_train, bins=10)"
   ]
  },
  {
   "cell_type": "markdown",
   "metadata": {},
   "source": [
    "We observe that there appears to be <strong>no sign</strong> of class imbalance for the fine labels. What about the coarse labels?"
   ]
  },
  {
   "cell_type": "code",
   "execution_count": 14,
   "metadata": {},
   "outputs": [
    {
     "data": {
      "text/plain": [
       "<AxesSubplot: ylabel='Count'>"
      ]
     },
     "execution_count": 14,
     "metadata": {},
     "output_type": "execute_result"
    },
    {
     "data": {
      "image/png": "[encoded data removed]",
      "text/plain": [
       "<Figure size 640x480 with 1 Axes>"
      ]
     },
     "metadata": {},
     "output_type": "display_data"
    }
   ],
   "source": [
    "sns.histplot(y_train_coarse, bins=20)"
   ]
  },
  {
   "cell_type": "markdown",
   "metadata": {},
   "source": [
    "It also appears that there are <strong>no signs of class imbalance</strong> for the coarse labels as well."
   ]
  },
  {
   "cell_type": "markdown",
   "metadata": {},
   "source": [
    "### Null values?\n",
    "We perform a simple <code>.isnull()</code> check to see if there are any null values in any of our data"
   ]
  },
  {
   "cell_type": "code",
   "execution_count": 15,
   "metadata": {},
   "outputs": [
    {
     "name": "stdout",
     "output_type": "stream",
     "text": [
      "Null counts among ALL the data: 0\n"
     ]
    }
   ],
   "source": [
    "null_counts = 0\n",
    "for iter_data in [X_train, y_train, X_val, y_val, X_test, y_test]:\n",
    "\titer_data = pd.DataFrame(iter_data)\n",
    "\tnull_counts += iter_data.isnull().sum().sum()\n",
    "\n",
    "print(\"Null counts among ALL the data:\", null_counts)"
   ]
  },
  {
   "cell_type": "markdown",
   "metadata": {},
   "source": [
    "We observe that <strong>there are no null values</strong> in the dataset."
   ]
  },
  {
   "cell_type": "markdown",
   "metadata": {},
   "source": [
    "### What does the average image look like?\n",
    "Let's take a look at a random sample of images."
   ]
  },
  {
   "cell_type": "code",
   "execution_count": 16,
   "metadata": {},
   "outputs": [
    {
     "data": {
      "image/png": "[encoded data removed]",
      "text/plain": [
       "<Figure size 640x480 with 12 Axes>"
      ]
     },
     "metadata": {},
     "output_type": "display_data"
    }
   ],
   "source": [
    "images = []\n",
    "titles = []\n",
    "\n",
    "for i in range(10):\n",
    "\tidx = random.sample(list(y_train[y_train == i].index), 1)\n",
    "\timages.append(X_train.loc[idx].values.reshape((3, 32, 32)))\n",
    "\ttitles.append(classes[y_train.loc[idx].values[0][0]])\n",
    "\n",
    "imshow(images, titles)"
   ]
  },
  {
   "cell_type": "code",
   "execution_count": 17,
   "metadata": {},
   "outputs": [
    {
     "data": {
      "image/png": "[encoded data removed]",
      "text/plain": [
       "<Figure size 640x480 with 1 Axes>"
      ]
     },
     "metadata": {},
     "output_type": "display_data"
    }
   ],
   "source": [
    "imshow([\n",
    "\tX_train.mean().apply(lambda x: x).values.reshape(3, 32, 32)\n",
    "], ['Average of all'])"
   ]
  },
  {
   "cell_type": "markdown",
   "metadata": {},
   "source": [
    "#### Average image among the classes\n",
    "Next we'll split by the classes and find the average among them.\n",
    "\n",
    "However, <strong>as our prediction will involve 100 outputs</strong>, what we'll do instead is use the <code>coarse classes</code>, which has 20 classes."
   ]
  },
  {
   "cell_type": "code",
   "execution_count": 18,
   "metadata": {},
   "outputs": [
    {
     "data": {
      "image/png": "[encoded data removed]",
      "text/plain": [
       "<Figure size 1700x1000 with 20 Axes>"
      ]
     },
     "metadata": {},
     "output_type": "display_data"
    }
   ],
   "source": [
    "images = []\n",
    "titles = []\n",
    "\n",
    "for i in range(20):\n",
    "\tidx = np.where((y_train_coarse.values == i))[0].flatten()\n",
    "\timages.append(X_train.iloc[idx].values.reshape(-1, 3, 32, 32).mean(axis=0))\n",
    "\ttitles.append(coarse_classes[i])\n",
    "\n",
    "imshow(images, titles, figsize = (17, 10))"
   ]
  },
  {
   "cell_type": "markdown",
   "metadata": {},
   "source": [
    "We observe:\n",
    "<ul>\n",
    "\t<li>We can <strong>barely make out</strong> the figures for classes such as <code>insects</code>, <code>large_carnivore</code></li>\n",
    "\t<li>We observe a slight silhouette on the <code>people</code> image</li>\n",
    "\t<li>For most of the coarse classes, we can barely make out the shapes</li>\n",
    "</ul>\n",
    "\n",
    "Let's try to view the first <code>20 classes</code> from the fine classes."
   ]
  },
  {
   "cell_type": "code",
   "execution_count": 19,
   "metadata": {},
   "outputs": [
    {
     "data": {
      "image/png": "[encoded data removed]",
      "text/plain": [
       "<Figure size 1400x1000 with 20 Axes>"
      ]
     },
     "metadata": {},
     "output_type": "display_data"
    }
   ],
   "source": [
    "images = []\n",
    "titles = []\n",
    "\n",
    "for i in range(20):\n",
    "\tidx = np.where((y_train == i))[0].flatten()\n",
    "\timages.append(X_train.iloc[idx].values.reshape(-1, 3, 32, 32).mean(axis=0))\n",
    "\ttitles.append(classes[i])\n",
    "\n",
    "imshow(images, titles, figsize = (14, 10))"
   ]
  },
  {
   "cell_type": "markdown",
   "metadata": {},
   "source": [
    "We observe:\n",
    "<ol>\n",
    "\t<li>We see better resolution in the average images of <code>can</code> and <code>bottle</code> </li>\n",
    "\t<li>Interestingly, we can also recognize the bicycle in the image, alongside its wheels</li>\n",
    "</ol>"
   ]
  },
  {
   "cell_type": "markdown",
   "metadata": {},
   "source": [
    "### Are there any outliers/anomalies?\n",
    "To determine such, one method we can do is to use a Convolution AutoEncoder to <strong>reconstruct</strong> the image. The i dea is that if we restrict the inner layers of the auto encoder, it will be forced to <strong>generalize among all the images</strong>. As such any outlier image will have a <strong>stark difference between the itself and the reconstructed image</strong>.\n",
    "\n",
    "This \"difference\" between the images, will be calculated using the <strong>Mean Squared Error (MSE)</strong> between the two images. We use the <strong>squared</strong> to exaggerate the larger errors the autoencoder makes.\n",
    "\n",
    "<strong>However</strong>, such Convolutioanl AutoEncoders work best for <strong>single-channel</strong> images. As the CIFAR-100 dataset is 3 channels, it is unlikely that Convolutional AutoEncoders will perform well. Additionally, autoencoders are not using information from the labels, which means this approach will tell us how far an image is from the <strong>'general' image</strong>, rather from the general image of it's class.\n",
    "\n",
    "To tackle this, we'll instead use a ResNet feature extractor, training model to classify. From this, we'll remove the last few layers and use the rich <strong>feature embeddings</strong> in combination with an unsupervised learning method such as TSNE. Doing so, any data points that are <strong>far away from it's class cluster</strong>, suggests it will likely be an outlier.\n",
    "\n",
    "We'll be using a modified and scaled down version of <strong>ResNet</strong>."
   ]
  },
  {
   "cell_type": "code",
   "execution_count": 20,
   "metadata": {},
   "outputs": [],
   "source": [
    "def relu_bn_conv(in_channels, out_channels, **kwargs):\n",
    "    return nn.Sequential(\n",
    "        nn.Conv2d(in_channels, out_channels, **kwargs),\n",
    "        nn.BatchNorm2d(out_channels),\n",
    "        nn.ReLU()\n",
    "    )\n",
    "\n",
    "class ResBlock(nn.Module):\n",
    "    def __init__(self, in_channels, out_channels, skip = False):\n",
    "        super().__init__()\n",
    "        self.skip = nn.Sequential()\n",
    "        self.conv1 = relu_bn_conv(in_channels, out_channels, kernel_size = 3, padding = 1)\n",
    "\n",
    "        if skip:\n",
    "            self.conv1 = relu_bn_conv(in_channels, out_channels, kernel_size = 3, stride = 2, padding = 1)\n",
    "            self.skip = nn.Conv2d(in_channels, out_channels, kernel_size= 1, stride = 2)\n",
    "\n",
    "        self.conv2 = relu_bn_conv(out_channels, out_channels, kernel_size = 3, padding = 1)\n",
    "\n",
    "    def forward(self, x):\n",
    "        skip = self.skip(x)\n",
    "        x = self.conv1(x)\n",
    "        x = self.conv2(x)\n",
    "        x = x + skip\n",
    "        return nn.ReLU()(x)\n",
    "\n",
    "class ResNetS(nn.Module):\n",
    "    def __init__(self, base_filter = 16):\n",
    "        super().__init__()\n",
    "\n",
    "        in_channels = 3\n",
    "        \n",
    "        self.l0 = nn.Sequential(\n",
    "            nn.Conv2d(in_channels, base_filter, kernel_size = 5, stride = 2, padding = 3),\n",
    "            nn.MaxPool2d(kernel_size = 3, stride = 2, padding = 1),\n",
    "            nn.BatchNorm2d(base_filter),\n",
    "            nn.ReLU()\n",
    "        )\n",
    "        self.l1 = nn.Sequential(\n",
    "            ResBlock(base_filter, base_filter, skip = False),\n",
    "            ResBlock(base_filter, base_filter, skip = False),\n",
    "        )\n",
    "        self.l2 = nn.Sequential(\n",
    "            ResBlock(base_filter, base_filter * 2, skip = True),\n",
    "            ResBlock(base_filter * 2, base_filter * 2, skip = False),\n",
    "        )\n",
    "        self.l3 = nn.Sequential(\n",
    "            ResBlock(base_filter * 2, base_filter * 3, skip = True),\n",
    "            ResBlock(base_filter * 3, base_filter * 3, skip = False),\n",
    "        )\n",
    "        self.gap = torch.nn.AdaptiveAvgPool2d(1)\n",
    "        self.fc = nn.Sequential(\n",
    "            nn.Flatten(start_dim=1),\n",
    "            torch.nn.Linear(base_filter * 3, 100)\n",
    "        )\n",
    "\n",
    "    def forward(self, x):\n",
    "        x = self.l0(x)\n",
    "        x = self.l1(x)\n",
    "        x = self.l2(x)\n",
    "        x = self.l3(x)\n",
    "        x = self.gap(x)\n",
    "        x = self.fc(x)\n",
    "\n",
    "        return x"
   ]
  },
  {
   "cell_type": "markdown",
   "metadata": {},
   "source": [
    "#### Loading the dataset\n",
    "Next we need to load the dataset. In order to do this, below is a custom class that acts as a wrapper <strong>to convert a pandas dataframe to PyTorch tensors</strong>, such that we are able to load the dataset into the <code>DataLoader</code> class."
   ]
  },
  {
   "cell_type": "code",
   "execution_count": 21,
   "metadata": {},
   "outputs": [],
   "source": [
    "def to_prob_dist(labels: torch.tensor, size = 100):\n",
    "\tarr = np.full((len(labels), size), 0)\n",
    "\tfor i, label in enumerate(labels):\n",
    "\t\tarr[i][int(label.item())] = 1\n",
    "\treturn torch.tensor(arr, dtype=torch.float32)\n",
    "\n",
    "class TorchDataset(torch.utils.data.Dataset):\n",
    "\tdef __init__(self, X, y, X_shape = (3, 32, 32), y_shape = (1, ), transform = None):\n",
    "\t\tif (type(X) == torch.Tensor):\n",
    "\t\t\tself.x = X\n",
    "\t\telse:\n",
    "\t\t\tself.x = df_to_tensor(X, X_shape)\n",
    "\n",
    "\t\tself.transform = transform\n",
    "            \n",
    "\t\tif (type(y) == torch.Tensor):\n",
    "\t\t\tself.y = y\n",
    "\t\telse:\n",
    "\t\t\tself.y = df_to_tensor(y, y_shape)\n",
    "\t\t\tself.y = to_prob_dist(self.y)\n",
    "\n",
    "\t\t# Transform labels to probability distributions\n",
    "\t\n",
    "\tdef __len__(self):\n",
    "\t\treturn len(self.y)\n",
    "\n",
    "\tdef __getitem__(self, idx):\n",
    "\t\tif torch.is_tensor(idx):\n",
    "\t\t\tidx = idx.tolist()\n",
    "\n",
    "\t\tselected = self.x[idx]\n",
    "            \n",
    "\t\tif self.transform:\n",
    "\t\t\tselected = self.transform(selected)\n",
    "        \n",
    "\t\treturn selected, self.y[idx]"
   ]
  },
  {
   "cell_type": "markdown",
   "metadata": {},
   "source": [
    "Now that we have defined our <code>TorchDataset</code>, we'll transform the <code>pd.DataFrame</code> to it to make it easy to use."
   ]
  },
  {
   "cell_type": "code",
   "execution_count": 22,
   "metadata": {},
   "outputs": [],
   "source": [
    "train_data = TorchDataset(X_train, y_train)\n",
    "val_data = TorchDataset(X_val, y_val)"
   ]
  },
  {
   "cell_type": "code",
   "execution_count": 23,
   "metadata": {},
   "outputs": [],
   "source": [
    "test_data = TorchDataset(X_test, y_test)"
   ]
  },
  {
   "cell_type": "markdown",
   "metadata": {},
   "source": [
    "#### Training the Feature Extractor\n",
    "\n",
    "Before we get started training, we <strong>prepare the training environment below.</strong>\n",
    "This training environment will allow us to train, assess and visualize models with ease."
   ]
  },
  {
   "cell_type": "code",
   "execution_count": 53,
   "metadata": {},
   "outputs": [],
   "source": [
    "def accurate_count(pred, true):\n",
    "\treturn ((pred.argmax(dim=1) == true.argmax(dim=1)).sum()).item()\n",
    "\n",
    "def perform_augmentation(X_pass, y_pass, transform, n = 2):\n",
    "\tif n == 1:\n",
    "\t\tX = copy.deepcopy(X_pass)\n",
    "\t\tX = transform(X)\n",
    "\t\tfinal_y = copy.deepcopy(y_pass)\n",
    "\telse:\n",
    "\t\tX = copy.deepcopy(X_pass)\n",
    "\t\ty = copy.deepcopy(y_pass)\n",
    "\t\tfinal_y = copy.deepcopy(y_pass)\n",
    "\t\tstep = 4000\n",
    "\t\toriginal_len = len(X)\n",
    "\t\tfor i in range(n - 1):\n",
    "\t\t\ttransformed_arr = transform(X[:step])\n",
    "\t\t\tfor j in range(step, original_len, step):\n",
    "\t\t\t\tprint('j:',j)\n",
    "\t\t\t\ttransformed = transform(X[j:j+step])\n",
    "\t\t\t\ttransformed_arr = torch.cat((transformed_arr, transformed), dim = 0)        \n",
    "\t\t\tX = torch.cat((X, transformed_arr), dim = 0)\n",
    "\t\t\tfinal_y = torch.cat([final_y, y])\n",
    "\treturn X, final_y\n",
    "\n",
    "from tqdm import tqdm\n",
    "\t\n",
    "class Trainer():\n",
    "\tdef __init__(self):\n",
    "\t\tself.saves = {}\n",
    "\t\tself.loss_tracker = {}\n",
    "\t\tself.history = pd.DataFrame()\n",
    "\n",
    "\tdef show_history(self):\n",
    "\t\tpass\n",
    "\n",
    "\tdef train_model(self, name, model_pass, optimizer_pass, optimizer_args,\n",
    "\t\t\t\t\ttrain_data: TorchDataset, scheduler_pass = None,\n",
    "\t\t\t\t\tscheduler_args = None, batch_size = GPU_COUNT * 256,\n",
    "\t\t\t\t\tearly_stopping = None, epochs = 200, verbose = False,\n",
    "\t\t\t\t\tval_data = val_data, save_model = False, augment = None,\n",
    "\t\t\t\t\treturn_model = False):\n",
    "\n",
    "\t\tmodel = model_pass()\n",
    "\t\tmodel = model.to(device)\n",
    "\t\tmodel = nn.DataParallel(model)\n",
    "\n",
    "\t\toptimizer = optimizer_pass(model.parameters(), **optimizer_args)\n",
    "\t\tcriterion = nn.CrossEntropyLoss()\n",
    "\t\ttrain_loader = DataLoader(train_data, batch_size = batch_size, shuffle = True, num_workers = 4 * GPU_COUNT)\n",
    "\t\tval_loader = DataLoader(val_data, batch_size = batch_size, shuffle = True, num_workers = 4 * GPU_COUNT)\n",
    "\n",
    "\t\tif scheduler_pass != None:\n",
    "\t\t\tscheduler = scheduler_pass(optimizer, **scheduler_args)\n",
    "\n",
    "\t\tdone = 0\n",
    "\t\tn_epochs = epochs\n",
    "\n",
    "\t\ttrack_loss = np.full((epochs, 4), 0.0, dtype=np.float32) # train acc, train loss, val acc, val loss\n",
    "\n",
    "\t\tbest_performance_df = pd.DataFrame({'Train Loss': 1000, 'Val Loss': 1000, 'Train Acc': 0, 'Val Acc': 0}, index = [name])\n",
    "\t\tbest_val_loss = 1e9\n",
    "\t\tbest_val_acc = 0\n",
    "\n",
    "\t\tself.end_training = 0\n",
    "\t\tself.extra_trained = 0\n",
    "\n",
    "\t\tfor epoch in range(1, n_epochs+1):\n",
    "\t\t\t# monitor training loss\n",
    "\t\t\ttrain_loss = 0.0\n",
    "\t\t\ttrain_acc_count = 0\n",
    "\t\t\ttotal_sample = 0\n",
    "\t\t\t\n",
    "\t\t\t###################\n",
    "\t\t\t# train the model #\n",
    "\t\t\t###################\n",
    "\t\t\tmodel.train()\n",
    "\t\t\tfor data in tqdm(train_loader):\n",
    "\t\t\t\t# _ stands in for labels, here\n",
    "\t\t\t\t# no need to flatten images\n",
    "\t\t\t\tinputs, labels = data\n",
    "\t\t\t\tinputs = inputs.cuda()\n",
    "\t\t\t\tlabels = labels.cuda()\n",
    "\n",
    "\t\t\t\tperform_aug = np.random.random() < 0.4 \n",
    "\t\t\t\tif augment != None and perform_aug:\n",
    "\t\t\t\t\tbatch, perm, lmbd = augment['fn'](inputs.detach().cpu(), *augment['args'], **augment['kwargs'])\n",
    "\n",
    "\t\t\t\t\tinputs = batch.cuda()\n",
    "\t\t\t\t\toutputs = model(inputs)\n",
    "\n",
    "\t\t\t\t\tloss = criterion(outputs, labels) * lmbd + criterion(outputs, labels[perm]) * (1 - lmbd)\n",
    "\t\t\t\telse:\n",
    "\t\t\t\t\t# forward pass: compute predicted outputs by passing inputs to the model\n",
    "\t\t\t\t\toutputs = model(inputs)\n",
    "\t\t\t\t\t# calculate the loss\n",
    "\t\t\t\t\tloss = criterion(outputs, labels)\n",
    "\t\t\t\t\t# backward pass: compute gradient of the loss with respect to model parameters\n",
    "\t\t\t\toptimizer.zero_grad()\n",
    "\t\t\t\tloss.backward()\n",
    "\t\t\t\toptimizer.step()\n",
    "\t\t\t\t\n",
    "\t\t\t\tif scheduler_pass != None:\n",
    "\t\t\t\t\tscheduler.step()\n",
    "\t\t\t\t\t\n",
    "\t\t\tmodel.eval()\n",
    "\t\t\twith torch.no_grad():\n",
    "\t\t\t\tfor data in tqdm(train_loader):\n",
    "\t\t\t\t\t# _ stands in for labels, here\n",
    "\t\t\t\t\t# no need to flatten images\n",
    "\t\t\t\t\tinputs, labels = data\n",
    "\t\t\t\t\tinputs = inputs.cuda()\n",
    "\t\t\t\t\tlabels = labels.cuda()\n",
    "\n",
    "\t\t\t\t\t# forward pass: compute predicted outputs by passing inputs to the model\n",
    "\t\t\t\t\toutputs = model(inputs)\n",
    "\t\t\t\t\t# calculate the loss\n",
    "\t\t\t\t\tloss = criterion(outputs, labels)\n",
    "\t\t\t\t\t# backward pass: compute gradient of the loss with respect to model parameters\n",
    "\t\t\t\t\t\n",
    "\t\t\t\t\ttrain_loss += loss.item()\n",
    "\t\t\t\t\ttrain_acc_count += accurate_count(outputs, labels)\n",
    "\t\t\t\t\ttotal_sample += len(labels)\n",
    "\n",
    "\n",
    "\t\t\ttrain_loss = train_loss/len(train_loader)\n",
    "\t\t\ttrain_acc = train_acc_count / total_sample\n",
    "\n",
    "\t\t\tval_loss = 0.0\n",
    "\t\t\tval_acc_count = 0\n",
    "\t\t\ttotal_sample = 0\n",
    "\t\t\t\n",
    "\n",
    "\t\t\twith torch.no_grad():\n",
    "\t\t\t\tfor i, data in enumerate(val_loader):\n",
    "\t\t\t\t\tinputs, labels = data                             \n",
    "\t\t\t\t\tinputs = inputs.to(device)\n",
    "\t\t\t\t\tlabels = labels.to(device)\n",
    "\n",
    "\t\t\t\t\toutputs = model(inputs)\n",
    "\t\t\t\t\tloss = criterion(outputs, labels)\n",
    "\n",
    "\t\t\t\t\tval_loss += loss.item()\n",
    "\t\t\t\t\tval_acc_count += accurate_count(outputs, labels)\n",
    "\t\t\t\t\ttotal_sample += len(labels)\n",
    "\n",
    "\t\t\tval_loss = val_loss / len(val_loader)\n",
    "\t\t\tval_acc = val_acc_count / total_sample\n",
    "\n",
    "\t\t\tif verbose:\n",
    "\t\t\t\tprint(f\"Epoch: {epoch} | Train Loss: {train_loss:.5f} \\tVal Loss: {val_loss:.5f} \\tTrain Acc: {train_acc:.3f} \\tVal Acc: {val_acc:.3f}\")\n",
    "\n",
    "\t\t\ttrack_loss[epoch - 1][0] = train_acc\n",
    "\t\t\ttrack_loss[epoch - 1][1] = train_loss\n",
    "\t\t\ttrack_loss[epoch - 1][2] = val_acc\n",
    "\t\t\ttrack_loss[epoch - 1][3] = val_loss\n",
    "\t\t\tdone = epoch\n",
    "\n",
    "\t\t\tif val_loss < best_val_loss:\n",
    "\t\t\t\tbest_performance_df = pd.DataFrame({'Train Loss': train_loss, 'Val Loss': val_loss, 'Train Acc': train_acc, 'Val Acc': val_acc}, index = [name])\n",
    "\t\t\t\tself.end_training = epoch\n",
    "\t\t\t\tbest_val_loss = val_loss\n",
    "\t\t\t\tif save_model:\n",
    "\t\t\t\t\tself.save_model(name, model)\n",
    "\t\t\telif val_acc > best_val_acc:\n",
    "\t\t\t\tbest_performance_df = pd.DataFrame({'Train Loss': train_loss, 'Val Loss': val_loss, 'Train Acc': train_acc, 'Val Acc': val_acc}, index = [name])\n",
    "\t\t\t\tself.end_training = epoch\n",
    "\t\t\t\tbest_val_acc = val_acc\n",
    "\t\t\t\tif save_model:\n",
    "\t\t\t\t\tself.save_model(name, model)\n",
    "\n",
    "\t\t\tif early_stopping != None:\n",
    "\t\t\t\tearly_stopping(val_loss, val_acc)\n",
    "\n",
    "\t\t\tif early_stopping != None and early_stopping.stop:\n",
    "\t\t\t\tif (verbose):\n",
    "\t\t\t\t\tprint(f\"Stopping due to early stopping | patience = {early_stopping.patience}\")\n",
    "\t\t\t\tbreak\n",
    "\n",
    "\n",
    "\t\ttrack_loss.resize((done, 4))\n",
    "\t\tself.record(name, track_loss, best_performance_df)\n",
    "\n",
    "\t\tif return_model:\n",
    "\t\t\tdel train_loader, val_loader, inputs, labels\n",
    "\t\t\ttorch.cuda.empty_cache()\n",
    "\t\t\treturn model\n",
    "\t\telse:\n",
    "\t\t\tdel model, optimizer, train_loader, val_loader, inputs, labels\n",
    "\t\t\ttorch.cuda.empty_cache()\n",
    "\n",
    "\tdef record(self, name, track_loss, best_performance_df):\n",
    "\t\ttrack_loss_df = pd.DataFrame(track_loss, columns=['Train Acc', 'Train Loss', 'Val Acc', 'Val Loss'])\n",
    "\t\ttrack_loss_df.index += 1\n",
    "\t\ttrack_loss_df.index.name = 'Epoch'\n",
    "\n",
    "\t\tself.history = pd.concat([self.history, best_performance_df], axis=0)\n",
    "\t\tself.loss_tracker[name] = track_loss_df\n",
    "\n",
    "\tdef save_model(self, name, model):\n",
    "\t\tself.saves[name] = copy.deepcopy(model)\n",
    "\n",
    "\tdef get_model(self, name):\n",
    "\t\treturn copy.deepcopy(self.saves[name])\n",
    "\n",
    "\tdef archive(self, name):\n",
    "\t\tfig = plt.figure(figsize=(14, 5))\n",
    "\t\ttrain, val = sns.color_palette('Set2')[0:2]\n",
    "\t\tloss, acc = fig.subplots(1, 2)\n",
    "\n",
    "\t\tloss.axvspan(1, self.end_training, color=sns.color_palette('Paired')[0], alpha=0.4, lw=0, label='Training') \n",
    "\n",
    "\t\tloss.plot(self.loss_tracker[name].index, self.loss_tracker[name]['Train Loss'], label='Train', color=train)\n",
    "\t\tloss.plot(self.loss_tracker[name].index, self.loss_tracker[name]['Val Loss'], label='Val', color=val)\n",
    "\t\tloss.set_xlabel('Epoch')\n",
    "\t\tloss.set_ylabel('Loss')\n",
    "\n",
    "\t\tacc.axvspan(1, self.end_training, color=sns.color_palette('Paired')[0], alpha=0.4, lw=0, label='Training') \n",
    "\t\tacc.plot(self.loss_tracker[name].index, self.loss_tracker[name]['Train Acc'], label='Train', color=train)\n",
    "\t\tacc.plot(self.loss_tracker[name].index, self.loss_tracker[name]['Val Acc'], label='Val', color=val)\n",
    "\n",
    "\t\tacc.set_xlabel('Epoch')\n",
    "\t\tacc.set_ylabel('Accuracy')\n",
    "\t\tacc.set_ylim(0.60, 1)\n",
    "\n",
    "\n",
    "\t\tacc.legend()\n",
    "\t\tloss.legend()\n",
    "\t\t\n",
    "\t\tfig.savefig(f'plots/{name}.png')\n",
    "\t\tplt.close()\n",
    "\t\tdel self.loss_tracker[name]"
   ]
  },
  {
   "cell_type": "markdown",
   "metadata": {},
   "source": [
    "We'll train our feature extractor for 50 epochs."
   ]
  },
  {
   "cell_type": "code",
   "execution_count": 25,
   "metadata": {},
   "outputs": [],
   "source": [
    "if not DEBUG:\n",
    "\ttrainer = Trainer(nn.CrossEntropyLoss)\n",
    "\tres_model = trainer.train_model(\n",
    "\t\t'ResNet-S Feature Extractor', ResNetS, # model\n",
    "\t\toptim.Adam, {'lr': 1e-3 * (GPU_COUNT) ** 0.5, 'weight_decay': 1e-5}, # optimizer\n",
    "\t\ttrain_data, # data\n",
    "\t\tepochs = 50,\n",
    "\t\t# verbose=True,\n",
    "\t\treturn_model = True\n",
    "\t)\n",
    "\ttrainer.archive('ResNet-S Feature Extractor')\n",
    "\tdisplay(trainer.history)"
   ]
  },
  {
   "cell_type": "markdown",
   "metadata": {},
   "source": [
    "Now that we have a trained a simple and small ResNet feature extractor, we can <strong>use its feature mapping</strong>. We cut off the last layers of the model below."
   ]
  },
  {
   "cell_type": "code",
   "execution_count": 26,
   "metadata": {},
   "outputs": [],
   "source": [
    "if not DEBUG:\n",
    "\tfeature_extractor = torch.nn.Sequential(*(list(list(res_model.children())[0].children())[:-2]))"
   ]
  },
  {
   "cell_type": "markdown",
   "metadata": {},
   "source": [
    "We then load our data into a dataloader. This is because giving all the images to the model at once for inference will lead to <strong>insufficient memory</strong>. We'll also store information into a <code>pd.DataFrame</code> such that we can pass this information to <strong><code>TSNE</code> to perform manifold learning</strong>.\n",
    "\n",
    "<strong>Why <code>TSNE</code>?</strong>  \n",
    "\n",
    "I decided to use TSNE because it allows for non-linear relationships where as a dimensionality reduction technique such as <code>PCA</code> only performs well for linear relationships inside the data."
   ]
  },
  {
   "cell_type": "code",
   "execution_count": 27,
   "metadata": {},
   "outputs": [],
   "source": [
    "if not DEBUG:\n",
    "\toutput = pd.DataFrame()\n",
    "\tbatch_size = 100\n",
    "\ttrain_loader = DataLoader(train_data, batch_size = batch_size)\n",
    "\tfor data in train_loader:\n",
    "\t\timage, label = data\n",
    "\t\toutput = pd.concat([output, pd.DataFrame(feature_extractor(image).detach().cpu().numpy().reshape(batch_size, -1))], axis=0)"
   ]
  },
  {
   "cell_type": "markdown",
   "metadata": {},
   "source": [
    "Below we use <code>MulticoreTSNE</code>, which is a <strong>faster implementation</strong> of Sklearn's <code>TSNE</code>, despite Sklearn also implementing multicore support with <code>n_jobs</code>. We also <strong>set the number of components to be 4</strong>, as not only does the dataset have a lot of classes, but contains a lot of information."
   ]
  },
  {
   "cell_type": "code",
   "execution_count": 28,
   "metadata": {},
   "outputs": [],
   "source": [
    "if not DEBUG:\n",
    "\tfrom MulticoreTSNE import MulticoreTSNE as TSNE\n",
    "\ttsne = TSNE(n_components = 4, method='exact', n_jobs=-1)\n",
    "\tresults = tsne.fit_transform(output)"
   ]
  },
  {
   "cell_type": "markdown",
   "metadata": {},
   "source": [
    "Next, we need to calculate how far each image is from the 'mean' of its images."
   ]
  },
  {
   "cell_type": "code",
   "execution_count": 29,
   "metadata": {},
   "outputs": [],
   "source": [
    "if not DEBUG:\n",
    "\ty_train.columns = ['label']\n",
    "\ttsne_df = pd.concat([pd.DataFrame(results), y_train], axis=1)\n",
    "\ttsne_means = tsne_df.groupby(by='label').mean()\n",
    "\ttsne_means.columns = ['mean_0', 'mean_1', 'mean_2', 'mean_3']\n",
    "\tdistance_tsne = tsne_df.join(tsne_means, on='label')\n",
    "\tdistance_tsne['dist_from_mean'] = ((distance_tsne[[0, 1, 2, 3]].values - distance_tsne[['mean_0', 'mean_1', 'mean_2', 'mean_3']].values) ** 2).sum(axis=1)"
   ]
  },
  {
   "cell_type": "markdown",
   "metadata": {},
   "source": [
    "After calculating the distance, we'll now inspect what <strong>our \"Outlier Detection\" method</strong> reveals about the dataset."
   ]
  },
  {
   "cell_type": "code",
   "execution_count": 30,
   "metadata": {},
   "outputs": [],
   "source": [
    "if not DEBUG:\n",
    "\tfarthest_idx = distance_tsne.sort_values(by='dist_from_mean', ascending = False).iloc[0:16].index\n",
    "\tclosest_idx = distance_tsne.sort_values(by='dist_from_mean', ascending = True).iloc[0:16].index"
   ]
  },
  {
   "cell_type": "markdown",
   "metadata": {},
   "source": [
    "We'll first <strong>inspect images</strong> that the algorithm considers to be <strong>far way</strong> from its respective class."
   ]
  },
  {
   "cell_type": "code",
   "execution_count": 31,
   "metadata": {},
   "outputs": [],
   "source": [
    "if not DEBUG:\n",
    "\timshow(train_data.x[farthest_idx].cpu().numpy(), classes[np.argmax(train_data.y[farthest_idx].cpu().numpy(), axis=1)].tolist(), figsize=(7, 7))"
   ]
  },
  {
   "cell_type": "markdown",
   "metadata": {},
   "source": [
    "We observe:\n",
    "<ul>\n",
    "\t<li>The first thing we see is that <code>orchid</code> and <code>sunflower</code> are blue, indicating <strong>outliers in the form of colors</strong></li>\n",
    "\t<li>This suggests that the color channels for these two particular images and incorrect, and implies that performing <strong>color altering augmentation</strong> is likely going to benefit our model performance</li>\n",
    "\t<li>We also observe there to be quite a few <code>dolphins</code>, <code>shark</code>, and <code>whale</code>.</li>\n",
    "\t<li>This may be due to our model's feature maps being incorrect, for instance assigning said dolphin a feature map of a shark, resulting to a large distance away from the dolphin's mean vectors.</li>\n",
    "</ul>\n",
    "\n",
    "It is likely that using a better performing feature extractor will lead to better results, as it seems the modified ResNet-S does not have the model capacity to be able to distinguish between closely related classes.\n",
    "\n",
    "Next, we'll analyse the <strong>closest images</strong> to the mean."
   ]
  },
  {
   "cell_type": "code",
   "execution_count": 32,
   "metadata": {},
   "outputs": [],
   "source": [
    "if not DEBUG:\n",
    "\timshow(train_data.x[closest_idx].cpu().numpy(), classes[np.argmax(train_data.y[closest_idx].cpu().numpy(), axis=1)].tolist(), figsize=(7, 7))"
   ]
  },
  {
   "cell_type": "markdown",
   "metadata": {},
   "source": [
    "We observe:\n",
    "<ul>\n",
    "\t<li>Most of the images are <code>plain</code> and <code>sea</code>, which tells us the model was easily able to extract features effectively</li>\n",
    "\t<li>This is highly likely due to the fact that the <code>separation between the sky and the earth</code>, results to <strong>easy identification</strong></li>\n",
    "\t<li>Trees appear to also be easily identifiable.</li>\n",
    "</ul>"
   ]
  },
  {
   "cell_type": "markdown",
   "metadata": {},
   "source": [
    "#### What about coarse classes?\n",
    "\n",
    "As our model is still not quite robust, such as giving similar feature maps to dolphins and sharks, perhaps more <strong>coarse labels</strong> will result in better identification of outliers."
   ]
  },
  {
   "cell_type": "markdown",
   "metadata": {},
   "source": [
    "### Would <strong>rotational data augmentation</strong> be of use?\n",
    "Convolutional Neural Networks are proven to have the property of <strong>translation invariance</strong> and <strong>translation equivariance</strong>, which means regardless of the translations performed on the image, the feature map of the CNN will be also translated. Essentially,\n",
    "\n",
    "$$c(t(x)) = t(c(x))$$\n",
    "\n",
    "Where $t$ represents translation and $c$ represents the convolutional network.\n",
    "\n",
    "However, CNN do not have any invariance to rotational. Would performing rotational data augmentation be of use? To find this out, <strong>I designed a custom algorithm</strong> to detect whether there exists rotated images. We'll specifically be using the algorithm on the class of <code>cans</code> because it is easier to detect for rotated images (as cans are usually upright).\n",
    "\n",
    "The idea is this:\n",
    "<ol>\n",
    "\t<li>Apply <strong>vertical convlutional layer</strong> to the original image, to <strong>extract vertical lines</strong></li>\n",
    "\t<li>Apply <strong>horizontal convlutional layer</strong> to the original image, to <strong>extract horizontal lines</strong></li>\n",
    "\t<li>Then from these outputs of the 2 convolutional layers, we want to find out what the <strong>\"longest line\"</strong> is</li>\n",
    "\t<li>If the vertical output has a longer line than the horizontal output, the image is likely to be upright, and vice versa</li>\n",
    "</ol>\n",
    "\n",
    "We define the <strong>horizontal and vertical convolution weights</strong> below."
   ]
  },
  {
   "cell_type": "code",
   "execution_count": 33,
   "metadata": {},
   "outputs": [],
   "source": [
    "vert_weights = torch.Tensor(\n",
    "    [[1, 0, -1], [1, 0, -1], [1, 0, -1]]\n",
    ").unsqueeze(0).unsqueeze(0)\n",
    "vert_weights.requires_grad = True\n",
    "\n",
    "vert_conv = nn.Conv2d(1, 1, kernel_size=3, stride=1, padding=1, bias=False)\n",
    "\n",
    "with torch.no_grad():\n",
    "    vert_conv.weight = nn.Parameter(vert_weights)\n",
    "\n",
    "vert_conv = vert_conv.cuda()\n",
    "\n",
    "hori_weights = torch.Tensor(\n",
    "    [[1, 1, 1], [0, 0, 0], [-1, -1, -1]]\n",
    ").unsqueeze(0).unsqueeze(0)\n",
    "hori_weights.requires_grad = True\n",
    "\n",
    "hori_conv = nn.Conv2d(1, 1, kernel_size=3, stride=1, padding=1, bias=False)\n",
    "\n",
    "with torch.no_grad():\n",
    "    hori_conv.weight = nn.Parameter(hori_weights)\n",
    "\n",
    "hori_conv = hori_conv\n",
    "hori_layer = nn.Sequential(\n",
    "    hori_conv,\n",
    "    nn.BatchNorm2d(1)\n",
    ").cuda()"
   ]
  },
  {
   "cell_type": "markdown",
   "metadata": {},
   "source": [
    "Next, we restrict the space of images to only those that have the <code>can</code> label."
   ]
  },
  {
   "cell_type": "code",
   "execution_count": 34,
   "metadata": {},
   "outputs": [],
   "source": [
    "idx = np.where(y_train == 16)[0]\n",
    "cans_x = train_data.x[idx]"
   ]
  },
  {
   "cell_type": "markdown",
   "metadata": {},
   "source": [
    "As an example, let's interpret what the two <strong>vertical and horizontal convolutional filters</strong> are doing."
   ]
  },
  {
   "cell_type": "code",
   "execution_count": 35,
   "metadata": {},
   "outputs": [
    {
     "data": {
      "image/png": "[encoded data removed]",
      "text/plain": [
       "<Figure size 640x480 with 3 Axes>"
      ]
     },
     "metadata": {},
     "output_type": "display_data"
    }
   ],
   "source": [
    "gray_cans = transforms.functional.rgb_to_grayscale(cans_x, 1)\n",
    "\n",
    "gray_can_example = gray_cans[0]\n",
    "hori = hori_conv(gray_can_example.cuda())\n",
    "vert = vert_conv(gray_can_example.cuda())\n",
    "\n",
    "imshow([gray_can_example, vert, hori], label=['Original', 'Vertical', 'Horizontal'], is_int = False)"
   ]
  },
  {
   "cell_type": "markdown",
   "metadata": {},
   "source": [
    "We see that because the <strong>vertical output has \"longer\" lines</strong>, this means the image is <strong>likely to be upright</strong>, which is the case.\n",
    "\n",
    "Thus, we'll continue to <strong>define</strong> our algorithm in a function, <strong>apply</strong> the function to all the <code>can</code> images in the training dataset, and then <strong>visualize</strong> them to perform a check on rotated images."
   ]
  },
  {
   "cell_type": "code",
   "execution_count": 36,
   "metadata": {},
   "outputs": [],
   "source": [
    "horizontal_images = []\n",
    "\n",
    "def color_diff_lengths(image, orientation = 'hori'):\n",
    "\t\tif len(image.shape) == 3:\n",
    "\t\t\timage = image.reshape(32, 32)\n",
    "\n",
    "\t\tif orientation == 'hori':\n",
    "\t\t\timage = image[1:-1, :]\n",
    "\t\t\tmeans = image.mean(axis=1)\n",
    "\t\t\tleft = np.argmax(np.apply_along_axis(lambda x: x <= means, 0, image), axis=1)\n",
    "\t\t\tright = (image.shape[1] - 1) - np.argmax(np.apply_along_axis(lambda x: x >= means, 0, image[:, ::-1]), axis=1)\n",
    "\t\telse:\n",
    "\t\t\timage = image[:, 1:-1]\n",
    "\t\t\tmeans = image.mean(axis=0)\n",
    "\t\t\tleft = np.argmax(np.apply_along_axis(lambda x: x <= means, 1, image), axis=0)\n",
    "\t\t\tright = (image.shape[0] - 1) - np.argmax(np.apply_along_axis(lambda x: x >= means, 1, image[::-1, :]), axis=0)\n",
    "\n",
    "\t\treturn max(right - left)\n",
    "\n",
    "for img in gray_cans:\n",
    "\tvertical_length = color_diff_lengths(vert_conv(img.cuda()).detach().cpu().numpy().transpose(1, 2, 0), orientation = 'vert')\n",
    "\thorizontal_length = color_diff_lengths(hori_conv(img.cuda()).detach().cpu().numpy().transpose(1, 2, 0), orientation = 'hori')\n",
    "\n",
    "\tif horizontal_length > vertical_length:\n",
    "\t\thorizontal_images.append(img.cpu().numpy())"
   ]
  },
  {
   "cell_type": "markdown",
   "metadata": {},
   "source": [
    "Let's take a look at the images"
   ]
  },
  {
   "cell_type": "code",
   "execution_count": 37,
   "metadata": {},
   "outputs": [
    {
     "data": {
      "image/png": "[encoded data removed]",
      "text/plain": [
       "<Figure size 1200x700 with 24 Axes>"
      ]
     },
     "metadata": {},
     "output_type": "display_data"
    }
   ],
   "source": [
    "imshow(horizontal_images, shape=(32, 32), figsize = (12, 7))"
   ]
  },
  {
   "cell_type": "markdown",
   "metadata": {},
   "source": [
    "We observe:\n",
    "<ul>\n",
    "\t<li>Our algorithm is not completely robust, <strong>there are instances of upright cans</strong></li>\n",
    "\t<li>However, there are also <strong>many upright cans</strong>, stacked in a horizontal manner</strong>, leading to our algorithm believing that they are horizontal</li>\n",
    "\t<li>There are a few images of a combination of horizontal cans and vertical cans, with one image of a horizontal can</li>\n",
    "</ul>\n",
    "\n",
    "As this can likely extend to other classes (maybe even more likely, e.g. dolphin swimming up and dolphin swimming towards the right), we conclude that <strong>rotational augmentation</strong> will definitely help with our model."
   ]
  },
  {
   "cell_type": "markdown",
   "metadata": {},
   "source": [
    "## Feature Engineering\n",
    "Before we proceed with anything else, we'll first <strong>normalize</strong> the data. This means we'll divide every value in the dataset by <code>255</code>."
   ]
  },
  {
   "cell_type": "code",
   "execution_count": 38,
   "metadata": {},
   "outputs": [],
   "source": [
    "train_data.x /= 255.0\n",
    "val_data.x /= 255.0"
   ]
  },
  {
   "cell_type": "markdown",
   "metadata": {},
   "source": [
    "## Data Augmentation\n",
    "For data augmentation we <strong>note from EDA that:</strong>\n",
    "<ul>\n",
    "\t<li>Rotational augmentation are likely to be useful (at least for <code>cans</code>)</strong>\n",
    "\t<li>Color augmentations are also useful</strong>\n",
    "</ul>\n",
    "\n",
    "As such we'll with performing an <strong>augmentation algorithm</strong> called <strong>AutoAugment</strong>"
   ]
  },
  {
   "cell_type": "code",
   "execution_count": 56,
   "metadata": {},
   "outputs": [],
   "source": [
    "t_auto = transforms.Compose([\n",
    "\ttransforms.Lambda(lambda x: x.type(torch.uint8) if (x > 1).sum() > 0 else (x * 255).type(torch.uint8)),\n",
    "\ttransforms.AutoAugment(transforms.AutoAugmentPolicy.CIFAR10),\n",
    "\ttransforms.Lambda(lambda x: x.float() / 255.0),\n",
    "])\n",
    "\n",
    "t_dtype = transforms.Lambda(lambda x: x.float() / 255.0 if (x > 1).sum() > 0 else x)\n",
    "\n",
    "t_rot = transforms.RandomRotation((-60, 60))\n",
    "\n",
    "t_flip = transforms.RandomHorizontalFlip(p=0.5)\n",
    "\n",
    "t_extra_auto = transforms.Compose([\n",
    "\tt_auto,\n",
    "\tt_dtype,\n",
    "\tt_rot,\n",
    "\tt_flip\n",
    "])\n",
    "\n",
    "t_augmix = transforms.Compose([\n",
    "\ttransforms.Lambda(lambda x: x.type(torch.uint8) if (x > 1).sum() > 0 else (x * 255).type(torch.uint8)),\n",
    "\ttransforms.AugMix(severity=8, mixture_width = 5),\n",
    "\ttransforms.Lambda(lambda x: x.float() / 255.0),\n",
    "])\n",
    "\n",
    "t_extra_augmix = transforms.Compose([\n",
    "\tt_augmix,\n",
    "\tt_dtype,\n",
    "\tt_flip\n",
    "])\n",
    "\n",
    "# Normalize training set together with augmentation\n",
    "transform_train = transforms.Compose([\n",
    "    t_dtype,\n",
    "    transforms.RandomCrop(32, padding=4),\n",
    "    transforms.RandomHorizontalFlip(),\n",
    "])\n",
    "\n",
    "# Normalize test set same as training set without augmentation\n",
    "transform_test = transforms.Compose([\n",
    "    t_dtype,\n",
    "    transforms.Normalize(mean=[x / 255.0 for x in[0.507, 0.487, 0.441]],\n",
    "                                     std=[x / 255.0 for x in [0.267, 0.256, 0.276]])\n",
    "])"
   ]
  },
  {
   "cell_type": "code",
   "execution_count": 40,
   "metadata": {},
   "outputs": [
    {
     "data": {
      "image/png": "[encoded data removed]",
      "text/plain": [
       "<Figure size 1000x900 with 12 Axes>"
      ]
     },
     "metadata": {},
     "output_type": "display_data"
    }
   ],
   "source": [
    "aug_X, aug_y = perform_augmentation(train_data.x[0:5], train_data.y[0:5], t_extra_augmix)\n",
    "imshow(aug_X, figsize = (10, 9))"
   ]
  },
  {
   "cell_type": "code",
   "execution_count": 57,
   "metadata": {},
   "outputs": [],
   "source": [
    "train_data = TorchDataset(X_train, y_train)\n",
    "base_train_data = TorchDataset(X_train, y_train, transform = transform_train)\n",
    "augmix_train_data = TorchDataset(X_train, y_train, transform = t_extra_augmix)"
   ]
  },
  {
   "cell_type": "markdown",
   "metadata": {},
   "source": [
    "## Modelling\n",
    "\n",
    "### Metric\n",
    "We'll be using two metrics: <strong>Accuracy</strong> and <strong>Categorical Crossentropy</strong>\n",
    "\n",
    "$$accuracy = \\frac{TP + TN}{TP + TN + FP + FN} $$\n",
    "\n",
    "$$\\text{categorical crossentropy} = -\\sum_{i=1}^{n}y_i \\log{(p_i)} $$\n",
    "\n",
    "We use accuracy to choose the model, as the benchmarks for the CIFAR100 dataset are in terms of accuracy. Additionally, the dataset does not have an imbalanced class issue, thus using accuracy is not unsuitable.\n",
    "\n",
    "We use categorical crossentropy as our criterion to train the model, because it heavily penalizes models that are confident and wrong in their prediction. This is due to the logarithmic function in the cross entropy formula. "
   ]
  },
  {
   "cell_type": "markdown",
   "metadata": {},
   "source": [
    "#### Custom Early Stopping\n",
    "Additionally, instead of <strong>arbitrarily choosing the number of epochs</strong> or fine tuning it (which computationally will take long), I decided to use <strong>Early Stopping</strong> as a mechanism.\n",
    "\n",
    "Overfitting is something that occurs when a model begins to extract some of the residual variation such as noise under the assumption that it is learning the patterns (Burnham and Anderson, 2010). Essentially, it starts to <strong>memorize instead of generalize</strong>. Traditional Early Stopping attempts to combat overfitting by stopping training if the performance/loss of the model on a validation set does not improve over $n$ epochs, where $n$ is the patience parameter. However, it requires <strong>clever tuning</strong> to prevent underfitting (Adam, 2018). As such to address this problem, I use a custom implemented early stopping class inspired by this <a href=\"https://alexadam.ca/2018/08/03/early-stopping/\">article</a>.\n",
    "\n",
    "The idea of this custom early stopping is that we <strong>only stop training</strong> if there are no improvements in <strong>both loss and accuracy</strong>. If there is an improve in any of the single quantities, the patience counter is reset. This tackles the issue of the underlying assumption that <strong>\"loss is correlated with accuracy</strong>\", and becomes a more lenient form of early stopping, ideally decreasing underfitting."
   ]
  },
  {
   "cell_type": "code",
   "execution_count": 42,
   "metadata": {},
   "outputs": [],
   "source": [
    "class CustomEarlyStopping():\n",
    "\tdef __init__(self, patience, min_loss_delta = 0, min_acc_delta = 0):\n",
    "\t\tself.patience = patience\n",
    "\t\tself.best_loss = 1e9\n",
    "\t\tself.best_acc = 0\n",
    "\t\tself.patience_count = 0\n",
    "\t\tself.count = 0\n",
    "\t\tself.stop = False\n",
    "\n",
    "\t\tself.min_loss_delta = min_loss_delta\n",
    "\t\tself.min_acc_delta = min_acc_delta\n",
    "\n",
    "\tdef __call__(self, loss, accuracy):\n",
    "\t\tself.save_state = False\n",
    "\n",
    "\t\tif self.best_loss - loss > self.min_loss_delta or accuracy - self.best_acc > self.min_acc_delta:\n",
    "\t\t\tif self.best_loss - loss > self.min_loss_delta:\n",
    "\t\t\t\tself.best_loss = loss\n",
    "\t\t\tif accuracy - self.best_acc > self.min_acc_delta:\n",
    "\t\t\t\tself.best_acc = accuracy\n",
    "\n",
    "\t\t\tself.count = 0\n",
    "\t\telse:\n",
    "\t\t\tself.count += 1\n",
    "\t\t\n",
    "\t\tif self.count >= self.patience:\n",
    "\t\t\tself.stop = True\n"
   ]
  },
  {
   "cell_type": "code",
   "execution_count": 43,
   "metadata": {},
   "outputs": [],
   "source": [
    "trainer = Trainer()"
   ]
  },
  {
   "cell_type": "markdown",
   "metadata": {},
   "source": [
    "### Add-on Augmentation: MixUp\n",
    "From previous experiments, we learn that an \"add-on\" augmentation like CutMix provides great results"
   ]
  },
  {
   "cell_type": "markdown",
   "metadata": {},
   "source": [
    "### Model Architectures\n",
    "\n",
    "In this assignment, we are to investigate both the datasets for <strong>fine</strong> and <strong>coarse</strong> labels. Although the intuition is that <strong>any model that performs well on fine labels, will perform on the coarse labels</strong> (due to the differences being quite literally one more dense layer), it is important to really investigate and check if this is true. We'll tackle this later.\n",
    "\n",
    "For now, let's first attempt to find appropriate model architectures to solve the problem of <strong>fine labels(100 classes)</strong>."
   ]
  },
  {
   "cell_type": "markdown",
   "metadata": {},
   "source": [
    "#### Baseline NN\n",
    "\n",
    "As a reference point, we'll see how a baseline neural network consisting of only neurons will perform.\n",
    "\n",
    "It consists of:\n",
    "<ol>\n",
    "\t<li>Linear layer</li>\n",
    "\t<li>Batch Normalization</li>\n",
    "\t<li>ReLU activation function</li>\n",
    "</ol>"
   ]
  },
  {
   "cell_type": "code",
   "execution_count": 44,
   "metadata": {},
   "outputs": [],
   "source": [
    "def fc_block(in_feat, out_feat):\n",
    "\treturn nn.Sequential(\n",
    "\t\tnn.Linear(in_feat, out_feat),\n",
    "\t\tnn.BatchNorm1d(out_feat),\n",
    "\t\tnn.ReLU()\n",
    "\t)\n",
    "\n",
    "class BaselineNN(nn.Module):\n",
    "\tdef __init__(self):\n",
    "\t\tsuper(BaselineNN, self).__init__()\n",
    "\t\tself.flat = nn.Flatten(1)\n",
    "\t\tself.b1 = fc_block(3072, 1536)\n",
    "\t\tself.b2 = fc_block(1536, 768)\n",
    "\t\tself.b3 = fc_block(768, 384)\n",
    "\t\tself.b4 = fc_block(384, 192)\n",
    "\t\tself.b5 = fc_block(192, 100)\n",
    "\n",
    "\tdef forward(self, x):\n",
    "\t\tx = self.flat(x)\n",
    "\t\tx = self.b1(x)\n",
    "\t\tx = self.b2(x)\n",
    "\t\tx = self.b3(x)\n",
    "\t\tx = self.b4(x)\n",
    "\t\tx = self.b5(x)\n",
    "\t\treturn x"
   ]
  },
  {
   "cell_type": "code",
   "execution_count": 45,
   "metadata": {},
   "outputs": [
    {
     "name": "stderr",
     "output_type": "stream",
     "text": [
      "100%|██████████| 79/79 [00:11<00:00,  6.95it/s]\n"
     ]
    },
    {
     "name": "stdout",
     "output_type": "stream",
     "text": [
      "Epoch: 1 | Train Loss: 4.16589 \tVal Loss: 3.95125 \tTrain Acc: 0.100 \tVal Acc: 0.133\n"
     ]
    },
    {
     "name": "stderr",
     "output_type": "stream",
     "text": [
      "100%|██████████| 79/79 [00:10<00:00,  7.29it/s]\n"
     ]
    },
    {
     "name": "stdout",
     "output_type": "stream",
     "text": [
      "Epoch: 2 | Train Loss: 3.76472 \tVal Loss: 3.74865 \tTrain Acc: 0.165 \tVal Acc: 0.167\n"
     ]
    },
    {
     "name": "stderr",
     "output_type": "stream",
     "text": [
      "100%|██████████| 79/79 [00:10<00:00,  7.31it/s]\n"
     ]
    },
    {
     "name": "stdout",
     "output_type": "stream",
     "text": [
      "Epoch: 3 | Train Loss: 3.59893 \tVal Loss: 3.67480 \tTrain Acc: 0.195 \tVal Acc: 0.171\n"
     ]
    },
    {
     "name": "stderr",
     "output_type": "stream",
     "text": [
      " 61%|██████    | 48/79 [00:07<00:04,  6.40it/s]\n"
     ]
    },
    {
     "ename": "KeyboardInterrupt",
     "evalue": "",
     "output_type": "error",
     "traceback": [
      "\u001b[0;31m---------------------------------------------------------------------------\u001b[0m",
      "\u001b[0;31mKeyboardInterrupt\u001b[0m                         Traceback (most recent call last)",
      "\u001b[1;32mc:\\Users\\kenne\\Documents\\GitHub\\CIFAR100\\cifar_100.ipynb Cell 100\u001b[0m in \u001b[0;36m<cell line: 1>\u001b[0;34m()\u001b[0m\n\u001b[1;32m      <a href='vscode-notebook-cell:/c%3A/Users/kenne/Documents/GitHub/CIFAR100/cifar_100.ipynb#Y201sZmlsZQ%3D%3D?line=0'>1</a>\u001b[0m \u001b[39mif\u001b[39;00m \u001b[39m__name__\u001b[39m \u001b[39m==\u001b[39m \u001b[39m\"\u001b[39m\u001b[39m__main__\u001b[39m\u001b[39m\"\u001b[39m:\n\u001b[1;32m      <a href='vscode-notebook-cell:/c%3A/Users/kenne/Documents/GitHub/CIFAR100/cifar_100.ipynb#Y201sZmlsZQ%3D%3D?line=1'>2</a>\u001b[0m \ttrainer \u001b[39m=\u001b[39m Trainer()\n\u001b[0;32m----> <a href='vscode-notebook-cell:/c%3A/Users/kenne/Documents/GitHub/CIFAR100/cifar_100.ipynb#Y201sZmlsZQ%3D%3D?line=3'>4</a>\u001b[0m \ttrainer\u001b[39m.\u001b[39;49mtrain_model(\n\u001b[1;32m      <a href='vscode-notebook-cell:/c%3A/Users/kenne/Documents/GitHub/CIFAR100/cifar_100.ipynb#Y201sZmlsZQ%3D%3D?line=4'>5</a>\u001b[0m \t\t\u001b[39m'\u001b[39;49m\u001b[39mBaseline NN\u001b[39;49m\u001b[39m'\u001b[39;49m, BaselineNN, \u001b[39m# model\u001b[39;49;00m\n\u001b[1;32m      <a href='vscode-notebook-cell:/c%3A/Users/kenne/Documents/GitHub/CIFAR100/cifar_100.ipynb#Y201sZmlsZQ%3D%3D?line=5'>6</a>\u001b[0m \t\toptim\u001b[39m.\u001b[39;49mAdam, {\u001b[39m'\u001b[39;49m\u001b[39mlr\u001b[39;49m\u001b[39m'\u001b[39;49m: \u001b[39m1e-4\u001b[39;49m \u001b[39m*\u001b[39;49m (GPU_COUNT) \u001b[39m*\u001b[39;49m\u001b[39m*\u001b[39;49m \u001b[39m0.5\u001b[39;49m, \u001b[39m'\u001b[39;49m\u001b[39mweight_decay\u001b[39;49m\u001b[39m'\u001b[39;49m: \u001b[39m1e-5\u001b[39;49m}, \u001b[39m# optimizer\u001b[39;49;00m\n\u001b[1;32m      <a href='vscode-notebook-cell:/c%3A/Users/kenne/Documents/GitHub/CIFAR100/cifar_100.ipynb#Y201sZmlsZQ%3D%3D?line=6'>7</a>\u001b[0m \t\taugmix_train_data, \u001b[39m# data\u001b[39;49;00m\n\u001b[1;32m      <a href='vscode-notebook-cell:/c%3A/Users/kenne/Documents/GitHub/CIFAR100/cifar_100.ipynb#Y201sZmlsZQ%3D%3D?line=7'>8</a>\u001b[0m \t\tearly_stopping \u001b[39m=\u001b[39;49m CustomEarlyStopping(patience \u001b[39m=\u001b[39;49m \u001b[39m15\u001b[39;49m),\n\u001b[1;32m      <a href='vscode-notebook-cell:/c%3A/Users/kenne/Documents/GitHub/CIFAR100/cifar_100.ipynb#Y201sZmlsZQ%3D%3D?line=8'>9</a>\u001b[0m \t\tbatch_size \u001b[39m=\u001b[39;49m \u001b[39m512\u001b[39;49m,\n\u001b[1;32m     <a href='vscode-notebook-cell:/c%3A/Users/kenne/Documents/GitHub/CIFAR100/cifar_100.ipynb#Y201sZmlsZQ%3D%3D?line=9'>10</a>\u001b[0m \t\tverbose\u001b[39m=\u001b[39;49m\u001b[39mTrue\u001b[39;49;00m\n\u001b[1;32m     <a href='vscode-notebook-cell:/c%3A/Users/kenne/Documents/GitHub/CIFAR100/cifar_100.ipynb#Y201sZmlsZQ%3D%3D?line=10'>11</a>\u001b[0m \t)\n\u001b[1;32m     <a href='vscode-notebook-cell:/c%3A/Users/kenne/Documents/GitHub/CIFAR100/cifar_100.ipynb#Y201sZmlsZQ%3D%3D?line=11'>12</a>\u001b[0m \ttrainer\u001b[39m.\u001b[39marchive(\u001b[39m'\u001b[39m\u001b[39mBaseline NN\u001b[39m\u001b[39m'\u001b[39m)\n\u001b[1;32m     <a href='vscode-notebook-cell:/c%3A/Users/kenne/Documents/GitHub/CIFAR100/cifar_100.ipynb#Y201sZmlsZQ%3D%3D?line=12'>13</a>\u001b[0m \tdisplay(trainer\u001b[39m.\u001b[39mhistory)\n",
      "\u001b[1;32mc:\\Users\\kenne\\Documents\\GitHub\\CIFAR100\\cifar_100.ipynb Cell 100\u001b[0m in \u001b[0;36mTrainer.train_model\u001b[0;34m(self, name, model_pass, optimizer_pass, optimizer_args, train_data, scheduler_pass, scheduler_args, batch_size, early_stopping, epochs, verbose, val_data, save_model, augment, return_model)\u001b[0m\n\u001b[1;32m     <a href='vscode-notebook-cell:/c%3A/Users/kenne/Documents/GitHub/CIFAR100/cifar_100.ipynb#Y201sZmlsZQ%3D%3D?line=72'>73</a>\u001b[0m \u001b[39m###################\u001b[39;00m\n\u001b[1;32m     <a href='vscode-notebook-cell:/c%3A/Users/kenne/Documents/GitHub/CIFAR100/cifar_100.ipynb#Y201sZmlsZQ%3D%3D?line=73'>74</a>\u001b[0m \u001b[39m# train the model #\u001b[39;00m\n\u001b[1;32m     <a href='vscode-notebook-cell:/c%3A/Users/kenne/Documents/GitHub/CIFAR100/cifar_100.ipynb#Y201sZmlsZQ%3D%3D?line=74'>75</a>\u001b[0m \u001b[39m###################\u001b[39;00m\n\u001b[1;32m     <a href='vscode-notebook-cell:/c%3A/Users/kenne/Documents/GitHub/CIFAR100/cifar_100.ipynb#Y201sZmlsZQ%3D%3D?line=75'>76</a>\u001b[0m model\u001b[39m.\u001b[39mtrain()\n\u001b[0;32m---> <a href='vscode-notebook-cell:/c%3A/Users/kenne/Documents/GitHub/CIFAR100/cifar_100.ipynb#Y201sZmlsZQ%3D%3D?line=76'>77</a>\u001b[0m \u001b[39mfor\u001b[39;00m data \u001b[39min\u001b[39;00m tqdm(train_loader):\n\u001b[1;32m     <a href='vscode-notebook-cell:/c%3A/Users/kenne/Documents/GitHub/CIFAR100/cifar_100.ipynb#Y201sZmlsZQ%3D%3D?line=77'>78</a>\u001b[0m \t\u001b[39m# _ stands in for labels, here\u001b[39;00m\n\u001b[1;32m     <a href='vscode-notebook-cell:/c%3A/Users/kenne/Documents/GitHub/CIFAR100/cifar_100.ipynb#Y201sZmlsZQ%3D%3D?line=78'>79</a>\u001b[0m \t\u001b[39m# no need to flatten images\u001b[39;00m\n\u001b[1;32m     <a href='vscode-notebook-cell:/c%3A/Users/kenne/Documents/GitHub/CIFAR100/cifar_100.ipynb#Y201sZmlsZQ%3D%3D?line=79'>80</a>\u001b[0m \tinputs, labels \u001b[39m=\u001b[39m data\n\u001b[1;32m     <a href='vscode-notebook-cell:/c%3A/Users/kenne/Documents/GitHub/CIFAR100/cifar_100.ipynb#Y201sZmlsZQ%3D%3D?line=80'>81</a>\u001b[0m \tinputs \u001b[39m=\u001b[39m inputs\u001b[39m.\u001b[39mcuda()\n",
      "File \u001b[0;32m/opt/conda/lib/python3.9/site-packages/tqdm/std.py:1195\u001b[0m, in \u001b[0;36mtqdm.__iter__\u001b[0;34m(self)\u001b[0m\n\u001b[1;32m   1192\u001b[0m time \u001b[39m=\u001b[39m \u001b[39mself\u001b[39m\u001b[39m.\u001b[39m_time\n\u001b[1;32m   1194\u001b[0m \u001b[39mtry\u001b[39;00m:\n\u001b[0;32m-> 1195\u001b[0m     \u001b[39mfor\u001b[39;00m obj \u001b[39min\u001b[39;00m iterable:\n\u001b[1;32m   1196\u001b[0m         \u001b[39myield\u001b[39;00m obj\n\u001b[1;32m   1197\u001b[0m         \u001b[39m# Update and possibly print the progressbar.\u001b[39;00m\n\u001b[1;32m   1198\u001b[0m         \u001b[39m# Note: does not call self.update(1) for speed optimisation.\u001b[39;00m\n",
      "File \u001b[0;32m/opt/conda/lib/python3.9/site-packages/torch/utils/data/dataloader.py:628\u001b[0m, in \u001b[0;36m_BaseDataLoaderIter.__next__\u001b[0;34m(self)\u001b[0m\n\u001b[1;32m    625\u001b[0m \u001b[39mif\u001b[39;00m \u001b[39mself\u001b[39m\u001b[39m.\u001b[39m_sampler_iter \u001b[39mis\u001b[39;00m \u001b[39mNone\u001b[39;00m:\n\u001b[1;32m    626\u001b[0m     \u001b[39m# TODO(https://github.com/pytorch/pytorch/issues/76750)\u001b[39;00m\n\u001b[1;32m    627\u001b[0m     \u001b[39mself\u001b[39m\u001b[39m.\u001b[39m_reset()  \u001b[39m# type: ignore[call-arg]\u001b[39;00m\n\u001b[0;32m--> 628\u001b[0m data \u001b[39m=\u001b[39m \u001b[39mself\u001b[39;49m\u001b[39m.\u001b[39;49m_next_data()\n\u001b[1;32m    629\u001b[0m \u001b[39mself\u001b[39m\u001b[39m.\u001b[39m_num_yielded \u001b[39m+\u001b[39m\u001b[39m=\u001b[39m \u001b[39m1\u001b[39m\n\u001b[1;32m    630\u001b[0m \u001b[39mif\u001b[39;00m \u001b[39mself\u001b[39m\u001b[39m.\u001b[39m_dataset_kind \u001b[39m==\u001b[39m _DatasetKind\u001b[39m.\u001b[39mIterable \u001b[39mand\u001b[39;00m \\\n\u001b[1;32m    631\u001b[0m         \u001b[39mself\u001b[39m\u001b[39m.\u001b[39m_IterableDataset_len_called \u001b[39mis\u001b[39;00m \u001b[39mnot\u001b[39;00m \u001b[39mNone\u001b[39;00m \u001b[39mand\u001b[39;00m \\\n\u001b[1;32m    632\u001b[0m         \u001b[39mself\u001b[39m\u001b[39m.\u001b[39m_num_yielded \u001b[39m>\u001b[39m \u001b[39mself\u001b[39m\u001b[39m.\u001b[39m_IterableDataset_len_called:\n",
      "File \u001b[0;32m/opt/conda/lib/python3.9/site-packages/torch/utils/data/dataloader.py:1316\u001b[0m, in \u001b[0;36m_MultiProcessingDataLoaderIter._next_data\u001b[0;34m(self)\u001b[0m\n\u001b[1;32m   1313\u001b[0m     \u001b[39mreturn\u001b[39;00m \u001b[39mself\u001b[39m\u001b[39m.\u001b[39m_process_data(data)\n\u001b[1;32m   1315\u001b[0m \u001b[39massert\u001b[39;00m \u001b[39mnot\u001b[39;00m \u001b[39mself\u001b[39m\u001b[39m.\u001b[39m_shutdown \u001b[39mand\u001b[39;00m \u001b[39mself\u001b[39m\u001b[39m.\u001b[39m_tasks_outstanding \u001b[39m>\u001b[39m \u001b[39m0\u001b[39m\n\u001b[0;32m-> 1316\u001b[0m idx, data \u001b[39m=\u001b[39m \u001b[39mself\u001b[39;49m\u001b[39m.\u001b[39;49m_get_data()\n\u001b[1;32m   1317\u001b[0m \u001b[39mself\u001b[39m\u001b[39m.\u001b[39m_tasks_outstanding \u001b[39m-\u001b[39m\u001b[39m=\u001b[39m \u001b[39m1\u001b[39m\n\u001b[1;32m   1318\u001b[0m \u001b[39mif\u001b[39;00m \u001b[39mself\u001b[39m\u001b[39m.\u001b[39m_dataset_kind \u001b[39m==\u001b[39m _DatasetKind\u001b[39m.\u001b[39mIterable:\n\u001b[1;32m   1319\u001b[0m     \u001b[39m# Check for _IterableDatasetStopIteration\u001b[39;00m\n",
      "File \u001b[0;32m/opt/conda/lib/python3.9/site-packages/torch/utils/data/dataloader.py:1282\u001b[0m, in \u001b[0;36m_MultiProcessingDataLoaderIter._get_data\u001b[0;34m(self)\u001b[0m\n\u001b[1;32m   1278\u001b[0m     \u001b[39m# In this case, `self._data_queue` is a `queue.Queue`,. But we don't\u001b[39;00m\n\u001b[1;32m   1279\u001b[0m     \u001b[39m# need to call `.task_done()` because we don't use `.join()`.\u001b[39;00m\n\u001b[1;32m   1280\u001b[0m \u001b[39melse\u001b[39;00m:\n\u001b[1;32m   1281\u001b[0m     \u001b[39mwhile\u001b[39;00m \u001b[39mTrue\u001b[39;00m:\n\u001b[0;32m-> 1282\u001b[0m         success, data \u001b[39m=\u001b[39m \u001b[39mself\u001b[39;49m\u001b[39m.\u001b[39;49m_try_get_data()\n\u001b[1;32m   1283\u001b[0m         \u001b[39mif\u001b[39;00m success:\n\u001b[1;32m   1284\u001b[0m             \u001b[39mreturn\u001b[39;00m data\n",
      "File \u001b[0;32m/opt/conda/lib/python3.9/site-packages/torch/utils/data/dataloader.py:1120\u001b[0m, in \u001b[0;36m_MultiProcessingDataLoaderIter._try_get_data\u001b[0;34m(self, timeout)\u001b[0m\n\u001b[1;32m   1107\u001b[0m \u001b[39mdef\u001b[39;00m \u001b[39m_try_get_data\u001b[39m(\u001b[39mself\u001b[39m, timeout\u001b[39m=\u001b[39m_utils\u001b[39m.\u001b[39mMP_STATUS_CHECK_INTERVAL):\n\u001b[1;32m   1108\u001b[0m     \u001b[39m# Tries to fetch data from `self._data_queue` once for a given timeout.\u001b[39;00m\n\u001b[1;32m   1109\u001b[0m     \u001b[39m# This can also be used as inner loop of fetching without timeout, with\u001b[39;00m\n\u001b[0;32m   (...)\u001b[0m\n\u001b[1;32m   1117\u001b[0m     \u001b[39m# Returns a 2-tuple:\u001b[39;00m\n\u001b[1;32m   1118\u001b[0m     \u001b[39m#   (bool: whether successfully get data, any: data if successful else None)\u001b[39;00m\n\u001b[1;32m   1119\u001b[0m     \u001b[39mtry\u001b[39;00m:\n\u001b[0;32m-> 1120\u001b[0m         data \u001b[39m=\u001b[39m \u001b[39mself\u001b[39;49m\u001b[39m.\u001b[39;49m_data_queue\u001b[39m.\u001b[39;49mget(timeout\u001b[39m=\u001b[39;49mtimeout)\n\u001b[1;32m   1121\u001b[0m         \u001b[39mreturn\u001b[39;00m (\u001b[39mTrue\u001b[39;00m, data)\n\u001b[1;32m   1122\u001b[0m     \u001b[39mexcept\u001b[39;00m \u001b[39mException\u001b[39;00m \u001b[39mas\u001b[39;00m e:\n\u001b[1;32m   1123\u001b[0m         \u001b[39m# At timeout and error, we manually check whether any worker has\u001b[39;00m\n\u001b[1;32m   1124\u001b[0m         \u001b[39m# failed. Note that this is the only mechanism for Windows to detect\u001b[39;00m\n\u001b[1;32m   1125\u001b[0m         \u001b[39m# worker failures.\u001b[39;00m\n",
      "File \u001b[0;32m/opt/conda/lib/python3.9/multiprocessing/queues.py:113\u001b[0m, in \u001b[0;36mQueue.get\u001b[0;34m(self, block, timeout)\u001b[0m\n\u001b[1;32m    111\u001b[0m \u001b[39mif\u001b[39;00m block:\n\u001b[1;32m    112\u001b[0m     timeout \u001b[39m=\u001b[39m deadline \u001b[39m-\u001b[39m time\u001b[39m.\u001b[39mmonotonic()\n\u001b[0;32m--> 113\u001b[0m     \u001b[39mif\u001b[39;00m \u001b[39mnot\u001b[39;00m \u001b[39mself\u001b[39;49m\u001b[39m.\u001b[39;49m_poll(timeout):\n\u001b[1;32m    114\u001b[0m         \u001b[39mraise\u001b[39;00m Empty\n\u001b[1;32m    115\u001b[0m \u001b[39melif\u001b[39;00m \u001b[39mnot\u001b[39;00m \u001b[39mself\u001b[39m\u001b[39m.\u001b[39m_poll():\n",
      "File \u001b[0;32m/opt/conda/lib/python3.9/multiprocessing/connection.py:262\u001b[0m, in \u001b[0;36m_ConnectionBase.poll\u001b[0;34m(self, timeout)\u001b[0m\n\u001b[1;32m    260\u001b[0m \u001b[39mself\u001b[39m\u001b[39m.\u001b[39m_check_closed()\n\u001b[1;32m    261\u001b[0m \u001b[39mself\u001b[39m\u001b[39m.\u001b[39m_check_readable()\n\u001b[0;32m--> 262\u001b[0m \u001b[39mreturn\u001b[39;00m \u001b[39mself\u001b[39;49m\u001b[39m.\u001b[39;49m_poll(timeout)\n",
      "File \u001b[0;32m/opt/conda/lib/python3.9/multiprocessing/connection.py:429\u001b[0m, in \u001b[0;36mConnection._poll\u001b[0;34m(self, timeout)\u001b[0m\n\u001b[1;32m    428\u001b[0m \u001b[39mdef\u001b[39;00m \u001b[39m_poll\u001b[39m(\u001b[39mself\u001b[39m, timeout):\n\u001b[0;32m--> 429\u001b[0m     r \u001b[39m=\u001b[39m wait([\u001b[39mself\u001b[39;49m], timeout)\n\u001b[1;32m    430\u001b[0m     \u001b[39mreturn\u001b[39;00m \u001b[39mbool\u001b[39m(r)\n",
      "File \u001b[0;32m/opt/conda/lib/python3.9/multiprocessing/connection.py:936\u001b[0m, in \u001b[0;36mwait\u001b[0;34m(object_list, timeout)\u001b[0m\n\u001b[1;32m    933\u001b[0m     deadline \u001b[39m=\u001b[39m time\u001b[39m.\u001b[39mmonotonic() \u001b[39m+\u001b[39m timeout\n\u001b[1;32m    935\u001b[0m \u001b[39mwhile\u001b[39;00m \u001b[39mTrue\u001b[39;00m:\n\u001b[0;32m--> 936\u001b[0m     ready \u001b[39m=\u001b[39m selector\u001b[39m.\u001b[39;49mselect(timeout)\n\u001b[1;32m    937\u001b[0m     \u001b[39mif\u001b[39;00m ready:\n\u001b[1;32m    938\u001b[0m         \u001b[39mreturn\u001b[39;00m [key\u001b[39m.\u001b[39mfileobj \u001b[39mfor\u001b[39;00m (key, events) \u001b[39min\u001b[39;00m ready]\n",
      "File \u001b[0;32m/opt/conda/lib/python3.9/selectors.py:416\u001b[0m, in \u001b[0;36m_PollLikeSelector.select\u001b[0;34m(self, timeout)\u001b[0m\n\u001b[1;32m    414\u001b[0m ready \u001b[39m=\u001b[39m []\n\u001b[1;32m    415\u001b[0m \u001b[39mtry\u001b[39;00m:\n\u001b[0;32m--> 416\u001b[0m     fd_event_list \u001b[39m=\u001b[39m \u001b[39mself\u001b[39;49m\u001b[39m.\u001b[39;49m_selector\u001b[39m.\u001b[39;49mpoll(timeout)\n\u001b[1;32m    417\u001b[0m \u001b[39mexcept\u001b[39;00m \u001b[39mInterruptedError\u001b[39;00m:\n\u001b[1;32m    418\u001b[0m     \u001b[39mreturn\u001b[39;00m ready\n",
      "\u001b[0;31mKeyboardInterrupt\u001b[0m: "
     ]
    }
   ],
   "source": [
    "if __name__ == \"__main__\":\n",
    "\ttrainer = Trainer()\n",
    "\n",
    "\ttrainer.train_model(\n",
    "\t\t'Baseline NN', BaselineNN, # model\n",
    "\t\toptim.Adam, {'lr': 1e-4 * (GPU_COUNT) ** 0.5, 'weight_decay': 1e-5}, # optimizer\n",
    "\t\taugmix_train_data, # data\n",
    "\t\tearly_stopping = CustomEarlyStopping(patience = 15),\n",
    "\t\tbatch_size = 512,\n",
    "\t\tverbose=True\n",
    "\t)\n",
    "\ttrainer.archive('Baseline NN')\n",
    "\tdisplay(trainer.history)"
   ]
  },
  {
   "cell_type": "markdown",
   "metadata": {},
   "source": [
    "#### AlexNet-inspired CNN: MiniAlexNet"
   ]
  },
  {
   "cell_type": "code",
   "execution_count": null,
   "metadata": {},
   "outputs": [],
   "source": [
    "class MiniAlexNet(nn.Module):\n",
    "\tdef __init__(self, num_classes = 100):\n",
    "\t\tsuper(MiniAlexNet, self).__init__()\n",
    "\n",
    "\t\tself.conv1 = nn.Sequential(\n",
    "            nn.Conv2d(3, 64, kernel_size=7, stride=2, padding=2),\n",
    "            nn.ReLU(),\n",
    "            nn.MaxPool2d(kernel_size=3, stride=2),\n",
    "\t\t)\n",
    "\n",
    "\t\tself.conv2 = nn.Sequential(\n",
    "            nn.Conv2d(64, 192, kernel_size=3, stride=2, padding=2),\n",
    "            nn.ReLU(),\n",
    "\t\t)\n",
    "\n",
    "\t\tself.conv3 = nn.Sequential(\n",
    "            nn.Conv2d(192, 384, kernel_size=3, stride=1, padding=1),\n",
    "            nn.ReLU(),\n",
    "\t\t)\n",
    "\n",
    "\t\tself.conv4 = nn.Sequential(\n",
    "            nn.Conv2d(384, 256, kernel_size=3, stride=1, padding=1),\n",
    "            nn.ReLU(),\n",
    "\t\t\tnn.MaxPool2d(kernel_size = 3, stride = 2, padding = 1)\n",
    "\t\t)\n",
    "\n",
    "\t\tself.avgpool = nn.AdaptiveAvgPool2d((2, 2))\n",
    "\n",
    "\t\tself.fc = nn.Sequential(\n",
    "\t\t\tnn.Dropout(p = 0.5),\n",
    "\t\t\tnn.Linear(256 * 2  * 2, 1024),\n",
    "\t\t\tnn.ReLU(),\n",
    "\t\t\tnn.Dropout(p = 0.5),\n",
    "\t\t\tnn.Linear(1024, 1024),\n",
    "\t\t\tnn.ReLU(),\n",
    "\t\t\tnn.Linear(1024, num_classes)\n",
    "\t\t)\n",
    "\n",
    "\tdef forward(self, x):\n",
    "\t\tx = self.conv1(x)\n",
    "\t\tx = self.conv2(x)\n",
    "\t\tx = self.conv3(x)\n",
    "\t\tx = self.conv4(x)\n",
    "\t\tx = self.avgpool(x)\n",
    "\t\tx = torch.flatten(x, 1)\n",
    "\t\tx = self.fc(x)\n",
    "\t\treturn x"
   ]
  },
  {
   "cell_type": "code",
   "execution_count": null,
   "metadata": {},
   "outputs": [
    {
     "name": "stderr",
     "output_type": "stream",
     "text": [
      " 71%|███████   | 56/79 [01:18<00:32,  1.40s/it]\n"
     ]
    },
    {
     "ename": "KeyboardInterrupt",
     "evalue": "",
     "output_type": "error",
     "traceback": [
      "\u001b[0;31m---------------------------------------------------------------------------\u001b[0m",
      "\u001b[0;31mKeyboardInterrupt\u001b[0m                         Traceback (most recent call last)",
      "\u001b[1;32mc:\\Users\\kenne\\Documents\\GitHub\\CIFAR100\\cifar_100.ipynb Cell 103\u001b[0m in \u001b[0;36m<cell line: 1>\u001b[0;34m()\u001b[0m\n\u001b[1;32m      <a href='vscode-notebook-cell:/c%3A/Users/kenne/Documents/GitHub/CIFAR100/cifar_100.ipynb#Y206sZmlsZQ%3D%3D?line=0'>1</a>\u001b[0m \u001b[39mif\u001b[39;00m \u001b[39mnot\u001b[39;00m MODEL_DEBUG \u001b[39mor\u001b[39;00m \u001b[39mTrue\u001b[39;00m:\n\u001b[0;32m----> <a href='vscode-notebook-cell:/c%3A/Users/kenne/Documents/GitHub/CIFAR100/cifar_100.ipynb#Y206sZmlsZQ%3D%3D?line=1'>2</a>\u001b[0m \ttrainer\u001b[39m.\u001b[39;49mtrain_model(\n\u001b[1;32m      <a href='vscode-notebook-cell:/c%3A/Users/kenne/Documents/GitHub/CIFAR100/cifar_100.ipynb#Y206sZmlsZQ%3D%3D?line=2'>3</a>\u001b[0m \t\t\u001b[39m'\u001b[39;49m\u001b[39mMiniAlexNet\u001b[39;49m\u001b[39m'\u001b[39;49m, MiniAlexNet, \u001b[39m# model\u001b[39;49;00m\n\u001b[1;32m      <a href='vscode-notebook-cell:/c%3A/Users/kenne/Documents/GitHub/CIFAR100/cifar_100.ipynb#Y206sZmlsZQ%3D%3D?line=3'>4</a>\u001b[0m \t\toptim\u001b[39m.\u001b[39;49mAdam, {\u001b[39m'\u001b[39;49m\u001b[39mlr\u001b[39;49m\u001b[39m'\u001b[39;49m: \u001b[39m1e-4\u001b[39;49m \u001b[39m*\u001b[39;49m (GPU_COUNT) \u001b[39m*\u001b[39;49m\u001b[39m*\u001b[39;49m \u001b[39m0.5\u001b[39;49m, \u001b[39m'\u001b[39;49m\u001b[39mweight_decay\u001b[39;49m\u001b[39m'\u001b[39;49m: \u001b[39m1e-5\u001b[39;49m}, \u001b[39m# optimizer\u001b[39;49;00m\n\u001b[1;32m      <a href='vscode-notebook-cell:/c%3A/Users/kenne/Documents/GitHub/CIFAR100/cifar_100.ipynb#Y206sZmlsZQ%3D%3D?line=4'>5</a>\u001b[0m \t\ttrain_data, \u001b[39m# data\u001b[39;49;00m\n\u001b[1;32m      <a href='vscode-notebook-cell:/c%3A/Users/kenne/Documents/GitHub/CIFAR100/cifar_100.ipynb#Y206sZmlsZQ%3D%3D?line=5'>6</a>\u001b[0m \t\tearly_stopping \u001b[39m=\u001b[39;49m CustomEarlyStopping(patience \u001b[39m=\u001b[39;49m \u001b[39m10\u001b[39;49m),\n\u001b[1;32m      <a href='vscode-notebook-cell:/c%3A/Users/kenne/Documents/GitHub/CIFAR100/cifar_100.ipynb#Y206sZmlsZQ%3D%3D?line=6'>7</a>\u001b[0m \t\tverbose\u001b[39m=\u001b[39;49m\u001b[39mTrue\u001b[39;49;00m\n\u001b[1;32m      <a href='vscode-notebook-cell:/c%3A/Users/kenne/Documents/GitHub/CIFAR100/cifar_100.ipynb#Y206sZmlsZQ%3D%3D?line=7'>8</a>\u001b[0m \t)\n\u001b[1;32m      <a href='vscode-notebook-cell:/c%3A/Users/kenne/Documents/GitHub/CIFAR100/cifar_100.ipynb#Y206sZmlsZQ%3D%3D?line=8'>9</a>\u001b[0m \ttrainer\u001b[39m.\u001b[39marchive(\u001b[39m'\u001b[39m\u001b[39mMiniAlexNet\u001b[39m\u001b[39m'\u001b[39m)\n\u001b[1;32m     <a href='vscode-notebook-cell:/c%3A/Users/kenne/Documents/GitHub/CIFAR100/cifar_100.ipynb#Y206sZmlsZQ%3D%3D?line=9'>10</a>\u001b[0m \tdisplay(trainer\u001b[39m.\u001b[39mhistory)\n",
      "\u001b[1;32mc:\\Users\\kenne\\Documents\\GitHub\\CIFAR100\\cifar_100.ipynb Cell 103\u001b[0m in \u001b[0;36mTrainer.train_model\u001b[0;34m(self, name, model_pass, optimizer_pass, optimizer_args, train_data, scheduler_pass, scheduler_args, batch_size, early_stopping, epochs, verbose, val_data, save_model, augment, return_model)\u001b[0m\n\u001b[1;32m     <a href='vscode-notebook-cell:/c%3A/Users/kenne/Documents/GitHub/CIFAR100/cifar_100.ipynb#Y206sZmlsZQ%3D%3D?line=72'>73</a>\u001b[0m \u001b[39m###################\u001b[39;00m\n\u001b[1;32m     <a href='vscode-notebook-cell:/c%3A/Users/kenne/Documents/GitHub/CIFAR100/cifar_100.ipynb#Y206sZmlsZQ%3D%3D?line=73'>74</a>\u001b[0m \u001b[39m# train the model #\u001b[39;00m\n\u001b[1;32m     <a href='vscode-notebook-cell:/c%3A/Users/kenne/Documents/GitHub/CIFAR100/cifar_100.ipynb#Y206sZmlsZQ%3D%3D?line=74'>75</a>\u001b[0m \u001b[39m###################\u001b[39;00m\n\u001b[1;32m     <a href='vscode-notebook-cell:/c%3A/Users/kenne/Documents/GitHub/CIFAR100/cifar_100.ipynb#Y206sZmlsZQ%3D%3D?line=75'>76</a>\u001b[0m model\u001b[39m.\u001b[39mtrain()\n\u001b[0;32m---> <a href='vscode-notebook-cell:/c%3A/Users/kenne/Documents/GitHub/CIFAR100/cifar_100.ipynb#Y206sZmlsZQ%3D%3D?line=76'>77</a>\u001b[0m \u001b[39mfor\u001b[39;00m data \u001b[39min\u001b[39;00m tqdm(train_loader):\n\u001b[1;32m     <a href='vscode-notebook-cell:/c%3A/Users/kenne/Documents/GitHub/CIFAR100/cifar_100.ipynb#Y206sZmlsZQ%3D%3D?line=77'>78</a>\u001b[0m \t\u001b[39m# _ stands in for labels, here\u001b[39;00m\n\u001b[1;32m     <a href='vscode-notebook-cell:/c%3A/Users/kenne/Documents/GitHub/CIFAR100/cifar_100.ipynb#Y206sZmlsZQ%3D%3D?line=78'>79</a>\u001b[0m \t\u001b[39m# no need to flatten images\u001b[39;00m\n\u001b[1;32m     <a href='vscode-notebook-cell:/c%3A/Users/kenne/Documents/GitHub/CIFAR100/cifar_100.ipynb#Y206sZmlsZQ%3D%3D?line=79'>80</a>\u001b[0m \tinputs, labels \u001b[39m=\u001b[39m data\n\u001b[1;32m     <a href='vscode-notebook-cell:/c%3A/Users/kenne/Documents/GitHub/CIFAR100/cifar_100.ipynb#Y206sZmlsZQ%3D%3D?line=81'>82</a>\u001b[0m \tperform_aug \u001b[39m=\u001b[39m np\u001b[39m.\u001b[39mrandom\u001b[39m.\u001b[39mrandom() \u001b[39m<\u001b[39m \u001b[39m0.4\u001b[39m \n",
      "File \u001b[0;32m/opt/conda/lib/python3.9/site-packages/tqdm/std.py:1195\u001b[0m, in \u001b[0;36mtqdm.__iter__\u001b[0;34m(self)\u001b[0m\n\u001b[1;32m   1192\u001b[0m time \u001b[39m=\u001b[39m \u001b[39mself\u001b[39m\u001b[39m.\u001b[39m_time\n\u001b[1;32m   1194\u001b[0m \u001b[39mtry\u001b[39;00m:\n\u001b[0;32m-> 1195\u001b[0m     \u001b[39mfor\u001b[39;00m obj \u001b[39min\u001b[39;00m iterable:\n\u001b[1;32m   1196\u001b[0m         \u001b[39myield\u001b[39;00m obj\n\u001b[1;32m   1197\u001b[0m         \u001b[39m# Update and possibly print the progressbar.\u001b[39;00m\n\u001b[1;32m   1198\u001b[0m         \u001b[39m# Note: does not call self.update(1) for speed optimisation.\u001b[39;00m\n",
      "File \u001b[0;32m/opt/conda/lib/python3.9/site-packages/torch/utils/data/dataloader.py:628\u001b[0m, in \u001b[0;36m_BaseDataLoaderIter.__next__\u001b[0;34m(self)\u001b[0m\n\u001b[1;32m    625\u001b[0m \u001b[39mif\u001b[39;00m \u001b[39mself\u001b[39m\u001b[39m.\u001b[39m_sampler_iter \u001b[39mis\u001b[39;00m \u001b[39mNone\u001b[39;00m:\n\u001b[1;32m    626\u001b[0m     \u001b[39m# TODO(https://github.com/pytorch/pytorch/issues/76750)\u001b[39;00m\n\u001b[1;32m    627\u001b[0m     \u001b[39mself\u001b[39m\u001b[39m.\u001b[39m_reset()  \u001b[39m# type: ignore[call-arg]\u001b[39;00m\n\u001b[0;32m--> 628\u001b[0m data \u001b[39m=\u001b[39m \u001b[39mself\u001b[39;49m\u001b[39m.\u001b[39;49m_next_data()\n\u001b[1;32m    629\u001b[0m \u001b[39mself\u001b[39m\u001b[39m.\u001b[39m_num_yielded \u001b[39m+\u001b[39m\u001b[39m=\u001b[39m \u001b[39m1\u001b[39m\n\u001b[1;32m    630\u001b[0m \u001b[39mif\u001b[39;00m \u001b[39mself\u001b[39m\u001b[39m.\u001b[39m_dataset_kind \u001b[39m==\u001b[39m _DatasetKind\u001b[39m.\u001b[39mIterable \u001b[39mand\u001b[39;00m \\\n\u001b[1;32m    631\u001b[0m         \u001b[39mself\u001b[39m\u001b[39m.\u001b[39m_IterableDataset_len_called \u001b[39mis\u001b[39;00m \u001b[39mnot\u001b[39;00m \u001b[39mNone\u001b[39;00m \u001b[39mand\u001b[39;00m \\\n\u001b[1;32m    632\u001b[0m         \u001b[39mself\u001b[39m\u001b[39m.\u001b[39m_num_yielded \u001b[39m>\u001b[39m \u001b[39mself\u001b[39m\u001b[39m.\u001b[39m_IterableDataset_len_called:\n",
      "File \u001b[0;32m/opt/conda/lib/python3.9/site-packages/torch/utils/data/dataloader.py:671\u001b[0m, in \u001b[0;36m_SingleProcessDataLoaderIter._next_data\u001b[0;34m(self)\u001b[0m\n\u001b[1;32m    669\u001b[0m \u001b[39mdef\u001b[39;00m \u001b[39m_next_data\u001b[39m(\u001b[39mself\u001b[39m):\n\u001b[1;32m    670\u001b[0m     index \u001b[39m=\u001b[39m \u001b[39mself\u001b[39m\u001b[39m.\u001b[39m_next_index()  \u001b[39m# may raise StopIteration\u001b[39;00m\n\u001b[0;32m--> 671\u001b[0m     data \u001b[39m=\u001b[39m \u001b[39mself\u001b[39;49m\u001b[39m.\u001b[39;49m_dataset_fetcher\u001b[39m.\u001b[39;49mfetch(index)  \u001b[39m# may raise StopIteration\u001b[39;00m\n\u001b[1;32m    672\u001b[0m     \u001b[39mif\u001b[39;00m \u001b[39mself\u001b[39m\u001b[39m.\u001b[39m_pin_memory:\n\u001b[1;32m    673\u001b[0m         data \u001b[39m=\u001b[39m _utils\u001b[39m.\u001b[39mpin_memory\u001b[39m.\u001b[39mpin_memory(data, \u001b[39mself\u001b[39m\u001b[39m.\u001b[39m_pin_memory_device)\n",
      "File \u001b[0;32m/opt/conda/lib/python3.9/site-packages/torch/utils/data/_utils/fetch.py:58\u001b[0m, in \u001b[0;36m_MapDatasetFetcher.fetch\u001b[0;34m(self, possibly_batched_index)\u001b[0m\n\u001b[1;32m     56\u001b[0m         data \u001b[39m=\u001b[39m \u001b[39mself\u001b[39m\u001b[39m.\u001b[39mdataset\u001b[39m.\u001b[39m__getitems__(possibly_batched_index)\n\u001b[1;32m     57\u001b[0m     \u001b[39melse\u001b[39;00m:\n\u001b[0;32m---> 58\u001b[0m         data \u001b[39m=\u001b[39m [\u001b[39mself\u001b[39m\u001b[39m.\u001b[39mdataset[idx] \u001b[39mfor\u001b[39;00m idx \u001b[39min\u001b[39;00m possibly_batched_index]\n\u001b[1;32m     59\u001b[0m \u001b[39melse\u001b[39;00m:\n\u001b[1;32m     60\u001b[0m     data \u001b[39m=\u001b[39m \u001b[39mself\u001b[39m\u001b[39m.\u001b[39mdataset[possibly_batched_index]\n",
      "File \u001b[0;32m/opt/conda/lib/python3.9/site-packages/torch/utils/data/_utils/fetch.py:58\u001b[0m, in \u001b[0;36m<listcomp>\u001b[0;34m(.0)\u001b[0m\n\u001b[1;32m     56\u001b[0m         data \u001b[39m=\u001b[39m \u001b[39mself\u001b[39m\u001b[39m.\u001b[39mdataset\u001b[39m.\u001b[39m__getitems__(possibly_batched_index)\n\u001b[1;32m     57\u001b[0m     \u001b[39melse\u001b[39;00m:\n\u001b[0;32m---> 58\u001b[0m         data \u001b[39m=\u001b[39m [\u001b[39mself\u001b[39;49m\u001b[39m.\u001b[39;49mdataset[idx] \u001b[39mfor\u001b[39;00m idx \u001b[39min\u001b[39;00m possibly_batched_index]\n\u001b[1;32m     59\u001b[0m \u001b[39melse\u001b[39;00m:\n\u001b[1;32m     60\u001b[0m     data \u001b[39m=\u001b[39m \u001b[39mself\u001b[39m\u001b[39m.\u001b[39mdataset[possibly_batched_index]\n",
      "\u001b[1;32mc:\\Users\\kenne\\Documents\\GitHub\\CIFAR100\\cifar_100.ipynb Cell 103\u001b[0m in \u001b[0;36mTorchDataset.__getitem__\u001b[0;34m(self, idx)\u001b[0m\n\u001b[1;32m     <a href='vscode-notebook-cell:/c%3A/Users/kenne/Documents/GitHub/CIFAR100/cifar_100.ipynb#Y206sZmlsZQ%3D%3D?line=30'>31</a>\u001b[0m selected \u001b[39m=\u001b[39m \u001b[39mself\u001b[39m\u001b[39m.\u001b[39mx[idx]\n\u001b[1;32m     <a href='vscode-notebook-cell:/c%3A/Users/kenne/Documents/GitHub/CIFAR100/cifar_100.ipynb#Y206sZmlsZQ%3D%3D?line=32'>33</a>\u001b[0m \u001b[39mif\u001b[39;00m \u001b[39mself\u001b[39m\u001b[39m.\u001b[39mtransform:\n\u001b[0;32m---> <a href='vscode-notebook-cell:/c%3A/Users/kenne/Documents/GitHub/CIFAR100/cifar_100.ipynb#Y206sZmlsZQ%3D%3D?line=33'>34</a>\u001b[0m \tselected \u001b[39m=\u001b[39m \u001b[39mself\u001b[39;49m\u001b[39m.\u001b[39;49mtransform(selected)\n\u001b[1;32m     <a href='vscode-notebook-cell:/c%3A/Users/kenne/Documents/GitHub/CIFAR100/cifar_100.ipynb#Y206sZmlsZQ%3D%3D?line=35'>36</a>\u001b[0m \u001b[39mreturn\u001b[39;00m selected, \u001b[39mself\u001b[39m\u001b[39m.\u001b[39my[idx]\n",
      "File \u001b[0;32m/opt/conda/lib/python3.9/site-packages/torchvision/transforms/transforms.py:95\u001b[0m, in \u001b[0;36mCompose.__call__\u001b[0;34m(self, img)\u001b[0m\n\u001b[1;32m     93\u001b[0m \u001b[39mdef\u001b[39;00m \u001b[39m__call__\u001b[39m(\u001b[39mself\u001b[39m, img):\n\u001b[1;32m     94\u001b[0m     \u001b[39mfor\u001b[39;00m t \u001b[39min\u001b[39;00m \u001b[39mself\u001b[39m\u001b[39m.\u001b[39mtransforms:\n\u001b[0;32m---> 95\u001b[0m         img \u001b[39m=\u001b[39m t(img)\n\u001b[1;32m     96\u001b[0m     \u001b[39mreturn\u001b[39;00m img\n",
      "File \u001b[0;32m/opt/conda/lib/python3.9/site-packages/torchvision/transforms/transforms.py:95\u001b[0m, in \u001b[0;36mCompose.__call__\u001b[0;34m(self, img)\u001b[0m\n\u001b[1;32m     93\u001b[0m \u001b[39mdef\u001b[39;00m \u001b[39m__call__\u001b[39m(\u001b[39mself\u001b[39m, img):\n\u001b[1;32m     94\u001b[0m     \u001b[39mfor\u001b[39;00m t \u001b[39min\u001b[39;00m \u001b[39mself\u001b[39m\u001b[39m.\u001b[39mtransforms:\n\u001b[0;32m---> 95\u001b[0m         img \u001b[39m=\u001b[39m t(img)\n\u001b[1;32m     96\u001b[0m     \u001b[39mreturn\u001b[39;00m img\n",
      "File \u001b[0;32m/opt/conda/lib/python3.9/site-packages/torch/nn/modules/module.py:1190\u001b[0m, in \u001b[0;36mModule._call_impl\u001b[0;34m(self, *input, **kwargs)\u001b[0m\n\u001b[1;32m   1186\u001b[0m \u001b[39m# If we don't have any hooks, we want to skip the rest of the logic in\u001b[39;00m\n\u001b[1;32m   1187\u001b[0m \u001b[39m# this function, and just call forward.\u001b[39;00m\n\u001b[1;32m   1188\u001b[0m \u001b[39mif\u001b[39;00m \u001b[39mnot\u001b[39;00m (\u001b[39mself\u001b[39m\u001b[39m.\u001b[39m_backward_hooks \u001b[39mor\u001b[39;00m \u001b[39mself\u001b[39m\u001b[39m.\u001b[39m_forward_hooks \u001b[39mor\u001b[39;00m \u001b[39mself\u001b[39m\u001b[39m.\u001b[39m_forward_pre_hooks \u001b[39mor\u001b[39;00m _global_backward_hooks\n\u001b[1;32m   1189\u001b[0m         \u001b[39mor\u001b[39;00m _global_forward_hooks \u001b[39mor\u001b[39;00m _global_forward_pre_hooks):\n\u001b[0;32m-> 1190\u001b[0m     \u001b[39mreturn\u001b[39;00m forward_call(\u001b[39m*\u001b[39;49m\u001b[39minput\u001b[39;49m, \u001b[39m*\u001b[39;49m\u001b[39m*\u001b[39;49mkwargs)\n\u001b[1;32m   1191\u001b[0m \u001b[39m# Do not call functions when jit is used\u001b[39;00m\n\u001b[1;32m   1192\u001b[0m full_backward_hooks, non_full_backward_hooks \u001b[39m=\u001b[39m [], []\n",
      "File \u001b[0;32m/opt/conda/lib/python3.9/site-packages/torchvision/transforms/autoaugment.py:595\u001b[0m, in \u001b[0;36mAugMix.forward\u001b[0;34m(self, orig_img)\u001b[0m\n\u001b[1;32m    593\u001b[0m         \u001b[39mif\u001b[39;00m signed \u001b[39mand\u001b[39;00m torch\u001b[39m.\u001b[39mrandint(\u001b[39m2\u001b[39m, (\u001b[39m1\u001b[39m,)):\n\u001b[1;32m    594\u001b[0m             magnitude \u001b[39m*\u001b[39m\u001b[39m=\u001b[39m \u001b[39m-\u001b[39m\u001b[39m1.0\u001b[39m\n\u001b[0;32m--> 595\u001b[0m         aug \u001b[39m=\u001b[39m _apply_op(aug, op_name, magnitude, interpolation\u001b[39m=\u001b[39;49m\u001b[39mself\u001b[39;49m\u001b[39m.\u001b[39;49minterpolation, fill\u001b[39m=\u001b[39;49mfill)\n\u001b[1;32m    596\u001b[0m     mix\u001b[39m.\u001b[39madd_(combined_weights[:, i]\u001b[39m.\u001b[39mview(batch_dims) \u001b[39m*\u001b[39m aug)\n\u001b[1;32m    597\u001b[0m mix \u001b[39m=\u001b[39m mix\u001b[39m.\u001b[39mview(orig_dims)\u001b[39m.\u001b[39mto(dtype\u001b[39m=\u001b[39mimg\u001b[39m.\u001b[39mdtype)\n",
      "File \u001b[0;32m/opt/conda/lib/python3.9/site-packages/torchvision/transforms/autoaugment.py:36\u001b[0m, in \u001b[0;36m_apply_op\u001b[0;34m(img, op_name, magnitude, interpolation, fill)\u001b[0m\n\u001b[1;32m     23\u001b[0m     img \u001b[39m=\u001b[39m F\u001b[39m.\u001b[39maffine(\n\u001b[1;32m     24\u001b[0m         img,\n\u001b[1;32m     25\u001b[0m         angle\u001b[39m=\u001b[39m\u001b[39m0.0\u001b[39m,\n\u001b[0;32m   (...)\u001b[0m\n\u001b[1;32m     31\u001b[0m         center\u001b[39m=\u001b[39m[\u001b[39m0\u001b[39m, \u001b[39m0\u001b[39m],\n\u001b[1;32m     32\u001b[0m     )\n\u001b[1;32m     33\u001b[0m \u001b[39melif\u001b[39;00m op_name \u001b[39m==\u001b[39m \u001b[39m\"\u001b[39m\u001b[39mShearY\u001b[39m\u001b[39m\"\u001b[39m:\n\u001b[1;32m     34\u001b[0m     \u001b[39m# magnitude should be arctan(magnitude)\u001b[39;00m\n\u001b[1;32m     35\u001b[0m     \u001b[39m# See above\u001b[39;00m\n\u001b[0;32m---> 36\u001b[0m     img \u001b[39m=\u001b[39m F\u001b[39m.\u001b[39;49maffine(\n\u001b[1;32m     37\u001b[0m         img,\n\u001b[1;32m     38\u001b[0m         angle\u001b[39m=\u001b[39;49m\u001b[39m0.0\u001b[39;49m,\n\u001b[1;32m     39\u001b[0m         translate\u001b[39m=\u001b[39;49m[\u001b[39m0\u001b[39;49m, \u001b[39m0\u001b[39;49m],\n\u001b[1;32m     40\u001b[0m         scale\u001b[39m=\u001b[39;49m\u001b[39m1.0\u001b[39;49m,\n\u001b[1;32m     41\u001b[0m         shear\u001b[39m=\u001b[39;49m[\u001b[39m0.0\u001b[39;49m, math\u001b[39m.\u001b[39;49mdegrees(math\u001b[39m.\u001b[39;49matan(magnitude))],\n\u001b[1;32m     42\u001b[0m         interpolation\u001b[39m=\u001b[39;49minterpolation,\n\u001b[1;32m     43\u001b[0m         fill\u001b[39m=\u001b[39;49mfill,\n\u001b[1;32m     44\u001b[0m         center\u001b[39m=\u001b[39;49m[\u001b[39m0\u001b[39;49m, \u001b[39m0\u001b[39;49m],\n\u001b[1;32m     45\u001b[0m     )\n\u001b[1;32m     46\u001b[0m \u001b[39melif\u001b[39;00m op_name \u001b[39m==\u001b[39m \u001b[39m\"\u001b[39m\u001b[39mTranslateX\u001b[39m\u001b[39m\"\u001b[39m:\n\u001b[1;32m     47\u001b[0m     img \u001b[39m=\u001b[39m F\u001b[39m.\u001b[39maffine(\n\u001b[1;32m     48\u001b[0m         img,\n\u001b[1;32m     49\u001b[0m         angle\u001b[39m=\u001b[39m\u001b[39m0.0\u001b[39m,\n\u001b[0;32m   (...)\u001b[0m\n\u001b[1;32m     54\u001b[0m         fill\u001b[39m=\u001b[39mfill,\n\u001b[1;32m     55\u001b[0m     )\n",
      "File \u001b[0;32m/opt/conda/lib/python3.9/site-packages/torchvision/transforms/functional.py:1229\u001b[0m, in \u001b[0;36maffine\u001b[0;34m(img, angle, translate, scale, shear, interpolation, fill, center)\u001b[0m\n\u001b[1;32m   1227\u001b[0m translate_f \u001b[39m=\u001b[39m [\u001b[39m1.0\u001b[39m \u001b[39m*\u001b[39m t \u001b[39mfor\u001b[39;00m t \u001b[39min\u001b[39;00m translate]\n\u001b[1;32m   1228\u001b[0m matrix \u001b[39m=\u001b[39m _get_inverse_affine_matrix(center_f, angle, translate_f, scale, shear)\n\u001b[0;32m-> 1229\u001b[0m \u001b[39mreturn\u001b[39;00m F_t\u001b[39m.\u001b[39;49maffine(img, matrix\u001b[39m=\u001b[39;49mmatrix, interpolation\u001b[39m=\u001b[39;49minterpolation\u001b[39m.\u001b[39;49mvalue, fill\u001b[39m=\u001b[39;49mfill)\n",
      "File \u001b[0;32m/opt/conda/lib/python3.9/site-packages/torchvision/transforms/functional_tensor.py:616\u001b[0m, in \u001b[0;36maffine\u001b[0;34m(img, matrix, interpolation, fill)\u001b[0m\n\u001b[1;32m    613\u001b[0m _assert_grid_transform_inputs(img, matrix, interpolation, fill, [\u001b[39m\"\u001b[39m\u001b[39mnearest\u001b[39m\u001b[39m\"\u001b[39m, \u001b[39m\"\u001b[39m\u001b[39mbilinear\u001b[39m\u001b[39m\"\u001b[39m])\n\u001b[1;32m    615\u001b[0m dtype \u001b[39m=\u001b[39m img\u001b[39m.\u001b[39mdtype \u001b[39mif\u001b[39;00m torch\u001b[39m.\u001b[39mis_floating_point(img) \u001b[39melse\u001b[39;00m torch\u001b[39m.\u001b[39mfloat32\n\u001b[0;32m--> 616\u001b[0m theta \u001b[39m=\u001b[39m torch\u001b[39m.\u001b[39;49mtensor(matrix, dtype\u001b[39m=\u001b[39;49mdtype, device\u001b[39m=\u001b[39;49mimg\u001b[39m.\u001b[39;49mdevice)\u001b[39m.\u001b[39mreshape(\u001b[39m1\u001b[39m, \u001b[39m2\u001b[39m, \u001b[39m3\u001b[39m)\n\u001b[1;32m    617\u001b[0m shape \u001b[39m=\u001b[39m img\u001b[39m.\u001b[39mshape\n\u001b[1;32m    618\u001b[0m \u001b[39m# grid will be generated on the same device as theta and img\u001b[39;00m\n",
      "\u001b[0;31mKeyboardInterrupt\u001b[0m: "
     ]
    }
   ],
   "source": [
    "if not MODEL_DEBUG or True:\n",
    "\ttrainer.train_model(\n",
    "\t\t'MiniAlexNet', MiniAlexNet, # model\n",
    "\t\toptim.Adam, {'lr': 1e-4 * (GPU_COUNT) ** 0.5, 'weight_decay': 1e-5}, # optimizer\n",
    "\t\ttrain_data, # data\n",
    "\t\tearly_stopping = CustomEarlyStopping(patience = 10),\n",
    "\t\tverbose=True\n",
    "\t)\n",
    "\ttrainer.archive('MiniAlexNet')\n",
    "\tdisplay(trainer.history)"
   ]
  },
  {
   "cell_type": "markdown",
   "metadata": {},
   "source": [
    "#### AutoAugment + MiniAlexNet"
   ]
  },
  {
   "cell_type": "code",
   "execution_count": null,
   "metadata": {},
   "outputs": [],
   "source": [
    "if not MODEL_DEBUG:\n",
    "\ttrainer.train_model(\n",
    "\t\t'AutoAugment + MiniAlexNet', MiniAlexNet, # model\n",
    "\t\toptim.Adam, {'lr': 1e-3 * (GPU_COUNT) ** 0.5, 'weight_decay': 1e-5}, # optimizer\n",
    "\t\ttrain_data, # data\n",
    "\t\tpre_aug = t_extra,\n",
    "\t\tearly_stopping = CustomEarlyStopping(patience = 15),\n",
    "\t\tverbose=True\n",
    "\t)\n",
    "\ttrainer.archive('AutoAugment + MiniAlexNet')\n",
    "\tdisplay(trainer.history)"
   ]
  },
  {
   "cell_type": "markdown",
   "metadata": {},
   "source": [
    "#### Modified VGG15"
   ]
  },
  {
   "cell_type": "code",
   "execution_count": null,
   "metadata": {},
   "outputs": [],
   "source": [
    "def VGGBlock(in_channels, out_channels, pool = False, activation = nn.ReLU):\n",
    "\tif pool:\n",
    "\t\treturn nn.Sequential(\n",
    "\t\t\tnn.Conv2d(in_channels, out_channels, kernel_size = 3, stride = 1, padding = 1),\n",
    "\t\t\tnn.BatchNorm2d(out_channels),\n",
    "\t\t\tactivation(),\n",
    "\t\t\tnn.MaxPool2d(kernel_size = 2, stride = 2)\n",
    "\t\t)\n",
    "\treturn nn.Sequential(\n",
    "\t\tnn.Conv2d(in_channels, out_channels, kernel_size = 3, stride = 1, padding = 1),\n",
    "\t\tnn.BatchNorm2d(out_channels),\n",
    "\t\tactivation()\n",
    "\t)\n",
    "\n",
    "class VGG15(nn.Module):\n",
    "\tdef __init__(self, num_classes = 100):\n",
    "\t\tsuper().__init__()\n",
    "\t\tself.l0 = VGGBlock(3, 64)\n",
    "\t\tself.l1 = VGGBlock(64, 64)\n",
    "\t\tself.l2 = VGGBlock(64, 64, pool = True)\n",
    "\t\tself.l3 = VGGBlock(64, 128)\n",
    "\t\tself.l4 = VGGBlock(128, 128)\n",
    "\t\tself.l5 = VGGBlock(128, 128, pool = True)\n",
    "\t\tself.l6 = VGGBlock(128, 256)\n",
    "\t\tself.l7 = VGGBlock(256, 256)\n",
    "\t\tself.l8 = VGGBlock(256, 256, pool = True)\n",
    "\t\tself.l9 = VGGBlock(256, 512)\n",
    "\t\tself.l10 = VGGBlock(512, 512)\n",
    "\t\tself.l11 = VGGBlock(512, 512, pool = True)\n",
    "        \n",
    "\t\tself.flat = nn.Flatten(start_dim = 1)\n",
    "\t\tself.drop_layer0 = nn.Dropout(0.5)    \n",
    "\t\tself.fc0 = nn.Sequential(\n",
    "\t\t\tnn.Linear(512 * 2 * 2, 4096),\n",
    "\t\t\tnn.ReLU()\n",
    "\t\t)\n",
    "        \n",
    "\t\tself.drop_layer1 = nn.Dropout(0.5)    \n",
    "\t\tself.fc1 = nn.Sequential(\n",
    "\t\t\tnn.Linear(4096, 4096),\n",
    "\t\t\tnn.ReLU()\n",
    "\t\t)\n",
    "        \n",
    "\t\tself.fc2 = nn.Sequential(\n",
    "\t\t\tnn.Linear(4096, num_classes)\n",
    "\t\t)\n",
    "\n",
    "\n",
    "\tdef forward(self, x):\n",
    "\t\tx = self.l0(x)\n",
    "\t\tx = self.l1(x)\n",
    "\t\tx = self.l2(x)\n",
    "\t\tx = self.l3(x)\n",
    "\t\tx = self.l4(x)\n",
    "\t\tx = self.l5(x)\n",
    "\t\tx = self.l6(x)\n",
    "\t\tx = self.l7(x)\n",
    "\t\tx = self.l8(x)\n",
    "\t\tx = self.l9(x)\n",
    "\t\tx = self.l10(x)\n",
    "\t\tx = self.l11(x)\n",
    "\t\tx = self.flat(x)\n",
    "\t\tx = self.drop_layer0(x)\n",
    "\t\tx = self.fc0(x)\n",
    "\t\tx = self.drop_layer1(x)\n",
    "\t\tx = self.fc1(x)\n",
    "\t\tx = self.fc2(x)\n",
    "\t\treturn x\n",
    "    \n",
    "\tdef __repr__(self):\n",
    "\t\treturn \"VGG15\""
   ]
  },
  {
   "cell_type": "code",
   "execution_count": null,
   "metadata": {},
   "outputs": [],
   "source": [
    "if not MODEL_DEBUG or True:\n",
    "\ttrainer.train_model(\n",
    "\t\t'AutoAugment + VGG15', VGG15, # model\n",
    "\t\toptim.Adam, {'lr': 1e-3 * (GPU_COUNT) ** 0.5, 'weight_decay': 1e-5}, # optimizer\n",
    "\t\ttrain_data, # data\n",
    "\t\tscheduler_pass = torch.optim.lr_scheduler.StepLR,\n",
    "\t\tscheduler_args = {'step_size': 10, 'gamma': 0.1},\n",
    "\t\tearly_stopping = CustomEarlyStopping(patience = 15),\n",
    "\t\tverbose=True\n",
    "\t)\n",
    "\ttrainer.archive('AutoAugment + VGG15')\n",
    "\tdisplay(trainer.history)"
   ]
  },
  {
   "cell_type": "markdown",
   "metadata": {},
   "source": [
    "As we generally see that augmentation helps with improving the performance of the models, we'll apply augmentation on all the different models."
   ]
  },
  {
   "cell_type": "markdown",
   "metadata": {},
   "source": [
    "#### AutoAugment + ResNet50\n",
    "\n",
    "The next model we try is ResNet50. The issue with VGG is that it suffers from the <strong>vanishing gradient</strong> problem. Although sometimes it may not have an effect on the performance (such as seen with the FashionMNIST dataset), we'll.\n",
    "\n",
    "As ResNet has 'skip' blocks, essentially countering the <strong>vanishing gradient</strong> issue, it means we can have a deeper network that does not suffer from the problem."
   ]
  },
  {
   "cell_type": "code",
   "execution_count": 46,
   "metadata": {},
   "outputs": [],
   "source": [
    "class BasicBlock(nn.Module):\n",
    "    \"\"\"Basic Block for resnet 18 and resnet 34\n",
    "    \"\"\"\n",
    "\n",
    "    #BasicBlock and BottleNeck block\n",
    "    #have different output size\n",
    "    #we use class attribute expansion\n",
    "    #to distinct\n",
    "    expansion = 1\n",
    "\n",
    "    def __init__(self, in_channels, out_channels, stride=1):\n",
    "        super().__init__()\n",
    "\n",
    "        #residual function\n",
    "        self.residual_function = nn.Sequential(\n",
    "            nn.Conv2d(in_channels, out_channels, kernel_size=3, stride=stride, padding=1, bias=False),\n",
    "            nn.BatchNorm2d(out_channels),\n",
    "            nn.LeakyReLU(inplace=True),\n",
    "            nn.Conv2d(out_channels, out_channels * BasicBlock.expansion, kernel_size=3, padding=1, bias=False),\n",
    "            nn.BatchNorm2d(out_channels * BasicBlock.expansion)\n",
    "        )\n",
    "\n",
    "        #shortcut\n",
    "        self.shortcut = nn.Sequential()\n",
    "\n",
    "        #the shortcut output dimension is not the same with residual function\n",
    "        #use 1*1 convolution to match the dimension\n",
    "        if stride != 1 or in_channels != BasicBlock.expansion * out_channels:\n",
    "            self.shortcut = nn.Sequential(\n",
    "                nn.Conv2d(in_channels, out_channels * BasicBlock.expansion, kernel_size=1, stride=stride, bias=False),\n",
    "                nn.BatchNorm2d(out_channels * BasicBlock.expansion)\n",
    "            )\n",
    "\n",
    "    def forward(self, x):\n",
    "        return nn.LeakyReLU(inplace=True)(self.residual_function(x) + self.shortcut(x))\n",
    "\n",
    "class BottleNeck(nn.Module):\n",
    "    \"\"\"Residual block for resnet over 50 layers\n",
    "    \"\"\"\n",
    "    expansion = 2\n",
    "    def __init__(self, in_channels, out_channels, stride=1):\n",
    "        super().__init__()\n",
    "        self.residual_function = nn.Sequential(\n",
    "            nn.Conv2d(in_channels, out_channels, kernel_size=1, bias=False),\n",
    "            nn.BatchNorm2d(out_channels),\n",
    "            nn.LeakyReLU(inplace=True),\n",
    "            nn.Conv2d(out_channels, out_channels, stride=stride, kernel_size=3, padding=1, bias=False),\n",
    "            nn.BatchNorm2d(out_channels),\n",
    "            nn.LeakyReLU(inplace=True),\n",
    "            nn.Conv2d(out_channels, out_channels * BottleNeck.expansion, kernel_size=1, bias=False),\n",
    "            nn.BatchNorm2d(out_channels * BottleNeck.expansion),\n",
    "        )\n",
    "\n",
    "        self.shortcut = nn.Sequential()\n",
    "\n",
    "        if stride != 1 or in_channels != out_channels * BottleNeck.expansion:\n",
    "            self.shortcut = nn.Sequential(\n",
    "                nn.Conv2d(in_channels, out_channels * BottleNeck.expansion, stride=stride, kernel_size=1, bias=False),\n",
    "                nn.BatchNorm2d(out_channels * BottleNeck.expansion)\n",
    "            )\n",
    "\n",
    "    def forward(self, x):\n",
    "        return nn.LeakyReLU(inplace=True)(self.residual_function(x) + self.shortcut(x))\n",
    "\n",
    "class ResNet50(nn.Module):\n",
    "\n",
    "    def __init__(self, block = BottleNeck, num_block = [3, 4, 6, 3], num_classes=100):\n",
    "        super().__init__()\n",
    "        block = BottleNeck\n",
    "        num_block = [3, 4, 6, 3]\n",
    "\n",
    "        self.in_channels = 64\n",
    "\n",
    "        self.conv1 = nn.Sequential(\n",
    "            nn.Conv2d(3, 64, kernel_size=3, padding=1, bias=False),\n",
    "            nn.BatchNorm2d(64),\n",
    "            nn.LeakyReLU(inplace=True))\n",
    "        #we use a different inputsize than the original paper\n",
    "        #so conv2_x's stride is 1\n",
    "        self.conv2_x = self._make_layer(block, 64, num_block[0], 1)\n",
    "        self.conv3_x = self._make_layer(block, 128, num_block[1], 2)\n",
    "        self.conv4_x = self._make_layer(block, 256, num_block[2], 2)\n",
    "        self.conv5_x = self._make_layer(block, 512, num_block[3], 2)\n",
    "        self.avg_pool = nn.AdaptiveAvgPool2d((1, 1))\n",
    "        self.dropout = nn.Dropout(0.5)\n",
    "        self.fc = nn.Linear(512 * block.expansion, num_classes)\n",
    "\n",
    "    def _make_layer(self, block, out_channels, num_blocks, stride):\n",
    "        \"\"\"make resnet layers(by layer i didnt mean this 'layer' was the\n",
    "        same as a neuron netowork layer, ex. conv layer), one layer may\n",
    "        contain more than one residual block\n",
    "        Args:\n",
    "            block: block type, basic block or bottle neck block\n",
    "            out_channels: output depth channel number of this layer\n",
    "            num_blocks: how many blocks per layer\n",
    "            stride: the stride of the first block of this layer\n",
    "        Return:\n",
    "            return a resnet layer\n",
    "        \"\"\"\n",
    "\n",
    "        # we have num_block blocks per layer, the first block\n",
    "        # could be 1 or 2, other blocks would always be 1\n",
    "        strides = [stride] + [1] * (num_blocks - 1)\n",
    "        layers = []\n",
    "        for stride in strides:\n",
    "            layers.append(block(self.in_channels, out_channels, stride))\n",
    "            self.in_channels = out_channels * block.expansion\n",
    "\n",
    "        return nn.Sequential(*layers)\n",
    "\n",
    "    def forward(self, x):\n",
    "        output = self.conv1(x)\n",
    "        output = self.conv2_x(output)\n",
    "        output = self.conv3_x(output)\n",
    "        output = self.conv4_x(output)\n",
    "        output = self.conv5_x(output)\n",
    "        output = self.avg_pool(output)\n",
    "        output = self.dropout(output)\n",
    "        output = output.view(output.size(0), -1)\n",
    "        output = self.fc(output)\n",
    "\n",
    "        return output\n"
   ]
  },
  {
   "cell_type": "code",
   "execution_count": 58,
   "metadata": {},
   "outputs": [
    {
     "name": "stderr",
     "output_type": "stream",
     "text": [
      "100%|██████████| 79/79 [00:12<00:00,  6.26it/s]\n",
      "100%|██████████| 79/79 [00:05<00:00, 15.68it/s]\n"
     ]
    },
    {
     "name": "stdout",
     "output_type": "stream",
     "text": [
      "Epoch: 1 | Train Loss: 4.56742 \tVal Loss: 4.91699 \tTrain Acc: 0.086 \tVal Acc: 0.085\n"
     ]
    },
    {
     "name": "stderr",
     "output_type": "stream",
     "text": [
      "100%|██████████| 79/79 [00:12<00:00,  6.18it/s]\n",
      "100%|██████████| 79/79 [00:04<00:00, 15.84it/s]\n"
     ]
    },
    {
     "name": "stdout",
     "output_type": "stream",
     "text": [
      "Epoch: 2 | Train Loss: 4.16358 \tVal Loss: 4.38201 \tTrain Acc: 0.123 \tVal Acc: 0.119\n"
     ]
    },
    {
     "name": "stderr",
     "output_type": "stream",
     "text": [
      "100%|██████████| 79/79 [00:12<00:00,  6.26it/s]\n",
      "100%|██████████| 79/79 [00:04<00:00, 15.80it/s]\n"
     ]
    },
    {
     "name": "stdout",
     "output_type": "stream",
     "text": [
      "Epoch: 3 | Train Loss: 3.66376 \tVal Loss: 3.71155 \tTrain Acc: 0.150 \tVal Acc: 0.156\n"
     ]
    },
    {
     "name": "stderr",
     "output_type": "stream",
     "text": [
      "100%|██████████| 79/79 [00:12<00:00,  6.24it/s]\n",
      "100%|██████████| 79/79 [00:05<00:00, 15.70it/s]\n"
     ]
    },
    {
     "name": "stdout",
     "output_type": "stream",
     "text": [
      "Epoch: 4 | Train Loss: 3.55877 \tVal Loss: 3.70368 \tTrain Acc: 0.167 \tVal Acc: 0.171\n"
     ]
    },
    {
     "name": "stderr",
     "output_type": "stream",
     "text": [
      "100%|██████████| 79/79 [00:12<00:00,  6.15it/s]\n",
      "100%|██████████| 79/79 [00:05<00:00, 15.60it/s]\n"
     ]
    },
    {
     "name": "stdout",
     "output_type": "stream",
     "text": [
      "Epoch: 5 | Train Loss: 2.94868 \tVal Loss: 2.99112 \tTrain Acc: 0.260 \tVal Acc: 0.261\n"
     ]
    },
    {
     "name": "stderr",
     "output_type": "stream",
     "text": [
      "100%|██████████| 79/79 [00:12<00:00,  6.25it/s]\n",
      "100%|██████████| 79/79 [00:05<00:00, 15.11it/s]\n"
     ]
    },
    {
     "name": "stdout",
     "output_type": "stream",
     "text": [
      "Epoch: 6 | Train Loss: 2.53861 \tVal Loss: 2.65292 \tTrain Acc: 0.346 \tVal Acc: 0.335\n"
     ]
    },
    {
     "name": "stderr",
     "output_type": "stream",
     "text": [
      "100%|██████████| 79/79 [00:12<00:00,  6.26it/s]\n",
      "100%|██████████| 79/79 [00:05<00:00, 15.76it/s]\n"
     ]
    },
    {
     "name": "stdout",
     "output_type": "stream",
     "text": [
      "Epoch: 7 | Train Loss: 3.02615 \tVal Loss: 3.38874 \tTrain Acc: 0.294 \tVal Acc: 0.259\n"
     ]
    },
    {
     "name": "stderr",
     "output_type": "stream",
     "text": [
      "100%|██████████| 79/79 [00:12<00:00,  6.25it/s]\n",
      "100%|██████████| 79/79 [00:05<00:00, 15.11it/s]\n"
     ]
    },
    {
     "name": "stdout",
     "output_type": "stream",
     "text": [
      "Epoch: 8 | Train Loss: 2.19064 \tVal Loss: 2.34988 \tTrain Acc: 0.411 \tVal Acc: 0.386\n"
     ]
    },
    {
     "name": "stderr",
     "output_type": "stream",
     "text": [
      "100%|██████████| 79/79 [00:12<00:00,  6.25it/s]\n",
      "100%|██████████| 79/79 [00:05<00:00, 15.62it/s]\n"
     ]
    },
    {
     "name": "stdout",
     "output_type": "stream",
     "text": [
      "Epoch: 9 | Train Loss: 2.17418 \tVal Loss: 2.45395 \tTrain Acc: 0.444 \tVal Acc: 0.408\n"
     ]
    },
    {
     "name": "stderr",
     "output_type": "stream",
     "text": [
      "100%|██████████| 79/79 [00:12<00:00,  6.14it/s]\n",
      "100%|██████████| 79/79 [00:05<00:00, 15.68it/s]\n"
     ]
    },
    {
     "name": "stdout",
     "output_type": "stream",
     "text": [
      "Epoch: 10 | Train Loss: 1.86049 \tVal Loss: 2.10247 \tTrain Acc: 0.487 \tVal Acc: 0.449\n"
     ]
    },
    {
     "name": "stderr",
     "output_type": "stream",
     "text": [
      "100%|██████████| 79/79 [00:12<00:00,  6.24it/s]\n",
      "100%|██████████| 79/79 [00:05<00:00, 15.13it/s]\n"
     ]
    },
    {
     "name": "stdout",
     "output_type": "stream",
     "text": [
      "Epoch: 11 | Train Loss: 1.93746 \tVal Loss: 2.17879 \tTrain Acc: 0.484 \tVal Acc: 0.449\n"
     ]
    },
    {
     "name": "stderr",
     "output_type": "stream",
     "text": [
      "100%|██████████| 79/79 [00:12<00:00,  6.25it/s]\n",
      "100%|██████████| 79/79 [00:05<00:00, 15.65it/s]\n"
     ]
    },
    {
     "name": "stdout",
     "output_type": "stream",
     "text": [
      "Epoch: 12 | Train Loss: 1.73888 \tVal Loss: 1.97761 \tTrain Acc: 0.512 \tVal Acc: 0.470\n"
     ]
    },
    {
     "name": "stderr",
     "output_type": "stream",
     "text": [
      "100%|██████████| 79/79 [00:12<00:00,  6.17it/s]\n",
      "100%|██████████| 79/79 [00:05<00:00, 15.69it/s]\n"
     ]
    },
    {
     "name": "stdout",
     "output_type": "stream",
     "text": [
      "Epoch: 13 | Train Loss: 1.78891 \tVal Loss: 1.92489 \tTrain Acc: 0.530 \tVal Acc: 0.490\n"
     ]
    },
    {
     "name": "stderr",
     "output_type": "stream",
     "text": [
      "100%|██████████| 79/79 [00:12<00:00,  6.26it/s]\n",
      "100%|██████████| 79/79 [00:05<00:00, 15.66it/s]\n"
     ]
    },
    {
     "name": "stdout",
     "output_type": "stream",
     "text": [
      "Epoch: 14 | Train Loss: 1.67573 \tVal Loss: 2.00959 \tTrain Acc: 0.531 \tVal Acc: 0.478\n"
     ]
    },
    {
     "name": "stderr",
     "output_type": "stream",
     "text": [
      "100%|██████████| 79/79 [00:12<00:00,  6.24it/s]\n",
      "100%|██████████| 79/79 [00:05<00:00, 15.14it/s]\n"
     ]
    },
    {
     "name": "stdout",
     "output_type": "stream",
     "text": [
      "Epoch: 15 | Train Loss: 1.52587 \tVal Loss: 1.87467 \tTrain Acc: 0.565 \tVal Acc: 0.505\n"
     ]
    },
    {
     "name": "stderr",
     "output_type": "stream",
     "text": [
      "100%|██████████| 79/79 [00:12<00:00,  6.24it/s]\n",
      "100%|██████████| 79/79 [00:05<00:00, 15.75it/s]\n"
     ]
    },
    {
     "name": "stdout",
     "output_type": "stream",
     "text": [
      "Epoch: 16 | Train Loss: 1.38273 \tVal Loss: 1.76848 \tTrain Acc: 0.600 \tVal Acc: 0.532\n"
     ]
    },
    {
     "name": "stderr",
     "output_type": "stream",
     "text": [
      "100%|██████████| 79/79 [00:12<00:00,  6.16it/s]\n",
      "100%|██████████| 79/79 [00:05<00:00, 15.74it/s]\n"
     ]
    },
    {
     "name": "stdout",
     "output_type": "stream",
     "text": [
      "Epoch: 17 | Train Loss: 1.56757 \tVal Loss: 1.78759 \tTrain Acc: 0.593 \tVal Acc: 0.531\n"
     ]
    },
    {
     "name": "stderr",
     "output_type": "stream",
     "text": [
      "100%|██████████| 79/79 [00:12<00:00,  6.25it/s]\n",
      "100%|██████████| 79/79 [00:05<00:00, 15.69it/s]\n"
     ]
    },
    {
     "name": "stdout",
     "output_type": "stream",
     "text": [
      "Epoch: 18 | Train Loss: 1.34549 \tVal Loss: 1.72889 \tTrain Acc: 0.616 \tVal Acc: 0.547\n"
     ]
    },
    {
     "name": "stderr",
     "output_type": "stream",
     "text": [
      "100%|██████████| 79/79 [00:12<00:00,  6.16it/s]\n",
      "100%|██████████| 79/79 [00:05<00:00, 15.74it/s]\n"
     ]
    },
    {
     "name": "stdout",
     "output_type": "stream",
     "text": [
      "Epoch: 19 | Train Loss: 1.26060 \tVal Loss: 1.70383 \tTrain Acc: 0.640 \tVal Acc: 0.554\n"
     ]
    },
    {
     "name": "stderr",
     "output_type": "stream",
     "text": [
      "100%|██████████| 79/79 [00:12<00:00,  6.24it/s]\n",
      "100%|██████████| 79/79 [00:05<00:00, 15.14it/s]\n"
     ]
    },
    {
     "name": "stdout",
     "output_type": "stream",
     "text": [
      "Epoch: 20 | Train Loss: 1.31918 \tVal Loss: 1.81290 \tTrain Acc: 0.619 \tVal Acc: 0.539\n"
     ]
    },
    {
     "name": "stderr",
     "output_type": "stream",
     "text": [
      "100%|██████████| 79/79 [00:12<00:00,  6.25it/s]\n",
      "100%|██████████| 79/79 [00:05<00:00, 15.67it/s]\n"
     ]
    },
    {
     "name": "stdout",
     "output_type": "stream",
     "text": [
      "Epoch: 21 | Train Loss: 1.28771 \tVal Loss: 1.84935 \tTrain Acc: 0.626 \tVal Acc: 0.542\n"
     ]
    },
    {
     "name": "stderr",
     "output_type": "stream",
     "text": [
      "100%|██████████| 79/79 [00:12<00:00,  6.16it/s]\n",
      "100%|██████████| 79/79 [00:05<00:00, 15.75it/s]\n"
     ]
    },
    {
     "name": "stdout",
     "output_type": "stream",
     "text": [
      "Epoch: 22 | Train Loss: 1.08867 \tVal Loss: 1.61390 \tTrain Acc: 0.680 \tVal Acc: 0.575\n"
     ]
    },
    {
     "name": "stderr",
     "output_type": "stream",
     "text": [
      "100%|██████████| 79/79 [00:12<00:00,  6.23it/s]\n",
      "100%|██████████| 79/79 [00:05<00:00, 15.75it/s]\n"
     ]
    },
    {
     "name": "stdout",
     "output_type": "stream",
     "text": [
      "Epoch: 23 | Train Loss: 0.91607 \tVal Loss: 1.51379 \tTrain Acc: 0.721 \tVal Acc: 0.598\n"
     ]
    },
    {
     "name": "stderr",
     "output_type": "stream",
     "text": [
      "100%|██████████| 79/79 [00:12<00:00,  6.23it/s]\n",
      "100%|██████████| 79/79 [00:05<00:00, 15.66it/s]\n"
     ]
    },
    {
     "name": "stdout",
     "output_type": "stream",
     "text": [
      "Epoch: 24 | Train Loss: 1.01671 \tVal Loss: 1.59826 \tTrain Acc: 0.694 \tVal Acc: 0.588\n"
     ]
    },
    {
     "name": "stderr",
     "output_type": "stream",
     "text": [
      "  0%|          | 0/79 [00:00<?, ?it/s]"
     ]
    },
    {
     "ename": "",
     "evalue": "",
     "output_type": "error",
     "traceback": [
      "\u001b[1;31mFailed to connect to the remote Jupyter Server 'https://jupyter.vast.ai/jm/4/18732/'. Verify the server is running and reachable."
     ]
    }
   ],
   "source": [
    "if not MODEL_DEBUG or True:\n",
    "\ttrainer = Trainer()\n",
    "\ttrainer.train_model(\n",
    "\t\t'AugMix + ResNet50', ResNet50, # model\n",
    "\t\toptim.Adam, {'lr': 1e-3 * (GPU_COUNT) ** 0.5}, # optimizer\n",
    "\t\tbase_train_data, # data\n",
    "\t\tearly_stopping = CustomEarlyStopping(patience = 15),\n",
    "\t\tbatch_size = 256 * GPU_COUNT,\n",
    "\t\tverbose=True\n",
    "\t)\n",
    "\ttrainer.archive('AugMix + ResNet50')\n",
    "\tdisplay(trainer.history)"
   ]
  },
  {
   "cell_type": "markdown",
   "metadata": {},
   "source": [
    "#### EfficientNet v2\n",
    "\n",
    "https://github.com/d-li14/efficientnetv2.pytorch/blob/main/effnetv2.py"
   ]
  },
  {
   "cell_type": "code",
   "execution_count": null,
   "metadata": {},
   "outputs": [],
   "source": []
  },
  {
   "cell_type": "code",
   "execution_count": null,
   "metadata": {},
   "outputs": [],
   "source": [
    "import torch\n",
    "import torch.nn as nn\n",
    "import math\n",
    "\n",
    "__all__ = ['effnetv2_s', 'effnetv2_m', 'effnetv2_l', 'effnetv2_xl']\n",
    "\n",
    "\n",
    "def _make_divisible(v, divisor, min_value=None):\n",
    "    \"\"\"\n",
    "    This function is taken from the original tf repo.\n",
    "    It ensures that all layers have a channel number that is divisible by 8\n",
    "    It can be seen here:\n",
    "    https://github.com/tensorflow/models/blob/master/research/slim/nets/mobilenet/mobilenet.py\n",
    "    :param v:\n",
    "    :param divisor:\n",
    "    :param min_value:\n",
    "    :return:\n",
    "    \"\"\"\n",
    "    if min_value is None:\n",
    "        min_value = divisor\n",
    "    new_v = max(min_value, int(v + divisor / 2) // divisor * divisor)\n",
    "    # Make sure that round down does not go down by more than 10%.\n",
    "    if new_v < 0.9 * v:\n",
    "        new_v += divisor\n",
    "    return new_v\n",
    "\n",
    "\n",
    "# SiLU (Swish) activation function\n",
    "if hasattr(nn, 'SiLU'):\n",
    "    SiLU = nn.SiLU\n",
    "else:\n",
    "    # For compatibility with old PyTorch versions\n",
    "    class SiLU(nn.Module):\n",
    "        def forward(self, x):\n",
    "            return x * torch.sigmoid(x)\n",
    "\n",
    " \n",
    "class SELayer(nn.Module):\n",
    "    def __init__(self, inp, oup, reduction=4):\n",
    "        super(SELayer, self).__init__()\n",
    "        self.avg_pool = nn.AdaptiveAvgPool2d(1)\n",
    "        self.fc = nn.Sequential(\n",
    "                nn.Linear(oup, _make_divisible(inp // reduction, 8)),\n",
    "                SiLU(),\n",
    "                nn.Linear(_make_divisible(inp // reduction, 8), oup),\n",
    "                nn.Sigmoid()\n",
    "        )\n",
    "\n",
    "    def forward(self, x):\n",
    "        b, c, _, _ = x.size()\n",
    "        y = self.avg_pool(x).view(b, c)\n",
    "        y = self.fc(y).view(b, c, 1, 1)\n",
    "        return x * y\n",
    "\n",
    "\n",
    "def conv_3x3_bn(inp, oup, stride):\n",
    "    return nn.Sequential(\n",
    "        nn.Conv2d(inp, oup, 3, stride, 1, bias=False),\n",
    "        nn.BatchNorm2d(oup),\n",
    "        SiLU()\n",
    "    )\n",
    "\n",
    "\n",
    "def conv_1x1_bn(inp, oup):\n",
    "    return nn.Sequential(\n",
    "        nn.Conv2d(inp, oup, 1, 1, 0, bias=False),\n",
    "        nn.BatchNorm2d(oup),\n",
    "        SiLU()\n",
    "    )\n",
    "\n",
    "\n",
    "class MBConv(nn.Module):\n",
    "    def __init__(self, inp, oup, stride, expand_ratio, use_se):\n",
    "        super(MBConv, self).__init__()\n",
    "        assert stride in [1, 2]\n",
    "\n",
    "        hidden_dim = round(inp * expand_ratio)\n",
    "        self.identity = stride == 1 and inp == oup\n",
    "        if use_se:\n",
    "            self.conv = nn.Sequential(\n",
    "                # pw\n",
    "                nn.Conv2d(inp, hidden_dim, 1, 1, 0, bias=False),\n",
    "                nn.BatchNorm2d(hidden_dim),\n",
    "                SiLU(),\n",
    "                # dw\n",
    "                nn.Conv2d(hidden_dim, hidden_dim, 3, stride, 1, groups=hidden_dim, bias=False),\n",
    "                nn.BatchNorm2d(hidden_dim),\n",
    "                SiLU(),\n",
    "                SELayer(inp, hidden_dim),\n",
    "                # pw-linear\n",
    "                nn.Conv2d(hidden_dim, oup, 1, 1, 0, bias=False),\n",
    "                nn.BatchNorm2d(oup),\n",
    "            )\n",
    "        else:\n",
    "            self.conv = nn.Sequential(\n",
    "                # fused\n",
    "                nn.Conv2d(inp, hidden_dim, 3, stride, 1, bias=False),\n",
    "                nn.BatchNorm2d(hidden_dim),\n",
    "                SiLU(),\n",
    "                # pw-linear\n",
    "                nn.Conv2d(hidden_dim, oup, 1, 1, 0, bias=False),\n",
    "                nn.BatchNorm2d(oup),\n",
    "            )\n",
    "\n",
    "\n",
    "    def forward(self, x):\n",
    "        if self.identity:\n",
    "            return x + self.conv(x)\n",
    "        else:\n",
    "            return self.conv(x)\n",
    "\n",
    "\n",
    "class EffNetV2(nn.Module):\n",
    "    def __init__(self, num_classes=100, width_mult=1.):\n",
    "        super(EffNetV2, self).__init__()\n",
    "        cfgs = [\n",
    "            # t, c, n, s, SE\n",
    "            [1,  24,  2, 1, 0],\n",
    "            [4,  48,  4, 2, 0],\n",
    "            [4,  64,  4, 2, 0],\n",
    "            [4, 128,  6, 2, 1],\n",
    "            [6, 160,  9, 1, 1],\n",
    "            [6, 256, 15, 2, 1],\n",
    "        ]\n",
    "        self.cfgs = cfgs\n",
    "\n",
    "        # building first layer\n",
    "        input_channel = _make_divisible(24 * width_mult, 8)\n",
    "        layers = [conv_3x3_bn(3, input_channel, 2)]\n",
    "        # building inverted residual blocks\n",
    "        block = MBConv\n",
    "        for t, c, n, s, use_se in self.cfgs:\n",
    "            output_channel = _make_divisible(c * width_mult, 8)\n",
    "            for i in range(n):\n",
    "                layers.append(block(input_channel, output_channel, s if i == 0 else 1, t, use_se))\n",
    "                input_channel = output_channel\n",
    "        self.features = nn.Sequential(*layers)\n",
    "        # building last several layers\n",
    "        output_channel = _make_divisible(1792 * width_mult, 8) if width_mult > 1.0 else 1792\n",
    "        self.conv = conv_1x1_bn(input_channel, output_channel)\n",
    "        self.avgpool = nn.AdaptiveAvgPool2d((1, 1))\n",
    "        self.classifier = nn.Linear(output_channel, num_classes)\n",
    "\n",
    "        self._initialize_weights()\n",
    "\n",
    "    def forward(self, x):\n",
    "        x = self.features(x)\n",
    "        x = self.conv(x)\n",
    "        x = self.avgpool(x)\n",
    "        x = x.view(x.size(0), -1)\n",
    "        x = self.classifier(x)\n",
    "        return x\n",
    "\n",
    "    def _initialize_weights(self):\n",
    "        for m in self.modules():\n",
    "            if isinstance(m, nn.Conv2d):\n",
    "                n = m.kernel_size[0] * m.kernel_size[1] * m.out_channels\n",
    "                m.weight.data.normal_(0, math.sqrt(2. / n))\n",
    "                if m.bias is not None:\n",
    "                    m.bias.data.zero_()\n",
    "            elif isinstance(m, nn.BatchNorm2d):\n",
    "                m.weight.data.fill_(1)\n",
    "                m.bias.data.zero_()\n",
    "            elif isinstance(m, nn.Linear):\n",
    "                m.weight.data.normal_(0, 0.001)\n",
    "                m.bias.data.zero_()"
   ]
  },
  {
   "cell_type": "code",
   "execution_count": null,
   "metadata": {},
   "outputs": [],
   "source": [
    "if not MODEL_DEBUG:\n",
    "\ttrainer.train_model(\n",
    "\t\t'AutoAugment + EffNetV2', EffNetV2, # model\n",
    "\t\toptim.Adam, {'lr': 1e-4 * (GPU_COUNT) ** 0.5, 'weight_decay': 1e-5}, # optimizer\n",
    "\t\taugmented, # data\n",
    "\t\tearly_stopping = CustomEarlyStopping(patience = 15),\n",
    "\t\tverbose=True\n",
    "\t)\n",
    "\ttrainer.archive('AutoAugment + EffNetV2')\n",
    "\tdisplay(trainer.history)"
   ]
  },
  {
   "cell_type": "markdown",
   "metadata": {},
   "source": [
    "#### AutoAugment + Convolutional Vision Transformers\n",
    "Vision Transformers have taken over SOTA results, beating previous benchmarks. However, there is a key problem with traditional ViT, in that <strong>the token embedding layer from the image to embedding vectors is linear.</strong> To account for positional information, ViT <strong>adds on positional encodings</strong> to the linear embeddings, before passing it on to projection and then to the Multi-Head Self Attention (MHSA) mechanism. (Dosovitskiy et al., 2020)\n",
    "\n",
    "Convolutional Vision Transformers (CvT) proposes to <strong>use a convolutional layer for this embedding area, and uses depthwise separable convolutions for the projection layer.</strong> We note that the convolutional layer for embedding layer and projection layers <strong>are different</strong>. (Wu et al., 2021)\n",
    "\n",
    "The addition of convolution into the Transformer architecture allows for the benefits of convolution (shift, scale and distortion invariance) to be incorporated into every feature map (output from Convolution Transformer Blocks), and also controls for the sizes of feature maps after each blocks output. (Wu et al., 2021)"
   ]
  },
  {
   "cell_type": "code",
   "execution_count": null,
   "metadata": {},
   "outputs": [],
   "source": [
    "class SepConv2d(torch.nn.Module):\n",
    "    def __init__(self,\n",
    "                 in_channels,\n",
    "                 out_channels,\n",
    "                 kernel_size,\n",
    "                 stride=1,\n",
    "                 padding=0,\n",
    "                 dilation=1,):\n",
    "        super(SepConv2d, self).__init__()\n",
    "        self.depthwise = torch.nn.Conv2d(in_channels,\n",
    "                                         in_channels,\n",
    "                                         kernel_size=kernel_size,\n",
    "                                         stride=stride,\n",
    "                                         padding=padding,\n",
    "                                         dilation=dilation,\n",
    "                                         groups=in_channels)\n",
    "        self.bn = torch.nn.BatchNorm2d(in_channels)\n",
    "        self.pointwise = torch.nn.Conv2d(in_channels, out_channels, kernel_size=1)\n",
    "\n",
    "    def forward(self, x):\n",
    "        x = self.depthwise(x)\n",
    "        x = self.bn(x)\n",
    "        x = self.pointwise(x)\n",
    "        return x\n",
    "\n",
    "class Residual(nn.Module):\n",
    "    def __init__(self, fn):\n",
    "        super().__init__()\n",
    "        self.fn = fn\n",
    "    def forward(self, x, **kwargs):\n",
    "        return self.fn(x, **kwargs) + x\n",
    "\n",
    "class PreNorm(nn.Module):\n",
    "    def __init__(self, dim, fn):\n",
    "        super().__init__()\n",
    "        self.norm = nn.LayerNorm(dim)\n",
    "        self.fn = fn\n",
    "    def forward(self, x, **kwargs):\n",
    "        return self.fn(self.norm(x), **kwargs)\n",
    "\n",
    "class FeedForward(nn.Module):\n",
    "    def __init__(self, dim, hidden_dim, dropout = 0.):\n",
    "        super().__init__()\n",
    "        self.net = nn.Sequential(\n",
    "            nn.Linear(dim, hidden_dim),\n",
    "            nn.GELU(),\n",
    "            nn.Dropout(dropout),\n",
    "            nn.Linear(hidden_dim, dim),\n",
    "            nn.Dropout(dropout)\n",
    "        )\n",
    "    def forward(self, x):\n",
    "        return self.net(x)\n",
    "\n",
    "class ConvAttention(nn.Module):\n",
    "    def __init__(self, dim, img_size, heads = 8, dim_head = 64, kernel_size=3, q_stride=1, k_stride=1, v_stride=1, dropout = 0.,\n",
    "                 last_stage=False):\n",
    "\n",
    "        super().__init__()\n",
    "        self.last_stage = last_stage\n",
    "        self.img_size = img_size\n",
    "        inner_dim = dim_head *  heads\n",
    "        project_out = not (heads == 1 and dim_head == dim)\n",
    "\n",
    "        self.heads = heads\n",
    "        self.scale = dim_head ** -0.5\n",
    "        pad = (kernel_size - q_stride)//2\n",
    "        self.to_q = SepConv2d(dim, inner_dim, kernel_size, q_stride, pad)\n",
    "        self.to_k = SepConv2d(dim, inner_dim, kernel_size, k_stride, pad)\n",
    "        self.to_v = SepConv2d(dim, inner_dim, kernel_size, v_stride, pad)\n",
    "\n",
    "        self.to_out = nn.Sequential(\n",
    "            nn.Linear(inner_dim, dim),\n",
    "            nn.Dropout(dropout)\n",
    "        ) if project_out else nn.Identity()\n",
    "\n",
    "    def forward(self, x):\n",
    "        b, n, _, h = *x.shape, self.heads\n",
    "        if self.last_stage:\n",
    "            cls_token = x[:, 0]\n",
    "            x = x[:, 1:]\n",
    "            cls_token = rearrange(cls_token.unsqueeze(1), 'b n (h d) -> b h n d', h = h)\n",
    "        x = rearrange(x, 'b (l w) n -> b n l w', l=self.img_size, w=self.img_size)\n",
    "        q = self.to_q(x)\n",
    "        q = rearrange(q, 'b (h d) l w -> b h (l w) d', h=h)\n",
    "\n",
    "        v = self.to_v(x)\n",
    "        v = rearrange(v, 'b (h d) l w -> b h (l w) d', h=h)\n",
    "\n",
    "        k = self.to_k(x)\n",
    "        k = rearrange(k, 'b (h d) l w -> b h (l w) d', h=h)\n",
    "\n",
    "        if self.last_stage:\n",
    "            q = torch.cat((cls_token, q), dim=2)\n",
    "            v = torch.cat((cls_token, v), dim=2)\n",
    "            k = torch.cat((cls_token, k), dim=2)\n",
    "\n",
    "\n",
    "        dots = einsum('b h i d, b h j d -> b h i j', q, k) * self.scale\n",
    "\n",
    "        attn = dots.softmax(dim=-1)\n",
    "\n",
    "        out = einsum('b h i j, b h j d -> b h i d', attn, v)\n",
    "        out = rearrange(out, 'b h n d -> b n (h d)')\n",
    "        out =  self.to_out(out)\n",
    "        return out\n",
    "\n",
    "class Transformer(nn.Module):\n",
    "    def __init__(self, dim, img_size, depth, heads, dim_head, mlp_dim, dropout=0., last_stage=False):\n",
    "        super().__init__()\n",
    "        self.layers = nn.ModuleList([])\n",
    "        for _ in range(depth):\n",
    "            self.layers.append(nn.ModuleList([\n",
    "                PreNorm(dim, ConvAttention(dim, img_size, heads=heads, dim_head=dim_head, dropout=dropout, last_stage=last_stage)),\n",
    "                PreNorm(dim, FeedForward(dim, mlp_dim, dropout=dropout))\n",
    "            ]))\n",
    "\n",
    "    def forward(self, x):\n",
    "        for attn, ff in self.layers:\n",
    "            x = attn(x) + x\n",
    "            x = ff(x) + x\n",
    "        return x\n",
    "\n",
    "\n",
    "\n",
    "\n",
    "class CvT(nn.Module):\n",
    "    def __init__(self, image_size = 32, in_channels = 3, num_classes = 100, dim=64, kernels=[7, 3, 3], strides=[4, 2, 2],\n",
    "                 heads=[1, 3, 6] , depth = [1, 2, 10], pool='cls', dropout=0.5, emb_dropout=0.3, scale_dim=4):\n",
    "        super().__init__()\n",
    "\n",
    "\n",
    "\n",
    "\n",
    "        assert pool in {'cls', 'mean'}, 'pool type must be either cls (cls token) or mean (mean pooling)'\n",
    "        self.pool = pool\n",
    "        self.dim = dim\n",
    "\n",
    "        ##### Stage 1 #######\n",
    "        self.stage1_conv_embed = nn.Sequential(\n",
    "            nn.Conv2d(in_channels, dim, kernels[0], strides[0], 2),\n",
    "            Rearrange('b c h w -> b (h w) c', h = image_size//4, w = image_size//4),\n",
    "            nn.LayerNorm(dim)\n",
    "        )\n",
    "        self.stage1_transformer = nn.Sequential(\n",
    "            Transformer(dim=dim, img_size=image_size//4,depth=depth[0], heads=heads[0], dim_head=self.dim,\n",
    "                                              mlp_dim=dim * scale_dim, dropout=dropout),\n",
    "            Rearrange('b (h w) c -> b c h w', h = image_size//4, w = image_size//4)\n",
    "        )\n",
    "\n",
    "        ##### Stage 2 #######\n",
    "        in_channels = dim\n",
    "        scale = heads[1]//heads[0]\n",
    "        dim = scale*dim\n",
    "        self.stage2_conv_embed = nn.Sequential(\n",
    "            nn.Conv2d(in_channels, dim, kernels[1], strides[1], 1),\n",
    "            Rearrange('b c h w -> b (h w) c', h = image_size//8, w = image_size//8),\n",
    "            nn.LayerNorm(dim)\n",
    "        )\n",
    "        self.stage2_transformer = nn.Sequential(\n",
    "            Transformer(dim=dim, img_size=image_size//8, depth=depth[1], heads=heads[1], dim_head=self.dim,\n",
    "                                              mlp_dim=dim * scale_dim, dropout=dropout),\n",
    "            Rearrange('b (h w) c -> b c h w', h = image_size//8, w = image_size//8)\n",
    "        )\n",
    "\n",
    "        ##### Stage 3 #######\n",
    "        in_channels = dim\n",
    "        scale = heads[2] // heads[1]\n",
    "        dim = scale * dim\n",
    "        self.stage3_conv_embed = nn.Sequential(\n",
    "            nn.Conv2d(in_channels, dim, kernels[2], strides[2], 1),\n",
    "            Rearrange('b c h w -> b (h w) c', h = image_size//16, w = image_size//16),\n",
    "            nn.LayerNorm(dim)\n",
    "        )\n",
    "        self.stage3_transformer = nn.Sequential(\n",
    "            Transformer(dim=dim, img_size=image_size//16, depth=depth[2], heads=heads[2], dim_head=self.dim,\n",
    "                                              mlp_dim=dim * scale_dim, dropout=dropout, last_stage=True),\n",
    "        )\n",
    "\n",
    "\n",
    "        self.cls_token = nn.Parameter(torch.randn(1, 1, dim))\n",
    "        self.dropout_large = nn.Dropout(emb_dropout)\n",
    "\n",
    "\n",
    "        self.mlp_head = nn.Sequential(\n",
    "            nn.LayerNorm(dim),\n",
    "            nn.Linear(dim, num_classes)\n",
    "        )\n",
    "\n",
    "    def forward(self, img):\n",
    "\n",
    "        xs = self.stage1_conv_embed(img)\n",
    "        xs = self.stage1_transformer(xs)\n",
    "\n",
    "        xs = self.stage2_conv_embed(xs)\n",
    "        xs = self.stage2_transformer(xs)\n",
    "\n",
    "        xs = self.stage3_conv_embed(xs)\n",
    "        b, n, _ = xs.shape\n",
    "        cls_tokens = repeat(self.cls_token, '() n d -> b n d', b=b)\n",
    "        xs = torch.cat((cls_tokens, xs), dim=1)\n",
    "        xs = self.stage3_transformer(xs)\n",
    "        xs = xs.mean(dim=1) if self.pool == 'mean' else xs[:, 0]\n",
    "\n",
    "        xs = self.mlp_head(xs)\n",
    "        return xs"
   ]
  },
  {
   "cell_type": "code",
   "execution_count": null,
   "metadata": {},
   "outputs": [
    {
     "name": "stderr",
     "output_type": "stream",
     "text": [
      "  0%|          | 0/79 [00:00<?, ?it/s]\n"
     ]
    },
    {
     "ename": "RuntimeError",
     "evalue": "Caught RuntimeError in DataLoader worker process 0.\nOriginal Traceback (most recent call last):\n  File \"/opt/conda/lib/python3.9/site-packages/torch/utils/data/_utils/worker.py\", line 302, in _worker_loop\n    data = fetcher.fetch(index)\n  File \"/opt/conda/lib/python3.9/site-packages/torch/utils/data/_utils/fetch.py\", line 58, in fetch\n    data = [self.dataset[idx] for idx in possibly_batched_index]\n  File \"/opt/conda/lib/python3.9/site-packages/torch/utils/data/_utils/fetch.py\", line 58, in <listcomp>\n    data = [self.dataset[idx] for idx in possibly_batched_index]\n  File \"/tmp/ipykernel_396/609211505.py\", line 31, in __getitem__\n    selected = self.x[idx]\nRuntimeError: CUDA error: initialization error\nCUDA kernel errors might be asynchronously reported at some other API call,so the stacktrace below might be incorrect.\nFor debugging consider passing CUDA_LAUNCH_BLOCKING=1.\n",
     "output_type": "error",
     "traceback": [
      "\u001b[0;31m---------------------------------------------------------------------------\u001b[0m",
      "\u001b[0;31mRuntimeError\u001b[0m                              Traceback (most recent call last)",
      "\u001b[1;32mc:\\Users\\kenne\\Documents\\GitHub\\CIFAR100\\cifar_100.ipynb Cell 119\u001b[0m in \u001b[0;36m<cell line: 1>\u001b[0;34m()\u001b[0m\n\u001b[1;32m      <a href='vscode-notebook-cell:/c%3A/Users/kenne/Documents/GitHub/CIFAR100/cifar_100.ipynb#Y231sZmlsZQ%3D%3D?line=0'>1</a>\u001b[0m \u001b[39mif\u001b[39;00m \u001b[39mnot\u001b[39;00m MODEL_DEBUG \u001b[39mor\u001b[39;00m \u001b[39mTrue\u001b[39;00m:\n\u001b[1;32m      <a href='vscode-notebook-cell:/c%3A/Users/kenne/Documents/GitHub/CIFAR100/cifar_100.ipynb#Y231sZmlsZQ%3D%3D?line=1'>2</a>\u001b[0m \ttrainer \u001b[39m=\u001b[39m Trainer()\n\u001b[0;32m----> <a href='vscode-notebook-cell:/c%3A/Users/kenne/Documents/GitHub/CIFAR100/cifar_100.ipynb#Y231sZmlsZQ%3D%3D?line=2'>3</a>\u001b[0m \ttrainer\u001b[39m.\u001b[39;49mtrain_model(\n\u001b[1;32m      <a href='vscode-notebook-cell:/c%3A/Users/kenne/Documents/GitHub/CIFAR100/cifar_100.ipynb#Y231sZmlsZQ%3D%3D?line=3'>4</a>\u001b[0m \t\t\u001b[39m'\u001b[39;49m\u001b[39mAutoAugment + CvT\u001b[39;49m\u001b[39m'\u001b[39;49m, CvT, \u001b[39m# model\u001b[39;49;00m\n\u001b[1;32m      <a href='vscode-notebook-cell:/c%3A/Users/kenne/Documents/GitHub/CIFAR100/cifar_100.ipynb#Y231sZmlsZQ%3D%3D?line=4'>5</a>\u001b[0m \t\toptim\u001b[39m.\u001b[39;49mAdamW, {\u001b[39m'\u001b[39;49m\u001b[39mlr\u001b[39;49m\u001b[39m'\u001b[39;49m: \u001b[39m1e-3\u001b[39;49m \u001b[39m*\u001b[39;49m (GPU_COUNT) \u001b[39m*\u001b[39;49m\u001b[39m*\u001b[39;49m \u001b[39m0.5\u001b[39;49m, \u001b[39m'\u001b[39;49m\u001b[39mweight_decay\u001b[39;49m\u001b[39m'\u001b[39;49m: \u001b[39m1e-5\u001b[39;49m}, \u001b[39m# optimizer\u001b[39;49;00m\n\u001b[1;32m      <a href='vscode-notebook-cell:/c%3A/Users/kenne/Documents/GitHub/CIFAR100/cifar_100.ipynb#Y231sZmlsZQ%3D%3D?line=5'>6</a>\u001b[0m \t\tbase_train_data, \u001b[39m# data\u001b[39;49;00m\n\u001b[1;32m      <a href='vscode-notebook-cell:/c%3A/Users/kenne/Documents/GitHub/CIFAR100/cifar_100.ipynb#Y231sZmlsZQ%3D%3D?line=6'>7</a>\u001b[0m \t\tearly_stopping \u001b[39m=\u001b[39;49m CustomEarlyStopping(patience \u001b[39m=\u001b[39;49m \u001b[39m15\u001b[39;49m),\n\u001b[1;32m      <a href='vscode-notebook-cell:/c%3A/Users/kenne/Documents/GitHub/CIFAR100/cifar_100.ipynb#Y231sZmlsZQ%3D%3D?line=7'>8</a>\u001b[0m \t\t\u001b[39m# scheduler_pass = optim.lr_scheduler.CosineAnnealingWarmRestarts,\u001b[39;49;00m\n\u001b[1;32m      <a href='vscode-notebook-cell:/c%3A/Users/kenne/Documents/GitHub/CIFAR100/cifar_100.ipynb#Y231sZmlsZQ%3D%3D?line=8'>9</a>\u001b[0m \t\t\u001b[39m# scheduler_args = {'T_0': 5},\u001b[39;49;00m\n\u001b[1;32m     <a href='vscode-notebook-cell:/c%3A/Users/kenne/Documents/GitHub/CIFAR100/cifar_100.ipynb#Y231sZmlsZQ%3D%3D?line=9'>10</a>\u001b[0m \t\tverbose\u001b[39m=\u001b[39;49m\u001b[39mTrue\u001b[39;49;00m\n\u001b[1;32m     <a href='vscode-notebook-cell:/c%3A/Users/kenne/Documents/GitHub/CIFAR100/cifar_100.ipynb#Y231sZmlsZQ%3D%3D?line=10'>11</a>\u001b[0m \t)\n\u001b[1;32m     <a href='vscode-notebook-cell:/c%3A/Users/kenne/Documents/GitHub/CIFAR100/cifar_100.ipynb#Y231sZmlsZQ%3D%3D?line=11'>12</a>\u001b[0m \ttrainer\u001b[39m.\u001b[39marchive(\u001b[39m'\u001b[39m\u001b[39mAutoAugment + CvT\u001b[39m\u001b[39m'\u001b[39m)\n\u001b[1;32m     <a href='vscode-notebook-cell:/c%3A/Users/kenne/Documents/GitHub/CIFAR100/cifar_100.ipynb#Y231sZmlsZQ%3D%3D?line=12'>13</a>\u001b[0m \tdisplay(trainer\u001b[39m.\u001b[39mhistory)\n",
      "\u001b[1;32mc:\\Users\\kenne\\Documents\\GitHub\\CIFAR100\\cifar_100.ipynb Cell 119\u001b[0m in \u001b[0;36mTrainer.train_model\u001b[0;34m(self, name, model_pass, optimizer_pass, optimizer_args, train_data, scheduler_pass, scheduler_args, batch_size, early_stopping, epochs, verbose, val_data, save_model, augment, return_model)\u001b[0m\n\u001b[1;32m     <a href='vscode-notebook-cell:/c%3A/Users/kenne/Documents/GitHub/CIFAR100/cifar_100.ipynb#Y231sZmlsZQ%3D%3D?line=72'>73</a>\u001b[0m \u001b[39m###################\u001b[39;00m\n\u001b[1;32m     <a href='vscode-notebook-cell:/c%3A/Users/kenne/Documents/GitHub/CIFAR100/cifar_100.ipynb#Y231sZmlsZQ%3D%3D?line=73'>74</a>\u001b[0m \u001b[39m# train the model #\u001b[39;00m\n\u001b[1;32m     <a href='vscode-notebook-cell:/c%3A/Users/kenne/Documents/GitHub/CIFAR100/cifar_100.ipynb#Y231sZmlsZQ%3D%3D?line=74'>75</a>\u001b[0m \u001b[39m###################\u001b[39;00m\n\u001b[1;32m     <a href='vscode-notebook-cell:/c%3A/Users/kenne/Documents/GitHub/CIFAR100/cifar_100.ipynb#Y231sZmlsZQ%3D%3D?line=75'>76</a>\u001b[0m model\u001b[39m.\u001b[39mtrain()\n\u001b[0;32m---> <a href='vscode-notebook-cell:/c%3A/Users/kenne/Documents/GitHub/CIFAR100/cifar_100.ipynb#Y231sZmlsZQ%3D%3D?line=76'>77</a>\u001b[0m \u001b[39mfor\u001b[39;00m data \u001b[39min\u001b[39;00m tqdm(train_loader):\n\u001b[1;32m     <a href='vscode-notebook-cell:/c%3A/Users/kenne/Documents/GitHub/CIFAR100/cifar_100.ipynb#Y231sZmlsZQ%3D%3D?line=77'>78</a>\u001b[0m \t\u001b[39m# _ stands in for labels, here\u001b[39;00m\n\u001b[1;32m     <a href='vscode-notebook-cell:/c%3A/Users/kenne/Documents/GitHub/CIFAR100/cifar_100.ipynb#Y231sZmlsZQ%3D%3D?line=78'>79</a>\u001b[0m \t\u001b[39m# no need to flatten images\u001b[39;00m\n\u001b[1;32m     <a href='vscode-notebook-cell:/c%3A/Users/kenne/Documents/GitHub/CIFAR100/cifar_100.ipynb#Y231sZmlsZQ%3D%3D?line=79'>80</a>\u001b[0m \tinputs, labels \u001b[39m=\u001b[39m data\n\u001b[1;32m     <a href='vscode-notebook-cell:/c%3A/Users/kenne/Documents/GitHub/CIFAR100/cifar_100.ipynb#Y231sZmlsZQ%3D%3D?line=80'>81</a>\u001b[0m \tinputs \u001b[39m=\u001b[39m inputs\u001b[39m.\u001b[39mcuda()\n",
      "File \u001b[0;32m/opt/conda/lib/python3.9/site-packages/tqdm/std.py:1195\u001b[0m, in \u001b[0;36mtqdm.__iter__\u001b[0;34m(self)\u001b[0m\n\u001b[1;32m   1192\u001b[0m time \u001b[39m=\u001b[39m \u001b[39mself\u001b[39m\u001b[39m.\u001b[39m_time\n\u001b[1;32m   1194\u001b[0m \u001b[39mtry\u001b[39;00m:\n\u001b[0;32m-> 1195\u001b[0m     \u001b[39mfor\u001b[39;00m obj \u001b[39min\u001b[39;00m iterable:\n\u001b[1;32m   1196\u001b[0m         \u001b[39myield\u001b[39;00m obj\n\u001b[1;32m   1197\u001b[0m         \u001b[39m# Update and possibly print the progressbar.\u001b[39;00m\n\u001b[1;32m   1198\u001b[0m         \u001b[39m# Note: does not call self.update(1) for speed optimisation.\u001b[39;00m\n",
      "File \u001b[0;32m/opt/conda/lib/python3.9/site-packages/torch/utils/data/dataloader.py:628\u001b[0m, in \u001b[0;36m_BaseDataLoaderIter.__next__\u001b[0;34m(self)\u001b[0m\n\u001b[1;32m    625\u001b[0m \u001b[39mif\u001b[39;00m \u001b[39mself\u001b[39m\u001b[39m.\u001b[39m_sampler_iter \u001b[39mis\u001b[39;00m \u001b[39mNone\u001b[39;00m:\n\u001b[1;32m    626\u001b[0m     \u001b[39m# TODO(https://github.com/pytorch/pytorch/issues/76750)\u001b[39;00m\n\u001b[1;32m    627\u001b[0m     \u001b[39mself\u001b[39m\u001b[39m.\u001b[39m_reset()  \u001b[39m# type: ignore[call-arg]\u001b[39;00m\n\u001b[0;32m--> 628\u001b[0m data \u001b[39m=\u001b[39m \u001b[39mself\u001b[39;49m\u001b[39m.\u001b[39;49m_next_data()\n\u001b[1;32m    629\u001b[0m \u001b[39mself\u001b[39m\u001b[39m.\u001b[39m_num_yielded \u001b[39m+\u001b[39m\u001b[39m=\u001b[39m \u001b[39m1\u001b[39m\n\u001b[1;32m    630\u001b[0m \u001b[39mif\u001b[39;00m \u001b[39mself\u001b[39m\u001b[39m.\u001b[39m_dataset_kind \u001b[39m==\u001b[39m _DatasetKind\u001b[39m.\u001b[39mIterable \u001b[39mand\u001b[39;00m \\\n\u001b[1;32m    631\u001b[0m         \u001b[39mself\u001b[39m\u001b[39m.\u001b[39m_IterableDataset_len_called \u001b[39mis\u001b[39;00m \u001b[39mnot\u001b[39;00m \u001b[39mNone\u001b[39;00m \u001b[39mand\u001b[39;00m \\\n\u001b[1;32m    632\u001b[0m         \u001b[39mself\u001b[39m\u001b[39m.\u001b[39m_num_yielded \u001b[39m>\u001b[39m \u001b[39mself\u001b[39m\u001b[39m.\u001b[39m_IterableDataset_len_called:\n",
      "File \u001b[0;32m/opt/conda/lib/python3.9/site-packages/torch/utils/data/dataloader.py:1333\u001b[0m, in \u001b[0;36m_MultiProcessingDataLoaderIter._next_data\u001b[0;34m(self)\u001b[0m\n\u001b[1;32m   1331\u001b[0m \u001b[39melse\u001b[39;00m:\n\u001b[1;32m   1332\u001b[0m     \u001b[39mdel\u001b[39;00m \u001b[39mself\u001b[39m\u001b[39m.\u001b[39m_task_info[idx]\n\u001b[0;32m-> 1333\u001b[0m     \u001b[39mreturn\u001b[39;00m \u001b[39mself\u001b[39;49m\u001b[39m.\u001b[39;49m_process_data(data)\n",
      "File \u001b[0;32m/opt/conda/lib/python3.9/site-packages/torch/utils/data/dataloader.py:1359\u001b[0m, in \u001b[0;36m_MultiProcessingDataLoaderIter._process_data\u001b[0;34m(self, data)\u001b[0m\n\u001b[1;32m   1357\u001b[0m \u001b[39mself\u001b[39m\u001b[39m.\u001b[39m_try_put_index()\n\u001b[1;32m   1358\u001b[0m \u001b[39mif\u001b[39;00m \u001b[39misinstance\u001b[39m(data, ExceptionWrapper):\n\u001b[0;32m-> 1359\u001b[0m     data\u001b[39m.\u001b[39;49mreraise()\n\u001b[1;32m   1360\u001b[0m \u001b[39mreturn\u001b[39;00m data\n",
      "File \u001b[0;32m/opt/conda/lib/python3.9/site-packages/torch/_utils.py:543\u001b[0m, in \u001b[0;36mExceptionWrapper.reraise\u001b[0;34m(self)\u001b[0m\n\u001b[1;32m    539\u001b[0m \u001b[39mexcept\u001b[39;00m \u001b[39mTypeError\u001b[39;00m:\n\u001b[1;32m    540\u001b[0m     \u001b[39m# If the exception takes multiple arguments, don't try to\u001b[39;00m\n\u001b[1;32m    541\u001b[0m     \u001b[39m# instantiate since we don't know how to\u001b[39;00m\n\u001b[1;32m    542\u001b[0m     \u001b[39mraise\u001b[39;00m \u001b[39mRuntimeError\u001b[39;00m(msg) \u001b[39mfrom\u001b[39;00m \u001b[39mNone\u001b[39m\n\u001b[0;32m--> 543\u001b[0m \u001b[39mraise\u001b[39;00m exception\n",
      "\u001b[0;31mRuntimeError\u001b[0m: Caught RuntimeError in DataLoader worker process 0.\nOriginal Traceback (most recent call last):\n  File \"/opt/conda/lib/python3.9/site-packages/torch/utils/data/_utils/worker.py\", line 302, in _worker_loop\n    data = fetcher.fetch(index)\n  File \"/opt/conda/lib/python3.9/site-packages/torch/utils/data/_utils/fetch.py\", line 58, in fetch\n    data = [self.dataset[idx] for idx in possibly_batched_index]\n  File \"/opt/conda/lib/python3.9/site-packages/torch/utils/data/_utils/fetch.py\", line 58, in <listcomp>\n    data = [self.dataset[idx] for idx in possibly_batched_index]\n  File \"/tmp/ipykernel_396/609211505.py\", line 31, in __getitem__\n    selected = self.x[idx]\nRuntimeError: CUDA error: initialization error\nCUDA kernel errors might be asynchronously reported at some other API call,so the stacktrace below might be incorrect.\nFor debugging consider passing CUDA_LAUNCH_BLOCKING=1.\n"
     ]
    }
   ],
   "source": [
    "if not MODEL_DEBUG or True:\n",
    "\ttrainer = Trainer()\n",
    "\ttrainer.train_model(\n",
    "\t\t'AutoAugment + CvT', CvT, # model\n",
    "\t\toptim.AdamW, {'lr': 1e-3 * (GPU_COUNT) ** 0.5, 'weight_decay': 1e-5}, # optimizer\n",
    "\t\tbase_train_data, # data\n",
    "\t\tearly_stopping = CustomEarlyStopping(patience = 15),\n",
    "\t\t# scheduler_pass = optim.lr_scheduler.CosineAnnealingWarmRestarts,\n",
    "\t\t# scheduler_args = {'T_0': 5},\n",
    "\t\tverbose=True\n",
    "\t)\n",
    "\ttrainer.archive('AutoAugment + CvT')\n",
    "\tdisplay(trainer.history)"
   ]
  },
  {
   "cell_type": "code",
   "execution_count": null,
   "metadata": {},
   "outputs": [],
   "source": []
  },
  {
   "cell_type": "markdown",
   "metadata": {},
   "source": [
    "#### SwinTransformer\n",
    "Convolutional Vision Transformers (CvT) uses . Is there another method of embedding without"
   ]
  },
  {
   "cell_type": "code",
   "execution_count": null,
   "metadata": {},
   "outputs": [],
   "source": []
  },
  {
   "cell_type": "markdown",
   "metadata": {},
   "source": [
    "#### ConvNeXt if resnet is not good)\n",
    "Now, we stray away from attention based mechanisms and instead focus on other modern techniques that result in good performance. This leads us to the model architecture of ."
   ]
  },
  {
   "cell_type": "markdown",
   "metadata": {},
   "source": [
    "### Is the modelling process different for coarse labels?\n",
    "\n",
    "We answer the question posed before, "
   ]
  },
  {
   "cell_type": "markdown",
   "metadata": {},
   "source": [
    "## Model Improvement"
   ]
  },
  {
   "cell_type": "markdown",
   "metadata": {},
   "source": [
    "### Optimizer\n",
    "#### Trying different optimizers\n",
    "SAM Optimizer, AdamW, SGD\n",
    "#### Learning Rate Scheduling"
   ]
  },
  {
   "cell_type": "markdown",
   "metadata": {},
   "source": [
    "### Additional Augmentation Techniques.\n",
    "#### RandAugment\n",
    "#### FMix"
   ]
  },
  {
   "cell_type": "markdown",
   "metadata": {},
   "source": [
    "### Regularization Techniques\n",
    "#### ShakeDrop\n",
    "#### Label Smoothing"
   ]
  },
  {
   "cell_type": "markdown",
   "metadata": {},
   "source": [
    "## Final Model Analysis"
   ]
  },
  {
   "cell_type": "markdown",
   "metadata": {},
   "source": [
    "#### Class-wise accuracy + distribution of errors\n",
    "Let's perform an error analysis and see which classes our model performs the worst on."
   ]
  },
  {
   "cell_type": "markdown",
   "metadata": {},
   "source": [
    "#### 10 images with the largest error\n",
    "Let's take a look at what images have the largest error. To do this, we'll perform inference and find the images that produce the <strong>largest Cross-Entropy Loss</strong> and are <strong>incorrect</strong>."
   ]
  }
 ],
 "metadata": {
  "kernelspec": {
   "display_name": "Python 3 (ipykernel)",
   "language": "python",
   "name": "python3"
  },
  "language_info": {
   "codemirror_mode": {
    "name": "ipython",
    "version": 3
   },
   "file_extension": ".py",
   "mimetype": "text/x-python",
   "name": "python",
   "nbconvert_exporter": "python",
   "pygments_lexer": "ipython3",
   "version": "3.9.12"
  },
  "vscode": {
   "interpreter": {
    "hash": "4d19efe0496419facc97fd7ea20d5d3a0b9c1bdc9473c8f87e1305d92cacb204"
   }
  }
 },
 "nbformat": 4,
 "nbformat_minor": 2
}
