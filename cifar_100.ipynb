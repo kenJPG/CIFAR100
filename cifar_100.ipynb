{
 "cells": [
  {
   "cell_type": "code",
   "execution_count": 1,
   "metadata": {},
   "outputs": [],
   "source": [
    "DEBUG = True\n",
    "MODEL_DEBUG = False\n",
    "MODEL_IMPROVE_DEBUG = True\n",
    "GPU_COUNT = 4"
   ]
  },
  {
   "cell_type": "code",
   "execution_count": 2,
   "metadata": {},
   "outputs": [
    {
     "name": "stdout",
     "output_type": "stream",
     "text": [
      "\u001b[33mWARNING: Running pip as the 'root' user can result in broken permissions and conflicting behaviour with the system package manager. It is recommended to use a virtual environment instead: https://pip.pypa.io/warnings/venv\u001b[0m\n",
      "\u001b[33mWARNING: Running pip as the 'root' user can result in broken permissions and conflicting behaviour with the system package manager. It is recommended to use a virtual environment instead: https://pip.pypa.io/warnings/venv\u001b[0m\n",
      "\u001b[33mWARNING: Running pip as the 'root' user can result in broken permissions and conflicting behaviour with the system package manager. It is recommended to use a virtual environment instead: https://pip.pypa.io/warnings/venv\u001b[0m\n",
      "\u001b[33mWARNING: Running pip as the 'root' user can result in broken permissions and conflicting behaviour with the system package manager. It is recommended to use a virtual environment instead: https://pip.pypa.io/warnings/venv\u001b[0m\n",
      "\u001b[33mWARNING: Running pip as the 'root' user can result in broken permissions and conflicting behaviour with the system package manager. It is recommended to use a virtual environment instead: https://pip.pypa.io/warnings/venv\u001b[0m\n",
      "\u001b[33mWARNING: Running pip as the 'root' user can result in broken permissions and conflicting behaviour with the system package manager. It is recommended to use a virtual environment instead: https://pip.pypa.io/warnings/venv\u001b[0m\n",
      "\u001b[33mWARNING: Running pip as the 'root' user can result in broken permissions and conflicting behaviour with the system package manager. It is recommended to use a virtual environment instead: https://pip.pypa.io/warnings/venv\u001b[0m\n"
     ]
    }
   ],
   "source": [
    "!pip install -q einops\n",
    "!pip install -q pandas\n",
    "!pip install -q seaborn\n",
    "!pip install -q matplotlib\n",
    "!pip install -q opencv-python\n",
    "!pip install -q scikit-learn\n",
    "!pip install -q tqdm"
   ]
  },
  {
   "cell_type": "markdown",
   "metadata": {},
   "source": [
    "### References"
   ]
  },
  {
   "cell_type": "markdown",
   "metadata": {},
   "source": [
    "<img src=\"https://www.testdriller.com/pictures/blog/57043786ab6fa09.jpg\" width=700/>"
   ]
  },
  {
   "cell_type": "markdown",
   "metadata": {},
   "source": [
    "## CIFAR100 Classification\n",
    "\n",
    "> Can we develop a model that performs well on the benchmark dataset CIFAR100?"
   ]
  },
  {
   "cell_type": "markdown",
   "metadata": {},
   "source": [
    "### Context\n",
    "\n",
    "The CIFAR-100 dataset (Canadian Institute for Advanced Research) is a subset of the Tiny Images dataset and consists of <strong>60000</strong> <code>32x32</code> colour images in <strong>100</strong> classes, with <strong>600</strong> images per class. The <strong>100</strong> classes in the CIFAR-100 are <strong>grouped into 20 superclasses</strong>. Each image comes with a \"fine\" label (the class to which it belongs) and a \"coarse\" label (the superclass to which it belongs). There are <strong>50000 training images</strong> and <strong>10000 test images.</strong>\n",
    "\n",
    "Credit: <a href=\"https://www.kaggle.com/datasets/fedesoriano/cifar100?select=meta\">Kaggle Link</a>"
   ]
  },
  {
   "cell_type": "markdown",
   "metadata": {},
   "source": [
    "### Objectives\n",
    "\n",
    "<ol>\n",
    "\t<li>To explore and understand the CIFAR100 dataset</li>\n",
    "\t<li>Understand the effects of different data augmentation techniques on the performanceo f the model</li>\n",
    "\t<li>Discover new techniques and approaches as to tackle the <strong>3 color-channels (RGB) nature</strong> of the dataset.</li>\n",
    "\t<li>Develop and experiment with models in order to rival state-of-the-art (SOTA) benchmark scores.</li>\n",
    "</ol>"
   ]
  },
  {
   "cell_type": "markdown",
   "metadata": {},
   "source": [
    "## Importing Libraries\n",
    "We import the necessary libraries for the notebook to run below."
   ]
  },
  {
   "cell_type": "code",
   "execution_count": 3,
   "metadata": {},
   "outputs": [],
   "source": [
    "import pandas as pd\n",
    "import numpy as np\n",
    "import matplotlib.pyplot as plt\n",
    "import copy\n",
    "import math\n",
    "import seaborn as sns\n",
    "sns.set('notebook')\n",
    "import random\n",
    "\n",
    "from sklearn.manifold import TSNE\n",
    "\n",
    "import torch\n",
    "from torch import nn, optim, einsum\n",
    "from torchvision import transforms\n",
    "from torch.utils.data import DataLoader\n",
    "\n",
    "from sklearn.model_selection import train_test_split\n",
    "import os\n",
    "\n",
    "from einops import rearrange, repeat\n",
    "from einops.layers.torch import Rearrange\n"
   ]
  },
  {
   "cell_type": "markdown",
   "metadata": {},
   "source": [
    "We see the seed such that the notebook results in reproducible results when run.   \n",
    "We also set the device to CUDA to enable torch to use our GPU."
   ]
  },
  {
   "cell_type": "code",
   "execution_count": 4,
   "metadata": {},
   "outputs": [
    {
     "name": "stdout",
     "output_type": "stream",
     "text": [
      "Device available now: cuda\n"
     ]
    }
   ],
   "source": [
    "device = torch.device('cuda' if torch.cuda.is_available() else 'cpu')\n",
    "print('Device available now:', device)\n",
    "if device != torch.device('cuda'):\n",
    "\tprint('using cpu, exiting')\n",
    "\tassert False"
   ]
  },
  {
   "cell_type": "markdown",
   "metadata": {},
   "source": [
    "## Utility Functions\n",
    "Below we define some utility functions that will ease and help us with our analysis."
   ]
  },
  {
   "cell_type": "code",
   "execution_count": 5,
   "metadata": {},
   "outputs": [],
   "source": [
    "def loc_data(data, loc):\n",
    "\tdatacopy = copy.deepcopy(data)\n",
    "\tarr = np.array(datacopy.loc[loc].drop('label'))\n",
    "\tlabel = datacopy.loc[loc]['label']\n",
    "\troot = int(len(arr) ** 0.5)\n",
    "\tarr.resize((root, root))\n",
    "\treturn label, arr\n",
    "\n",
    "def imshow(arr: list, label: list = None, figsize=None, shape = (32, 32, 3), is_int = None):\n",
    "\tif is_int == None:\n",
    "\t\tif type(arr[0]) == torch.Tensor:\n",
    "\t\t\tis_int = (arr[0].detach().cpu().numpy() > 1).sum() > 0\n",
    "\t\telse:\n",
    "\t\t\tis_int = (arr[0] > 1).sum() > 0\n",
    "\tif label == None:\n",
    "\t\tlabel = [''] * len(arr)\n",
    "\n",
    "\theight = int(len(arr) ** 0.5)\n",
    "\twidth = math.ceil(len(arr) / height)\n",
    "\n",
    "\tif figsize == None:\n",
    "\t\tfig = plt.figure()\n",
    "\telse:\n",
    "\t\tfig = plt.figure(figsize=figsize)\n",
    "\tfor i in range(height):\n",
    "\t\tfor j in range(width):\n",
    "\t\t\tax = fig.add_subplot(height, width, i * height + j + 1)\n",
    "\t\t\tax.grid(False)\n",
    "\t\t\tax.set_xticks([])\n",
    "\t\t\tax.set_yticks([])\n",
    "\t\t\tshow = arr[i * height + j]\n",
    "\t\t\tif type(arr[i * height + j]) != torch.Tensor:\n",
    "\t\t\t\tshow = torch.Tensor(show)\n",
    "\t\t\t\t# ax.imshow((arr[i * height + j].squeeze(0).cpu().permute(1, 2, 0) / 255).type(torch.uint8 if is_int else float))\n",
    "\t\t\t# if (show.shape[0] == 1):\n",
    "\t\t\t# \tax.imshow((show.squeeze(0).cpu()).type(torch.uint8 if is_int else torch.float), cmap='gray')\n",
    "\t\t\t# else:\n",
    "\t\t\tif len(show.squeeze(0).cpu().shape) == 2:\n",
    "\t\t\t\tax.imshow((show.squeeze(0).detach().cpu()).type(torch.uint8 if is_int else torch.float), cmap='gray')\n",
    "\t\t\telse:\n",
    "\t\t\t\tax.imshow((show.squeeze(0).detach().cpu().permute(1,2,0)).type(torch.uint8 if is_int else torch.float))\n",
    "\t\t\tax.set_title(label[i * height + j])\n",
    "\n",
    "def df_to_tensor(df, shape = (28, 28)):\n",
    "\treturn torch.tensor(df.values.reshape((-1, *shape)), dtype=torch.float32)\n",
    "\n",
    "def preprocess(df):\n",
    "\treturn df.copy() / 255\n",
    "\n",
    "def mse(t1, t2, shape=(28, 28)):\n",
    "\tloss = nn.MSELoss(reduction='none')\n",
    "\tloss_result = torch.sum(loss(t1, t2), dim=2)\n",
    "\tloss_result = torch.sum(loss_result, dim=2)\n",
    "\tloss_result = loss_result / np.prod([*shape])\n",
    "\treturn loss_result"
   ]
  },
  {
   "cell_type": "markdown",
   "metadata": {},
   "source": [
    "## Dataset\n",
    "Let's take a look at the dataset. This dataset was retrieved from the Kaggle dataset found at <a href=\"https://www.kaggle.com/datasets/fedesoriano/cifar100\">Kaggle Link</a>. \n",
    "\n",
    "<table>\n",
    "\t<tr>\n",
    "\t\t<th>\n",
    "\t\t\tColumn Name\n",
    "\t\t</th>\n",
    "\t\t<th>\n",
    "\t\t\tDescription\n",
    "\t\t</th>\n",
    "\t</tr>\n",
    "\t<tr>\n",
    "\t\t<td>\n",
    "\t\t\tlabel\n",
    "\t\t</td>\n",
    "\t\t<td>\n",
    "\t\t\tThe true class of the image, represented as an integer ranging from 1 to 100<strong>*</strong>\n",
    "\t\t</td>\n",
    "\t</tr>\n",
    "\t<tr>\n",
    "\t\t<td>\n",
    "\t\t\tpixel 1<br/>...<br/>pixel 3072\n",
    "\t\t</td>\n",
    "\t\t<td>\n",
    "\t\t\tPixels representing the image, each pixel ranging from 0 to 255. Each image has a dimension of <code>32x32x3</code>.\n",
    "\t\t</td>\n",
    "\t</tr>\n",
    "</table>\n",
    "\n",
    "<strong>\\*</strong>Each number represents a certain dress item\n",
    "```\n",
    "1-5 -> beaver, dolphin, otter, seal, whale\n",
    "6-10 -> aquarium fish, flatfish, ray, shark, trout\n",
    "11-15 -> orchids, poppies, roses, sunflowers, tulips\n",
    "16-20 -> bottles, bowls, cans, cups, plates\n",
    "21-25 -> apples, mushrooms, oranges, pears, sweet peppers\n",
    "26-30 -> clock, computer keyboard, lamp, telephone, television\n",
    "31-35 -> bed, chair, couch, table, wardrobe\n",
    "36-40 -> bee, beetle, butterfly, caterpillar, cockroach\n",
    "41-45 -> bear, leopard, lion, tiger, wolf\n",
    "46-50 -> bridge, castle, house, road, skyscraper\n",
    "51-55 -> cloud, forest, mountain, plain, sea\n",
    "56-60 -> camel, cattle, chimpanzee, elephant, kangaroo\n",
    "61-65 -> fox, porcupine, possum, raccoon, skunk\n",
    "66-70 -> crab, lobster, snail, spider, worm\n",
    "71-75 -> baby, boy, girl, man, woman\n",
    "76-80 -> crocodile, dinosaur, lizard, snake, turtle\n",
    "81-85 -> hamster, mouse, rabbit, shrew, squirrel\n",
    "86-90 -> maple, oak, palm, pine, willow\n",
    "91-95 -> bicycle, bus, motorcycle, pickup truck, train\n",
    "96-100 -> lawn-mower, rocket, streetcar, tank, tractor\n",
    "```"
   ]
  },
  {
   "cell_type": "markdown",
   "metadata": {},
   "source": [
    "Below, we refer to the code provided by the official Kaggle link to extract and load the data from the files in the <code>data</code> folder."
   ]
  },
  {
   "cell_type": "code",
   "execution_count": 6,
   "metadata": {},
   "outputs": [],
   "source": [
    "def unpickle(file):\n",
    "    import pickle\n",
    "    with open(file, 'rb') as fo:\n",
    "        dict = pickle.load(fo, encoding='bytes')\n",
    "    return dict\n",
    "\n",
    "metadata_path = 'data/meta'\n",
    "metadata = unpickle(metadata_path)\n",
    "superclass_dict = dict(list(enumerate(metadata[b'coarse_label_names'])))\n",
    "\n",
    "data_pre_path = 'data/'\n",
    "\n",
    "# File paths\n",
    "data_train_path = data_pre_path + 'train'\n",
    "data_test_path = data_pre_path + 'test'\n",
    "# Read dictionary\n",
    "data_train_dict = unpickle(data_train_path)\n",
    "data_test_dict = unpickle(data_test_path)\n",
    "# Get data (change the coarse_labels if you want to use the 100 classes)\n",
    "X_train = pd.DataFrame(data_train_dict[b'data'])\n",
    "y_train = pd.DataFrame(np.array(data_train_dict[b'fine_labels']))\n",
    "y_train_coarse = pd.DataFrame(np.array(data_train_dict[b'coarse_labels']))\n",
    "X_test = pd.DataFrame(data_test_dict[b'data'])\n",
    "y_test = pd.DataFrame(np.array(data_test_dict[b'fine_labels']))\n",
    "y_test_coarse = pd.DataFrame(np.array(data_test_dict[b'coarse_labels']))\n",
    "\n",
    "classes = np.array(list(map(lambda x: x.decode('utf-8'), metadata[b'fine_label_names'])))\n",
    "coarse_classes = np.array(list(map(lambda x: x.decode('utf-8'), metadata[b'coarse_label_names'])))"
   ]
  },
  {
   "cell_type": "markdown",
   "metadata": {},
   "source": [
    "Let's take a look at the training dataset"
   ]
  },
  {
   "cell_type": "code",
   "execution_count": 7,
   "metadata": {},
   "outputs": [
    {
     "data": {
      "text/plain": [
       "(50000, 3072)"
      ]
     },
     "execution_count": 7,
     "metadata": {},
     "output_type": "execute_result"
    }
   ],
   "source": [
    "X_train.shape"
   ]
  },
  {
   "cell_type": "markdown",
   "metadata": {},
   "source": [
    "We observe that there are a total of <code>50000</code> rows and <code>3072</code> columns, with each of the columns representing <strong>a single pixel</strong>."
   ]
  },
  {
   "cell_type": "markdown",
   "metadata": {},
   "source": [
    "### Testing for missing values and invalid ata\n",
    "Let's try to identify if there are any missing values"
   ]
  },
  {
   "cell_type": "code",
   "execution_count": 8,
   "metadata": {},
   "outputs": [
    {
     "name": "stdout",
     "output_type": "stream",
     "text": [
      "Feature missing values: 0\n",
      "Label missing values: 0\n"
     ]
    }
   ],
   "source": [
    "print(\"Feature missing values:\",pd.DataFrame(X_train).isnull().sum().sum())\n",
    "print(\"Label missing values:\",pd.DataFrame(y_train).isnull().sum().sum())"
   ]
  },
  {
   "cell_type": "markdown",
   "metadata": {},
   "source": [
    "### Preprocessing\n",
    "We perform some transformations such that the channels and dimensions are in the correct format."
   ]
  },
  {
   "cell_type": "code",
   "execution_count": 9,
   "metadata": {},
   "outputs": [],
   "source": [
    "temp = np.transpose(X_train.values.reshape((-1, 3, 32, 32)), axes=[0,2,3,1])\n",
    "X_train = pd.DataFrame(X_train.values.reshape(-1, 3072))\n",
    "\n",
    "temp = np.transpose(X_test.values.reshape((-1, 3, 32, 32)), axes=[0,2,3,1])\n",
    "X_test = pd.DataFrame(X_test.values.reshape(-1, 3072))"
   ]
  },
  {
   "cell_type": "markdown",
   "metadata": {},
   "source": [
    "## Exploratory Data Analysis\n",
    "In this EDA we'll be attempting to complete the following set of objectives:\n",
    "\n",
    "### EDA Objectives\n",
    "<ol>\n",
    "\t<li>Is there any <strong>class imbalance</strong></li>\n",
    "\t<li>What does the <strong>average image</strong> look like?</li>\n",
    "\t<li>Are there <strong>any outlier/anomalies?</strong>\n",
    "</ol>\n",
    "\n",
    "Before we begin the EDA, we first need to remove a chunk of the training data to be used as validation dataset in order to avoid data leakage due to the decisions we make during EDA.\n",
    "\n",
    "### Validation Dataset\n",
    "Let's make our validation dataset. I decided that I will <strong>not be using cross validation during the modelling process</strong> due to the following reasons:\n",
    "<ul>\n",
    "\t<li>Time taken to train models, especially if utilising <strong>computationally expensive layers, activation functions or architecture</strong></li>\n",
    "\t<li>Additionally due to the sheer size of the dataset, not only does this add to increased training time but also means there is enough data such that cross validation is not necessary</li>\n",
    "</ul>"
   ]
  },
  {
   "cell_type": "markdown",
   "metadata": {},
   "source": [
    "Let's first <strong>take a look at the size of the test dataset</strong>. The shape of the test dataset will be used to <strong>determine the size of the validation set.</strong>"
   ]
  },
  {
   "cell_type": "code",
   "execution_count": 10,
   "metadata": {},
   "outputs": [
    {
     "data": {
      "text/plain": [
       "(10000, 3072)"
      ]
     },
     "execution_count": 10,
     "metadata": {},
     "output_type": "execute_result"
    }
   ],
   "source": [
    "X_test.shape"
   ]
  },
  {
   "cell_type": "markdown",
   "metadata": {},
   "source": [
    "As the test dataset has a length of <code>10000</code>, we'll <strong>also</strong> make our validation dataset <code>10000</code>."
   ]
  },
  {
   "cell_type": "code",
   "execution_count": 11,
   "metadata": {},
   "outputs": [],
   "source": [
    "X_train, X_val, y_train, y_val = train_test_split(X_train, y_train, test_size = 10000 / len(X_train), stratify=y_train)"
   ]
  },
  {
   "cell_type": "markdown",
   "metadata": {},
   "source": [
    "We'll also make sure to select the <strong>same coarse classes</strong>."
   ]
  },
  {
   "cell_type": "code",
   "execution_count": 12,
   "metadata": {},
   "outputs": [],
   "source": [
    "y_val_coarse = y_train_coarse.iloc[y_val.index]\n",
    "y_train_coarse = y_train_coarse.iloc[y_train.index]"
   ]
  },
  {
   "cell_type": "markdown",
   "metadata": {},
   "source": [
    "We'll use a validation size of <code>10000</code> to mimic the size of the test dataset. We'll also stratify on the <code>label</code> to ensure that the model we generalizes best across all \n",
    "the classes."
   ]
  },
  {
   "cell_type": "markdown",
   "metadata": {},
   "source": [
    "### Signs of class imbalance?\n",
    "We'll first identify the siutation with class imbalance"
   ]
  },
  {
   "cell_type": "code",
   "execution_count": 13,
   "metadata": {},
   "outputs": [
    {
     "data": {
      "text/plain": [
       "<AxesSubplot: ylabel='Count'>"
      ]
     },
     "execution_count": 13,
     "metadata": {},
     "output_type": "execute_result"
    },
    {
     "data": {
      "image/png": "[encoded data removed]",
      "text/plain": [
       "<Figure size 640x480 with 1 Axes>"
      ]
     },
     "metadata": {},
     "output_type": "display_data"
    }
   ],
   "source": [
    "sns.histplot(y_train, bins=10)"
   ]
  },
  {
   "cell_type": "markdown",
   "metadata": {},
   "source": [
    "We observe that there appears to be <strong>no sign</strong> of class imbalance for the fine labels. What about the coarse labels?"
   ]
  },
  {
   "cell_type": "code",
   "execution_count": 14,
   "metadata": {},
   "outputs": [
    {
     "data": {
      "text/plain": [
       "<AxesSubplot: ylabel='Count'>"
      ]
     },
     "execution_count": 14,
     "metadata": {},
     "output_type": "execute_result"
    },
    {
     "data": {
      "image/png": "[encoded data removed]",
      "text/plain": [
       "<Figure size 640x480 with 1 Axes>"
      ]
     },
     "metadata": {},
     "output_type": "display_data"
    }
   ],
   "source": [
    "sns.histplot(y_train_coarse, bins=20)"
   ]
  },
  {
   "cell_type": "markdown",
   "metadata": {},
   "source": [
    "It also appears that there are <strong>no signs of class imbalance</strong> for the coarse labels as well."
   ]
  },
  {
   "cell_type": "markdown",
   "metadata": {},
   "source": [
    "### Null values?\n",
    "We perform a simple <code>.isnull()</code> check to see if there are any null values in any of our data"
   ]
  },
  {
   "cell_type": "code",
   "execution_count": 15,
   "metadata": {},
   "outputs": [
    {
     "name": "stdout",
     "output_type": "stream",
     "text": [
      "Null counts among ALL the data: 0\n"
     ]
    }
   ],
   "source": [
    "null_counts = 0\n",
    "for iter_data in [X_train, y_train, X_val, y_val, X_test, y_test]:\n",
    "\titer_data = pd.DataFrame(iter_data)\n",
    "\tnull_counts += iter_data.isnull().sum().sum()\n",
    "\n",
    "print(\"Null counts among ALL the data:\", null_counts)"
   ]
  },
  {
   "cell_type": "markdown",
   "metadata": {},
   "source": [
    "We observe that <strong>there are no null values</strong> in the dataset."
   ]
  },
  {
   "cell_type": "markdown",
   "metadata": {},
   "source": [
    "### What does the average image look like?\n",
    "Let's take a look at a random sample of images."
   ]
  },
  {
   "cell_type": "code",
   "execution_count": 16,
   "metadata": {},
   "outputs": [
    {
     "data": {
      "image/png": "[encoded data removed]",
      "text/plain": [
       "<Figure size 640x480 with 12 Axes>"
      ]
     },
     "metadata": {},
     "output_type": "display_data"
    }
   ],
   "source": [
    "images = []\n",
    "titles = []\n",
    "\n",
    "for i in range(10):\n",
    "\tidx = random.sample(list(y_train[y_train == i].index), 1)\n",
    "\timages.append(X_train.loc[idx].values.reshape((3, 32, 32)))\n",
    "\ttitles.append(classes[y_train.loc[idx].values[0][0]])\n",
    "\n",
    "imshow(images, titles)"
   ]
  },
  {
   "cell_type": "code",
   "execution_count": 17,
   "metadata": {},
   "outputs": [
    {
     "data": {
      "image/png": "[encoded data removed]",
      "text/plain": [
       "<Figure size 640x480 with 1 Axes>"
      ]
     },
     "metadata": {},
     "output_type": "display_data"
    }
   ],
   "source": [
    "imshow([\n",
    "\tX_train.mean().apply(lambda x: x).values.reshape(3, 32, 32)\n",
    "], ['Average of all'])"
   ]
  },
  {
   "cell_type": "markdown",
   "metadata": {},
   "source": [
    "#### Average image among the classes\n",
    "Next we'll split by the classes and find the average among them.\n",
    "\n",
    "However, <strong>as our prediction will involve 100 outputs</strong>, what we'll do instead is use the <code>coarse classes</code>, which has 20 classes."
   ]
  },
  {
   "cell_type": "code",
   "execution_count": 18,
   "metadata": {},
   "outputs": [
    {
     "data": {
      "image/png": "[encoded data removed]",
      "text/plain": [
       "<Figure size 1700x1000 with 20 Axes>"
      ]
     },
     "metadata": {},
     "output_type": "display_data"
    }
   ],
   "source": [
    "images = []\n",
    "titles = []\n",
    "\n",
    "for i in range(20):\n",
    "\tidx = np.where((y_train_coarse.values == i))[0].flatten()\n",
    "\timages.append(X_train.iloc[idx].values.reshape(-1, 3, 32, 32).mean(axis=0))\n",
    "\ttitles.append(coarse_classes[i])\n",
    "\n",
    "imshow(images, titles, figsize = (17, 10))"
   ]
  },
  {
   "cell_type": "markdown",
   "metadata": {},
   "source": [
    "We observe:\n",
    "<ul>\n",
    "\t<li>We can <strong>barely make out</strong> the figures for classes such as <code>insects</code>, <code>large_carnivore</code></li>\n",
    "\t<li>We observe a slight silhouette on the <code>people</code> image</li>\n",
    "\t<li>For most of the coarse classes, we can barely make out the shapes</li>\n",
    "</ul>\n",
    "\n",
    "Let's try to view the first <code>20 classes</code> from the fine classes."
   ]
  },
  {
   "cell_type": "code",
   "execution_count": 19,
   "metadata": {},
   "outputs": [
    {
     "data": {
      "image/png": "[encoded data removed]",
      "text/plain": [
       "<Figure size 1400x1000 with 20 Axes>"
      ]
     },
     "metadata": {},
     "output_type": "display_data"
    }
   ],
   "source": [
    "images = []\n",
    "titles = []\n",
    "\n",
    "for i in range(20):\n",
    "\tidx = np.where((y_train == i))[0].flatten()\n",
    "\timages.append(X_train.iloc[idx].values.reshape(-1, 3, 32, 32).mean(axis=0))\n",
    "\ttitles.append(classes[i])\n",
    "\n",
    "imshow(images, titles, figsize = (14, 10))"
   ]
  },
  {
   "cell_type": "markdown",
   "metadata": {},
   "source": [
    "We observe:\n",
    "<ol>\n",
    "\t<li>We see better resolution in the average images of <code>can</code> and <code>bottle</code> </li>\n",
    "\t<li>Interestingly, we can also recognize the bicycle in the image, alongside its wheels</li>\n",
    "</ol>"
   ]
  },
  {
   "cell_type": "markdown",
   "metadata": {},
   "source": [
    "### Are there any outliers/anomalies?\n",
    "To determine such, one method we can do is to use a Convolution AutoEncoder to <strong>reconstruct</strong> the image. The i dea is that if we restrict the inner layers of the auto encoder, it will be forced to <strong>generalize among all the images</strong>. As such any outlier image will have a <strong>stark difference between the itself and the reconstructed image</strong>.\n",
    "\n",
    "This \"difference\" between the images, will be calculated using the <strong>Mean Squared Error (MSE)</strong> between the two images. We use the <strong>squared</strong> to exaggerate the larger errors the autoencoder makes.\n",
    "\n",
    "<strong>However</strong>, such Convolutioanl AutoEncoders work best for <strong>single-channel</strong> images. As the CIFAR-100 dataset is 3 channels, it is unlikely that Convolutional AutoEncoders will perform well. Additionally, autoencoders are not using information from the labels, which means this approach will tell us how far an image is from the <strong>'general' image</strong>, rather from the general image of it's class.\n",
    "\n",
    "To tackle this, we'll instead use a ResNet feature extractor, training model to classify. From this, we'll remove the last few layers and use the rich <strong>feature embeddings</strong> in combination with an unsupervised learning method such as TSNE. Doing so, any data points that are <strong>far away from it's class cluster</strong>, suggests it will likely be an outlier.\n",
    "\n",
    "We'll be using a modified and scaled down version of <strong>ResNet</strong>."
   ]
  },
  {
   "cell_type": "code",
   "execution_count": 20,
   "metadata": {},
   "outputs": [],
   "source": [
    "def relu_bn_conv(in_channels, out_channels, **kwargs):\n",
    "    return nn.Sequential(\n",
    "        nn.Conv2d(in_channels, out_channels, **kwargs),\n",
    "        nn.BatchNorm2d(out_channels),\n",
    "        nn.ReLU()\n",
    "    )\n",
    "\n",
    "class ResBlock(nn.Module):\n",
    "    def __init__(self, in_channels, out_channels, skip = False):\n",
    "        super().__init__()\n",
    "        self.skip = nn.Sequential()\n",
    "        self.conv1 = relu_bn_conv(in_channels, out_channels, kernel_size = 3, padding = 1)\n",
    "\n",
    "        if skip:\n",
    "            self.conv1 = relu_bn_conv(in_channels, out_channels, kernel_size = 3, stride = 2, padding = 1)\n",
    "            self.skip = nn.Conv2d(in_channels, out_channels, kernel_size= 1, stride = 2)\n",
    "\n",
    "        self.conv2 = relu_bn_conv(out_channels, out_channels, kernel_size = 3, padding = 1)\n",
    "\n",
    "    def forward(self, x):\n",
    "        skip = self.skip(x)\n",
    "        x = self.conv1(x)\n",
    "        x = self.conv2(x)\n",
    "        x = x + skip\n",
    "        return nn.ReLU()(x)\n",
    "\n",
    "class ResNetS(nn.Module):\n",
    "    def __init__(self, base_filter = 16):\n",
    "        super().__init__()\n",
    "\n",
    "        in_channels = 3\n",
    "        \n",
    "        self.l0 = nn.Sequential(\n",
    "            nn.Conv2d(in_channels, base_filter, kernel_size = 5, stride = 2, padding = 3),\n",
    "            nn.MaxPool2d(kernel_size = 3, stride = 2, padding = 1),\n",
    "            nn.BatchNorm2d(base_filter),\n",
    "            nn.ReLU()\n",
    "        )\n",
    "        self.l1 = nn.Sequential(\n",
    "            ResBlock(base_filter, base_filter, skip = False),\n",
    "            ResBlock(base_filter, base_filter, skip = False),\n",
    "        )\n",
    "        self.l2 = nn.Sequential(\n",
    "            ResBlock(base_filter, base_filter * 2, skip = True),\n",
    "            ResBlock(base_filter * 2, base_filter * 2, skip = False),\n",
    "        )\n",
    "        self.l3 = nn.Sequential(\n",
    "            ResBlock(base_filter * 2, base_filter * 3, skip = True),\n",
    "            ResBlock(base_filter * 3, base_filter * 3, skip = False),\n",
    "        )\n",
    "        self.gap = torch.nn.AdaptiveAvgPool2d(1)\n",
    "        self.fc = nn.Sequential(\n",
    "            nn.Flatten(start_dim=1),\n",
    "            torch.nn.Linear(base_filter * 3, 100)\n",
    "        )\n",
    "\n",
    "    def forward(self, x):\n",
    "        x = self.l0(x)\n",
    "        x = self.l1(x)\n",
    "        x = self.l2(x)\n",
    "        x = self.l3(x)\n",
    "        x = self.gap(x)\n",
    "        x = self.fc(x)\n",
    "\n",
    "        return x"
   ]
  },
  {
   "cell_type": "markdown",
   "metadata": {},
   "source": [
    "#### Loading the dataset\n",
    "Next we need to load the dataset. In order to do this, below is a custom class that acts as a wrapper <strong>to convert a pandas dataframe to PyTorch tensors</strong>, such that we are able to load the dataset into the <code>DataLoader</code> class."
   ]
  },
  {
   "cell_type": "code",
   "execution_count": 21,
   "metadata": {},
   "outputs": [],
   "source": [
    "def to_prob_dist(labels: torch.tensor, size = 100):\n",
    "\tarr = np.full((len(labels), size), 0)\n",
    "\tfor i, label in enumerate(labels):\n",
    "\t\tarr[i][int(label.item())] = 1\n",
    "\treturn torch.tensor(arr, dtype=torch.float32)\n",
    "\n",
    "class TorchDataset(torch.utils.data.Dataset):\n",
    "\tdef __init__(self, X, y, X_shape = (3, 32, 32), y_shape = (1, ), transform = None):\n",
    "\t\tif (type(X) == torch.Tensor):\n",
    "\t\t\tself.x = X\n",
    "\t\telse:\n",
    "\t\t\tself.x = df_to_tensor(X, X_shape)\n",
    "\n",
    "\t\tself.transform = transform\n",
    "            \n",
    "\t\tif (type(y) == torch.Tensor):\n",
    "\t\t\tself.y = y\n",
    "\t\telse:\n",
    "\t\t\tself.y = df_to_tensor(y, y_shape)\n",
    "\t\t\tself.y = to_prob_dist(self.y)\n",
    "\n",
    "\t\t# Transform labels to probability distributions\n",
    "\t\n",
    "\tdef __len__(self):\n",
    "\t\treturn len(self.y)\n",
    "\n",
    "\tdef __getitem__(self, idx):\n",
    "\t\tif torch.is_tensor(idx):\n",
    "\t\t\tidx = idx.tolist()\n",
    "\n",
    "\t\tselected = self.x[idx]\n",
    "            \n",
    "\t\tif self.transform:\n",
    "\t\t\tselected = self.transform(selected)\n",
    "        \n",
    "\t\treturn selected, self.y[idx]"
   ]
  },
  {
   "cell_type": "markdown",
   "metadata": {},
   "source": [
    "Now that we have defined our <code>TorchDataset</code>, we'll transform the <code>pd.DataFrame</code> to it to make it easy to use."
   ]
  },
  {
   "cell_type": "code",
   "execution_count": 22,
   "metadata": {},
   "outputs": [],
   "source": [
    "train_data = TorchDataset(X_train, y_train)\n",
    "val_data = TorchDataset(X_val, y_val)"
   ]
  },
  {
   "cell_type": "code",
   "execution_count": 23,
   "metadata": {},
   "outputs": [],
   "source": [
    "test_data = TorchDataset(X_test, y_test)"
   ]
  },
  {
   "cell_type": "markdown",
   "metadata": {},
   "source": [
    "#### Training the Feature Extractor\n",
    "\n",
    "Before we get started training, we <strong>prepare the training environment below.</strong>\n",
    "This training environment will allow us to train, assess and visualize models with ease."
   ]
  },
  {
   "cell_type": "code",
   "execution_count": 24,
   "metadata": {},
   "outputs": [],
   "source": [
    "def accurate_count(pred, true):\n",
    "\treturn ((pred.argmax(dim=1) == true.argmax(dim=1)).sum()).item()\n",
    "\n",
    "def perform_augmentation(X_pass, y_pass, transform, n = 2, step = 4000):\n",
    "\tif n == 1:\n",
    "\t\tX = copy.deepcopy(X_pass)\n",
    "\t\tX = transform(X)\n",
    "\t\tfinal_y = copy.deepcopy(y_pass)\n",
    "\telse:\n",
    "\t\tX = copy.deepcopy(X_pass)\n",
    "\t\ty = copy.deepcopy(y_pass)\n",
    "\t\tfinal_y = copy.deepcopy(y_pass)\n",
    "\t\toriginal_len = len(X)\n",
    "\t\tfor i in range(n - 1):\n",
    "\t\t\ttransformed_arr = transform(X[:step])\n",
    "\t\t\tfor j in range(step, original_len, step):\n",
    "\t\t\t\tprint('j:',j)\n",
    "\t\t\t\ttransformed = transform(X[j:j+step])\n",
    "\t\t\t\ttransformed_arr = torch.cat((transformed_arr, transformed), dim = 0)        \n",
    "\t\t\tX = torch.cat((X, transformed_arr), dim = 0)\n",
    "\t\t\tfinal_y = torch.cat([final_y, y])\n",
    "\treturn X, final_y\n",
    "\n",
    "from tqdm import tqdm\n",
    "\n",
    "class Logger():\n",
    "\tdef __init__(self, path = 'plots/log.txt'):\n",
    "\t\tself.path = path\n",
    "\t\n",
    "\tdef log(self, msg):\n",
    "\t\tfile = open(self.path, 'a')\n",
    "\t\tfile.write(str(msg) + '\\n')\n",
    "\t\tfile.close()\n",
    "\t\n",
    "class Trainer():\n",
    "\tdef __init__(self):\n",
    "\t\tself.saves = {}\n",
    "\t\tself.loss_tracker = {}\n",
    "\t\tself.history = pd.DataFrame()\n",
    "\n",
    "\tdef show_history(self):\n",
    "\t\tpass\n",
    "\n",
    "\tdef train_model(self, name, model_pass, optimizer_pass, optimizer_args,\n",
    "\t\t\t\t\ttrain_data: TorchDataset, model_args = {}, scheduler_pass = None,\n",
    "\t\t\t\t\tscheduler_args = None, batch_size = GPU_COUNT * 256,\n",
    "\t\t\t\t\tearly_stopping = None, epochs = 200, verbose = False,\n",
    "\t\t\t\t\tval_data = val_data, save_model = False, augment = None,\n",
    "\t\t\t\t\treturn_model = False):\n",
    "\n",
    "\t\tlogger = Logger()\n",
    "\n",
    "\t\tlogger.log(model_pass)\n",
    "\n",
    "\t\tmodel = model_pass(**model_args)\n",
    "\t\tmodel = model.to(device)\n",
    "\t\tmodel = nn.DataParallel(model)\n",
    "\n",
    "\t\toptimizer = optimizer_pass(model.parameters(), **optimizer_args)\n",
    "\t\tcriterion = nn.CrossEntropyLoss()\n",
    "\t\ttrain_loader = DataLoader(train_data, batch_size = batch_size, shuffle = True, num_workers = min(12, 4 * GPU_COUNT))\n",
    "\t\tval_loader = DataLoader(val_data, batch_size = batch_size, shuffle = True, num_workers = min(12, 4 * GPU_COUNT))\n",
    "\n",
    "\t\tif scheduler_pass != None:\n",
    "\t\t\tscheduler = scheduler_pass(optimizer, **scheduler_args)\n",
    "\n",
    "\t\tdone = 0\n",
    "\t\tn_epochs = epochs\n",
    "\n",
    "\t\ttrack_loss = np.full((epochs, 4), 0.0, dtype=np.float32) # train acc, train loss, val acc, val loss\n",
    "\n",
    "\t\tbest_performance_df = pd.DataFrame({'Train Loss': 1000, 'Val Loss': 1000, 'Train Acc': 0, 'Val Acc': 0}, index = [name])\n",
    "\t\tbest_val_loss = 1e9\n",
    "\t\tbest_val_acc = 0\n",
    "\n",
    "\t\tself.end_training = 0\n",
    "\t\tself.extra_trained = 0\n",
    "\n",
    "\t\tfor epoch in range(1, n_epochs+1):\n",
    "\t\t\t# monitor training loss\n",
    "\t\t\ttrain_loss = 0.0\n",
    "\t\t\ttrain_acc_count = 0\n",
    "\t\t\ttotal_sample = 0\n",
    "\t\t\t\n",
    "\t\t\t###################\n",
    "\t\t\t# train the model #\n",
    "\t\t\t###################\n",
    "\t\t\tmodel.train()\n",
    "\t\t\tfor data in train_loader:\n",
    "\t\t\t\t# _ stands in for labels, here\n",
    "\t\t\t\t# no need to flatten images\n",
    "\t\t\t\tinputs, labels = data\n",
    "\t\t\t\tinputs = inputs.cuda()\n",
    "\t\t\t\tlabels = labels.cuda()\n",
    "\n",
    "\t\t\t\tperform_aug = np.random.random() < 0.4 \n",
    "\t\t\t\tif augment != None and perform_aug:\n",
    "\t\t\t\t\tbatch, perm, lmbd = augment['fn'](inputs.detach().cpu(), *augment['args'], **augment['kwargs'])\n",
    "\n",
    "\t\t\t\t\tinputs = batch.cuda()\n",
    "\t\t\t\t\toutputs = model(inputs)\n",
    "\n",
    "\t\t\t\t\tloss = criterion(outputs, labels) * lmbd + criterion(outputs, labels[perm]) * (1 - lmbd)\n",
    "\t\t\t\telse:\n",
    "\t\t\t\t\t# forward pass: compute predicted outputs by passing inputs to the model\n",
    "\t\t\t\t\toutputs = model(inputs)\n",
    "\t\t\t\t\t# calculate the loss\n",
    "\t\t\t\t\tloss = criterion(outputs, labels)\n",
    "\t\t\t\t\t# backward pass: compute gradient of the loss with respect to model parameters\n",
    "\t\t\t\t\ttrain_loss += loss.item()\n",
    "\t\t\t\t\ttrain_acc_count += accurate_count(outputs, labels)\n",
    "\t\t\t\t\ttotal_sample += len(labels)\n",
    "\n",
    "\t\t\t\toptimizer.zero_grad()\n",
    "\t\t\t\tloss.backward()\n",
    "\t\t\t\toptimizer.step()\n",
    "\t\t\t\t\n",
    "\t\t\t\tif scheduler_pass != None:\n",
    "\t\t\t\t\tscheduler.step()\n",
    "\t\t\t\t\t\n",
    "\t\t\ttrain_loss = train_loss/len(train_loader)\n",
    "\t\t\ttrain_acc = train_acc_count / total_sample\n",
    "\n",
    "\t\t\tval_loss = 0.0\n",
    "\t\t\tval_acc_count = 0\n",
    "\t\t\ttotal_sample = 0\n",
    "\t\t\t\n",
    "\t\t\tmodel.eval()\n",
    "\t\t\twith torch.no_grad():\n",
    "\t\t\t\tfor i, data in enumerate(val_loader):\n",
    "\t\t\t\t\tinputs, labels = data                             \n",
    "\t\t\t\t\tinputs = inputs.to(device)\n",
    "\t\t\t\t\tlabels = labels.to(device)\n",
    "\n",
    "\t\t\t\t\toutputs = model(inputs)\n",
    "\t\t\t\t\tloss = criterion(outputs, labels)\n",
    "\n",
    "\t\t\t\t\tval_loss += loss.item()\n",
    "\t\t\t\t\tval_acc_count += accurate_count(outputs, labels)\n",
    "\t\t\t\t\ttotal_sample += len(labels)\n",
    "\n",
    "\t\t\tval_loss = val_loss / len(val_loader)\n",
    "\t\t\tval_acc = val_acc_count / total_sample\n",
    "\n",
    "\t\t\tif verbose:\n",
    "\t\t\t\tprint(f\"Epoch: {epoch} | Train Loss: {train_loss:.5f} \\tVal Loss: {val_loss:.5f} \\tTrain Acc: {train_acc:.3f} \\tVal Acc: {val_acc:.3f}\")\n",
    "\t\t\tlogger.log(f\"Epoch: {epoch} | Train Loss: {train_loss:.5f} \\tVal Loss: {val_loss:.5f} \\tTrain Acc: {train_acc:.3f} \\tVal Acc: {val_acc:.3f}\")\n",
    "\n",
    "\t\t\ttrack_loss[epoch - 1][0] = train_acc\n",
    "\t\t\ttrack_loss[epoch - 1][1] = train_loss\n",
    "\t\t\ttrack_loss[epoch - 1][2] = val_acc\n",
    "\t\t\ttrack_loss[epoch - 1][3] = val_loss\n",
    "\t\t\tdone = epoch\n",
    "\n",
    "\t\t\tif val_loss < best_val_loss:\n",
    "\t\t\t\tbest_performance_df = pd.DataFrame({'Train Loss': train_loss, 'Val Loss': val_loss, 'Train Acc': train_acc, 'Val Acc': val_acc}, index = [name])\n",
    "\t\t\t\tself.end_training = epoch\n",
    "\t\t\t\tbest_val_loss = val_loss\n",
    "\t\t\t\tbest_val_acc = max(best_val_acc, val_acc)\n",
    "\t\t\t\tif save_model:\n",
    "\t\t\t\t\tself.save_model(name, model)\n",
    "\t\t\telif val_acc > best_val_acc:\n",
    "\t\t\t\tbest_performance_df = pd.DataFrame({'Train Loss': train_loss, 'Val Loss': val_loss, 'Train Acc': train_acc, 'Val Acc': val_acc}, index = [name])\n",
    "\t\t\t\tself.end_training = epoch\n",
    "\t\t\t\tbest_val_acc = val_acc\n",
    "\t\t\t\tbest_val_loss = min(best_val_loss, val_loss)\n",
    "\t\t\t\tif save_model:\n",
    "\t\t\t\t\tself.save_model(name, model)\n",
    "\n",
    "\t\t\tif early_stopping != None:\n",
    "\t\t\t\tearly_stopping(val_loss, val_acc)\n",
    "\n",
    "\t\t\tif early_stopping != None and early_stopping.stop:\n",
    "\t\t\t\tif (verbose):\n",
    "\t\t\t\t\tprint(f\"Stopping due to early stopping | patience = {early_stopping.patience}\")\n",
    "\t\t\t\tlogger.log(model_pass)\n",
    "\t\t\t\tbreak\n",
    "\n",
    "\n",
    "\t\ttrack_loss.resize((done, 4))\n",
    "\t\tself.record(name, track_loss, best_performance_df)\n",
    "\n",
    "\t\tif return_model:\n",
    "\t\t\tdel train_loader, val_loader, inputs, labels\n",
    "\t\t\ttorch.cuda.empty_cache()\n",
    "\t\t\treturn model\n",
    "\t\telse:\n",
    "\t\t\tdel model, optimizer, train_loader, val_loader, inputs, labels\n",
    "\t\t\ttorch.cuda.empty_cache()\n",
    "\n",
    "\tdef record(self, name, track_loss, best_performance_df):\n",
    "\t\ttrack_loss_df = pd.DataFrame(track_loss, columns=['Train Acc', 'Train Loss', 'Val Acc', 'Val Loss'])\n",
    "\t\ttrack_loss_df.index += 1\n",
    "\t\ttrack_loss_df.index.name = 'Epoch'\n",
    "\n",
    "\t\ttry:\n",
    "\t\t\tself.history = pd.read_csv('plots/record.csv')\n",
    "\t\texcept:\n",
    "\t\t\tself.history = pd.DataFrame()\n",
    "\n",
    "\t\tself.history = pd.concat([self.history, best_performance_df], axis=0)\n",
    "\t\tself.history.to_csv('plots/record.csv')\n",
    "\t\tself.loss_tracker[name] = track_loss_df\n",
    "\n",
    "\tdef save_model(self, name, model):\n",
    "\t\tself.saves[name] = copy.deepcopy(model)\n",
    "\n",
    "\tdef get_model(self, name):\n",
    "\t\treturn copy.deepcopy(self.saves[name])\n",
    "\n",
    "\tdef archive(self, name):\n",
    "\t\tfig = plt.figure(figsize=(14, 5))\n",
    "\t\ttrain, val = sns.color_palette('Set2')[0:2]\n",
    "\t\tloss, acc = fig.subplots(1, 2)\n",
    "\n",
    "\t\tloss.axvspan(1, self.end_training, color=sns.color_palette('Paired')[0], alpha=0.4, lw=0, label='Training') \n",
    "\n",
    "\t\tloss.plot(self.loss_tracker[name].index, self.loss_tracker[name]['Train Loss'], label='Train', color=train)\n",
    "\t\tloss.plot(self.loss_tracker[name].index, self.loss_tracker[name]['Val Loss'], label='Val', color=val)\n",
    "\t\tloss.set_xlabel('Epoch')\n",
    "\t\tloss.set_ylabel('Loss')\n",
    "\n",
    "\t\tacc.axvspan(1, self.end_training, color=sns.color_palette('Paired')[0], alpha=0.4, lw=0, label='Training') \n",
    "\t\tacc.plot(self.loss_tracker[name].index, self.loss_tracker[name]['Train Acc'], label='Train', color=train)\n",
    "\t\tacc.plot(self.loss_tracker[name].index, self.loss_tracker[name]['Val Acc'], label='Val', color=val)\n",
    "\n",
    "\t\tacc.set_xlabel('Epoch')\n",
    "\t\tacc.set_ylabel('Accuracy')\n",
    "\n",
    "\t\tacc.legend()\n",
    "\t\tloss.legend()\n",
    "\t\t\n",
    "\t\tfig.savefig(f'plots/{name}.png')\n",
    "\t\tplt.close()\n",
    "\t\tdel self.loss_tracker[name]"
   ]
  },
  {
   "cell_type": "markdown",
   "metadata": {},
   "source": [
    "We'll train our feature extractor for 50 epochs."
   ]
  },
  {
   "cell_type": "code",
   "execution_count": 25,
   "metadata": {},
   "outputs": [],
   "source": [
    "if not DEBUG:\n",
    "\ttrainer = Trainer(nn.CrossEntropyLoss)\n",
    "\tres_model = trainer.train_model(\n",
    "\t\t'ResNet-S Feature Extractor', ResNetS, # model\n",
    "\t\toptim.Adam, {'lr': 1e-3 * (GPU_COUNT) ** 0.5, 'weight_decay': 1e-5}, # optimizer\n",
    "\t\ttrain_data, # data\n",
    "\t\tepochs = 50,\n",
    "\t\t# verbose=True,\n",
    "\t\treturn_model = True\n",
    "\t)\n",
    "\ttrainer.archive('ResNet-S Feature Extractor')\n",
    "\tdisplay(trainer.history)"
   ]
  },
  {
   "cell_type": "markdown",
   "metadata": {},
   "source": [
    "Now that we have a trained a simple and small ResNet feature extractor, we can <strong>use its feature mapping</strong>. We cut off the last layers of the model below."
   ]
  },
  {
   "cell_type": "code",
   "execution_count": 26,
   "metadata": {},
   "outputs": [],
   "source": [
    "if not DEBUG:\n",
    "\tfeature_extractor = torch.nn.Sequential(*(list(list(res_model.children())[0].children())[:-2]))"
   ]
  },
  {
   "cell_type": "markdown",
   "metadata": {},
   "source": [
    "We then load our data into a dataloader. This is because giving all the images to the model at once for inference will lead to <strong>insufficient memory</strong>. We'll also store information into a <code>pd.DataFrame</code> such that we can pass this information to <strong><code>TSNE</code> to perform manifold learning</strong>.\n",
    "\n",
    "<strong>Why <code>TSNE</code>?</strong>  \n",
    "\n",
    "I decided to use TSNE because it allows for non-linear relationships where as a dimensionality reduction technique such as <code>PCA</code> only performs well for linear relationships inside the data."
   ]
  },
  {
   "cell_type": "code",
   "execution_count": 27,
   "metadata": {},
   "outputs": [],
   "source": [
    "if not DEBUG:\n",
    "\toutput = pd.DataFrame()\n",
    "\tbatch_size = 100\n",
    "\ttrain_loader = DataLoader(train_data, batch_size = batch_size)\n",
    "\tfor data in train_loader:\n",
    "\t\timage, label = data\n",
    "\t\toutput = pd.concat([output, pd.DataFrame(feature_extractor(image).detach().cpu().numpy().reshape(batch_size, -1))], axis=0)"
   ]
  },
  {
   "cell_type": "markdown",
   "metadata": {},
   "source": [
    "Below we use <code>MulticoreTSNE</code>, which is a <strong>faster implementation</strong> of Sklearn's <code>TSNE</code>, despite Sklearn also implementing multicore support with <code>n_jobs</code>. We also <strong>set the number of components to be 4</strong>, as not only does the dataset have a lot of classes, but contains a lot of information."
   ]
  },
  {
   "cell_type": "code",
   "execution_count": 28,
   "metadata": {},
   "outputs": [],
   "source": [
    "if not DEBUG:\n",
    "\tfrom MulticoreTSNE import MulticoreTSNE as TSNE\n",
    "\ttsne = TSNE(n_components = 4, method='exact', n_jobs=-1)\n",
    "\tresults = tsne.fit_transform(output)"
   ]
  },
  {
   "cell_type": "markdown",
   "metadata": {},
   "source": [
    "Next, we need to calculate how far each image is from the 'mean' of its images."
   ]
  },
  {
   "cell_type": "code",
   "execution_count": 29,
   "metadata": {},
   "outputs": [],
   "source": [
    "if not DEBUG:\n",
    "\ty_train.columns = ['label']\n",
    "\ttsne_df = pd.concat([pd.DataFrame(results), y_train], axis=1)\n",
    "\ttsne_means = tsne_df.groupby(by='label').mean()\n",
    "\ttsne_means.columns = ['mean_0', 'mean_1', 'mean_2', 'mean_3']\n",
    "\tdistance_tsne = tsne_df.join(tsne_means, on='label')\n",
    "\tdistance_tsne['dist_from_mean'] = ((distance_tsne[[0, 1, 2, 3]].values - distance_tsne[['mean_0', 'mean_1', 'mean_2', 'mean_3']].values) ** 2).sum(axis=1)"
   ]
  },
  {
   "cell_type": "markdown",
   "metadata": {},
   "source": [
    "After calculating the distance, we'll now inspect what <strong>our \"Outlier Detection\" method</strong> reveals about the dataset."
   ]
  },
  {
   "cell_type": "code",
   "execution_count": 30,
   "metadata": {},
   "outputs": [],
   "source": [
    "if not DEBUG:\n",
    "\tfarthest_idx = distance_tsne.sort_values(by='dist_from_mean', ascending = False).iloc[0:16].index\n",
    "\tclosest_idx = distance_tsne.sort_values(by='dist_from_mean', ascending = True).iloc[0:16].index"
   ]
  },
  {
   "cell_type": "markdown",
   "metadata": {},
   "source": [
    "We'll first <strong>inspect images</strong> that the algorithm considers to be <strong>far way</strong> from its respective class."
   ]
  },
  {
   "cell_type": "code",
   "execution_count": 31,
   "metadata": {},
   "outputs": [],
   "source": [
    "if not DEBUG:\n",
    "\timshow(train_data.x[farthest_idx].cpu().numpy(), classes[np.argmax(train_data.y[farthest_idx].cpu().numpy(), axis=1)].tolist(), figsize=(7, 7))"
   ]
  },
  {
   "cell_type": "markdown",
   "metadata": {},
   "source": [
    "We observe:\n",
    "<ul>\n",
    "\t<li>The first thing we see is that <code>orchid</code> and <code>sunflower</code> are blue, indicating <strong>outliers in the form of colors</strong></li>\n",
    "\t<li>This suggests that the color channels for these two particular images and incorrect, and implies that performing <strong>color altering augmentation</strong> is likely going to benefit our model performance</li>\n",
    "\t<li>We also observe there to be quite a few <code>dolphins</code>, <code>shark</code>, and <code>whale</code>.</li>\n",
    "\t<li>This may be due to our model's feature maps being incorrect, for instance assigning said dolphin a feature map of a shark, resulting to a large distance away from the dolphin's mean vectors.</li>\n",
    "</ul>\n",
    "\n",
    "It is likely that using a better performing feature extractor will lead to better results, as it seems the modified ResNet-S does not have the model capacity to be able to distinguish between closely related classes.\n",
    "\n",
    "Next, we'll analyse the <strong>closest images</strong> to the mean."
   ]
  },
  {
   "cell_type": "code",
   "execution_count": 32,
   "metadata": {},
   "outputs": [],
   "source": [
    "if not DEBUG:\n",
    "\timshow(train_data.x[closest_idx].cpu().numpy(), classes[np.argmax(train_data.y[closest_idx].cpu().numpy(), axis=1)].tolist(), figsize=(7, 7))"
   ]
  },
  {
   "cell_type": "markdown",
   "metadata": {},
   "source": [
    "We observe:\n",
    "<ul>\n",
    "\t<li>Most of the images are <code>plain</code> and <code>sea</code>, which tells us the model was easily able to extract features effectively</li>\n",
    "\t<li>This is highly likely due to the fact that the <code>separation between the sky and the earth</code>, results to <strong>easy identification</strong></li>\n",
    "\t<li>Trees appear to also be easily identifiable.</li>\n",
    "</ul>"
   ]
  },
  {
   "cell_type": "markdown",
   "metadata": {},
   "source": [
    "#### What about coarse classes?\n",
    "\n",
    "As our model is still not quite robust, such as giving similar feature maps to dolphins and sharks, perhaps more <strong>coarse labels</strong> will result in better identification of outliers."
   ]
  },
  {
   "cell_type": "markdown",
   "metadata": {},
   "source": [
    "### Would <strong>rotational data augmentation</strong> be of use?\n",
    "Convolutional Neural Networks are proven to have the property of <strong>translation invariance</strong> and <strong>translation equivariance</strong>, which means regardless of the translations performed on the image, the feature map of the CNN will be also translated. Essentially,\n",
    "\n",
    "$$c(t(x)) = t(c(x))$$\n",
    "\n",
    "Where $t$ represents translation and $c$ represents the convolutional network.\n",
    "\n",
    "However, CNN do not have any invariance to rotational. Would performing rotational data augmentation be of use? To find this out, <strong>I designed a custom algorithm</strong> to detect whether there exists rotated images. We'll specifically be using the algorithm on the class of <code>cans</code> because it is easier to detect for rotated images (as cans are usually upright).\n",
    "\n",
    "The idea is this:\n",
    "<ol>\n",
    "\t<li>Apply <strong>vertical convlutional layer</strong> to the original image, to <strong>extract vertical lines</strong></li>\n",
    "\t<li>Apply <strong>horizontal convlutional layer</strong> to the original image, to <strong>extract horizontal lines</strong></li>\n",
    "\t<li>Then from these outputs of the 2 convolutional layers, we want to find out what the <strong>\"longest line\"</strong> is</li>\n",
    "\t<li>If the vertical output has a longer line than the horizontal output, the image is likely to be upright, and vice versa</li>\n",
    "</ol>\n",
    "\n",
    "We define the <strong>horizontal and vertical convolution weights</strong> below."
   ]
  },
  {
   "cell_type": "code",
   "execution_count": 33,
   "metadata": {},
   "outputs": [],
   "source": [
    "vert_weights = torch.Tensor(\n",
    "    [[1, 0, -1], [1, 0, -1], [1, 0, -1]]\n",
    ").unsqueeze(0).unsqueeze(0)\n",
    "vert_weights.requires_grad = True\n",
    "\n",
    "vert_conv = nn.Conv2d(1, 1, kernel_size=3, stride=1, padding=1, bias=False)\n",
    "\n",
    "with torch.no_grad():\n",
    "    vert_conv.weight = nn.Parameter(vert_weights)\n",
    "\n",
    "vert_conv = vert_conv.cuda()\n",
    "\n",
    "hori_weights = torch.Tensor(\n",
    "    [[1, 1, 1], [0, 0, 0], [-1, -1, -1]]\n",
    ").unsqueeze(0).unsqueeze(0)\n",
    "hori_weights.requires_grad = True\n",
    "\n",
    "hori_conv = nn.Conv2d(1, 1, kernel_size=3, stride=1, padding=1, bias=False)\n",
    "\n",
    "with torch.no_grad():\n",
    "    hori_conv.weight = nn.Parameter(hori_weights)\n",
    "\n",
    "hori_conv = hori_conv\n",
    "hori_layer = nn.Sequential(\n",
    "    hori_conv,\n",
    "    nn.BatchNorm2d(1)\n",
    ").cuda()"
   ]
  },
  {
   "cell_type": "markdown",
   "metadata": {},
   "source": [
    "Next, we restrict the space of images to only those that have the <code>can</code> label."
   ]
  },
  {
   "cell_type": "code",
   "execution_count": 34,
   "metadata": {},
   "outputs": [],
   "source": [
    "idx = np.where(y_train == 16)[0]\n",
    "cans_x = train_data.x[idx]"
   ]
  },
  {
   "cell_type": "markdown",
   "metadata": {},
   "source": [
    "As an example, let's interpret what the two <strong>vertical and horizontal convolutional filters</strong> are doing."
   ]
  },
  {
   "cell_type": "code",
   "execution_count": 35,
   "metadata": {},
   "outputs": [
    {
     "data": {
      "image/png": "[encoded data removed]",
      "text/plain": [
       "<Figure size 640x480 with 3 Axes>"
      ]
     },
     "metadata": {},
     "output_type": "display_data"
    }
   ],
   "source": [
    "gray_cans = transforms.functional.rgb_to_grayscale(cans_x, 1)\n",
    "\n",
    "gray_can_example = gray_cans[0]\n",
    "hori = hori_conv(gray_can_example.cuda())\n",
    "vert = vert_conv(gray_can_example.cuda())\n",
    "\n",
    "imshow([gray_can_example, vert, hori], label=['Original', 'Vertical', 'Horizontal'], is_int = False)"
   ]
  },
  {
   "cell_type": "markdown",
   "metadata": {},
   "source": [
    "We see that because the <strong>vertical output has \"longer\" lines</strong>, this means the image is <strong>likely to be upright</strong>, which is the case.\n",
    "\n",
    "Thus, we'll continue to <strong>define</strong> our algorithm in a function, <strong>apply</strong> the function to all the <code>can</code> images in the training dataset, and then <strong>visualize</strong> them to perform a check on rotated images."
   ]
  },
  {
   "cell_type": "code",
   "execution_count": 36,
   "metadata": {},
   "outputs": [],
   "source": [
    "horizontal_images = []\n",
    "\n",
    "def color_diff_lengths(image, orientation = 'hori'):\n",
    "\t\tif len(image.shape) == 3:\n",
    "\t\t\timage = image.reshape(32, 32)\n",
    "\n",
    "\t\tif orientation == 'hori':\n",
    "\t\t\timage = image[1:-1, :]\n",
    "\t\t\tmeans = image.mean(axis=1)\n",
    "\t\t\tleft = np.argmax(np.apply_along_axis(lambda x: x <= means, 0, image), axis=1)\n",
    "\t\t\tright = (image.shape[1] - 1) - np.argmax(np.apply_along_axis(lambda x: x >= means, 0, image[:, ::-1]), axis=1)\n",
    "\t\telse:\n",
    "\t\t\timage = image[:, 1:-1]\n",
    "\t\t\tmeans = image.mean(axis=0)\n",
    "\t\t\tleft = np.argmax(np.apply_along_axis(lambda x: x <= means, 1, image), axis=0)\n",
    "\t\t\tright = (image.shape[0] - 1) - np.argmax(np.apply_along_axis(lambda x: x >= means, 1, image[::-1, :]), axis=0)\n",
    "\n",
    "\t\treturn max(right - left)\n",
    "\n",
    "for img in gray_cans:\n",
    "\tvertical_length = color_diff_lengths(vert_conv(img.cuda()).detach().cpu().numpy().transpose(1, 2, 0), orientation = 'vert')\n",
    "\thorizontal_length = color_diff_lengths(hori_conv(img.cuda()).detach().cpu().numpy().transpose(1, 2, 0), orientation = 'hori')\n",
    "\n",
    "\tif horizontal_length > vertical_length:\n",
    "\t\thorizontal_images.append(img.cpu().numpy())"
   ]
  },
  {
   "cell_type": "markdown",
   "metadata": {},
   "source": [
    "Let's take a look at the images"
   ]
  },
  {
   "cell_type": "code",
   "execution_count": 37,
   "metadata": {},
   "outputs": [
    {
     "data": {
      "image/png": "[encoded data removed]",
      "text/plain": [
       "<Figure size 1200x700 with 24 Axes>"
      ]
     },
     "metadata": {},
     "output_type": "display_data"
    }
   ],
   "source": [
    "imshow(horizontal_images, shape=(32, 32), figsize = (12, 7))"
   ]
  },
  {
   "cell_type": "markdown",
   "metadata": {},
   "source": [
    "We observe:\n",
    "<ul>\n",
    "\t<li>Our algorithm is not completely robust, <strong>there are instances of upright cans</strong></li>\n",
    "\t<li>However, there are also <strong>many upright cans</strong>, stacked in a horizontal manner</strong>, leading to our algorithm believing that they are horizontal</li>\n",
    "\t<li>There are a few images of a combination of horizontal cans and vertical cans, with one image of a horizontal can</li>\n",
    "</ul>\n",
    "\n",
    "As this can likely extend to other classes (maybe even more likely, e.g. dolphin swimming up and dolphin swimming towards the right), we conclude that <strong>rotational augmentation</strong> will definitely help with our model."
   ]
  },
  {
   "cell_type": "markdown",
   "metadata": {},
   "source": [
    "## Feature Engineering\n",
    "Before we proceed with anything else, we'll first <strong>normalize</strong> the data. This means we'll divide every value in the dataset by <code>255</code>."
   ]
  },
  {
   "cell_type": "code",
   "execution_count": 38,
   "metadata": {},
   "outputs": [],
   "source": [
    "train_data.x /= 255.0\n",
    "val_data.x /= 255.0"
   ]
  },
  {
   "cell_type": "markdown",
   "metadata": {},
   "source": [
    "## Data Augmentation\n",
    "For data augmentation we <strong>note from EDA that:</strong>\n",
    "<ul>\n",
    "\t<li>Rotational augmentation are likely to be useful (at least for <code>cans</code>)</strong>\n",
    "\t<li>Color augmentations are also useful</strong>\n",
    "</ul>\n",
    "\n",
    "As such we'll with performing an <strong>augmentation algorithm</strong> called <strong>AutoAugment</strong>"
   ]
  },
  {
   "cell_type": "code",
   "execution_count": 39,
   "metadata": {},
   "outputs": [],
   "source": [
    "t_auto = transforms.Compose([\n",
    "\ttransforms.Lambda(lambda x: x.type(torch.uint8) if (x > 1).sum() > 0 else (x * 255).type(torch.uint8)),\n",
    "\ttransforms.AutoAugment(transforms.AutoAugmentPolicy.CIFAR10),\n",
    "\ttransforms.Lambda(lambda x: x.float() / 255.0),\n",
    "])\n",
    "\n",
    "t_dtype = transforms.Lambda(lambda x: x.float() / 255.0 if (x > 1).sum() > 0 else x)\n",
    "\n",
    "t_extra_auto = transforms.Compose([\n",
    "\tt_auto,\n",
    "\tt_dtype,\n",
    "\ttransforms.RandomCrop(32, padding=3),\n",
    "\ttransforms.RandomHorizontalFlip(p=0.5),\n",
    "\ttransforms.RandomRotation((-60, 60))\n",
    "])\n",
    "\n",
    "t_base = transforms.Compose([\n",
    "\tt_dtype,\n",
    "\ttransforms.RandomCrop(32, padding=3),\n",
    "\ttransforms.RandomHorizontalFlip(p=0.5),\n",
    "])\n",
    "\n",
    "# t_augmix = transforms.Compose([\n",
    "# \ttransforms.Lambda(lambda x: x.type(torch.uint8) if (x > 1).sum() > 0 else (x * 255).type(torch.uint8)),\n",
    "# \ttransforms.AugMix(severity=8, mixture_width = 5),\n",
    "# \ttransforms.Lambda(lambda x: x.float() / 255.0),\n",
    "# ])\n",
    "\n",
    "# t_extra_augmix = transforms.Compose([\n",
    "# \tt_augmix,\n",
    "# \tt_dtype,\n",
    "# \tt_flip\n",
    "# ])\n",
    "\n",
    "# Normalize training set together with augmentation"
   ]
  },
  {
   "cell_type": "code",
   "execution_count": 40,
   "metadata": {},
   "outputs": [
    {
     "name": "stdout",
     "output_type": "stream",
     "text": [
      "j: 1\n",
      "j: 2\n",
      "j: 3\n",
      "j: 4\n"
     ]
    },
    {
     "data": {
      "image/png": "[encoded data removed]",
      "text/plain": [
       "<Figure size 1000x900 with 12 Axes>"
      ]
     },
     "metadata": {},
     "output_type": "display_data"
    }
   ],
   "source": [
    "aug_X, aug_y = perform_augmentation(train_data.x[0:5], train_data.y[0:5], t_extra_auto, step = 1)\n",
    "imshow(aug_X, figsize = (10, 9))"
   ]
  },
  {
   "cell_type": "code",
   "execution_count": 41,
   "metadata": {},
   "outputs": [],
   "source": [
    "base_train_data = TorchDataset(X_train, y_train, transform = t_base)\n",
    "auto_train_data = TorchDataset(X_train, y_train, transform = t_extra_auto)"
   ]
  },
  {
   "cell_type": "markdown",
   "metadata": {},
   "source": [
    "## Modelling\n",
    "\n",
    "### Metric\n",
    "We'll be using two metrics: <strong>Accuracy</strong> and <strong>Categorical Crossentropy</strong>\n",
    "\n",
    "$$accuracy = \\frac{TP + TN}{TP + TN + FP + FN} $$\n",
    "\n",
    "$$\\text{categorical crossentropy} = -\\sum_{i=1}^{n}y_i \\log{(p_i)} $$\n",
    "\n",
    "We use accuracy to choose the model, as the benchmarks for the CIFAR100 dataset are in terms of accuracy. Additionally, the dataset does not have an imbalanced class issue, thus using accuracy is not unsuitable.\n",
    "\n",
    "We use categorical crossentropy as our criterion to train the model, because it heavily penalizes models that are confident and wrong in their prediction. This is due to the logarithmic function in the cross entropy formula. "
   ]
  },
  {
   "cell_type": "markdown",
   "metadata": {},
   "source": [
    "#### Custom Early Stopping\n",
    "Additionally, instead of <strong>arbitrarily choosing the number of epochs</strong> or fine tuning it (which computationally will take long), I decided to use <strong>Early Stopping</strong> as a mechanism.\n",
    "\n",
    "Overfitting is something that occurs when a model begins to extract some of the residual variation such as noise under the assumption that it is learning the patterns (Burnham and Anderson, 2010). Essentially, it starts to <strong>memorize instead of generalize</strong>. Traditional Early Stopping attempts to combat overfitting by stopping training if the performance/loss of the model on a validation set does not improve over $n$ epochs, where $n$ is the patience parameter. However, it requires <strong>clever tuning</strong> to prevent underfitting (Adam, 2018). As such to address this problem, I use a custom implemented early stopping class inspired by this <a href=\"https://alexadam.ca/2018/08/03/early-stopping/\">article</a>.\n",
    "\n",
    "The idea of this custom early stopping is that we <strong>only stop training</strong> if there are no improvements in <strong>both loss and accuracy</strong>. If there is an improve in any of the single quantities, the patience counter is reset. This tackles the issue of the underlying assumption that <strong>\"loss is correlated with accuracy</strong>\", and becomes a more lenient form of early stopping, ideally decreasing underfitting."
   ]
  },
  {
   "cell_type": "code",
   "execution_count": 42,
   "metadata": {},
   "outputs": [],
   "source": [
    "class CustomEarlyStopping():\n",
    "\tdef __init__(self, patience, min_loss_delta = 0, min_acc_delta = 0):\n",
    "\t\tself.patience = patience\n",
    "\t\tself.best_loss = 1e9\n",
    "\t\tself.best_acc = 0\n",
    "\t\tself.patience_count = 0\n",
    "\t\tself.count = 0\n",
    "\t\tself.stop = False\n",
    "\n",
    "\t\tself.min_loss_delta = min_loss_delta\n",
    "\t\tself.min_acc_delta = min_acc_delta\n",
    "\n",
    "\tdef __call__(self, loss, accuracy):\n",
    "\t\tself.save_state = False\n",
    "\n",
    "\t\tif self.best_loss - loss > self.min_loss_delta or accuracy - self.best_acc > self.min_acc_delta:\n",
    "\t\t\tif self.best_loss - loss > self.min_loss_delta:\n",
    "\t\t\t\tself.best_loss = loss\n",
    "\t\t\tif accuracy - self.best_acc > self.min_acc_delta:\n",
    "\t\t\t\tself.best_acc = accuracy\n",
    "\n",
    "\t\t\tself.count = 0\n",
    "\t\telse:\n",
    "\t\t\tself.count += 1\n",
    "\t\t\n",
    "\t\tif self.count >= self.patience:\n",
    "\t\t\tself.stop = True\n"
   ]
  },
  {
   "cell_type": "code",
   "execution_count": 43,
   "metadata": {},
   "outputs": [],
   "source": [
    "trainer = Trainer()"
   ]
  },
  {
   "cell_type": "markdown",
   "metadata": {},
   "source": [
    "### Model Architectures\n",
    "\n",
    "In this assignment, we are to investigate both the datasets for <strong>fine</strong> and <strong>coarse</strong> labels. Although the intuition is that <strong>any model that performs well on fine labels, will perform on the coarse labels</strong> (due to the differences being quite literally one more dense layer), it is important to really investigate and check if this is true. We'll tackle this later.\n",
    "\n",
    "For now, let's first attempt to find appropriate model architectures to solve the problem of <strong>fine labels(100 classes)</strong>."
   ]
  },
  {
   "cell_type": "markdown",
   "metadata": {},
   "source": [
    "#### Baseline NN\n",
    "\n",
    "As a reference point, we'll see how a baseline neural network consisting of only neurons will perform.\n",
    "\n",
    "It consists of:\n",
    "<ol>\n",
    "\t<li>Linear layer</li>\n",
    "\t<li>Batch Normalization</li>\n",
    "\t<li>ReLU activation function</li>\n",
    "</ol>"
   ]
  },
  {
   "cell_type": "code",
   "execution_count": 44,
   "metadata": {},
   "outputs": [],
   "source": [
    "def fc_block(in_feat, out_feat):\n",
    "\treturn nn.Sequential(\n",
    "\t\tnn.Linear(in_feat, out_feat),\n",
    "\t\tnn.BatchNorm1d(out_feat),\n",
    "\t\tnn.ReLU()\n",
    "\t)\n",
    "\n",
    "class BaselineNN(nn.Module):\n",
    "\tdef __init__(self):\n",
    "\t\tsuper(BaselineNN, self).__init__()\n",
    "\t\tself.flat = nn.Flatten(1)\n",
    "\t\tself.b1 = fc_block(3072, 1536)\n",
    "\t\tself.b2 = fc_block(1536, 768)\n",
    "\t\tself.b3 = fc_block(768, 384)\n",
    "\t\tself.b4 = fc_block(384, 192)\n",
    "\t\tself.b5 = fc_block(192, 100)\n",
    "\n",
    "\tdef forward(self, x):\n",
    "\t\tx = self.flat(x)\n",
    "\t\tx = self.b1(x)\n",
    "\t\tx = self.b2(x)\n",
    "\t\tx = self.b3(x)\n",
    "\t\tx = self.b4(x)\n",
    "\t\tx = self.b5(x)\n",
    "\t\treturn x"
   ]
  },
  {
   "cell_type": "code",
   "execution_count": 45,
   "metadata": {},
   "outputs": [],
   "source": [
    "trainer = Trainer()\n",
    "batch_num = len(DataLoader(auto_train_data, batch_size = GPU_COUNT * 256))\n",
    "\n",
    "if not MODEL_DEBUG:\n",
    "\ttrainer.train_model(\n",
    "\t\t'AutoAugment + Baseline NN', BaselineNN, # model\n",
    "\t\toptim.AdamW, {'lr': 1e-4 * (GPU_COUNT) ** 0.5, 'weight_decay': 1e-5}, # optimizer\n",
    "\t\tauto_train_data, # data\n",
    "\t\tearly_stopping = CustomEarlyStopping(patience = 7),\n",
    "\t\tverbose=True\n",
    "\t)\n",
    "\ttrainer.archive('AutoAugment + Baseline NN')\n",
    "\tdisplay(trainer.history)"
   ]
  },
  {
   "cell_type": "markdown",
   "metadata": {},
   "source": [
    "#### AlexNet-inspired CNN: MiniAlexNet"
   ]
  },
  {
   "cell_type": "code",
   "execution_count": 46,
   "metadata": {},
   "outputs": [],
   "source": [
    "class MiniAlexNet(nn.Module):\n",
    "\tdef __init__(self, num_classes = 100):\n",
    "\t\tsuper(MiniAlexNet, self).__init__()\n",
    "\n",
    "\t\tself.conv1 = nn.Sequential(\n",
    "            nn.Conv2d(3, 64, kernel_size=7, stride=2, padding=2),\n",
    "            nn.ReLU(),\n",
    "            nn.MaxPool2d(kernel_size=3, stride=2),\n",
    "\t\t)\n",
    "\n",
    "\t\tself.conv2 = nn.Sequential(\n",
    "            nn.Conv2d(64, 192, kernel_size=3, stride=2, padding=2),\n",
    "            nn.ReLU(),\n",
    "\t\t)\n",
    "\n",
    "\t\tself.conv3 = nn.Sequential(\n",
    "            nn.Conv2d(192, 384, kernel_size=3, stride=1, padding=1),\n",
    "            nn.ReLU(),\n",
    "\t\t)\n",
    "\n",
    "\t\tself.conv4 = nn.Sequential(\n",
    "            nn.Conv2d(384, 256, kernel_size=3, stride=1, padding=1),\n",
    "            nn.ReLU(),\n",
    "\t\t\tnn.MaxPool2d(kernel_size = 3, stride = 2, padding = 1)\n",
    "\t\t)\n",
    "\n",
    "\t\tself.avgpool = nn.AdaptiveAvgPool2d((2, 2))\n",
    "\n",
    "\t\tself.fc = nn.Sequential(\n",
    "\t\t\tnn.Dropout(p = 0.5),\n",
    "\t\t\tnn.Linear(256 * 2  * 2, 1024),\n",
    "\t\t\tnn.ReLU(),\n",
    "\t\t\tnn.Dropout(p = 0.5),\n",
    "\t\t\tnn.Linear(1024, 1024),\n",
    "\t\t\tnn.ReLU(),\n",
    "\t\t\tnn.Linear(1024, num_classes)\n",
    "\t\t)\n",
    "\n",
    "\tdef forward(self, x):\n",
    "\t\tx = self.conv1(x)\n",
    "\t\tx = self.conv2(x)\n",
    "\t\tx = self.conv3(x)\n",
    "\t\tx = self.conv4(x)\n",
    "\t\tx = self.avgpool(x)\n",
    "\t\tx = torch.flatten(x, 1)\n",
    "\t\tx = self.fc(x)\n",
    "\t\treturn x"
   ]
  },
  {
   "cell_type": "code",
   "execution_count": 47,
   "metadata": {},
   "outputs": [],
   "source": [
    "if not MODEL_DEBUG:\n",
    "\ttrainer.train_model(\n",
    "\t\t'AutoAugment + MiniAlexNet', MiniAlexNet, # model\n",
    "\t\toptim.AdamW, {'lr': 1e-3 * (GPU_COUNT) ** 0.5, 'weight_decay': 1e-5}, # optimizer\n",
    "\t\tauto_train_data, # data\n",
    "\t\tearly_stopping = CustomEarlyStopping(patience = 15),\n",
    "\t\tverbose=True\n",
    "\t)\n",
    "\ttrainer.archive('AutoAugment + MiniAlexNet')\n",
    "\tdisplay(trainer.history)"
   ]
  },
  {
   "cell_type": "markdown",
   "metadata": {},
   "source": [
    "#### Modified VGG15\n",
    "From our past experiment, VGG15 worked incredibly well."
   ]
  },
  {
   "cell_type": "code",
   "execution_count": 48,
   "metadata": {},
   "outputs": [],
   "source": [
    "def VGGBlock(in_channels, out_channels, pool = False, activation = nn.ReLU):\n",
    "\tif pool:\n",
    "\t\treturn nn.Sequential(\n",
    "\t\t\tnn.Conv2d(in_channels, out_channels, kernel_size = 3, stride = 1, padding = 1),\n",
    "\t\t\tnn.BatchNorm2d(out_channels),\n",
    "\t\t\tactivation(),\n",
    "\t\t\tnn.MaxPool2d(kernel_size = 2, stride = 2)\n",
    "\t\t)\n",
    "\treturn nn.Sequential(\n",
    "\t\tnn.Conv2d(in_channels, out_channels, kernel_size = 3, stride = 1, padding = 1),\n",
    "\t\tnn.BatchNorm2d(out_channels),\n",
    "\t\tactivation()\n",
    "\t)\n",
    "\n",
    "class VGG15(nn.Module):\n",
    "\tdef __init__(self, num_classes = 100):\n",
    "\t\tsuper().__init__()\n",
    "\t\tself.l0 = VGGBlock(3, 64)\n",
    "\t\tself.l1 = VGGBlock(64, 64)\n",
    "\t\tself.l2 = VGGBlock(64, 64, pool = True)\n",
    "\t\tself.l3 = VGGBlock(64, 128)\n",
    "\t\tself.l4 = VGGBlock(128, 128)\n",
    "\t\tself.l5 = VGGBlock(128, 128, pool = True)\n",
    "\t\tself.l6 = VGGBlock(128, 256)\n",
    "\t\tself.l7 = VGGBlock(256, 256)\n",
    "\t\tself.l8 = VGGBlock(256, 256, pool = True)\n",
    "\t\tself.l9 = VGGBlock(256, 512)\n",
    "\t\tself.l10 = VGGBlock(512, 512)\n",
    "\t\tself.l11 = VGGBlock(512, 512, pool = True)\n",
    "        \n",
    "\t\tself.flat = nn.Flatten(start_dim = 1)\n",
    "\t\tself.drop_layer0 = nn.Dropout(0.5)\n",
    "\t\tself.fc0 = nn.Sequential(\n",
    "\t\t\tnn.Linear(512 * 2 * 2, 4096),\n",
    "\t\t\tnn.ReLU()\n",
    "\t\t)\n",
    "        \n",
    "\t\tself.drop_layer1 = nn.Dropout(0.5)    \n",
    "\t\tself.fc1 = nn.Sequential(\n",
    "\t\t\tnn.Linear(4096, 4096),\n",
    "\t\t\tnn.ReLU()\n",
    "\t\t)\n",
    "        \n",
    "\t\tself.fc2 = nn.Sequential(\n",
    "\t\t\tnn.Linear(4096, num_classes)\n",
    "\t\t)\n",
    "\n",
    "\n",
    "\tdef forward(self, x):\n",
    "\t\tx = self.l0(x)\n",
    "\t\tx = self.l1(x)\n",
    "\t\tx = self.l2(x)\n",
    "\t\tx = self.l3(x)\n",
    "\t\tx = self.l4(x)\n",
    "\t\tx = self.l5(x)\n",
    "\t\tx = self.l6(x)\n",
    "\t\tx = self.l7(x)\n",
    "\t\tx = self.l8(x)\n",
    "\t\tx = self.l9(x)\n",
    "\t\tx = self.l10(x)\n",
    "\t\tx = self.l11(x)\n",
    "\t\tx = self.flat(x)\n",
    "\t\tx = self.drop_layer0(x)\n",
    "\t\tx = self.fc0(x)\n",
    "\t\tx = self.drop_layer1(x)\n",
    "\t\tx = self.fc1(x)\n",
    "\t\tx = self.fc2(x)\n",
    "\t\treturn x\n",
    "    \n",
    "\tdef __repr__(self):\n",
    "\t\treturn \"VGG15\""
   ]
  },
  {
   "cell_type": "code",
   "execution_count": 49,
   "metadata": {},
   "outputs": [
    {
     "name": "stdout",
     "output_type": "stream",
     "text": [
      "Epoch: 1 | Train Loss: 4.88137 \tVal Loss: 4.52443 \tTrain Acc: 0.014 \tVal Acc: 0.015\n",
      "Epoch: 2 | Train Loss: 4.49300 \tVal Loss: 4.50279 \tTrain Acc: 0.017 \tVal Acc: 0.017\n"
     ]
    },
    {
     "ename": "KeyboardInterrupt",
     "evalue": "",
     "output_type": "error",
     "traceback": [
      "\u001b[0;31m---------------------------------------------------------------------------\u001b[0m",
      "\u001b[0;31mKeyboardInterrupt\u001b[0m                         Traceback (most recent call last)",
      "\u001b[1;32mc:\\Users\\kenne\\Documents\\GitHub\\CIFAR100\\cifar_100.ipynb Cell 105\u001b[0m in \u001b[0;36m<cell line: 1>\u001b[0;34m()\u001b[0m\n\u001b[1;32m      <a href='vscode-notebook-cell:/c%3A/Users/kenne/Documents/GitHub/CIFAR100/cifar_100.ipynb#Y212sZmlsZQ%3D%3D?line=0'>1</a>\u001b[0m \u001b[39mif\u001b[39;00m \u001b[39mnot\u001b[39;00m MODEL_DEBUG \u001b[39mor\u001b[39;00m \u001b[39mTrue\u001b[39;00m:\n\u001b[1;32m      <a href='vscode-notebook-cell:/c%3A/Users/kenne/Documents/GitHub/CIFAR100/cifar_100.ipynb#Y212sZmlsZQ%3D%3D?line=1'>2</a>\u001b[0m \ttrainer \u001b[39m=\u001b[39m Trainer()\n\u001b[0;32m----> <a href='vscode-notebook-cell:/c%3A/Users/kenne/Documents/GitHub/CIFAR100/cifar_100.ipynb#Y212sZmlsZQ%3D%3D?line=2'>3</a>\u001b[0m \ttrainer\u001b[39m.\u001b[39;49mtrain_model(\n\u001b[1;32m      <a href='vscode-notebook-cell:/c%3A/Users/kenne/Documents/GitHub/CIFAR100/cifar_100.ipynb#Y212sZmlsZQ%3D%3D?line=3'>4</a>\u001b[0m \t\t\u001b[39m'\u001b[39;49m\u001b[39mAutoAugment + VGG15\u001b[39;49m\u001b[39m'\u001b[39;49m, VGG15, \u001b[39m# model\u001b[39;49;00m\n\u001b[1;32m      <a href='vscode-notebook-cell:/c%3A/Users/kenne/Documents/GitHub/CIFAR100/cifar_100.ipynb#Y212sZmlsZQ%3D%3D?line=4'>5</a>\u001b[0m \t\toptim\u001b[39m.\u001b[39;49mAdamW, {\u001b[39m'\u001b[39;49m\u001b[39mlr\u001b[39;49m\u001b[39m'\u001b[39;49m: \u001b[39m1e-3\u001b[39;49m \u001b[39m*\u001b[39;49m (GPU_COUNT) \u001b[39m*\u001b[39;49m\u001b[39m*\u001b[39;49m \u001b[39m0.5\u001b[39;49m, \u001b[39m'\u001b[39;49m\u001b[39mweight_decay\u001b[39;49m\u001b[39m'\u001b[39;49m: \u001b[39m1e-5\u001b[39;49m}, \u001b[39m# optimizer\u001b[39;49;00m\n\u001b[1;32m      <a href='vscode-notebook-cell:/c%3A/Users/kenne/Documents/GitHub/CIFAR100/cifar_100.ipynb#Y212sZmlsZQ%3D%3D?line=5'>6</a>\u001b[0m \t\tbase_train_data, \u001b[39m# data\u001b[39;49;00m\n\u001b[1;32m      <a href='vscode-notebook-cell:/c%3A/Users/kenne/Documents/GitHub/CIFAR100/cifar_100.ipynb#Y212sZmlsZQ%3D%3D?line=6'>7</a>\u001b[0m \t\t\u001b[39m# scheduler_pass = torch.optim.lr_scheduler.StepLR,\u001b[39;49;00m\n\u001b[1;32m      <a href='vscode-notebook-cell:/c%3A/Users/kenne/Documents/GitHub/CIFAR100/cifar_100.ipynb#Y212sZmlsZQ%3D%3D?line=7'>8</a>\u001b[0m \t\t\u001b[39m# scheduler_args = {'step_size': int(2.4 * batch_num), 'gamma': 0.97},\u001b[39;49;00m\n\u001b[1;32m      <a href='vscode-notebook-cell:/c%3A/Users/kenne/Documents/GitHub/CIFAR100/cifar_100.ipynb#Y212sZmlsZQ%3D%3D?line=8'>9</a>\u001b[0m \t\tearly_stopping \u001b[39m=\u001b[39;49m CustomEarlyStopping(patience \u001b[39m=\u001b[39;49m \u001b[39m15\u001b[39;49m),\n\u001b[1;32m     <a href='vscode-notebook-cell:/c%3A/Users/kenne/Documents/GitHub/CIFAR100/cifar_100.ipynb#Y212sZmlsZQ%3D%3D?line=9'>10</a>\u001b[0m \t\tverbose\u001b[39m=\u001b[39;49m\u001b[39mTrue\u001b[39;49;00m\n\u001b[1;32m     <a href='vscode-notebook-cell:/c%3A/Users/kenne/Documents/GitHub/CIFAR100/cifar_100.ipynb#Y212sZmlsZQ%3D%3D?line=10'>11</a>\u001b[0m \t)\n\u001b[1;32m     <a href='vscode-notebook-cell:/c%3A/Users/kenne/Documents/GitHub/CIFAR100/cifar_100.ipynb#Y212sZmlsZQ%3D%3D?line=11'>12</a>\u001b[0m \ttrainer\u001b[39m.\u001b[39marchive(\u001b[39m'\u001b[39m\u001b[39mAutoAugment + VGG15\u001b[39m\u001b[39m'\u001b[39m)\n\u001b[1;32m     <a href='vscode-notebook-cell:/c%3A/Users/kenne/Documents/GitHub/CIFAR100/cifar_100.ipynb#Y212sZmlsZQ%3D%3D?line=12'>13</a>\u001b[0m \tdisplay(trainer\u001b[39m.\u001b[39mhistory)\n",
      "\u001b[1;32mc:\\Users\\kenne\\Documents\\GitHub\\CIFAR100\\cifar_100.ipynb Cell 105\u001b[0m in \u001b[0;36mTrainer.train_model\u001b[0;34m(self, name, model_pass, optimizer_pass, optimizer_args, train_data, model_args, scheduler_pass, scheduler_args, batch_size, early_stopping, epochs, verbose, val_data, save_model, augment, return_model)\u001b[0m\n\u001b[1;32m    <a href='vscode-notebook-cell:/c%3A/Users/kenne/Documents/GitHub/CIFAR100/cifar_100.ipynb#Y212sZmlsZQ%3D%3D?line=134'>135</a>\u001b[0m outputs \u001b[39m=\u001b[39m model(inputs)\n\u001b[1;32m    <a href='vscode-notebook-cell:/c%3A/Users/kenne/Documents/GitHub/CIFAR100/cifar_100.ipynb#Y212sZmlsZQ%3D%3D?line=135'>136</a>\u001b[0m loss \u001b[39m=\u001b[39m criterion(outputs, labels)\n\u001b[0;32m--> <a href='vscode-notebook-cell:/c%3A/Users/kenne/Documents/GitHub/CIFAR100/cifar_100.ipynb#Y212sZmlsZQ%3D%3D?line=137'>138</a>\u001b[0m val_loss \u001b[39m+\u001b[39m\u001b[39m=\u001b[39m loss\u001b[39m.\u001b[39;49mitem()\n\u001b[1;32m    <a href='vscode-notebook-cell:/c%3A/Users/kenne/Documents/GitHub/CIFAR100/cifar_100.ipynb#Y212sZmlsZQ%3D%3D?line=138'>139</a>\u001b[0m val_acc_count \u001b[39m+\u001b[39m\u001b[39m=\u001b[39m accurate_count(outputs, labels)\n\u001b[1;32m    <a href='vscode-notebook-cell:/c%3A/Users/kenne/Documents/GitHub/CIFAR100/cifar_100.ipynb#Y212sZmlsZQ%3D%3D?line=139'>140</a>\u001b[0m total_sample \u001b[39m+\u001b[39m\u001b[39m=\u001b[39m \u001b[39mlen\u001b[39m(labels)\n",
      "\u001b[0;31mKeyboardInterrupt\u001b[0m: "
     ]
    }
   ],
   "source": [
    "if not MODEL_DEBUG:\n",
    "\ttrainer = Trainer()\n",
    "\ttrainer.train_model(\n",
    "\t\t'AutoAugment + VGG15', VGG15, # model\n",
    "\t\toptim.AdamW, {'lr': 1e-3 * (GPU_COUNT) ** 0.5, 'weight_decay': 1e-5}, # optimizer\n",
    "\t\tbase_train_data, # data\n",
    "\t\t# scheduler_pass = torch.optim.lr_scheduler.StepLR,\n",
    "\t\t# scheduler_args = {'step_size': int(2.4 * batch_num), 'gamma': 0.97},\n",
    "\t\tearly_stopping = CustomEarlyStopping(patience = 15),\n",
    "\t\tverbose=True\n",
    "\t)\n",
    "\ttrainer.archive('AutoAugment + VGG15')\n",
    "\tdisplay(trainer.history)"
   ]
  },
  {
   "cell_type": "markdown",
   "metadata": {},
   "source": [
    "As we generally see that augmentation helps with improving the performance of the models, we'll apply augmentation on all the different models."
   ]
  },
  {
   "cell_type": "markdown",
   "metadata": {},
   "source": [
    "#### AutoAugment + ResNet50\n",
    "\n",
    "The next model we try is ResNet50. The issue with VGG is that it suffers from the <strong>vanishing gradient</strong> problem. Although sometimes it may not have an effect on the performance (such as seen with the FashionMNIST dataset), we'll.\n",
    "\n",
    "As ResNet has 'skip' blocks, essentially countering the <strong>vanishing gradient</strong> issue, it means we can have a deeper network that does not suffer from the problem."
   ]
  },
  {
   "cell_type": "code",
   "execution_count": 51,
   "metadata": {},
   "outputs": [],
   "source": [
    "class BasicBlock(nn.Module):\n",
    "    \"\"\"Basic Block for resnet 18 and resnet 34\n",
    "    \"\"\"\n",
    "\n",
    "    #BasicBlock and BottleNeck block\n",
    "    #have different output size\n",
    "    #we use class attribute expansion\n",
    "    #to distinct\n",
    "    expansion = 1\n",
    "\n",
    "    def __init__(self, in_channels, out_channels, stride=1):\n",
    "        super().__init__()\n",
    "\n",
    "        #residual function\n",
    "        self.residual_function = nn.Sequential(\n",
    "            nn.Conv2d(in_channels, out_channels, kernel_size=3, stride=stride, padding=1, bias=False),\n",
    "            nn.BatchNorm2d(out_channels),\n",
    "            nn.LeakyReLU(inplace=True),\n",
    "            nn.Conv2d(out_channels, out_channels * BasicBlock.expansion, kernel_size=3, padding=1, bias=False),\n",
    "            nn.BatchNorm2d(out_channels * BasicBlock.expansion)\n",
    "        )\n",
    "\n",
    "        #shortcut\n",
    "        self.shortcut = nn.Sequential()\n",
    "\n",
    "        #the shortcut output dimension is not the same with residual function\n",
    "        #use 1*1 convolution to match the dimension\n",
    "        if stride != 1 or in_channels != BasicBlock.expansion * out_channels:\n",
    "            self.shortcut = nn.Sequential(\n",
    "                nn.Conv2d(in_channels, out_channels * BasicBlock.expansion, kernel_size=1, stride=stride, bias=False),\n",
    "                nn.BatchNorm2d(out_channels * BasicBlock.expansion)\n",
    "            )\n",
    "\n",
    "    def forward(self, x):\n",
    "        return nn.LeakyReLU(inplace=True)(self.residual_function(x) + self.shortcut(x))\n",
    "\n",
    "class BottleNeck(nn.Module):\n",
    "    \"\"\"Residual block for resnet over 50 layers\n",
    "    \"\"\"\n",
    "    expansion = 2\n",
    "    def __init__(self, in_channels, out_channels, stride=1):\n",
    "        super().__init__()\n",
    "        self.residual_function = nn.Sequential(\n",
    "            nn.Conv2d(in_channels, out_channels, kernel_size=1, bias=False),\n",
    "            nn.BatchNorm2d(out_channels),\n",
    "            nn.LeakyReLU(inplace=True),\n",
    "            nn.Conv2d(out_channels, out_channels, stride=stride, kernel_size=3, padding=1, bias=False),\n",
    "            nn.BatchNorm2d(out_channels),\n",
    "            nn.LeakyReLU(inplace=True),\n",
    "            nn.Conv2d(out_channels, out_channels * BottleNeck.expansion, kernel_size=1, bias=False),\n",
    "            nn.BatchNorm2d(out_channels * BottleNeck.expansion),\n",
    "        )\n",
    "\n",
    "        self.shortcut = nn.Sequential()\n",
    "\n",
    "        if stride != 1 or in_channels != out_channels * BottleNeck.expansion:\n",
    "            self.shortcut = nn.Sequential(\n",
    "                nn.Conv2d(in_channels, out_channels * BottleNeck.expansion, stride=stride, kernel_size=1, bias=False),\n",
    "                nn.BatchNorm2d(out_channels * BottleNeck.expansion)\n",
    "            )\n",
    "\n",
    "    def forward(self, x):\n",
    "        return nn.LeakyReLU(inplace=True)(self.residual_function(x) + self.shortcut(x))\n",
    "\n",
    "class ResNet50(nn.Module):\n",
    "\n",
    "    def __init__(self, block = BottleNeck, num_block = [3, 4, 6, 3], num_classes=100):\n",
    "        super().__init__()\n",
    "        block = BottleNeck\n",
    "        num_block = [3, 4, 6, 3]\n",
    "\n",
    "        self.in_channels = 64\n",
    "\n",
    "        self.conv1 = nn.Sequential(\n",
    "            nn.Conv2d(3, 64, kernel_size=3, padding=1, bias=False),\n",
    "            nn.BatchNorm2d(64),\n",
    "            nn.LeakyReLU(inplace=True))\n",
    "        #we use a different inputsize than the original paper\n",
    "        #so conv2_x's stride is 1\n",
    "        self.conv2_x = self._make_layer(block, 64, num_block[0], 1)\n",
    "        self.conv3_x = self._make_layer(block, 128, num_block[1], 2)\n",
    "        self.conv4_x = self._make_layer(block, 256, num_block[2], 2)\n",
    "        self.conv5_x = self._make_layer(block, 512, num_block[3], 2)\n",
    "        self.avg_pool = nn.AdaptiveAvgPool2d((1, 1))\n",
    "        self.dropout = nn.Dropout(0.5)\n",
    "        self.fc = nn.Linear(512 * block.expansion, num_classes)\n",
    "\n",
    "    def _make_layer(self, block, out_channels, num_blocks, stride):\n",
    "        \"\"\"make resnet layers(by layer i didnt mean this 'layer' was the\n",
    "        same as a neuron netowork layer, ex. conv layer), one layer may\n",
    "        contain more than one residual block\n",
    "        Args:\n",
    "            block: block type, basic block or bottle neck block\n",
    "            out_channels: output depth channel number of this layer\n",
    "            num_blocks: how many blocks per layer\n",
    "            stride: the stride of the first block of this layer\n",
    "        Return:\n",
    "            return a resnet layer\n",
    "        \"\"\"\n",
    "\n",
    "        # we have num_block blocks per layer, the first block\n",
    "        # could be 1 or 2, other blocks would always be 1\n",
    "        strides = [stride] + [1] * (num_blocks - 1)\n",
    "        layers = []\n",
    "        for stride in strides:\n",
    "            layers.append(block(self.in_channels, out_channels, stride))\n",
    "            self.in_channels = out_channels * block.expansion\n",
    "\n",
    "        return nn.Sequential(*layers)\n",
    "\n",
    "    def forward(self, x):\n",
    "        output = self.conv1(x)\n",
    "        output = self.conv2_x(output)\n",
    "        output = self.conv3_x(output)\n",
    "        output = self.conv4_x(output)\n",
    "        output = self.conv5_x(output)\n",
    "        output = self.avg_pool(output)\n",
    "        output = self.dropout(output)\n",
    "        output = output.view(output.size(0), -1)\n",
    "        output = self.fc(output)\n",
    "\n",
    "        return output\n"
   ]
  },
  {
   "cell_type": "code",
   "execution_count": 53,
   "metadata": {},
   "outputs": [
    {
     "name": "stdout",
     "output_type": "stream",
     "text": [
      "Epoch: 1 | Train Loss: 4.68729 \tVal Loss: 4.53684 \tTrain Acc: 0.018 \tVal Acc: 0.029\n",
      "Epoch: 2 | Train Loss: 4.40305 \tVal Loss: 4.12603 \tTrain Acc: 0.034 \tVal Acc: 0.060\n",
      "Epoch: 3 | Train Loss: 4.28939 \tVal Loss: 3.96705 \tTrain Acc: 0.048 \tVal Acc: 0.084\n",
      "Epoch: 4 | Train Loss: 4.19253 \tVal Loss: 3.90053 \tTrain Acc: 0.060 \tVal Acc: 0.087\n",
      "Epoch: 5 | Train Loss: 4.08968 \tVal Loss: 3.92713 \tTrain Acc: 0.073 \tVal Acc: 0.091\n",
      "Epoch: 6 | Train Loss: 4.03659 \tVal Loss: 3.94747 \tTrain Acc: 0.080 \tVal Acc: 0.093\n",
      "Epoch: 7 | Train Loss: 3.96585 \tVal Loss: 4.72216 \tTrain Acc: 0.090 \tVal Acc: 0.059\n",
      "Epoch: 8 | Train Loss: 4.01949 \tVal Loss: 3.64149 \tTrain Acc: 0.085 \tVal Acc: 0.131\n",
      "Epoch: 9 | Train Loss: 3.92322 \tVal Loss: 3.68646 \tTrain Acc: 0.097 \tVal Acc: 0.135\n",
      "Epoch: 10 | Train Loss: 3.84412 \tVal Loss: 3.78854 \tTrain Acc: 0.111 \tVal Acc: 0.117\n",
      "Epoch: 11 | Train Loss: 3.75776 \tVal Loss: 3.30190 \tTrain Acc: 0.124 \tVal Acc: 0.196\n",
      "Epoch: 12 | Train Loss: 3.67696 \tVal Loss: 3.72714 \tTrain Acc: 0.138 \tVal Acc: 0.128\n",
      "Epoch: 13 | Train Loss: 3.66814 \tVal Loss: 3.33822 \tTrain Acc: 0.141 \tVal Acc: 0.194\n",
      "Epoch: 14 | Train Loss: 3.58850 \tVal Loss: 3.42173 \tTrain Acc: 0.149 \tVal Acc: 0.176\n",
      "Epoch: 15 | Train Loss: 3.57133 \tVal Loss: 3.62392 \tTrain Acc: 0.153 \tVal Acc: 0.156\n",
      "Epoch: 16 | Train Loss: 3.48842 \tVal Loss: 3.41979 \tTrain Acc: 0.170 \tVal Acc: 0.191\n",
      "Epoch: 17 | Train Loss: 3.43470 \tVal Loss: 3.06975 \tTrain Acc: 0.177 \tVal Acc: 0.230\n",
      "Epoch: 18 | Train Loss: 3.39230 \tVal Loss: 3.24502 \tTrain Acc: 0.183 \tVal Acc: 0.214\n",
      "Epoch: 19 | Train Loss: 3.29163 \tVal Loss: 3.01662 \tTrain Acc: 0.201 \tVal Acc: 0.251\n",
      "Epoch: 20 | Train Loss: 3.24644 \tVal Loss: 2.92610 \tTrain Acc: 0.210 \tVal Acc: 0.261\n",
      "Epoch: 21 | Train Loss: 3.21198 \tVal Loss: 3.17169 \tTrain Acc: 0.218 \tVal Acc: 0.233\n",
      "Epoch: 22 | Train Loss: 3.24952 \tVal Loss: 2.83370 \tTrain Acc: 0.215 \tVal Acc: 0.282\n",
      "Epoch: 23 | Train Loss: 3.13739 \tVal Loss: 2.67430 \tTrain Acc: 0.231 \tVal Acc: 0.320\n",
      "Epoch: 24 | Train Loss: 3.06095 \tVal Loss: 2.64807 \tTrain Acc: 0.245 \tVal Acc: 0.317\n",
      "Epoch: 25 | Train Loss: 3.02899 \tVal Loss: 2.95655 \tTrain Acc: 0.249 \tVal Acc: 0.279\n",
      "Epoch: 26 | Train Loss: 3.00496 \tVal Loss: 2.68290 \tTrain Acc: 0.253 \tVal Acc: 0.321\n",
      "Epoch: 27 | Train Loss: 2.94638 \tVal Loss: 2.51468 \tTrain Acc: 0.265 \tVal Acc: 0.352\n",
      "Epoch: 28 | Train Loss: 2.96963 \tVal Loss: 2.57542 \tTrain Acc: 0.263 \tVal Acc: 0.341\n",
      "Epoch: 29 | Train Loss: 2.89041 \tVal Loss: 2.64191 \tTrain Acc: 0.278 \tVal Acc: 0.328\n",
      "Epoch: 30 | Train Loss: 2.84759 \tVal Loss: 2.65464 \tTrain Acc: 0.290 \tVal Acc: 0.336\n",
      "Epoch: 31 | Train Loss: 2.82821 \tVal Loss: 2.60927 \tTrain Acc: 0.294 \tVal Acc: 0.337\n",
      "Epoch: 32 | Train Loss: 2.76419 \tVal Loss: 2.57757 \tTrain Acc: 0.305 \tVal Acc: 0.345\n",
      "Epoch: 33 | Train Loss: 2.72913 \tVal Loss: 2.17307 \tTrain Acc: 0.311 \tVal Acc: 0.420\n",
      "Epoch: 34 | Train Loss: 2.67904 \tVal Loss: 2.49159 \tTrain Acc: 0.321 \tVal Acc: 0.354\n",
      "Epoch: 35 | Train Loss: 2.66460 \tVal Loss: 2.16672 \tTrain Acc: 0.323 \tVal Acc: 0.414\n",
      "Epoch: 36 | Train Loss: 2.58610 \tVal Loss: 2.31413 \tTrain Acc: 0.336 \tVal Acc: 0.403\n",
      "Epoch: 37 | Train Loss: 2.56750 \tVal Loss: 2.11034 \tTrain Acc: 0.345 \tVal Acc: 0.435\n",
      "Epoch: 38 | Train Loss: 2.55926 \tVal Loss: 2.50587 \tTrain Acc: 0.347 \tVal Acc: 0.362\n",
      "Epoch: 39 | Train Loss: 2.62360 \tVal Loss: 2.16367 \tTrain Acc: 0.331 \tVal Acc: 0.425\n",
      "Epoch: 40 | Train Loss: 2.54033 \tVal Loss: 5.96627 \tTrain Acc: 0.353 \tVal Acc: 0.163\n",
      "Epoch: 41 | Train Loss: 2.75935 \tVal Loss: 2.31982 \tTrain Acc: 0.309 \tVal Acc: 0.389\n",
      "Epoch: 42 | Train Loss: 2.59252 \tVal Loss: 2.04488 \tTrain Acc: 0.341 \tVal Acc: 0.453\n",
      "Epoch: 43 | Train Loss: 2.47575 \tVal Loss: 2.03775 \tTrain Acc: 0.362 \tVal Acc: 0.449\n",
      "Epoch: 44 | Train Loss: 2.44210 \tVal Loss: 1.99855 \tTrain Acc: 0.371 \tVal Acc: 0.461\n",
      "Epoch: 45 | Train Loss: 2.37989 \tVal Loss: 1.97506 \tTrain Acc: 0.385 \tVal Acc: 0.474\n",
      "Epoch: 46 | Train Loss: 2.37392 \tVal Loss: 1.92559 \tTrain Acc: 0.389 \tVal Acc: 0.481\n",
      "Epoch: 47 | Train Loss: 2.33945 \tVal Loss: 1.89531 \tTrain Acc: 0.390 \tVal Acc: 0.485\n",
      "Epoch: 48 | Train Loss: 2.32035 \tVal Loss: 1.91573 \tTrain Acc: 0.396 \tVal Acc: 0.478\n",
      "Epoch: 49 | Train Loss: 2.27822 \tVal Loss: 1.78391 \tTrain Acc: 0.406 \tVal Acc: 0.503\n",
      "Epoch: 50 | Train Loss: 2.25630 \tVal Loss: 1.77681 \tTrain Acc: 0.409 \tVal Acc: 0.515\n",
      "Epoch: 51 | Train Loss: 2.26373 \tVal Loss: 1.89339 \tTrain Acc: 0.408 \tVal Acc: 0.490\n",
      "Epoch: 52 | Train Loss: 2.20649 \tVal Loss: 1.76499 \tTrain Acc: 0.418 \tVal Acc: 0.521\n",
      "Epoch: 53 | Train Loss: 2.18414 \tVal Loss: 1.79588 \tTrain Acc: 0.427 \tVal Acc: 0.511\n",
      "Epoch: 54 | Train Loss: 2.13757 \tVal Loss: 1.75407 \tTrain Acc: 0.436 \tVal Acc: 0.521\n",
      "Epoch: 55 | Train Loss: 2.15119 \tVal Loss: 1.91744 \tTrain Acc: 0.436 \tVal Acc: 0.492\n",
      "Epoch: 56 | Train Loss: 2.09124 \tVal Loss: 1.80633 \tTrain Acc: 0.442 \tVal Acc: 0.513\n",
      "Epoch: 57 | Train Loss: 2.11122 \tVal Loss: 1.73632 \tTrain Acc: 0.445 \tVal Acc: 0.525\n",
      "Epoch: 58 | Train Loss: 2.07419 \tVal Loss: 1.69493 \tTrain Acc: 0.452 \tVal Acc: 0.536\n",
      "Epoch: 59 | Train Loss: 2.07138 \tVal Loss: 1.85876 \tTrain Acc: 0.455 \tVal Acc: 0.504\n",
      "Epoch: 60 | Train Loss: 2.18135 \tVal Loss: 1.67294 \tTrain Acc: 0.429 \tVal Acc: 0.542\n",
      "Epoch: 61 | Train Loss: 2.05176 \tVal Loss: 1.77572 \tTrain Acc: 0.457 \tVal Acc: 0.513\n",
      "Epoch: 62 | Train Loss: 2.12523 \tVal Loss: 1.74525 \tTrain Acc: 0.442 \tVal Acc: 0.535\n",
      "Epoch: 63 | Train Loss: 2.08657 \tVal Loss: 1.74629 \tTrain Acc: 0.449 \tVal Acc: 0.531\n",
      "Epoch: 64 | Train Loss: 2.05050 \tVal Loss: 1.64919 \tTrain Acc: 0.454 \tVal Acc: 0.538\n",
      "Epoch: 65 | Train Loss: 1.98666 \tVal Loss: 1.58600 \tTrain Acc: 0.470 \tVal Acc: 0.564\n",
      "Epoch: 66 | Train Loss: 1.95841 \tVal Loss: 1.63173 \tTrain Acc: 0.477 \tVal Acc: 0.551\n",
      "Epoch: 67 | Train Loss: 1.91758 \tVal Loss: 1.54031 \tTrain Acc: 0.488 \tVal Acc: 0.575\n",
      "Epoch: 68 | Train Loss: 1.94681 \tVal Loss: 1.64317 \tTrain Acc: 0.480 \tVal Acc: 0.556\n",
      "Epoch: 69 | Train Loss: 1.91818 \tVal Loss: 1.60323 \tTrain Acc: 0.488 \tVal Acc: 0.566\n",
      "Epoch: 70 | Train Loss: 1.90664 \tVal Loss: 1.53851 \tTrain Acc: 0.489 \tVal Acc: 0.574\n",
      "Epoch: 71 | Train Loss: 1.85475 \tVal Loss: 1.61382 \tTrain Acc: 0.499 \tVal Acc: 0.566\n",
      "Epoch: 72 | Train Loss: 1.83032 \tVal Loss: 1.55234 \tTrain Acc: 0.505 \tVal Acc: 0.582\n",
      "Epoch: 73 | Train Loss: 1.80798 \tVal Loss: 1.46095 \tTrain Acc: 0.513 \tVal Acc: 0.600\n",
      "Epoch: 74 | Train Loss: 1.78935 \tVal Loss: 1.57150 \tTrain Acc: 0.515 \tVal Acc: 0.583\n",
      "Epoch: 75 | Train Loss: 1.78050 \tVal Loss: 1.53284 \tTrain Acc: 0.516 \tVal Acc: 0.586\n",
      "Epoch: 76 | Train Loss: 1.75493 \tVal Loss: 1.71757 \tTrain Acc: 0.525 \tVal Acc: 0.543\n",
      "Epoch: 77 | Train Loss: 1.78380 \tVal Loss: 1.44169 \tTrain Acc: 0.514 \tVal Acc: 0.600\n",
      "Epoch: 78 | Train Loss: 1.72441 \tVal Loss: 1.44728 \tTrain Acc: 0.534 \tVal Acc: 0.600\n",
      "Epoch: 79 | Train Loss: 1.73208 \tVal Loss: 1.46846 \tTrain Acc: 0.529 \tVal Acc: 0.603\n",
      "Epoch: 80 | Train Loss: 1.72131 \tVal Loss: 1.53412 \tTrain Acc: 0.535 \tVal Acc: 0.591\n",
      "Epoch: 81 | Train Loss: 1.69664 \tVal Loss: 1.54262 \tTrain Acc: 0.538 \tVal Acc: 0.580\n",
      "Epoch: 82 | Train Loss: 1.79062 \tVal Loss: 1.55268 \tTrain Acc: 0.521 \tVal Acc: 0.581\n",
      "Epoch: 83 | Train Loss: 1.73057 \tVal Loss: 1.46674 \tTrain Acc: 0.530 \tVal Acc: 0.598\n",
      "Epoch: 84 | Train Loss: 1.69600 \tVal Loss: 1.41039 \tTrain Acc: 0.539 \tVal Acc: 0.616\n",
      "Epoch: 85 | Train Loss: 1.64368 \tVal Loss: 1.41106 \tTrain Acc: 0.552 \tVal Acc: 0.613\n",
      "Epoch: 86 | Train Loss: 1.64672 \tVal Loss: 1.41840 \tTrain Acc: 0.549 \tVal Acc: 0.616\n",
      "Epoch: 87 | Train Loss: 1.64433 \tVal Loss: 1.39670 \tTrain Acc: 0.551 \tVal Acc: 0.617\n",
      "Epoch: 88 | Train Loss: 1.63587 \tVal Loss: 1.39407 \tTrain Acc: 0.555 \tVal Acc: 0.617\n",
      "Epoch: 89 | Train Loss: 1.61390 \tVal Loss: 1.49558 \tTrain Acc: 0.557 \tVal Acc: 0.602\n",
      "Epoch: 90 | Train Loss: 1.56693 \tVal Loss: 1.41205 \tTrain Acc: 0.567 \tVal Acc: 0.618\n",
      "Epoch: 91 | Train Loss: 1.57056 \tVal Loss: 1.36576 \tTrain Acc: 0.568 \tVal Acc: 0.632\n",
      "Epoch: 92 | Train Loss: 1.55388 \tVal Loss: 1.44740 \tTrain Acc: 0.573 \tVal Acc: 0.620\n",
      "Epoch: 93 | Train Loss: 1.55171 \tVal Loss: 1.41187 \tTrain Acc: 0.577 \tVal Acc: 0.624\n",
      "Epoch: 94 | Train Loss: 1.53726 \tVal Loss: 1.41733 \tTrain Acc: 0.578 \tVal Acc: 0.621\n",
      "Epoch: 95 | Train Loss: 1.50842 \tVal Loss: 1.34651 \tTrain Acc: 0.582 \tVal Acc: 0.638\n",
      "Epoch: 96 | Train Loss: 1.50209 \tVal Loss: 1.42853 \tTrain Acc: 0.586 \tVal Acc: 0.618\n",
      "Epoch: 97 | Train Loss: 1.61462 \tVal Loss: 1.42144 \tTrain Acc: 0.557 \tVal Acc: 0.619\n",
      "Epoch: 98 | Train Loss: 1.61931 \tVal Loss: 1.41699 \tTrain Acc: 0.553 \tVal Acc: 0.616\n",
      "Epoch: 99 | Train Loss: 1.61544 \tVal Loss: 1.42878 \tTrain Acc: 0.563 \tVal Acc: 0.621\n",
      "Epoch: 100 | Train Loss: 1.57528 \tVal Loss: 1.45417 \tTrain Acc: 0.570 \tVal Acc: 0.614\n",
      "Epoch: 101 | Train Loss: 1.52927 \tVal Loss: 1.33466 \tTrain Acc: 0.579 \tVal Acc: 0.640\n",
      "Epoch: 102 | Train Loss: 1.48761 \tVal Loss: 1.37927 \tTrain Acc: 0.592 \tVal Acc: 0.632\n",
      "Epoch: 103 | Train Loss: 1.46352 \tVal Loss: 1.40701 \tTrain Acc: 0.595 \tVal Acc: 0.627\n",
      "Epoch: 104 | Train Loss: 1.43147 \tVal Loss: 1.40646 \tTrain Acc: 0.604 \tVal Acc: 0.636\n",
      "Epoch: 105 | Train Loss: 1.41596 \tVal Loss: 1.34308 \tTrain Acc: 0.606 \tVal Acc: 0.645\n",
      "Epoch: 106 | Train Loss: 1.40534 \tVal Loss: 1.35800 \tTrain Acc: 0.610 \tVal Acc: 0.636\n",
      "Epoch: 107 | Train Loss: 1.40706 \tVal Loss: 1.40450 \tTrain Acc: 0.609 \tVal Acc: 0.631\n",
      "Epoch: 108 | Train Loss: 1.39988 \tVal Loss: 1.35753 \tTrain Acc: 0.614 \tVal Acc: 0.642\n",
      "Epoch: 109 | Train Loss: 1.39532 \tVal Loss: 1.34669 \tTrain Acc: 0.613 \tVal Acc: 0.647\n",
      "Epoch: 110 | Train Loss: 1.36704 \tVal Loss: 1.36528 \tTrain Acc: 0.620 \tVal Acc: 0.647\n",
      "Epoch: 111 | Train Loss: 1.35058 \tVal Loss: 1.41434 \tTrain Acc: 0.623 \tVal Acc: 0.641\n",
      "Epoch: 112 | Train Loss: 1.35888 \tVal Loss: 1.38862 \tTrain Acc: 0.625 \tVal Acc: 0.650\n",
      "Epoch: 113 | Train Loss: 1.33414 \tVal Loss: 1.36305 \tTrain Acc: 0.630 \tVal Acc: 0.650\n",
      "Epoch: 114 | Train Loss: 1.31337 \tVal Loss: 1.35764 \tTrain Acc: 0.634 \tVal Acc: 0.656\n",
      "Epoch: 115 | Train Loss: 1.30322 \tVal Loss: 1.38486 \tTrain Acc: 0.632 \tVal Acc: 0.648\n",
      "Epoch: 116 | Train Loss: 1.29688 \tVal Loss: 1.35235 \tTrain Acc: 0.640 \tVal Acc: 0.651\n",
      "Epoch: 117 | Train Loss: 1.27925 \tVal Loss: 1.36310 \tTrain Acc: 0.641 \tVal Acc: 0.654\n",
      "Epoch: 118 | Train Loss: 1.29418 \tVal Loss: 1.39556 \tTrain Acc: 0.643 \tVal Acc: 0.651\n",
      "Epoch: 119 | Train Loss: 1.26817 \tVal Loss: 1.37126 \tTrain Acc: 0.647 \tVal Acc: 0.653\n",
      "Epoch: 120 | Train Loss: 1.26336 \tVal Loss: 1.44248 \tTrain Acc: 0.644 \tVal Acc: 0.645\n",
      "Epoch: 121 | Train Loss: 1.28148 \tVal Loss: 1.38849 \tTrain Acc: 0.640 \tVal Acc: 0.656\n",
      "Epoch: 122 | Train Loss: 1.23847 \tVal Loss: 1.37424 \tTrain Acc: 0.651 \tVal Acc: 0.657\n",
      "Epoch: 123 | Train Loss: 1.24238 \tVal Loss: 1.36319 \tTrain Acc: 0.653 \tVal Acc: 0.656\n",
      "Epoch: 124 | Train Loss: 1.19800 \tVal Loss: 1.36764 \tTrain Acc: 0.662 \tVal Acc: 0.654\n"
     ]
    },
    {
     "ename": "KeyboardInterrupt",
     "evalue": "",
     "output_type": "error",
     "traceback": [
      "\u001b[0;31m---------------------------------------------------------------------------\u001b[0m",
      "\u001b[0;31mKeyboardInterrupt\u001b[0m                         Traceback (most recent call last)",
      "\u001b[1;32mc:\\Users\\kenne\\Documents\\GitHub\\CIFAR100\\cifar_100.ipynb Cell 109\u001b[0m in \u001b[0;36m<cell line: 1>\u001b[0;34m()\u001b[0m\n\u001b[1;32m      <a href='vscode-notebook-cell:/c%3A/Users/kenne/Documents/GitHub/CIFAR100/cifar_100.ipynb#Y216sZmlsZQ%3D%3D?line=0'>1</a>\u001b[0m \u001b[39mif\u001b[39;00m \u001b[39mnot\u001b[39;00m MODEL_DEBUG \u001b[39mor\u001b[39;00m \u001b[39mTrue\u001b[39;00m:\n\u001b[0;32m----> <a href='vscode-notebook-cell:/c%3A/Users/kenne/Documents/GitHub/CIFAR100/cifar_100.ipynb#Y216sZmlsZQ%3D%3D?line=1'>2</a>\u001b[0m \ttrainer\u001b[39m.\u001b[39;49mtrain_model(\n\u001b[1;32m      <a href='vscode-notebook-cell:/c%3A/Users/kenne/Documents/GitHub/CIFAR100/cifar_100.ipynb#Y216sZmlsZQ%3D%3D?line=2'>3</a>\u001b[0m \t\t\u001b[39m'\u001b[39;49m\u001b[39mAutoAugment + ResNet50\u001b[39;49m\u001b[39m'\u001b[39;49m, ResNet50, \u001b[39m# model\u001b[39;49;00m\n\u001b[1;32m      <a href='vscode-notebook-cell:/c%3A/Users/kenne/Documents/GitHub/CIFAR100/cifar_100.ipynb#Y216sZmlsZQ%3D%3D?line=3'>4</a>\u001b[0m \t\toptim\u001b[39m.\u001b[39;49mAdamW, {\u001b[39m'\u001b[39;49m\u001b[39mlr\u001b[39;49m\u001b[39m'\u001b[39;49m: \u001b[39m1e-3\u001b[39;49m \u001b[39m*\u001b[39;49m (GPU_COUNT \u001b[39m*\u001b[39;49m\u001b[39m*\u001b[39;49m \u001b[39m0.5\u001b[39;49m), \u001b[39m'\u001b[39;49m\u001b[39mweight_decay\u001b[39;49m\u001b[39m'\u001b[39;49m: \u001b[39m1e-5\u001b[39;49m}, \u001b[39m# optimizer\u001b[39;49;00m\n\u001b[1;32m      <a href='vscode-notebook-cell:/c%3A/Users/kenne/Documents/GitHub/CIFAR100/cifar_100.ipynb#Y216sZmlsZQ%3D%3D?line=4'>5</a>\u001b[0m \t\tauto_train_data, \u001b[39m# data\u001b[39;49;00m\n\u001b[1;32m      <a href='vscode-notebook-cell:/c%3A/Users/kenne/Documents/GitHub/CIFAR100/cifar_100.ipynb#Y216sZmlsZQ%3D%3D?line=5'>6</a>\u001b[0m \t\tscheduler_pass \u001b[39m=\u001b[39;49m torch\u001b[39m.\u001b[39;49moptim\u001b[39m.\u001b[39;49mlr_scheduler\u001b[39m.\u001b[39;49mStepLR,\n\u001b[1;32m      <a href='vscode-notebook-cell:/c%3A/Users/kenne/Documents/GitHub/CIFAR100/cifar_100.ipynb#Y216sZmlsZQ%3D%3D?line=6'>7</a>\u001b[0m \t\tscheduler_args \u001b[39m=\u001b[39;49m {\u001b[39m'\u001b[39;49m\u001b[39mstep_size\u001b[39;49m\u001b[39m'\u001b[39;49m: \u001b[39mint\u001b[39;49m(\u001b[39m2.4\u001b[39;49m \u001b[39m*\u001b[39;49m batch_num), \u001b[39m'\u001b[39;49m\u001b[39mgamma\u001b[39;49m\u001b[39m'\u001b[39;49m: \u001b[39m0.97\u001b[39;49m},\n\u001b[1;32m      <a href='vscode-notebook-cell:/c%3A/Users/kenne/Documents/GitHub/CIFAR100/cifar_100.ipynb#Y216sZmlsZQ%3D%3D?line=7'>8</a>\u001b[0m \t\tearly_stopping \u001b[39m=\u001b[39;49m CustomEarlyStopping(patience \u001b[39m=\u001b[39;49m \u001b[39m10\u001b[39;49m),\n\u001b[1;32m      <a href='vscode-notebook-cell:/c%3A/Users/kenne/Documents/GitHub/CIFAR100/cifar_100.ipynb#Y216sZmlsZQ%3D%3D?line=8'>9</a>\u001b[0m \t\tverbose\u001b[39m=\u001b[39;49m\u001b[39mTrue\u001b[39;49;00m\n\u001b[1;32m     <a href='vscode-notebook-cell:/c%3A/Users/kenne/Documents/GitHub/CIFAR100/cifar_100.ipynb#Y216sZmlsZQ%3D%3D?line=9'>10</a>\u001b[0m \t)\n\u001b[1;32m     <a href='vscode-notebook-cell:/c%3A/Users/kenne/Documents/GitHub/CIFAR100/cifar_100.ipynb#Y216sZmlsZQ%3D%3D?line=10'>11</a>\u001b[0m \ttrainer\u001b[39m.\u001b[39marchive(\u001b[39m'\u001b[39m\u001b[39mAutoAugment + ResNet50\u001b[39m\u001b[39m'\u001b[39m)\n\u001b[1;32m     <a href='vscode-notebook-cell:/c%3A/Users/kenne/Documents/GitHub/CIFAR100/cifar_100.ipynb#Y216sZmlsZQ%3D%3D?line=11'>12</a>\u001b[0m \tdisplay(trainer\u001b[39m.\u001b[39mhistory)\n",
      "\u001b[1;32mc:\\Users\\kenne\\Documents\\GitHub\\CIFAR100\\cifar_100.ipynb Cell 109\u001b[0m in \u001b[0;36mTrainer.train_model\u001b[0;34m(self, name, model_pass, optimizer_pass, optimizer_args, train_data, model_args, scheduler_pass, scheduler_args, batch_size, early_stopping, epochs, verbose, val_data, save_model, augment, return_model)\u001b[0m\n\u001b[1;32m    <a href='vscode-notebook-cell:/c%3A/Users/kenne/Documents/GitHub/CIFAR100/cifar_100.ipynb#Y216sZmlsZQ%3D%3D?line=131'>132</a>\u001b[0m inputs \u001b[39m=\u001b[39m inputs\u001b[39m.\u001b[39mto(device)\n\u001b[1;32m    <a href='vscode-notebook-cell:/c%3A/Users/kenne/Documents/GitHub/CIFAR100/cifar_100.ipynb#Y216sZmlsZQ%3D%3D?line=132'>133</a>\u001b[0m labels \u001b[39m=\u001b[39m labels\u001b[39m.\u001b[39mto(device)\n\u001b[0;32m--> <a href='vscode-notebook-cell:/c%3A/Users/kenne/Documents/GitHub/CIFAR100/cifar_100.ipynb#Y216sZmlsZQ%3D%3D?line=134'>135</a>\u001b[0m outputs \u001b[39m=\u001b[39m model(inputs)\n\u001b[1;32m    <a href='vscode-notebook-cell:/c%3A/Users/kenne/Documents/GitHub/CIFAR100/cifar_100.ipynb#Y216sZmlsZQ%3D%3D?line=135'>136</a>\u001b[0m loss \u001b[39m=\u001b[39m criterion(outputs, labels)\n\u001b[1;32m    <a href='vscode-notebook-cell:/c%3A/Users/kenne/Documents/GitHub/CIFAR100/cifar_100.ipynb#Y216sZmlsZQ%3D%3D?line=137'>138</a>\u001b[0m val_loss \u001b[39m+\u001b[39m\u001b[39m=\u001b[39m loss\u001b[39m.\u001b[39mitem()\n",
      "File \u001b[0;32m/opt/conda/lib/python3.9/site-packages/torch/nn/modules/module.py:1190\u001b[0m, in \u001b[0;36mModule._call_impl\u001b[0;34m(self, *input, **kwargs)\u001b[0m\n\u001b[1;32m   1186\u001b[0m \u001b[39m# If we don't have any hooks, we want to skip the rest of the logic in\u001b[39;00m\n\u001b[1;32m   1187\u001b[0m \u001b[39m# this function, and just call forward.\u001b[39;00m\n\u001b[1;32m   1188\u001b[0m \u001b[39mif\u001b[39;00m \u001b[39mnot\u001b[39;00m (\u001b[39mself\u001b[39m\u001b[39m.\u001b[39m_backward_hooks \u001b[39mor\u001b[39;00m \u001b[39mself\u001b[39m\u001b[39m.\u001b[39m_forward_hooks \u001b[39mor\u001b[39;00m \u001b[39mself\u001b[39m\u001b[39m.\u001b[39m_forward_pre_hooks \u001b[39mor\u001b[39;00m _global_backward_hooks\n\u001b[1;32m   1189\u001b[0m         \u001b[39mor\u001b[39;00m _global_forward_hooks \u001b[39mor\u001b[39;00m _global_forward_pre_hooks):\n\u001b[0;32m-> 1190\u001b[0m     \u001b[39mreturn\u001b[39;00m forward_call(\u001b[39m*\u001b[39;49m\u001b[39minput\u001b[39;49m, \u001b[39m*\u001b[39;49m\u001b[39m*\u001b[39;49mkwargs)\n\u001b[1;32m   1191\u001b[0m \u001b[39m# Do not call functions when jit is used\u001b[39;00m\n\u001b[1;32m   1192\u001b[0m full_backward_hooks, non_full_backward_hooks \u001b[39m=\u001b[39m [], []\n",
      "File \u001b[0;32m/opt/conda/lib/python3.9/site-packages/torch/nn/parallel/data_parallel.py:170\u001b[0m, in \u001b[0;36mDataParallel.forward\u001b[0;34m(self, *inputs, **kwargs)\u001b[0m\n\u001b[1;32m    168\u001b[0m \u001b[39mif\u001b[39;00m \u001b[39mlen\u001b[39m(\u001b[39mself\u001b[39m\u001b[39m.\u001b[39mdevice_ids) \u001b[39m==\u001b[39m \u001b[39m1\u001b[39m:\n\u001b[1;32m    169\u001b[0m     \u001b[39mreturn\u001b[39;00m \u001b[39mself\u001b[39m\u001b[39m.\u001b[39mmodule(\u001b[39m*\u001b[39minputs[\u001b[39m0\u001b[39m], \u001b[39m*\u001b[39m\u001b[39m*\u001b[39mkwargs[\u001b[39m0\u001b[39m])\n\u001b[0;32m--> 170\u001b[0m replicas \u001b[39m=\u001b[39m \u001b[39mself\u001b[39;49m\u001b[39m.\u001b[39;49mreplicate(\u001b[39mself\u001b[39;49m\u001b[39m.\u001b[39;49mmodule, \u001b[39mself\u001b[39;49m\u001b[39m.\u001b[39;49mdevice_ids[:\u001b[39mlen\u001b[39;49m(inputs)])\n\u001b[1;32m    171\u001b[0m outputs \u001b[39m=\u001b[39m \u001b[39mself\u001b[39m\u001b[39m.\u001b[39mparallel_apply(replicas, inputs, kwargs)\n\u001b[1;32m    172\u001b[0m \u001b[39mreturn\u001b[39;00m \u001b[39mself\u001b[39m\u001b[39m.\u001b[39mgather(outputs, \u001b[39mself\u001b[39m\u001b[39m.\u001b[39moutput_device)\n",
      "File \u001b[0;32m/opt/conda/lib/python3.9/site-packages/torch/nn/parallel/data_parallel.py:175\u001b[0m, in \u001b[0;36mDataParallel.replicate\u001b[0;34m(self, module, device_ids)\u001b[0m\n\u001b[1;32m    174\u001b[0m \u001b[39mdef\u001b[39;00m \u001b[39mreplicate\u001b[39m(\u001b[39mself\u001b[39m, module, device_ids):\n\u001b[0;32m--> 175\u001b[0m     \u001b[39mreturn\u001b[39;00m replicate(module, device_ids, \u001b[39mnot\u001b[39;49;00m torch\u001b[39m.\u001b[39;49mis_grad_enabled())\n",
      "File \u001b[0;32m/opt/conda/lib/python3.9/site-packages/torch/nn/parallel/replicate.py:93\u001b[0m, in \u001b[0;36mreplicate\u001b[0;34m(network, devices, detach)\u001b[0m\n\u001b[1;32m     90\u001b[0m param_indices \u001b[39m=\u001b[39m {param: idx \u001b[39mfor\u001b[39;00m idx, param \u001b[39min\u001b[39;00m \u001b[39menumerate\u001b[39m(params)}\n\u001b[1;32m     91\u001b[0m param_copies \u001b[39m=\u001b[39m _broadcast_coalesced_reshape(params, devices, detach)\n\u001b[0;32m---> 93\u001b[0m buffers \u001b[39m=\u001b[39m \u001b[39mlist\u001b[39;49m(network\u001b[39m.\u001b[39;49mbuffers())\n\u001b[1;32m     94\u001b[0m buffers_rg \u001b[39m=\u001b[39m []\n\u001b[1;32m     95\u001b[0m buffers_not_rg \u001b[39m=\u001b[39m []\n",
      "File \u001b[0;32m/opt/conda/lib/python3.9/site-packages/torch/nn/modules/module.py:1756\u001b[0m, in \u001b[0;36mModule.buffers\u001b[0;34m(self, recurse)\u001b[0m\n\u001b[1;32m   1736\u001b[0m \u001b[39mdef\u001b[39;00m \u001b[39mbuffers\u001b[39m(\u001b[39mself\u001b[39m, recurse: \u001b[39mbool\u001b[39m \u001b[39m=\u001b[39m \u001b[39mTrue\u001b[39;00m) \u001b[39m-\u001b[39m\u001b[39m>\u001b[39m Iterator[Tensor]:\n\u001b[1;32m   1737\u001b[0m     \u001b[39mr\u001b[39m\u001b[39m\"\"\"Returns an iterator over module buffers.\u001b[39;00m\n\u001b[1;32m   1738\u001b[0m \n\u001b[1;32m   1739\u001b[0m \u001b[39m    Args:\u001b[39;00m\n\u001b[0;32m   (...)\u001b[0m\n\u001b[1;32m   1754\u001b[0m \n\u001b[1;32m   1755\u001b[0m \u001b[39m    \"\"\"\u001b[39;00m\n\u001b[0;32m-> 1756\u001b[0m     \u001b[39mfor\u001b[39;00m _, buf \u001b[39min\u001b[39;00m \u001b[39mself\u001b[39m\u001b[39m.\u001b[39mnamed_buffers(recurse\u001b[39m=\u001b[39mrecurse):\n\u001b[1;32m   1757\u001b[0m         \u001b[39myield\u001b[39;00m buf\n",
      "File \u001b[0;32m/opt/conda/lib/python3.9/site-packages/torch/nn/modules/module.py:1783\u001b[0m, in \u001b[0;36mModule.named_buffers\u001b[0;34m(self, prefix, recurse)\u001b[0m\n\u001b[1;32m   1760\u001b[0m \u001b[39mr\u001b[39m\u001b[39m\"\"\"Returns an iterator over module buffers, yielding both the\u001b[39;00m\n\u001b[1;32m   1761\u001b[0m \u001b[39mname of the buffer as well as the buffer itself.\u001b[39;00m\n\u001b[1;32m   1762\u001b[0m \n\u001b[0;32m   (...)\u001b[0m\n\u001b[1;32m   1778\u001b[0m \n\u001b[1;32m   1779\u001b[0m \u001b[39m\"\"\"\u001b[39;00m\n\u001b[1;32m   1780\u001b[0m gen \u001b[39m=\u001b[39m \u001b[39mself\u001b[39m\u001b[39m.\u001b[39m_named_members(\n\u001b[1;32m   1781\u001b[0m     \u001b[39mlambda\u001b[39;00m module: module\u001b[39m.\u001b[39m_buffers\u001b[39m.\u001b[39mitems(),\n\u001b[1;32m   1782\u001b[0m     prefix\u001b[39m=\u001b[39mprefix, recurse\u001b[39m=\u001b[39mrecurse)\n\u001b[0;32m-> 1783\u001b[0m \u001b[39mfor\u001b[39;00m elem \u001b[39min\u001b[39;00m gen:\n\u001b[1;32m   1784\u001b[0m     \u001b[39myield\u001b[39;00m elem\n",
      "File \u001b[0;32m/opt/conda/lib/python3.9/site-packages/torch/nn/modules/module.py:1675\u001b[0m, in \u001b[0;36mModule._named_members\u001b[0;34m(self, get_members_fn, prefix, recurse)\u001b[0m\n\u001b[1;32m   1673\u001b[0m memo \u001b[39m=\u001b[39m \u001b[39mset\u001b[39m()\n\u001b[1;32m   1674\u001b[0m modules \u001b[39m=\u001b[39m \u001b[39mself\u001b[39m\u001b[39m.\u001b[39mnamed_modules(prefix\u001b[39m=\u001b[39mprefix) \u001b[39mif\u001b[39;00m recurse \u001b[39melse\u001b[39;00m [(prefix, \u001b[39mself\u001b[39m)]\n\u001b[0;32m-> 1675\u001b[0m \u001b[39mfor\u001b[39;00m module_prefix, module \u001b[39min\u001b[39;00m modules:\n\u001b[1;32m   1676\u001b[0m     members \u001b[39m=\u001b[39m get_members_fn(module)\n\u001b[1;32m   1677\u001b[0m     \u001b[39mfor\u001b[39;00m k, v \u001b[39min\u001b[39;00m members:\n",
      "File \u001b[0;32m/opt/conda/lib/python3.9/site-packages/torch/nn/modules/module.py:1885\u001b[0m, in \u001b[0;36mModule.named_modules\u001b[0;34m(self, memo, prefix, remove_duplicate)\u001b[0m\n\u001b[1;32m   1883\u001b[0m     \u001b[39mcontinue\u001b[39;00m\n\u001b[1;32m   1884\u001b[0m submodule_prefix \u001b[39m=\u001b[39m prefix \u001b[39m+\u001b[39m (\u001b[39m'\u001b[39m\u001b[39m.\u001b[39m\u001b[39m'\u001b[39m \u001b[39mif\u001b[39;00m prefix \u001b[39melse\u001b[39;00m \u001b[39m'\u001b[39m\u001b[39m'\u001b[39m) \u001b[39m+\u001b[39m name\n\u001b[0;32m-> 1885\u001b[0m \u001b[39mfor\u001b[39;00m m \u001b[39min\u001b[39;00m module\u001b[39m.\u001b[39mnamed_modules(memo, submodule_prefix, remove_duplicate):\n\u001b[1;32m   1886\u001b[0m     \u001b[39myield\u001b[39;00m m\n",
      "File \u001b[0;32m/opt/conda/lib/python3.9/site-packages/torch/nn/modules/module.py:1885\u001b[0m, in \u001b[0;36mModule.named_modules\u001b[0;34m(self, memo, prefix, remove_duplicate)\u001b[0m\n\u001b[1;32m   1883\u001b[0m     \u001b[39mcontinue\u001b[39;00m\n\u001b[1;32m   1884\u001b[0m submodule_prefix \u001b[39m=\u001b[39m prefix \u001b[39m+\u001b[39m (\u001b[39m'\u001b[39m\u001b[39m.\u001b[39m\u001b[39m'\u001b[39m \u001b[39mif\u001b[39;00m prefix \u001b[39melse\u001b[39;00m \u001b[39m'\u001b[39m\u001b[39m'\u001b[39m) \u001b[39m+\u001b[39m name\n\u001b[0;32m-> 1885\u001b[0m \u001b[39mfor\u001b[39;00m m \u001b[39min\u001b[39;00m module\u001b[39m.\u001b[39mnamed_modules(memo, submodule_prefix, remove_duplicate):\n\u001b[1;32m   1886\u001b[0m     \u001b[39myield\u001b[39;00m m\n",
      "    \u001b[0;31m[... skipping similar frames: Module.named_modules at line 1885 (1 times)]\u001b[0m\n",
      "File \u001b[0;32m/opt/conda/lib/python3.9/site-packages/torch/nn/modules/module.py:1885\u001b[0m, in \u001b[0;36mModule.named_modules\u001b[0;34m(self, memo, prefix, remove_duplicate)\u001b[0m\n\u001b[1;32m   1883\u001b[0m     \u001b[39mcontinue\u001b[39;00m\n\u001b[1;32m   1884\u001b[0m submodule_prefix \u001b[39m=\u001b[39m prefix \u001b[39m+\u001b[39m (\u001b[39m'\u001b[39m\u001b[39m.\u001b[39m\u001b[39m'\u001b[39m \u001b[39mif\u001b[39;00m prefix \u001b[39melse\u001b[39;00m \u001b[39m'\u001b[39m\u001b[39m'\u001b[39m) \u001b[39m+\u001b[39m name\n\u001b[0;32m-> 1885\u001b[0m \u001b[39mfor\u001b[39;00m m \u001b[39min\u001b[39;00m module\u001b[39m.\u001b[39mnamed_modules(memo, submodule_prefix, remove_duplicate):\n\u001b[1;32m   1886\u001b[0m     \u001b[39myield\u001b[39;00m m\n",
      "\u001b[0;31mKeyboardInterrupt\u001b[0m: "
     ]
    }
   ],
   "source": [
    "if not MODEL_DEBUG or True:\n",
    "\ttrainer.train_model(\n",
    "\t\t'AutoAugment + ResNet50', ResNet50, # model\n",
    "\t\toptim.AdamW, {'lr': 1e-3 * (GPU_COUNT ** 0.5), 'weight_decay': 1e-5}, # optimizer\n",
    "\t\tauto_train_data, # data\n",
    "\t\tscheduler_pass = torch.optim.lr_scheduler.StepLR,\n",
    "\t\tscheduler_args = {'step_size': int(2.4 * batch_num), 'gamma': 0.97},\n",
    "\t\tearly_stopping = CustomEarlyStopping(patience = 10),\n",
    "\t\tverbose=True\n",
    "\t)\n",
    "\ttrainer.archive('AutoAugment + ResNet50')\n",
    "\tdisplay(trainer.history)"
   ]
  },
  {
   "cell_type": "markdown",
   "metadata": {},
   "source": [
    "#### EfficientNet V2-M\n",
    "ResNets are inefficient. EfficientNet uses an MBConv block, inspired by the residual block. This architecture is not only efficient but performs better than traditional previously novel convolutional neural networks."
   ]
  },
  {
   "cell_type": "code",
   "execution_count": null,
   "metadata": {},
   "outputs": [],
   "source": [
    "# Code adapted from https://github.com/d-li14/efficientnetv2.pytorch/blob/main/effnetv2.py\n",
    "\n",
    "import torch\n",
    "import torch.nn as nn\n",
    "import math\n",
    "\n",
    "def _make_divisible(v, divisor, min_value=None):\n",
    "    \"\"\"\n",
    "    This function is taken from the original tf repo.\n",
    "    It ensures that all layers have a channel number that is divisible by 8\n",
    "    It can be seen here:\n",
    "    https://github.com/tensorflow/models/blob/master/research/slim/nets/mobilenet/mobilenet.py\n",
    "    :param v:\n",
    "    :param divisor:\n",
    "    :param min_value:\n",
    "    :return:\n",
    "    \"\"\"\n",
    "    if min_value is None:\n",
    "        min_value = divisor\n",
    "    new_v = max(min_value, int(v + divisor / 2) // divisor * divisor)\n",
    "    # Make sure that round down does not go down by more than 10%.\n",
    "    if new_v < 0.9 * v:\n",
    "        new_v += divisor\n",
    "    return new_v\n",
    "\n",
    "\n",
    "# SiLU (Swish) activation function\n",
    "if hasattr(nn, 'SiLU'):\n",
    "    SiLU = nn.SiLU\n",
    "else:\n",
    "    # For compatibility with old PyTorch versions\n",
    "    class SiLU(nn.Module):\n",
    "        def forward(self, x):\n",
    "            return x * torch.sigmoid(x)\n",
    "\n",
    " \n",
    "class SELayer(nn.Module):\n",
    "    def __init__(self, inp, oup, reduction=4):\n",
    "        super(SELayer, self).__init__()\n",
    "        self.avg_pool = nn.AdaptiveAvgPool2d(1)\n",
    "        self.fc = nn.Sequential(\n",
    "                nn.Linear(oup, _make_divisible(inp // reduction, 8)),\n",
    "                SiLU(),\n",
    "                nn.Linear(_make_divisible(inp // reduction, 8), oup),\n",
    "                nn.Sigmoid()\n",
    "        )\n",
    "\n",
    "    def forward(self, x):\n",
    "        b, c, _, _ = x.size()\n",
    "        y = self.avg_pool(x).view(b, c)\n",
    "        y = self.fc(y).view(b, c, 1, 1)\n",
    "        return x * y\n",
    "\n",
    "\n",
    "def conv_3x3_bn(inp, oup, stride):\n",
    "    return nn.Sequential(\n",
    "        nn.Conv2d(inp, oup, 3, stride, 1, bias=False),\n",
    "        nn.BatchNorm2d(oup),\n",
    "        SiLU()\n",
    "    )\n",
    "\n",
    "\n",
    "def conv_1x1_bn(inp, oup):\n",
    "    return nn.Sequential(\n",
    "        nn.Conv2d(inp, oup, 1, 1, 0, bias=False),\n",
    "        nn.BatchNorm2d(oup),\n",
    "        SiLU()\n",
    "    )\n",
    "\n",
    "\n",
    "class MBConv(nn.Module):\n",
    "    def __init__(self, inp, oup, stride, expand_ratio, use_se):\n",
    "        super(MBConv, self).__init__()\n",
    "        assert stride in [1, 2]\n",
    "\n",
    "        hidden_dim = round(inp * expand_ratio)\n",
    "        self.identity = stride == 1 and inp == oup\n",
    "        if use_se:\n",
    "            self.conv = nn.Sequential(\n",
    "                # pw\n",
    "                nn.Conv2d(inp, hidden_dim, 1, 1, 0, bias=False),\n",
    "                nn.BatchNorm2d(hidden_dim),\n",
    "                SiLU(),\n",
    "                # dw\n",
    "                nn.Conv2d(hidden_dim, hidden_dim, 3, stride, 1, groups=hidden_dim, bias=False),\n",
    "                nn.BatchNorm2d(hidden_dim),\n",
    "                SiLU(),\n",
    "                SELayer(inp, hidden_dim),\n",
    "                # pw-linear\n",
    "                nn.Conv2d(hidden_dim, oup, 1, 1, 0, bias=False),\n",
    "                nn.BatchNorm2d(oup),\n",
    "            )\n",
    "        else:\n",
    "            self.conv = nn.Sequential(\n",
    "                # fused\n",
    "                nn.Conv2d(inp, hidden_dim, 3, stride, 1, bias=False),\n",
    "                nn.BatchNorm2d(hidden_dim),\n",
    "                SiLU(),\n",
    "                # pw-linear\n",
    "                nn.Conv2d(hidden_dim, oup, 1, 1, 0, bias=False),\n",
    "                nn.BatchNorm2d(oup),\n",
    "            )\n",
    "\n",
    "\n",
    "    def forward(self, x):\n",
    "        if self.identity:\n",
    "            return x + self.conv(x)\n",
    "        else:\n",
    "            return self.conv(x)\n",
    "\n",
    "\n",
    "class EffNetV2(nn.Module):\n",
    "    def __init__(self, num_classes=100, width_mult=1.):\n",
    "        super(EffNetV2, self).__init__()\n",
    "        cfgs = [\n",
    "            # t, c, n, s, SE\n",
    "            [1,  24,  2, 1, 0],\n",
    "            [4,  48,  4, 2, 0],\n",
    "            [4,  64,  4, 2, 0],\n",
    "            [4, 128,  6, 2, 1],\n",
    "            [6, 160,  9, 1, 1],\n",
    "            [6, 256, 15, 2, 1],\n",
    "        ]\n",
    "        self.cfgs = cfgs\n",
    "\n",
    "        # building first layer\n",
    "        input_channel = _make_divisible(24 * width_mult, 8)\n",
    "        layers = [conv_3x3_bn(3, input_channel, 2)]\n",
    "        # building inverted residual blocks\n",
    "        block = MBConv\n",
    "        for t, c, n, s, use_se in self.cfgs:\n",
    "            output_channel = _make_divisible(c * width_mult, 8)\n",
    "            for i in range(n):\n",
    "                layers.append(block(input_channel, output_channel, s if i == 0 else 1, t, use_se))\n",
    "                input_channel = output_channel\n",
    "        self.features = nn.Sequential(*layers)\n",
    "        # building last several layers\n",
    "        output_channel = _make_divisible(1792 * width_mult, 8) if width_mult > 1.0 else 1792\n",
    "        self.conv = conv_1x1_bn(input_channel, output_channel)\n",
    "        self.avgpool = nn.AdaptiveAvgPool2d((1, 1))\n",
    "        self.classifier = nn.Linear(output_channel, num_classes)\n",
    "\n",
    "        self._initialize_weights()\n",
    "\n",
    "    def forward(self, x):\n",
    "        x = self.features(x)\n",
    "        x = self.conv(x)\n",
    "        x = self.avgpool(x)\n",
    "        x = x.view(x.size(0), -1)\n",
    "        x = self.classifier(x)\n",
    "        return x\n",
    "\n",
    "    def _initialize_weights(self):\n",
    "        for m in self.modules():\n",
    "            if isinstance(m, nn.Conv2d):\n",
    "                n = m.kernel_size[0] * m.kernel_size[1] * m.out_channels\n",
    "                m.weight.data.normal_(0, math.sqrt(2. / n))\n",
    "                if m.bias is not None:\n",
    "                    m.bias.data.zero_()\n",
    "            elif isinstance(m, nn.BatchNorm2d):\n",
    "                m.weight.data.fill_(1)\n",
    "                m.bias.data.zero_()\n",
    "            elif isinstance(m, nn.Linear):\n",
    "                m.weight.data.normal_(0, 0.001)\n",
    "                m.bias.data.zero_()"
   ]
  },
  {
   "cell_type": "code",
   "execution_count": null,
   "metadata": {},
   "outputs": [],
   "source": [
    "if not MODEL_DEBUG:\n",
    "\ttrainer.train_model(\n",
    "\t\t'AutoAugment + EfficientNetV2', EffNetV2, # model\n",
    "\t\toptim.AdamW, {'lr': 1e-3 * (GPU_COUNT ** 0.5), 'weight_decay': 1e-5}, # optimizer\n",
    "\t\tbase_train_data, # data\n",
    "\t\tscheduler_pass = torch.optim.lr_scheduler.StepLR,\n",
    "\t\tscheduler_args = {'step_size': int(2.4 * batch_num), 'gamma': 0.97},\n",
    "\t\tearly_stopping = CustomEarlyStopping(patience = 2),\n",
    "\t\tverbose=True\n",
    "\t)\n",
    "\ttrainer.archive('AutoAugment + EfficientNetV2')\n",
    "\tdisplay(trainer.history)\n"
   ]
  },
  {
   "cell_type": "markdown",
   "metadata": {},
   "source": [
    "#### AutoAugment + Convolutional Vision Transformers\n",
    "Vision Transformers have taken over SOTA results, beating previous benchmarks. However, there is a key problem with traditional ViT, in that <strong>the token embedding layer from the image to embedding vectors is linear.</strong> To account for positional information, ViT <strong>adds on positional encodings</strong> to the linear embeddings, before passing it on to projection and then to the Multi-Head Self Attention (MHSA) mechanism. (Dosovitskiy et al., 2020)\n",
    "\n",
    "Convolutional Vision Transformers (CvT) proposes to <strong>use a convolutional layer for this embedding area, and uses depthwise separable convolutions for the projection layer.</strong> We note that the convolutional layer for embedding layer and projection layers <strong>are different</strong>. (Wu et al., 2021)\n",
    "\n",
    "The addition of convolution into the Transformer architecture allows for the benefits of convolution (shift, scale and distortion invariance) to be incorporated into every feature map (output from Convolution Transformer Blocks), and also controls for the sizes of feature maps after each blocks output. (Wu et al., 2021)"
   ]
  },
  {
   "cell_type": "code",
   "execution_count": null,
   "metadata": {},
   "outputs": [],
   "source": [
    "class SepConv2d(torch.nn.Module):\n",
    "    def __init__(self,\n",
    "                 in_channels,\n",
    "                 out_channels,\n",
    "                 kernel_size,\n",
    "                 stride=1,\n",
    "                 padding=0,\n",
    "                 dilation=1,):\n",
    "        super(SepConv2d, self).__init__()\n",
    "        self.depthwise = torch.nn.Conv2d(in_channels,\n",
    "                                         in_channels,\n",
    "                                         kernel_size=kernel_size,\n",
    "                                         stride=stride,\n",
    "                                         padding=padding,\n",
    "                                         dilation=dilation,\n",
    "                                         groups=in_channels)\n",
    "        self.bn = torch.nn.BatchNorm2d(in_channels)\n",
    "        self.pointwise = torch.nn.Conv2d(in_channels, out_channels, kernel_size=1)\n",
    "\n",
    "    def forward(self, x):\n",
    "        x = self.depthwise(x)\n",
    "        x = self.bn(x)\n",
    "        x = self.pointwise(x)\n",
    "        return x\n",
    "\n",
    "class Residual(nn.Module):\n",
    "    def __init__(self, fn):\n",
    "        super().__init__()\n",
    "        self.fn = fn\n",
    "    def forward(self, x, **kwargs):\n",
    "        return self.fn(x, **kwargs) + x\n",
    "\n",
    "class PreNorm(nn.Module):\n",
    "    def __init__(self, dim, fn):\n",
    "        super().__init__()\n",
    "        self.norm = nn.LayerNorm(dim)\n",
    "        self.fn = fn\n",
    "    def forward(self, x, **kwargs):\n",
    "        return self.fn(self.norm(x), **kwargs)\n",
    "\n",
    "class FeedForward(nn.Module):\n",
    "    def __init__(self, dim, hidden_dim, dropout = 0.):\n",
    "        super().__init__()\n",
    "        self.net = nn.Sequential(\n",
    "            nn.Linear(dim, hidden_dim),\n",
    "            nn.GELU(),\n",
    "            nn.Dropout(dropout),\n",
    "            nn.Linear(hidden_dim, dim),\n",
    "            nn.Dropout(dropout)\n",
    "        )\n",
    "    def forward(self, x):\n",
    "        return self.net(x)\n",
    "\n",
    "class ConvAttention(nn.Module):\n",
    "    def __init__(self, dim, img_size, heads = 8, dim_head = 64, kernel_size=3, q_stride=1, k_stride=1, v_stride=1, dropout = 0.,\n",
    "                 last_stage=False):\n",
    "\n",
    "        super().__init__()\n",
    "        self.last_stage = last_stage\n",
    "        self.img_size = img_size\n",
    "        inner_dim = dim_head *  heads\n",
    "        project_out = not (heads == 1 and dim_head == dim)\n",
    "\n",
    "        self.heads = heads\n",
    "        self.scale = dim_head ** -0.5\n",
    "        pad = (kernel_size - q_stride)//2\n",
    "        self.to_q = SepConv2d(dim, inner_dim, kernel_size, q_stride, pad)\n",
    "        self.to_k = SepConv2d(dim, inner_dim, kernel_size, k_stride, pad)\n",
    "        self.to_v = SepConv2d(dim, inner_dim, kernel_size, v_stride, pad)\n",
    "\n",
    "        self.to_out = nn.Sequential(\n",
    "            nn.Linear(inner_dim, dim),\n",
    "            nn.Dropout(dropout)\n",
    "        ) if project_out else nn.Identity()\n",
    "\n",
    "    def forward(self, x):\n",
    "        b, n, _, h = *x.shape, self.heads\n",
    "        if self.last_stage:\n",
    "            cls_token = x[:, 0]\n",
    "            x = x[:, 1:]\n",
    "            cls_token = rearrange(cls_token.unsqueeze(1), 'b n (h d) -> b h n d', h = h)\n",
    "        x = rearrange(x, 'b (l w) n -> b n l w', l=self.img_size, w=self.img_size)\n",
    "        q = self.to_q(x)\n",
    "        q = rearrange(q, 'b (h d) l w -> b h (l w) d', h=h)\n",
    "\n",
    "        v = self.to_v(x)\n",
    "        v = rearrange(v, 'b (h d) l w -> b h (l w) d', h=h)\n",
    "\n",
    "        k = self.to_k(x)\n",
    "        k = rearrange(k, 'b (h d) l w -> b h (l w) d', h=h)\n",
    "\n",
    "        if self.last_stage:\n",
    "            q = torch.cat((cls_token, q), dim=2)\n",
    "            v = torch.cat((cls_token, v), dim=2)\n",
    "            k = torch.cat((cls_token, k), dim=2)\n",
    "\n",
    "\n",
    "        dots = einsum('b h i d, b h j d -> b h i j', q, k) * self.scale\n",
    "\n",
    "        attn = dots.softmax(dim=-1)\n",
    "\n",
    "        out = einsum('b h i j, b h j d -> b h i d', attn, v)\n",
    "        out = rearrange(out, 'b h n d -> b n (h d)')\n",
    "        out =  self.to_out(out)\n",
    "        return out\n",
    "\n",
    "class Transformer(nn.Module):\n",
    "    def __init__(self, dim, img_size, depth, heads, dim_head, mlp_dim, dropout=0., last_stage=False):\n",
    "        super().__init__()\n",
    "        self.layers = nn.ModuleList([])\n",
    "        for _ in range(depth):\n",
    "            self.layers.append(nn.ModuleList([\n",
    "                PreNorm(dim, ConvAttention(dim, img_size, heads=heads, dim_head=dim_head, dropout=dropout, last_stage=last_stage)),\n",
    "                PreNorm(dim, FeedForward(dim, mlp_dim, dropout=dropout))\n",
    "            ]))\n",
    "\n",
    "    def forward(self, x):\n",
    "        for attn, ff in self.layers:\n",
    "            x = attn(x) + x\n",
    "            x = ff(x) + x\n",
    "        return x\n",
    "\n",
    "\n",
    "\n",
    "\n",
    "class CvT(nn.Module):\n",
    "    def __init__(self, image_size = 32, in_channels = 3, num_classes = 100, dim=64, kernels=[7, 3, 3], strides=[4, 2, 2],\n",
    "                 heads=[1, 3, 6] , depth = [1, 2, 10], pool='cls', dropout=0.5, emb_dropout=0.3, scale_dim=4):\n",
    "        super().__init__()\n",
    "\n",
    "        assert pool in {'cls', 'mean'}, 'pool type must be either cls (cls token) or mean (mean pooling)'\n",
    "        self.pool = pool\n",
    "        self.dim = dim\n",
    "\n",
    "        ##### Stage 1 #######\n",
    "        self.stage1_conv_embed = nn.Sequential(\n",
    "            nn.Conv2d(in_channels, dim, kernels[0], strides[0], 2),\n",
    "            Rearrange('b c h w -> b (h w) c', h = image_size//4, w = image_size//4),\n",
    "            nn.LayerNorm(dim)\n",
    "        )\n",
    "        self.stage1_transformer = nn.Sequential(\n",
    "            Transformer(dim=dim, img_size=image_size//4,depth=depth[0], heads=heads[0], dim_head=self.dim,\n",
    "                                              mlp_dim=dim * scale_dim, dropout=dropout),\n",
    "            Rearrange('b (h w) c -> b c h w', h = image_size//4, w = image_size//4)\n",
    "        )\n",
    "\n",
    "        ##### Stage 2 #######\n",
    "        in_channels = dim\n",
    "        scale = heads[1]//heads[0]\n",
    "        dim = scale*dim\n",
    "        self.stage2_conv_embed = nn.Sequential(\n",
    "            nn.Conv2d(in_channels, dim, kernels[1], strides[1], 1),\n",
    "            Rearrange('b c h w -> b (h w) c', h = image_size//8, w = image_size//8),\n",
    "            nn.LayerNorm(dim)\n",
    "        )\n",
    "        self.stage2_transformer = nn.Sequential(\n",
    "            Transformer(dim=dim, img_size=image_size//8, depth=depth[1], heads=heads[1], dim_head=self.dim,\n",
    "                                              mlp_dim=dim * scale_dim, dropout=dropout),\n",
    "            Rearrange('b (h w) c -> b c h w', h = image_size//8, w = image_size//8)\n",
    "        )\n",
    "\n",
    "        ##### Stage 3 #######\n",
    "        in_channels = dim\n",
    "        scale = heads[2] // heads[1]\n",
    "        dim = scale * dim\n",
    "        self.stage3_conv_embed = nn.Sequential(\n",
    "            nn.Conv2d(in_channels, dim, kernels[2], strides[2], 1),\n",
    "            Rearrange('b c h w -> b (h w) c', h = image_size//16, w = image_size//16),\n",
    "            nn.LayerNorm(dim)\n",
    "        )\n",
    "        self.stage3_transformer = nn.Sequential(\n",
    "            Transformer(dim=dim, img_size=image_size//16, depth=depth[2], heads=heads[2], dim_head=self.dim,\n",
    "                                              mlp_dim=dim * scale_dim, dropout=dropout, last_stage=True),\n",
    "        )\n",
    "\n",
    "\n",
    "        self.cls_token = nn.Parameter(torch.randn(1, 1, dim))\n",
    "        self.dropout_large = nn.Dropout(emb_dropout)\n",
    "\n",
    "\n",
    "        self.mlp_head = nn.Sequential(\n",
    "            nn.LayerNorm(dim),\n",
    "            nn.Linear(dim, num_classes)\n",
    "        )\n",
    "\n",
    "    def forward(self, img):\n",
    "\n",
    "        xs = self.stage1_conv_embed(img)\n",
    "        xs = self.stage1_transformer(xs)\n",
    "\n",
    "        xs = self.stage2_conv_embed(xs)\n",
    "        xs = self.stage2_transformer(xs)\n",
    "\n",
    "        xs = self.stage3_conv_embed(xs)\n",
    "        b, n, _ = xs.shape\n",
    "        cls_tokens = repeat(self.cls_token, '() n d -> b n d', b=b)\n",
    "        xs = torch.cat((cls_tokens, xs), dim=1)\n",
    "        xs = self.stage3_transformer(xs)\n",
    "        xs = xs.mean(dim=1) if self.pool == 'mean' else xs[:, 0]\n",
    "\n",
    "        xs = self.mlp_head(xs)\n",
    "        return xs"
   ]
  },
  {
   "cell_type": "code",
   "execution_count": null,
   "metadata": {},
   "outputs": [
    {
     "name": "stderr",
     "output_type": "stream",
     "text": [
      "100%|██████████| 40/40 [00:22<00:00,  1.78it/s]\n",
      "100%|██████████| 40/40 [00:16<00:00,  2.41it/s]\n"
     ]
    },
    {
     "name": "stdout",
     "output_type": "stream",
     "text": [
      "Epoch: 1 | Train Loss: 4.61208 \tVal Loss: 4.61133 \tTrain Acc: 0.010 \tVal Acc: 0.010\n",
      "is the best loss!\n"
     ]
    },
    {
     "name": "stderr",
     "output_type": "stream",
     "text": [
      "100%|██████████| 40/40 [00:23<00:00,  1.70it/s]\n",
      "100%|██████████| 40/40 [00:16<00:00,  2.40it/s]\n"
     ]
    },
    {
     "name": "stdout",
     "output_type": "stream",
     "text": [
      "Epoch: 2 | Train Loss: 4.54497 \tVal Loss: 4.51950 \tTrain Acc: 0.018 \tVal Acc: 0.019\n",
      "is the best loss!\n"
     ]
    },
    {
     "name": "stderr",
     "output_type": "stream",
     "text": [
      "100%|██████████| 40/40 [00:23<00:00,  1.73it/s]\n",
      "100%|██████████| 40/40 [00:16<00:00,  2.45it/s]\n"
     ]
    },
    {
     "name": "stdout",
     "output_type": "stream",
     "text": [
      "Epoch: 3 | Train Loss: 4.46053 \tVal Loss: 4.38076 \tTrain Acc: 0.023 \tVal Acc: 0.026\n",
      "is the best loss!\n"
     ]
    },
    {
     "name": "stderr",
     "output_type": "stream",
     "text": [
      "100%|██████████| 40/40 [00:23<00:00,  1.71it/s]\n",
      "100%|██████████| 40/40 [00:16<00:00,  2.46it/s]\n"
     ]
    },
    {
     "name": "stdout",
     "output_type": "stream",
     "text": [
      "Epoch: 4 | Train Loss: 4.39417 \tVal Loss: 4.26576 \tTrain Acc: 0.030 \tVal Acc: 0.036\n",
      "is the best loss!\n"
     ]
    },
    {
     "name": "stderr",
     "output_type": "stream",
     "text": [
      "100%|██████████| 40/40 [00:23<00:00,  1.70it/s]\n",
      "100%|██████████| 40/40 [00:16<00:00,  2.49it/s]\n"
     ]
    },
    {
     "name": "stdout",
     "output_type": "stream",
     "text": [
      "Epoch: 5 | Train Loss: 4.37903 \tVal Loss: 4.24254 \tTrain Acc: 0.031 \tVal Acc: 0.039\n",
      "is the best loss!\n"
     ]
    },
    {
     "name": "stderr",
     "output_type": "stream",
     "text": [
      "100%|██████████| 40/40 [00:23<00:00,  1.68it/s]\n",
      "100%|██████████| 40/40 [00:16<00:00,  2.45it/s]\n"
     ]
    },
    {
     "name": "stdout",
     "output_type": "stream",
     "text": [
      "Epoch: 6 | Train Loss: 4.32823 \tVal Loss: 4.17712 \tTrain Acc: 0.041 \tVal Acc: 0.054\n",
      "is the best loss!\n"
     ]
    },
    {
     "name": "stderr",
     "output_type": "stream",
     "text": [
      "100%|██████████| 40/40 [00:22<00:00,  1.74it/s]\n",
      "100%|██████████| 40/40 [00:16<00:00,  2.43it/s]\n"
     ]
    },
    {
     "name": "stdout",
     "output_type": "stream",
     "text": [
      "Epoch: 7 | Train Loss: 4.31521 \tVal Loss: 4.15996 \tTrain Acc: 0.043 \tVal Acc: 0.054\n",
      "is the best loss!\n"
     ]
    },
    {
     "name": "stderr",
     "output_type": "stream",
     "text": [
      "100%|██████████| 40/40 [00:23<00:00,  1.72it/s]\n",
      "100%|██████████| 40/40 [00:16<00:00,  2.43it/s]\n"
     ]
    },
    {
     "name": "stdout",
     "output_type": "stream",
     "text": [
      "Epoch: 8 | Train Loss: 4.25463 \tVal Loss: 4.06299 \tTrain Acc: 0.049 \tVal Acc: 0.066\n",
      "is the best loss!\n"
     ]
    },
    {
     "name": "stderr",
     "output_type": "stream",
     "text": [
      "100%|██████████| 40/40 [00:23<00:00,  1.71it/s]\n",
      "100%|██████████| 40/40 [00:16<00:00,  2.48it/s]\n"
     ]
    },
    {
     "name": "stdout",
     "output_type": "stream",
     "text": [
      "Epoch: 9 | Train Loss: 4.19469 \tVal Loss: 3.99563 \tTrain Acc: 0.059 \tVal Acc: 0.078\n",
      "is the best loss!\n"
     ]
    },
    {
     "name": "stderr",
     "output_type": "stream",
     "text": [
      "100%|██████████| 40/40 [00:23<00:00,  1.71it/s]\n",
      "100%|██████████| 40/40 [00:15<00:00,  2.50it/s]\n"
     ]
    },
    {
     "name": "stdout",
     "output_type": "stream",
     "text": [
      "Epoch: 10 | Train Loss: 4.15092 \tVal Loss: 3.93286 \tTrain Acc: 0.066 \tVal Acc: 0.088\n",
      "is the best loss!\n"
     ]
    },
    {
     "name": "stderr",
     "output_type": "stream",
     "text": [
      "100%|██████████| 40/40 [00:23<00:00,  1.73it/s]\n",
      "100%|██████████| 40/40 [00:16<00:00,  2.47it/s]\n"
     ]
    },
    {
     "name": "stdout",
     "output_type": "stream",
     "text": [
      "Epoch: 11 | Train Loss: 4.12127 \tVal Loss: 3.90480 \tTrain Acc: 0.070 \tVal Acc: 0.093\n",
      "is the best loss!\n"
     ]
    },
    {
     "name": "stderr",
     "output_type": "stream",
     "text": [
      "100%|██████████| 40/40 [00:22<00:00,  1.78it/s]\n",
      "100%|██████████| 40/40 [00:16<00:00,  2.42it/s]\n"
     ]
    },
    {
     "name": "stdout",
     "output_type": "stream",
     "text": [
      "Epoch: 12 | Train Loss: 4.10815 \tVal Loss: 3.87783 \tTrain Acc: 0.071 \tVal Acc: 0.097\n",
      "is the best loss!\n"
     ]
    },
    {
     "name": "stderr",
     "output_type": "stream",
     "text": [
      "100%|██████████| 40/40 [00:22<00:00,  1.77it/s]\n",
      "100%|██████████| 40/40 [00:16<00:00,  2.39it/s]\n"
     ]
    },
    {
     "name": "stdout",
     "output_type": "stream",
     "text": [
      "Epoch: 13 | Train Loss: 4.05757 \tVal Loss: 3.80614 \tTrain Acc: 0.080 \tVal Acc: 0.107\n",
      "is the best loss!\n"
     ]
    },
    {
     "name": "stderr",
     "output_type": "stream",
     "text": [
      "100%|██████████| 40/40 [00:23<00:00,  1.73it/s]\n",
      "100%|██████████| 40/40 [00:16<00:00,  2.47it/s]\n"
     ]
    },
    {
     "name": "stdout",
     "output_type": "stream",
     "text": [
      "Epoch: 14 | Train Loss: 4.03287 \tVal Loss: 3.79003 \tTrain Acc: 0.084 \tVal Acc: 0.110\n",
      "is the best loss!\n"
     ]
    },
    {
     "name": "stderr",
     "output_type": "stream",
     "text": [
      "100%|██████████| 40/40 [00:22<00:00,  1.75it/s]\n",
      "100%|██████████| 40/40 [00:17<00:00,  2.35it/s]\n"
     ]
    },
    {
     "name": "stdout",
     "output_type": "stream",
     "text": [
      "Epoch: 15 | Train Loss: 4.01079 \tVal Loss: 3.75028 \tTrain Acc: 0.086 \tVal Acc: 0.114\n",
      "is the best loss!\n"
     ]
    },
    {
     "name": "stderr",
     "output_type": "stream",
     "text": [
      "100%|██████████| 40/40 [00:23<00:00,  1.71it/s]\n",
      "100%|██████████| 40/40 [00:16<00:00,  2.36it/s]\n"
     ]
    },
    {
     "name": "stdout",
     "output_type": "stream",
     "text": [
      "Epoch: 16 | Train Loss: 3.97612 \tVal Loss: 3.69503 \tTrain Acc: 0.093 \tVal Acc: 0.128\n",
      "is the best loss!\n"
     ]
    },
    {
     "name": "stderr",
     "output_type": "stream",
     "text": [
      "100%|██████████| 40/40 [00:23<00:00,  1.70it/s]\n",
      "100%|██████████| 40/40 [00:16<00:00,  2.40it/s]\n"
     ]
    },
    {
     "name": "stdout",
     "output_type": "stream",
     "text": [
      "Epoch: 17 | Train Loss: 3.95547 \tVal Loss: 3.68088 \tTrain Acc: 0.098 \tVal Acc: 0.129\n",
      "is the best loss!\n"
     ]
    },
    {
     "name": "stderr",
     "output_type": "stream",
     "text": [
      "100%|██████████| 40/40 [00:23<00:00,  1.70it/s]\n",
      "100%|██████████| 40/40 [00:16<00:00,  2.36it/s]\n"
     ]
    },
    {
     "name": "stdout",
     "output_type": "stream",
     "text": [
      "Epoch: 18 | Train Loss: 3.93789 \tVal Loss: 3.66680 \tTrain Acc: 0.100 \tVal Acc: 0.133\n",
      "is the best loss!\n"
     ]
    },
    {
     "name": "stderr",
     "output_type": "stream",
     "text": [
      "100%|██████████| 40/40 [00:23<00:00,  1.71it/s]\n",
      "100%|██████████| 40/40 [00:16<00:00,  2.47it/s]\n"
     ]
    },
    {
     "name": "stdout",
     "output_type": "stream",
     "text": [
      "Epoch: 19 | Train Loss: 3.91428 \tVal Loss: 3.59841 \tTrain Acc: 0.104 \tVal Acc: 0.145\n",
      "is the best loss!\n"
     ]
    },
    {
     "name": "stderr",
     "output_type": "stream",
     "text": [
      "100%|██████████| 40/40 [00:22<00:00,  1.79it/s]\n",
      "100%|██████████| 40/40 [00:16<00:00,  2.39it/s]\n"
     ]
    },
    {
     "name": "stdout",
     "output_type": "stream",
     "text": [
      "Epoch: 20 | Train Loss: 3.89126 \tVal Loss: 3.55367 \tTrain Acc: 0.106 \tVal Acc: 0.150\n",
      "is the best loss!\n"
     ]
    },
    {
     "name": "stderr",
     "output_type": "stream",
     "text": [
      "100%|██████████| 40/40 [00:23<00:00,  1.74it/s]\n",
      "100%|██████████| 40/40 [00:16<00:00,  2.42it/s]\n"
     ]
    },
    {
     "name": "stdout",
     "output_type": "stream",
     "text": [
      "Epoch: 21 | Train Loss: 3.88306 \tVal Loss: 3.56322 \tTrain Acc: 0.110 \tVal Acc: 0.149\n"
     ]
    },
    {
     "name": "stderr",
     "output_type": "stream",
     "text": [
      "100%|██████████| 40/40 [00:22<00:00,  1.79it/s]\n",
      "100%|██████████| 40/40 [00:17<00:00,  2.33it/s]\n"
     ]
    },
    {
     "name": "stdout",
     "output_type": "stream",
     "text": [
      "Epoch: 22 | Train Loss: 3.84951 \tVal Loss: 3.53012 \tTrain Acc: 0.116 \tVal Acc: 0.154\n",
      "is the best loss!\n"
     ]
    },
    {
     "name": "stderr",
     "output_type": "stream",
     "text": [
      "100%|██████████| 40/40 [00:22<00:00,  1.76it/s]\n",
      "100%|██████████| 40/40 [00:16<00:00,  2.39it/s]\n"
     ]
    },
    {
     "name": "stdout",
     "output_type": "stream",
     "text": [
      "Epoch: 23 | Train Loss: 3.82339 \tVal Loss: 3.48018 \tTrain Acc: 0.117 \tVal Acc: 0.167\n",
      "is the best loss!\n"
     ]
    },
    {
     "name": "stderr",
     "output_type": "stream",
     "text": [
      "100%|██████████| 40/40 [00:24<00:00,  1.65it/s]\n",
      "100%|██████████| 40/40 [00:16<00:00,  2.37it/s]\n"
     ]
    },
    {
     "name": "stdout",
     "output_type": "stream",
     "text": [
      "Epoch: 24 | Train Loss: 3.82415 \tVal Loss: 3.49759 \tTrain Acc: 0.120 \tVal Acc: 0.163\n"
     ]
    },
    {
     "name": "stderr",
     "output_type": "stream",
     "text": [
      "100%|██████████| 40/40 [00:23<00:00,  1.68it/s]\n",
      "100%|██████████| 40/40 [00:16<00:00,  2.37it/s]\n"
     ]
    },
    {
     "name": "stdout",
     "output_type": "stream",
     "text": [
      "Epoch: 25 | Train Loss: 3.79338 \tVal Loss: 3.47906 \tTrain Acc: 0.125 \tVal Acc: 0.168\n",
      "is the best loss!\n"
     ]
    },
    {
     "name": "stderr",
     "output_type": "stream",
     "text": [
      " 15%|█▌        | 6/40 [00:10<00:57,  1.70s/it]\n"
     ]
    },
    {
     "ename": "KeyboardInterrupt",
     "evalue": "",
     "output_type": "error",
     "traceback": [
      "\u001b[0;31m---------------------------------------------------------------------------\u001b[0m",
      "\u001b[0;31mKeyboardInterrupt\u001b[0m                         Traceback (most recent call last)",
      "\u001b[1;32mc:\\Users\\kenne\\Documents\\GitHub\\CIFAR100\\cifar_100.ipynb Cell 116\u001b[0m in \u001b[0;36m<cell line: 1>\u001b[0;34m()\u001b[0m\n\u001b[1;32m      <a href='vscode-notebook-cell:/c%3A/Users/kenne/Documents/GitHub/CIFAR100/cifar_100.ipynb#Y226sZmlsZQ%3D%3D?line=0'>1</a>\u001b[0m \u001b[39mif\u001b[39;00m \u001b[39mnot\u001b[39;00m MODEL_DEBUG \u001b[39mor\u001b[39;00m \u001b[39mTrue\u001b[39;00m:\n\u001b[1;32m      <a href='vscode-notebook-cell:/c%3A/Users/kenne/Documents/GitHub/CIFAR100/cifar_100.ipynb#Y226sZmlsZQ%3D%3D?line=1'>2</a>\u001b[0m \ttrainer \u001b[39m=\u001b[39m Trainer()\n\u001b[0;32m----> <a href='vscode-notebook-cell:/c%3A/Users/kenne/Documents/GitHub/CIFAR100/cifar_100.ipynb#Y226sZmlsZQ%3D%3D?line=2'>3</a>\u001b[0m \ttrainer\u001b[39m.\u001b[39;49mtrain_model(\n\u001b[1;32m      <a href='vscode-notebook-cell:/c%3A/Users/kenne/Documents/GitHub/CIFAR100/cifar_100.ipynb#Y226sZmlsZQ%3D%3D?line=3'>4</a>\u001b[0m \t\t\u001b[39m'\u001b[39;49m\u001b[39mAutoAugment + CvT\u001b[39;49m\u001b[39m'\u001b[39;49m, CvT, \u001b[39m# model\u001b[39;49;00m\n\u001b[1;32m      <a href='vscode-notebook-cell:/c%3A/Users/kenne/Documents/GitHub/CIFAR100/cifar_100.ipynb#Y226sZmlsZQ%3D%3D?line=4'>5</a>\u001b[0m \t\toptim\u001b[39m.\u001b[39;49mAdamW, {\u001b[39m'\u001b[39;49m\u001b[39mlr\u001b[39;49m\u001b[39m'\u001b[39;49m: \u001b[39m1e-4\u001b[39;49m \u001b[39m*\u001b[39;49m (GPU_COUNT) \u001b[39m*\u001b[39;49m\u001b[39m*\u001b[39;49m \u001b[39m0.5\u001b[39;49m, \u001b[39m'\u001b[39;49m\u001b[39mweight_decay\u001b[39;49m\u001b[39m'\u001b[39;49m: \u001b[39m1e-5\u001b[39;49m}, \u001b[39m# optimizer\u001b[39;49;00m\n\u001b[1;32m      <a href='vscode-notebook-cell:/c%3A/Users/kenne/Documents/GitHub/CIFAR100/cifar_100.ipynb#Y226sZmlsZQ%3D%3D?line=5'>6</a>\u001b[0m \t\tauto_train_data, \u001b[39m# data\u001b[39;49;00m\n\u001b[1;32m      <a href='vscode-notebook-cell:/c%3A/Users/kenne/Documents/GitHub/CIFAR100/cifar_100.ipynb#Y226sZmlsZQ%3D%3D?line=6'>7</a>\u001b[0m \t\tearly_stopping \u001b[39m=\u001b[39;49m CustomEarlyStopping(patience \u001b[39m=\u001b[39;49m \u001b[39m15\u001b[39;49m),\n\u001b[1;32m      <a href='vscode-notebook-cell:/c%3A/Users/kenne/Documents/GitHub/CIFAR100/cifar_100.ipynb#Y226sZmlsZQ%3D%3D?line=7'>8</a>\u001b[0m \t\tscheduler_pass \u001b[39m=\u001b[39;49m optim\u001b[39m.\u001b[39;49mlr_scheduler\u001b[39m.\u001b[39;49mCosineAnnealingWarmRestarts,\n\u001b[1;32m      <a href='vscode-notebook-cell:/c%3A/Users/kenne/Documents/GitHub/CIFAR100/cifar_100.ipynb#Y226sZmlsZQ%3D%3D?line=8'>9</a>\u001b[0m \t\tscheduler_args \u001b[39m=\u001b[39;49m {\u001b[39m'\u001b[39;49m\u001b[39mT_0\u001b[39;49m\u001b[39m'\u001b[39;49m: \u001b[39m10\u001b[39;49m},\n\u001b[1;32m     <a href='vscode-notebook-cell:/c%3A/Users/kenne/Documents/GitHub/CIFAR100/cifar_100.ipynb#Y226sZmlsZQ%3D%3D?line=9'>10</a>\u001b[0m \t\tverbose\u001b[39m=\u001b[39;49m\u001b[39mTrue\u001b[39;49;00m\n\u001b[1;32m     <a href='vscode-notebook-cell:/c%3A/Users/kenne/Documents/GitHub/CIFAR100/cifar_100.ipynb#Y226sZmlsZQ%3D%3D?line=10'>11</a>\u001b[0m \t)\n\u001b[1;32m     <a href='vscode-notebook-cell:/c%3A/Users/kenne/Documents/GitHub/CIFAR100/cifar_100.ipynb#Y226sZmlsZQ%3D%3D?line=11'>12</a>\u001b[0m \ttrainer\u001b[39m.\u001b[39marchive(\u001b[39m'\u001b[39m\u001b[39mAutoAugment + CvT\u001b[39m\u001b[39m'\u001b[39m)\n\u001b[1;32m     <a href='vscode-notebook-cell:/c%3A/Users/kenne/Documents/GitHub/CIFAR100/cifar_100.ipynb#Y226sZmlsZQ%3D%3D?line=12'>13</a>\u001b[0m \tdisplay(trainer\u001b[39m.\u001b[39mhistory)\n",
      "\u001b[1;32mc:\\Users\\kenne\\Documents\\GitHub\\CIFAR100\\cifar_100.ipynb Cell 116\u001b[0m in \u001b[0;36mTrainer.train_model\u001b[0;34m(self, name, model_pass, optimizer_pass, optimizer_args, train_data, scheduler_pass, scheduler_args, batch_size, early_stopping, epochs, verbose, val_data, save_model, augment, return_model)\u001b[0m\n\u001b[1;32m     <a href='vscode-notebook-cell:/c%3A/Users/kenne/Documents/GitHub/CIFAR100/cifar_100.ipynb#Y226sZmlsZQ%3D%3D?line=94'>95</a>\u001b[0m \tloss \u001b[39m=\u001b[39m criterion(outputs, labels)\n\u001b[1;32m     <a href='vscode-notebook-cell:/c%3A/Users/kenne/Documents/GitHub/CIFAR100/cifar_100.ipynb#Y226sZmlsZQ%3D%3D?line=95'>96</a>\u001b[0m \t\u001b[39m# backward pass: compute gradient of the loss with respect to model parameters\u001b[39;00m\n\u001b[0;32m---> <a href='vscode-notebook-cell:/c%3A/Users/kenne/Documents/GitHub/CIFAR100/cifar_100.ipynb#Y226sZmlsZQ%3D%3D?line=96'>97</a>\u001b[0m optimizer\u001b[39m.\u001b[39;49mzero_grad()\n\u001b[1;32m     <a href='vscode-notebook-cell:/c%3A/Users/kenne/Documents/GitHub/CIFAR100/cifar_100.ipynb#Y226sZmlsZQ%3D%3D?line=97'>98</a>\u001b[0m loss\u001b[39m.\u001b[39mbackward()\n\u001b[1;32m     <a href='vscode-notebook-cell:/c%3A/Users/kenne/Documents/GitHub/CIFAR100/cifar_100.ipynb#Y226sZmlsZQ%3D%3D?line=98'>99</a>\u001b[0m optimizer\u001b[39m.\u001b[39mstep()\n",
      "File \u001b[0;32m/opt/conda/lib/python3.9/site-packages/torch/optim/optimizer.py:279\u001b[0m, in \u001b[0;36mOptimizer.zero_grad\u001b[0;34m(self, set_to_none)\u001b[0m\n\u001b[1;32m    277\u001b[0m     p\u001b[39m.\u001b[39mgrad\u001b[39m.\u001b[39mrequires_grad_(\u001b[39mFalse\u001b[39;00m)\n\u001b[1;32m    278\u001b[0m \u001b[39mif\u001b[39;00m (\u001b[39mnot\u001b[39;00m foreach \u001b[39mor\u001b[39;00m p\u001b[39m.\u001b[39mgrad\u001b[39m.\u001b[39mis_sparse):\n\u001b[0;32m--> 279\u001b[0m     p\u001b[39m.\u001b[39;49mgrad\u001b[39m.\u001b[39;49mzero_()\n\u001b[1;32m    280\u001b[0m \u001b[39melse\u001b[39;00m:\n\u001b[1;32m    281\u001b[0m     per_device_and_dtype_grads[p\u001b[39m.\u001b[39mgrad\u001b[39m.\u001b[39mdevice][p\u001b[39m.\u001b[39mgrad\u001b[39m.\u001b[39mdtype]\u001b[39m.\u001b[39mappend(p\u001b[39m.\u001b[39mgrad)\n",
      "\u001b[0;31mKeyboardInterrupt\u001b[0m: "
     ]
    }
   ],
   "source": [
    "if not MODEL_DEBUG:\n",
    "\ttrainer = Trainer()\n",
    "\ttrainer.train_model(\n",
    "\t\t'AutoAugment + CvT', CvT, # model\n",
    "\t\toptim.AdamW, {'lr': 1e-4 * (GPU_COUNT) ** 0.5, 'weight_decay': 1e-5}, # optimizer\n",
    "\t\tauto_train_data, # data\n",
    "\t\tearly_stopping = CustomEarlyStopping(patience = 15),\n",
    "\t\tscheduler_pass = torch.optim.lr_scheduler.StepLR,\n",
    "\t\tscheduler_args = {'step_size': int(2.4 * batch_num), 'gamma': 0.97},\n",
    "\t\tverbose=True\n",
    "\t)\n",
    "\ttrainer.archive('AutoAugment + CvT')\n",
    "\tdisplay(trainer.history)"
   ]
  },
  {
   "cell_type": "markdown",
   "metadata": {},
   "source": [
    "#### ConvNeXt\n",
    "One key mechanism of transformers that many papers seem to praise is the <strong>self-attention mechanisms</strong>. Is that really the case? The ConvNeXt paper suggests that <strong>applying modern architectural techniques (not attention mechanism) and proper training procedures</strong> can lead to <strong>competing or even surpassing</strong> the benchmarks set by vision transformers. As such, here, we try to stray away from attention based mechanisms while <strong>keeping a modern outlook</strong>; how does a modern Convolutional Neural Network come into play for CIFAR100?"
   ]
  },
  {
   "cell_type": "code",
   "execution_count": null,
   "metadata": {},
   "outputs": [],
   "source": [
    "from torchvision.models import convnext_base"
   ]
  },
  {
   "cell_type": "code",
   "execution_count": null,
   "metadata": {},
   "outputs": [
    {
     "name": "stderr",
     "output_type": "stream",
     "text": [
      "100%|██████████| 40/40 [00:18<00:00,  2.14it/s]\n",
      "100%|██████████| 40/40 [00:12<00:00,  3.28it/s]\n"
     ]
    },
    {
     "name": "stdout",
     "output_type": "stream",
     "text": [
      "Epoch: 1 | Train Loss: 4.55675 \tVal Loss: 4.53808 \tTrain Acc: 0.021 \tVal Acc: 0.020\n",
      "is the best loss!\n"
     ]
    },
    {
     "name": "stderr",
     "output_type": "stream",
     "text": [
      "100%|██████████| 40/40 [00:19<00:00,  2.07it/s]\n",
      "100%|██████████| 40/40 [00:12<00:00,  3.26it/s]\n"
     ]
    },
    {
     "name": "stdout",
     "output_type": "stream",
     "text": [
      "Epoch: 2 | Train Loss: 4.41226 \tVal Loss: 4.38460 \tTrain Acc: 0.036 \tVal Acc: 0.038\n",
      "is the best loss!\n"
     ]
    },
    {
     "name": "stderr",
     "output_type": "stream",
     "text": [
      "100%|██████████| 40/40 [00:18<00:00,  2.16it/s]\n",
      "100%|██████████| 40/40 [00:12<00:00,  3.15it/s]\n"
     ]
    },
    {
     "name": "stdout",
     "output_type": "stream",
     "text": [
      "Epoch: 3 | Train Loss: 4.25813 \tVal Loss: 4.23141 \tTrain Acc: 0.044 \tVal Acc: 0.042\n",
      "is the best loss!\n"
     ]
    },
    {
     "name": "stderr",
     "output_type": "stream",
     "text": [
      "100%|██████████| 40/40 [00:18<00:00,  2.14it/s]\n",
      "100%|██████████| 40/40 [00:12<00:00,  3.28it/s]\n"
     ]
    },
    {
     "name": "stdout",
     "output_type": "stream",
     "text": [
      "Epoch: 4 | Train Loss: 4.17146 \tVal Loss: 4.15778 \tTrain Acc: 0.052 \tVal Acc: 0.057\n",
      "is the best loss!\n"
     ]
    },
    {
     "name": "stderr",
     "output_type": "stream",
     "text": [
      "100%|██████████| 40/40 [00:19<00:00,  2.10it/s]\n",
      "100%|██████████| 40/40 [00:12<00:00,  3.24it/s]\n"
     ]
    },
    {
     "name": "stdout",
     "output_type": "stream",
     "text": [
      "Epoch: 5 | Train Loss: 4.10753 \tVal Loss: 4.09198 \tTrain Acc: 0.073 \tVal Acc: 0.077\n",
      "is the best loss!\n"
     ]
    },
    {
     "name": "stderr",
     "output_type": "stream",
     "text": [
      "100%|██████████| 40/40 [00:19<00:00,  2.06it/s]\n",
      "100%|██████████| 40/40 [00:12<00:00,  3.33it/s]\n"
     ]
    },
    {
     "name": "stdout",
     "output_type": "stream",
     "text": [
      "Epoch: 6 | Train Loss: 4.45756 \tVal Loss: 4.45751 \tTrain Acc: 0.038 \tVal Acc: 0.040\n"
     ]
    },
    {
     "name": "stderr",
     "output_type": "stream",
     "text": [
      "100%|██████████| 40/40 [00:19<00:00,  2.06it/s]\n",
      "100%|██████████| 40/40 [00:12<00:00,  3.25it/s]\n"
     ]
    },
    {
     "name": "stdout",
     "output_type": "stream",
     "text": [
      "Epoch: 7 | Train Loss: 4.10621 \tVal Loss: 4.11426 \tTrain Acc: 0.071 \tVal Acc: 0.071\n"
     ]
    },
    {
     "name": "stderr",
     "output_type": "stream",
     "text": [
      "100%|██████████| 40/40 [00:19<00:00,  2.08it/s]\n",
      "100%|██████████| 40/40 [00:12<00:00,  3.20it/s]\n"
     ]
    },
    {
     "name": "stdout",
     "output_type": "stream",
     "text": [
      "Epoch: 8 | Train Loss: 3.89622 \tVal Loss: 3.87091 \tTrain Acc: 0.096 \tVal Acc: 0.102\n",
      "is the best loss!\n"
     ]
    },
    {
     "name": "stderr",
     "output_type": "stream",
     "text": [
      "100%|██████████| 40/40 [00:19<00:00,  2.07it/s]\n",
      "100%|██████████| 40/40 [00:12<00:00,  3.16it/s]\n"
     ]
    },
    {
     "name": "stdout",
     "output_type": "stream",
     "text": [
      "Epoch: 9 | Train Loss: 4.06426 \tVal Loss: 4.09235 \tTrain Acc: 0.086 \tVal Acc: 0.087\n"
     ]
    },
    {
     "name": "stderr",
     "output_type": "stream",
     "text": [
      "100%|██████████| 40/40 [00:19<00:00,  2.07it/s]\n",
      "100%|██████████| 40/40 [00:13<00:00,  3.07it/s]\n"
     ]
    },
    {
     "name": "stdout",
     "output_type": "stream",
     "text": [
      "Epoch: 10 | Train Loss: 3.68052 \tVal Loss: 3.67111 \tTrain Acc: 0.133 \tVal Acc: 0.137\n",
      "is the best loss!\n"
     ]
    },
    {
     "name": "stderr",
     "output_type": "stream",
     "text": [
      " 25%|██▌       | 10/40 [00:09<00:27,  1.09it/s]\n"
     ]
    },
    {
     "ename": "KeyboardInterrupt",
     "evalue": "",
     "output_type": "error",
     "traceback": [
      "\u001b[0;31m---------------------------------------------------------------------------\u001b[0m",
      "\u001b[0;31mKeyboardInterrupt\u001b[0m                         Traceback (most recent call last)",
      "\u001b[1;32mc:\\Users\\kenne\\Documents\\GitHub\\CIFAR100\\cifar_100.ipynb Cell 118\u001b[0m in \u001b[0;36m<cell line: 1>\u001b[0;34m()\u001b[0m\n\u001b[1;32m      <a href='vscode-notebook-cell:/c%3A/Users/kenne/Documents/GitHub/CIFAR100/cifar_100.ipynb#Y254sZmlsZQ%3D%3D?line=0'>1</a>\u001b[0m \u001b[39mif\u001b[39;00m \u001b[39mnot\u001b[39;00m MODEL_DEBUG \u001b[39mor\u001b[39;00m \u001b[39mTrue\u001b[39;00m:\n\u001b[1;32m      <a href='vscode-notebook-cell:/c%3A/Users/kenne/Documents/GitHub/CIFAR100/cifar_100.ipynb#Y254sZmlsZQ%3D%3D?line=1'>2</a>\u001b[0m \ttrainer \u001b[39m=\u001b[39m Trainer()\n\u001b[0;32m----> <a href='vscode-notebook-cell:/c%3A/Users/kenne/Documents/GitHub/CIFAR100/cifar_100.ipynb#Y254sZmlsZQ%3D%3D?line=2'>3</a>\u001b[0m \ttrainer\u001b[39m.\u001b[39;49mtrain_model(\n\u001b[1;32m      <a href='vscode-notebook-cell:/c%3A/Users/kenne/Documents/GitHub/CIFAR100/cifar_100.ipynb#Y254sZmlsZQ%3D%3D?line=3'>4</a>\u001b[0m \t\t\u001b[39m'\u001b[39;49m\u001b[39mAutoAugment + ConvNeXt\u001b[39;49m\u001b[39m'\u001b[39;49m, convnext_base, \u001b[39m# model\u001b[39;49;00m\n\u001b[1;32m      <a href='vscode-notebook-cell:/c%3A/Users/kenne/Documents/GitHub/CIFAR100/cifar_100.ipynb#Y254sZmlsZQ%3D%3D?line=4'>5</a>\u001b[0m \t\toptim\u001b[39m.\u001b[39;49mAdamW, {\u001b[39m'\u001b[39;49m\u001b[39mlr\u001b[39;49m\u001b[39m'\u001b[39;49m: \u001b[39m1e-3\u001b[39;49m \u001b[39m*\u001b[39;49m (GPU_COUNT) \u001b[39m*\u001b[39;49m\u001b[39m*\u001b[39;49m \u001b[39m0.5\u001b[39;49m, \u001b[39m'\u001b[39;49m\u001b[39mweight_decay\u001b[39;49m\u001b[39m'\u001b[39;49m: \u001b[39m1e-4\u001b[39;49m}, \u001b[39m# optimizer\u001b[39;49;00m\n\u001b[1;32m      <a href='vscode-notebook-cell:/c%3A/Users/kenne/Documents/GitHub/CIFAR100/cifar_100.ipynb#Y254sZmlsZQ%3D%3D?line=5'>6</a>\u001b[0m \t\tbase_train_data, \u001b[39m# data\u001b[39;49;00m\n\u001b[1;32m      <a href='vscode-notebook-cell:/c%3A/Users/kenne/Documents/GitHub/CIFAR100/cifar_100.ipynb#Y254sZmlsZQ%3D%3D?line=6'>7</a>\u001b[0m \t\tmodel_args \u001b[39m=\u001b[39;49m {\u001b[39m'\u001b[39;49m\u001b[39mnum_classes\u001b[39;49m\u001b[39m'\u001b[39;49m: \u001b[39m100\u001b[39;49m, \u001b[39m'\u001b[39;49m\u001b[39mstochastic_depth_prob\u001b[39;49m\u001b[39m'\u001b[39;49m: \u001b[39m0.2\u001b[39;49m},\n\u001b[1;32m      <a href='vscode-notebook-cell:/c%3A/Users/kenne/Documents/GitHub/CIFAR100/cifar_100.ipynb#Y254sZmlsZQ%3D%3D?line=7'>8</a>\u001b[0m \t\tearly_stopping \u001b[39m=\u001b[39;49m CustomEarlyStopping(patience \u001b[39m=\u001b[39;49m \u001b[39m15\u001b[39;49m),\n\u001b[1;32m      <a href='vscode-notebook-cell:/c%3A/Users/kenne/Documents/GitHub/CIFAR100/cifar_100.ipynb#Y254sZmlsZQ%3D%3D?line=8'>9</a>\u001b[0m \t\t\u001b[39m# scheduler_pass = optim.lr_scheduler.CosineAnnealingWarmRestarts,\u001b[39;49;00m\n\u001b[1;32m     <a href='vscode-notebook-cell:/c%3A/Users/kenne/Documents/GitHub/CIFAR100/cifar_100.ipynb#Y254sZmlsZQ%3D%3D?line=9'>10</a>\u001b[0m \t\t\u001b[39m# scheduler_args = {'T_0': 10},\u001b[39;49;00m\n\u001b[1;32m     <a href='vscode-notebook-cell:/c%3A/Users/kenne/Documents/GitHub/CIFAR100/cifar_100.ipynb#Y254sZmlsZQ%3D%3D?line=10'>11</a>\u001b[0m \t\tverbose\u001b[39m=\u001b[39;49m\u001b[39mTrue\u001b[39;49;00m\n\u001b[1;32m     <a href='vscode-notebook-cell:/c%3A/Users/kenne/Documents/GitHub/CIFAR100/cifar_100.ipynb#Y254sZmlsZQ%3D%3D?line=11'>12</a>\u001b[0m \t)\n\u001b[1;32m     <a href='vscode-notebook-cell:/c%3A/Users/kenne/Documents/GitHub/CIFAR100/cifar_100.ipynb#Y254sZmlsZQ%3D%3D?line=12'>13</a>\u001b[0m \ttrainer\u001b[39m.\u001b[39marchive(\u001b[39m'\u001b[39m\u001b[39mAutoAugment + ConvNeXt\u001b[39m\u001b[39m'\u001b[39m)\n\u001b[1;32m     <a href='vscode-notebook-cell:/c%3A/Users/kenne/Documents/GitHub/CIFAR100/cifar_100.ipynb#Y254sZmlsZQ%3D%3D?line=13'>14</a>\u001b[0m \tdisplay(trainer\u001b[39m.\u001b[39mhistory)\n",
      "\u001b[1;32mc:\\Users\\kenne\\Documents\\GitHub\\CIFAR100\\cifar_100.ipynb Cell 118\u001b[0m in \u001b[0;36mTrainer.train_model\u001b[0;34m(self, name, model_pass, optimizer_pass, optimizer_args, train_data, model_args, scheduler_pass, scheduler_args, batch_size, early_stopping, epochs, verbose, val_data, save_model, augment, return_model)\u001b[0m\n\u001b[1;32m     <a href='vscode-notebook-cell:/c%3A/Users/kenne/Documents/GitHub/CIFAR100/cifar_100.ipynb#Y254sZmlsZQ%3D%3D?line=96'>97</a>\u001b[0m optimizer\u001b[39m.\u001b[39mzero_grad()\n\u001b[1;32m     <a href='vscode-notebook-cell:/c%3A/Users/kenne/Documents/GitHub/CIFAR100/cifar_100.ipynb#Y254sZmlsZQ%3D%3D?line=97'>98</a>\u001b[0m loss\u001b[39m.\u001b[39mbackward()\n\u001b[0;32m---> <a href='vscode-notebook-cell:/c%3A/Users/kenne/Documents/GitHub/CIFAR100/cifar_100.ipynb#Y254sZmlsZQ%3D%3D?line=98'>99</a>\u001b[0m optimizer\u001b[39m.\u001b[39;49mstep()\n\u001b[1;32m    <a href='vscode-notebook-cell:/c%3A/Users/kenne/Documents/GitHub/CIFAR100/cifar_100.ipynb#Y254sZmlsZQ%3D%3D?line=100'>101</a>\u001b[0m \u001b[39mif\u001b[39;00m scheduler_pass \u001b[39m!=\u001b[39m \u001b[39mNone\u001b[39;00m:\n\u001b[1;32m    <a href='vscode-notebook-cell:/c%3A/Users/kenne/Documents/GitHub/CIFAR100/cifar_100.ipynb#Y254sZmlsZQ%3D%3D?line=101'>102</a>\u001b[0m \tscheduler\u001b[39m.\u001b[39mstep()\n",
      "File \u001b[0;32m/opt/conda/lib/python3.9/site-packages/torch/optim/optimizer.py:140\u001b[0m, in \u001b[0;36mOptimizer._hook_for_profile.<locals>.profile_hook_step.<locals>.wrapper\u001b[0;34m(*args, **kwargs)\u001b[0m\n\u001b[1;32m    138\u001b[0m profile_name \u001b[39m=\u001b[39m \u001b[39m\"\u001b[39m\u001b[39mOptimizer.step#\u001b[39m\u001b[39m{}\u001b[39;00m\u001b[39m.step\u001b[39m\u001b[39m\"\u001b[39m\u001b[39m.\u001b[39mformat(obj\u001b[39m.\u001b[39m\u001b[39m__class__\u001b[39m\u001b[39m.\u001b[39m\u001b[39m__name__\u001b[39m)\n\u001b[1;32m    139\u001b[0m \u001b[39mwith\u001b[39;00m torch\u001b[39m.\u001b[39mautograd\u001b[39m.\u001b[39mprofiler\u001b[39m.\u001b[39mrecord_function(profile_name):\n\u001b[0;32m--> 140\u001b[0m     out \u001b[39m=\u001b[39m func(\u001b[39m*\u001b[39;49margs, \u001b[39m*\u001b[39;49m\u001b[39m*\u001b[39;49mkwargs)\n\u001b[1;32m    141\u001b[0m     obj\u001b[39m.\u001b[39m_optimizer_step_code()\n\u001b[1;32m    142\u001b[0m     \u001b[39mreturn\u001b[39;00m out\n",
      "File \u001b[0;32m/opt/conda/lib/python3.9/site-packages/torch/autograd/grad_mode.py:27\u001b[0m, in \u001b[0;36m_DecoratorContextManager.__call__.<locals>.decorate_context\u001b[0;34m(*args, **kwargs)\u001b[0m\n\u001b[1;32m     24\u001b[0m \u001b[39m@functools\u001b[39m\u001b[39m.\u001b[39mwraps(func)\n\u001b[1;32m     25\u001b[0m \u001b[39mdef\u001b[39;00m \u001b[39mdecorate_context\u001b[39m(\u001b[39m*\u001b[39margs, \u001b[39m*\u001b[39m\u001b[39m*\u001b[39mkwargs):\n\u001b[1;32m     26\u001b[0m     \u001b[39mwith\u001b[39;00m \u001b[39mself\u001b[39m\u001b[39m.\u001b[39mclone():\n\u001b[0;32m---> 27\u001b[0m         \u001b[39mreturn\u001b[39;00m func(\u001b[39m*\u001b[39;49margs, \u001b[39m*\u001b[39;49m\u001b[39m*\u001b[39;49mkwargs)\n",
      "File \u001b[0;32m/opt/conda/lib/python3.9/site-packages/torch/optim/adamw.py:162\u001b[0m, in \u001b[0;36mAdamW.step\u001b[0;34m(self, closure)\u001b[0m\n\u001b[1;32m    158\u001b[0m             max_exp_avg_sqs\u001b[39m.\u001b[39mappend(state[\u001b[39m'\u001b[39m\u001b[39mmax_exp_avg_sq\u001b[39m\u001b[39m'\u001b[39m])\n\u001b[1;32m    160\u001b[0m         state_steps\u001b[39m.\u001b[39mappend(state[\u001b[39m'\u001b[39m\u001b[39mstep\u001b[39m\u001b[39m'\u001b[39m])\n\u001b[0;32m--> 162\u001b[0m     adamw(params_with_grad,\n\u001b[1;32m    163\u001b[0m           grads,\n\u001b[1;32m    164\u001b[0m           exp_avgs,\n\u001b[1;32m    165\u001b[0m           exp_avg_sqs,\n\u001b[1;32m    166\u001b[0m           max_exp_avg_sqs,\n\u001b[1;32m    167\u001b[0m           state_steps,\n\u001b[1;32m    168\u001b[0m           amsgrad\u001b[39m=\u001b[39;49mamsgrad,\n\u001b[1;32m    169\u001b[0m           beta1\u001b[39m=\u001b[39;49mbeta1,\n\u001b[1;32m    170\u001b[0m           beta2\u001b[39m=\u001b[39;49mbeta2,\n\u001b[1;32m    171\u001b[0m           lr\u001b[39m=\u001b[39;49mgroup[\u001b[39m'\u001b[39;49m\u001b[39mlr\u001b[39;49m\u001b[39m'\u001b[39;49m],\n\u001b[1;32m    172\u001b[0m           weight_decay\u001b[39m=\u001b[39;49mgroup[\u001b[39m'\u001b[39;49m\u001b[39mweight_decay\u001b[39;49m\u001b[39m'\u001b[39;49m],\n\u001b[1;32m    173\u001b[0m           eps\u001b[39m=\u001b[39;49mgroup[\u001b[39m'\u001b[39;49m\u001b[39meps\u001b[39;49m\u001b[39m'\u001b[39;49m],\n\u001b[1;32m    174\u001b[0m           maximize\u001b[39m=\u001b[39;49mgroup[\u001b[39m'\u001b[39;49m\u001b[39mmaximize\u001b[39;49m\u001b[39m'\u001b[39;49m],\n\u001b[1;32m    175\u001b[0m           foreach\u001b[39m=\u001b[39;49mgroup[\u001b[39m'\u001b[39;49m\u001b[39mforeach\u001b[39;49m\u001b[39m'\u001b[39;49m],\n\u001b[1;32m    176\u001b[0m           capturable\u001b[39m=\u001b[39;49mgroup[\u001b[39m'\u001b[39;49m\u001b[39mcapturable\u001b[39;49m\u001b[39m'\u001b[39;49m])\n\u001b[1;32m    178\u001b[0m \u001b[39mreturn\u001b[39;00m loss\n",
      "File \u001b[0;32m/opt/conda/lib/python3.9/site-packages/torch/optim/adamw.py:219\u001b[0m, in \u001b[0;36madamw\u001b[0;34m(params, grads, exp_avgs, exp_avg_sqs, max_exp_avg_sqs, state_steps, foreach, capturable, amsgrad, beta1, beta2, lr, weight_decay, eps, maximize)\u001b[0m\n\u001b[1;32m    216\u001b[0m \u001b[39melse\u001b[39;00m:\n\u001b[1;32m    217\u001b[0m     func \u001b[39m=\u001b[39m _single_tensor_adamw\n\u001b[0;32m--> 219\u001b[0m func(params,\n\u001b[1;32m    220\u001b[0m      grads,\n\u001b[1;32m    221\u001b[0m      exp_avgs,\n\u001b[1;32m    222\u001b[0m      exp_avg_sqs,\n\u001b[1;32m    223\u001b[0m      max_exp_avg_sqs,\n\u001b[1;32m    224\u001b[0m      state_steps,\n\u001b[1;32m    225\u001b[0m      amsgrad\u001b[39m=\u001b[39;49mamsgrad,\n\u001b[1;32m    226\u001b[0m      beta1\u001b[39m=\u001b[39;49mbeta1,\n\u001b[1;32m    227\u001b[0m      beta2\u001b[39m=\u001b[39;49mbeta2,\n\u001b[1;32m    228\u001b[0m      lr\u001b[39m=\u001b[39;49mlr,\n\u001b[1;32m    229\u001b[0m      weight_decay\u001b[39m=\u001b[39;49mweight_decay,\n\u001b[1;32m    230\u001b[0m      eps\u001b[39m=\u001b[39;49meps,\n\u001b[1;32m    231\u001b[0m      maximize\u001b[39m=\u001b[39;49mmaximize,\n\u001b[1;32m    232\u001b[0m      capturable\u001b[39m=\u001b[39;49mcapturable)\n",
      "File \u001b[0;32m/opt/conda/lib/python3.9/site-packages/torch/optim/adamw.py:270\u001b[0m, in \u001b[0;36m_single_tensor_adamw\u001b[0;34m(params, grads, exp_avgs, exp_avg_sqs, max_exp_avg_sqs, state_steps, amsgrad, beta1, beta2, lr, weight_decay, eps, maximize, capturable)\u001b[0m\n\u001b[1;32m    267\u001b[0m step_t \u001b[39m+\u001b[39m\u001b[39m=\u001b[39m \u001b[39m1\u001b[39m\n\u001b[1;32m    269\u001b[0m \u001b[39m# Perform stepweight decay\u001b[39;00m\n\u001b[0;32m--> 270\u001b[0m param\u001b[39m.\u001b[39;49mmul_(\u001b[39m1\u001b[39;49m \u001b[39m-\u001b[39;49m lr \u001b[39m*\u001b[39;49m weight_decay)\n\u001b[1;32m    272\u001b[0m \u001b[39m# Decay the first and second moment running average coefficient\u001b[39;00m\n\u001b[1;32m    273\u001b[0m exp_avg\u001b[39m.\u001b[39mmul_(beta1)\u001b[39m.\u001b[39madd_(grad, alpha\u001b[39m=\u001b[39m\u001b[39m1\u001b[39m \u001b[39m-\u001b[39m beta1)\n",
      "\u001b[0;31mKeyboardInterrupt\u001b[0m: "
     ]
    }
   ],
   "source": [
    "if not MODEL_DEBUG or True:\n",
    "\ttrainer = Trainer()\n",
    "\ttrainer.train_model(\n",
    "\t\t'AutoAugment + ConvNeXt', convnext_base, # model\n",
    "\t\toptim.AdamW, {'lr': 1e-3 * (GPU_COUNT) ** 0.5, 'weight_decay': 1e-5}, # optimizer\n",
    "\t\tbase_train_data, # data\n",
    "\t\tmodel_args = {'num_classes': 100, 'stochastic_depth_prob': 0.2},\n",
    "\t\tearly_stopping = CustomEarlyStopping(patience = 15),\n",
    "\t\tscheduler_pass = torch.optim.lr_scheduler.StepLR,\n",
    "\t\tscheduler_args = {'step_size': int(2.4 * batch_num), 'gamma': 0.97},\n",
    "\t\tverbose=True\n",
    "\t)\n",
    "\ttrainer.archive('AutoAugment + ConvNeXt')\n",
    "\tdisplay(trainer.history)\n"
   ]
  },
  {
   "cell_type": "markdown",
   "metadata": {},
   "source": [
    "### Is the modelling process different for coarse labels?\n",
    "\n",
    "We answer the question posed before, "
   ]
  },
  {
   "cell_type": "markdown",
   "metadata": {},
   "source": [
    "## Model Improvement"
   ]
  },
  {
   "cell_type": "markdown",
   "metadata": {},
   "source": [
    "### Optimizer\n",
    "#### Trying different optimizers\n",
    "\n",
    "SAM Optimizer, RMSProp, SGD\n",
    "\n",
    "#### Learning Rate Scheduling\n",
    "CosineAnnealingWarmRestart  \n",
    "MultiStepLR  "
   ]
  },
  {
   "cell_type": "markdown",
   "metadata": {},
   "source": [
    "### New Augmentation Techniques\n",
    "#### AutoAugment\n",
    "#### FMix"
   ]
  },
  {
   "cell_type": "markdown",
   "metadata": {},
   "source": [
    "### Regularization Techniques\n",
    "#### ShakeDrop\n",
    "#### Label Smoothing"
   ]
  },
  {
   "cell_type": "markdown",
   "metadata": {},
   "source": [
    "## Final Model Analysis"
   ]
  },
  {
   "cell_type": "markdown",
   "metadata": {},
   "source": [
    "#### Class-wise accuracy + distribution of errors\n",
    "Let's perform an error analysis and see which classes our model performs the worst on."
   ]
  },
  {
   "cell_type": "markdown",
   "metadata": {},
   "source": [
    "#### 10 images with the largest error\n",
    "Let's take a look at what images have the largest error. To do this, we'll perform inference and find the images that produce the <strong>largest Cross-Entropy Loss</strong> and are <strong>incorrect</strong>."
   ]
  },
  {
   "cell_type": "markdown",
   "metadata": {},
   "source": [
    "### Conclusion\n",
    "\n",
    "Author: Kenneth Chen"
   ]
  }
 ],
 "metadata": {
  "kernelspec": {
   "display_name": "Python 3 (ipykernel)",
   "language": "python",
   "name": "python3"
  },
  "language_info": {
   "codemirror_mode": {
    "name": "ipython",
    "version": 3
   },
   "file_extension": ".py",
   "mimetype": "text/x-python",
   "name": "python",
   "nbconvert_exporter": "python",
   "pygments_lexer": "ipython3",
   "version": "3.9.12"
  },
  "vscode": {
   "interpreter": {
    "hash": "4d19efe0496419facc97fd7ea20d5d3a0b9c1bdc9473c8f87e1305d92cacb204"
   }
  }
 },
 "nbformat": 4,
 "nbformat_minor": 2
}
